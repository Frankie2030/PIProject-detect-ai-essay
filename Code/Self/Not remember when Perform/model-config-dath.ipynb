{
 "cells": [
  {
   "cell_type": "markdown",
   "id": "76c6491b",
   "metadata": {
    "papermill": {
     "duration": 0.013634,
     "end_time": "2024-10-02T18:59:25.957387",
     "exception": false,
     "start_time": "2024-10-02T18:59:25.943753",
     "status": "completed"
    },
    "tags": []
   },
   "source": [
    "# Import"
   ]
  },
  {
   "cell_type": "code",
   "execution_count": 1,
   "id": "31d4f0dc",
   "metadata": {
    "collapsed": true,
    "execution": {
     "iopub.execute_input": "2024-10-02T18:59:25.984771Z",
     "iopub.status.busy": "2024-10-02T18:59:25.984374Z",
     "iopub.status.idle": "2024-10-02T19:00:56.074993Z",
     "shell.execute_reply": "2024-10-02T19:00:56.073659Z"
    },
    "jupyter": {
     "outputs_hidden": true
    },
    "papermill": {
     "duration": 90.106324,
     "end_time": "2024-10-02T19:00:56.077263",
     "exception": false,
     "start_time": "2024-10-02T18:59:25.970939",
     "status": "completed"
    },
    "tags": []
   },
   "outputs": [
    {
     "name": "stdout",
     "output_type": "stream",
     "text": [
      "Requirement already satisfied: scipy in /opt/conda/lib/python3.10/site-packages (1.14.1)\r\n",
      "Requirement already satisfied: seaborn in /opt/conda/lib/python3.10/site-packages (0.12.2)\r\n",
      "Requirement already satisfied: scikit-learn in /opt/conda/lib/python3.10/site-packages (1.2.2)\r\n",
      "Requirement already satisfied: tensorflow in /opt/conda/lib/python3.10/site-packages (2.16.1)\r\n",
      "Requirement already satisfied: tensorflow_datasets in /opt/conda/lib/python3.10/site-packages (4.9.6)\r\n"
     ]
    },
    {
     "name": "stdout",
     "output_type": "stream",
     "text": [
      "Requirement already satisfied: numpy<2.3,>=1.23.5 in /opt/conda/lib/python3.10/site-packages (from scipy) (1.26.4)\r\n",
      "Requirement already satisfied: pandas>=0.25 in /opt/conda/lib/python3.10/site-packages (from seaborn) (2.2.2)\r\n",
      "Requirement already satisfied: matplotlib!=3.6.1,>=3.1 in /opt/conda/lib/python3.10/site-packages (from seaborn) (3.7.5)\r\n"
     ]
    },
    {
     "name": "stdout",
     "output_type": "stream",
     "text": [
      "Requirement already satisfied: joblib>=1.1.1 in /opt/conda/lib/python3.10/site-packages (from scikit-learn) (1.4.2)\r\n",
      "Requirement already satisfied: threadpoolctl>=2.0.0 in /opt/conda/lib/python3.10/site-packages (from scikit-learn) (3.5.0)\r\n"
     ]
    },
    {
     "name": "stdout",
     "output_type": "stream",
     "text": [
      "Requirement already satisfied: absl-py>=1.0.0 in /opt/conda/lib/python3.10/site-packages (from tensorflow) (1.4.0)\r\n",
      "Requirement already satisfied: astunparse>=1.6.0 in /opt/conda/lib/python3.10/site-packages (from tensorflow) (1.6.3)\r\n",
      "Requirement already satisfied: flatbuffers>=23.5.26 in /opt/conda/lib/python3.10/site-packages (from tensorflow) (24.3.25)\r\n",
      "Requirement already satisfied: gast!=0.5.0,!=0.5.1,!=0.5.2,>=0.2.1 in /opt/conda/lib/python3.10/site-packages (from tensorflow) (0.5.4)\r\n",
      "Requirement already satisfied: google-pasta>=0.1.1 in /opt/conda/lib/python3.10/site-packages (from tensorflow) (0.2.0)\r\n",
      "Requirement already satisfied: h5py>=3.10.0 in /opt/conda/lib/python3.10/site-packages (from tensorflow) (3.11.0)\r\n",
      "Requirement already satisfied: libclang>=13.0.0 in /opt/conda/lib/python3.10/site-packages (from tensorflow) (18.1.1)\r\n",
      "Requirement already satisfied: ml-dtypes~=0.3.1 in /opt/conda/lib/python3.10/site-packages (from tensorflow) (0.3.2)\r\n",
      "Requirement already satisfied: opt-einsum>=2.3.2 in /opt/conda/lib/python3.10/site-packages (from tensorflow) (3.3.0)\r\n",
      "Requirement already satisfied: packaging in /opt/conda/lib/python3.10/site-packages (from tensorflow) (21.3)\r\n",
      "Requirement already satisfied: protobuf!=4.21.0,!=4.21.1,!=4.21.2,!=4.21.3,!=4.21.4,!=4.21.5,<5.0.0dev,>=3.20.3 in /opt/conda/lib/python3.10/site-packages (from tensorflow) (3.20.3)\r\n",
      "Requirement already satisfied: requests<3,>=2.21.0 in /opt/conda/lib/python3.10/site-packages (from tensorflow) (2.32.3)\r\n",
      "Requirement already satisfied: setuptools in /opt/conda/lib/python3.10/site-packages (from tensorflow) (70.0.0)\r\n",
      "Requirement already satisfied: six>=1.12.0 in /opt/conda/lib/python3.10/site-packages (from tensorflow) (1.16.0)\r\n",
      "Requirement already satisfied: termcolor>=1.1.0 in /opt/conda/lib/python3.10/site-packages (from tensorflow) (2.4.0)\r\n",
      "Requirement already satisfied: typing-extensions>=3.6.6 in /opt/conda/lib/python3.10/site-packages (from tensorflow) (4.12.2)\r\n",
      "Requirement already satisfied: wrapt>=1.11.0 in /opt/conda/lib/python3.10/site-packages (from tensorflow) (1.16.0)\r\n",
      "Requirement already satisfied: grpcio<2.0,>=1.24.3 in /opt/conda/lib/python3.10/site-packages (from tensorflow) (1.62.2)\r\n",
      "Requirement already satisfied: tensorboard<2.17,>=2.16 in /opt/conda/lib/python3.10/site-packages (from tensorflow) (2.16.2)\r\n",
      "Requirement already satisfied: keras>=3.0.0 in /opt/conda/lib/python3.10/site-packages (from tensorflow) (3.3.3)\r\n",
      "Requirement already satisfied: tensorflow-io-gcs-filesystem>=0.23.1 in /opt/conda/lib/python3.10/site-packages (from tensorflow) (0.37.0)\r\n"
     ]
    },
    {
     "name": "stdout",
     "output_type": "stream",
     "text": [
      "Requirement already satisfied: click in /opt/conda/lib/python3.10/site-packages (from tensorflow_datasets) (8.1.7)\r\n",
      "Requirement already satisfied: dm-tree in /opt/conda/lib/python3.10/site-packages (from tensorflow_datasets) (0.1.8)\r\n",
      "Requirement already satisfied: immutabledict in /opt/conda/lib/python3.10/site-packages (from tensorflow_datasets) (4.2.0)\r\n",
      "Requirement already satisfied: promise in /opt/conda/lib/python3.10/site-packages (from tensorflow_datasets) (2.3)\r\n",
      "Requirement already satisfied: psutil in /opt/conda/lib/python3.10/site-packages (from tensorflow_datasets) (5.9.3)\r\n",
      "Requirement already satisfied: pyarrow in /opt/conda/lib/python3.10/site-packages (from tensorflow_datasets) (16.1.0)\r\n",
      "Requirement already satisfied: simple-parsing in /opt/conda/lib/python3.10/site-packages (from tensorflow_datasets) (0.1.5)\r\n",
      "Requirement already satisfied: tensorflow-metadata in /opt/conda/lib/python3.10/site-packages (from tensorflow_datasets) (0.14.0)\r\n",
      "Requirement already satisfied: toml in /opt/conda/lib/python3.10/site-packages (from tensorflow_datasets) (0.10.2)\r\n",
      "Requirement already satisfied: tqdm in /opt/conda/lib/python3.10/site-packages (from tensorflow_datasets) (4.66.4)\r\n"
     ]
    },
    {
     "name": "stdout",
     "output_type": "stream",
     "text": [
      "Requirement already satisfied: array-record>=0.5.0 in /opt/conda/lib/python3.10/site-packages (from tensorflow_datasets) (0.5.1)\r\n",
      "Requirement already satisfied: etils>=1.6.0 in /opt/conda/lib/python3.10/site-packages (from etils[enp,epath,epy,etree]>=1.6.0; python_version < \"3.11\"->tensorflow_datasets) (1.7.0)\r\n",
      "Requirement already satisfied: wheel<1.0,>=0.23.0 in /opt/conda/lib/python3.10/site-packages (from astunparse>=1.6.0->tensorflow) (0.43.0)\r\n"
     ]
    },
    {
     "name": "stdout",
     "output_type": "stream",
     "text": [
      "Requirement already satisfied: fsspec in /opt/conda/lib/python3.10/site-packages (from etils[enp,epath,epy,etree]>=1.6.0; python_version < \"3.11\"->tensorflow_datasets) (2024.6.1)\r\n",
      "Requirement already satisfied: importlib_resources in /opt/conda/lib/python3.10/site-packages (from etils[enp,epath,epy,etree]>=1.6.0; python_version < \"3.11\"->tensorflow_datasets) (6.4.0)\r\n",
      "Requirement already satisfied: zipp in /opt/conda/lib/python3.10/site-packages (from etils[enp,epath,epy,etree]>=1.6.0; python_version < \"3.11\"->tensorflow_datasets) (3.19.2)\r\n"
     ]
    },
    {
     "name": "stdout",
     "output_type": "stream",
     "text": [
      "Requirement already satisfied: rich in /opt/conda/lib/python3.10/site-packages (from keras>=3.0.0->tensorflow) (13.7.1)\r\n",
      "Requirement already satisfied: namex in /opt/conda/lib/python3.10/site-packages (from keras>=3.0.0->tensorflow) (0.0.8)\r\n",
      "Requirement already satisfied: optree in /opt/conda/lib/python3.10/site-packages (from keras>=3.0.0->tensorflow) (0.11.0)\r\n",
      "Requirement already satisfied: contourpy>=1.0.1 in /opt/conda/lib/python3.10/site-packages (from matplotlib!=3.6.1,>=3.1->seaborn) (1.2.1)\r\n",
      "Requirement already satisfied: cycler>=0.10 in /opt/conda/lib/python3.10/site-packages (from matplotlib!=3.6.1,>=3.1->seaborn) (0.12.1)\r\n",
      "Requirement already satisfied: fonttools>=4.22.0 in /opt/conda/lib/python3.10/site-packages (from matplotlib!=3.6.1,>=3.1->seaborn) (4.53.0)\r\n",
      "Requirement already satisfied: kiwisolver>=1.0.1 in /opt/conda/lib/python3.10/site-packages (from matplotlib!=3.6.1,>=3.1->seaborn) (1.4.5)\r\n",
      "Requirement already satisfied: pillow>=6.2.0 in /opt/conda/lib/python3.10/site-packages (from matplotlib!=3.6.1,>=3.1->seaborn) (10.3.0)\r\n",
      "Requirement already satisfied: pyparsing>=2.3.1 in /opt/conda/lib/python3.10/site-packages (from matplotlib!=3.6.1,>=3.1->seaborn) (3.1.2)\r\n",
      "Requirement already satisfied: python-dateutil>=2.7 in /opt/conda/lib/python3.10/site-packages (from matplotlib!=3.6.1,>=3.1->seaborn) (2.9.0.post0)\r\n"
     ]
    },
    {
     "name": "stdout",
     "output_type": "stream",
     "text": [
      "Requirement already satisfied: pytz>=2020.1 in /opt/conda/lib/python3.10/site-packages (from pandas>=0.25->seaborn) (2024.1)\r\n",
      "Requirement already satisfied: tzdata>=2022.7 in /opt/conda/lib/python3.10/site-packages (from pandas>=0.25->seaborn) (2024.1)\r\n"
     ]
    },
    {
     "name": "stdout",
     "output_type": "stream",
     "text": [
      "Requirement already satisfied: charset-normalizer<4,>=2 in /opt/conda/lib/python3.10/site-packages (from requests<3,>=2.21.0->tensorflow) (3.3.2)\r\n",
      "Requirement already satisfied: idna<4,>=2.5 in /opt/conda/lib/python3.10/site-packages (from requests<3,>=2.21.0->tensorflow) (3.7)\r\n",
      "Requirement already satisfied: urllib3<3,>=1.21.1 in /opt/conda/lib/python3.10/site-packages (from requests<3,>=2.21.0->tensorflow) (1.26.18)\r\n",
      "Requirement already satisfied: certifi>=2017.4.17 in /opt/conda/lib/python3.10/site-packages (from requests<3,>=2.21.0->tensorflow) (2024.8.30)\r\n",
      "Requirement already satisfied: markdown>=2.6.8 in /opt/conda/lib/python3.10/site-packages (from tensorboard<2.17,>=2.16->tensorflow) (3.6)\r\n",
      "Requirement already satisfied: tensorboard-data-server<0.8.0,>=0.7.0 in /opt/conda/lib/python3.10/site-packages (from tensorboard<2.17,>=2.16->tensorflow) (0.7.2)\r\n",
      "Requirement already satisfied: werkzeug>=1.0.1 in /opt/conda/lib/python3.10/site-packages (from tensorboard<2.17,>=2.16->tensorflow) (3.0.4)\r\n"
     ]
    },
    {
     "name": "stdout",
     "output_type": "stream",
     "text": [
      "Requirement already satisfied: docstring-parser~=0.15 in /opt/conda/lib/python3.10/site-packages (from simple-parsing->tensorflow_datasets) (0.16)\r\n"
     ]
    },
    {
     "name": "stdout",
     "output_type": "stream",
     "text": [
      "Requirement already satisfied: googleapis-common-protos in /opt/conda/lib/python3.10/site-packages (from tensorflow-metadata->tensorflow_datasets) (1.63.1)\r\n"
     ]
    },
    {
     "name": "stdout",
     "output_type": "stream",
     "text": [
      "Requirement already satisfied: MarkupSafe>=2.1.1 in /opt/conda/lib/python3.10/site-packages (from werkzeug>=1.0.1->tensorboard<2.17,>=2.16->tensorflow) (2.1.5)\r\n"
     ]
    },
    {
     "name": "stdout",
     "output_type": "stream",
     "text": [
      "Requirement already satisfied: markdown-it-py>=2.2.0 in /opt/conda/lib/python3.10/site-packages (from rich->keras>=3.0.0->tensorflow) (3.0.0)\r\n",
      "Requirement already satisfied: pygments<3.0.0,>=2.13.0 in /opt/conda/lib/python3.10/site-packages (from rich->keras>=3.0.0->tensorflow) (2.18.0)\r\n"
     ]
    },
    {
     "name": "stdout",
     "output_type": "stream",
     "text": [
      "Requirement already satisfied: mdurl~=0.1 in /opt/conda/lib/python3.10/site-packages (from markdown-it-py>=2.2.0->rich->keras>=3.0.0->tensorflow) (0.1.2)\r\n"
     ]
    },
    {
     "name": "stdout",
     "output_type": "stream",
     "text": [
      "Note: you may need to restart the kernel to use updated packages.\n"
     ]
    },
    {
     "name": "stdout",
     "output_type": "stream",
     "text": [
      "Requirement already satisfied: pandas in /opt/conda/lib/python3.10/site-packages (2.2.2)\r\n"
     ]
    },
    {
     "name": "stdout",
     "output_type": "stream",
     "text": [
      "Requirement already satisfied: numpy>=1.22.4 in /opt/conda/lib/python3.10/site-packages (from pandas) (1.26.4)\r\n",
      "Requirement already satisfied: python-dateutil>=2.8.2 in /opt/conda/lib/python3.10/site-packages (from pandas) (2.9.0.post0)\r\n",
      "Requirement already satisfied: pytz>=2020.1 in /opt/conda/lib/python3.10/site-packages (from pandas) (2024.1)\r\n",
      "Requirement already satisfied: tzdata>=2022.7 in /opt/conda/lib/python3.10/site-packages (from pandas) (2024.1)\r\n",
      "Requirement already satisfied: six>=1.5 in /opt/conda/lib/python3.10/site-packages (from python-dateutil>=2.8.2->pandas) (1.16.0)\r\n"
     ]
    },
    {
     "name": "stdout",
     "output_type": "stream",
     "text": [
      "Note: you may need to restart the kernel to use updated packages.\n"
     ]
    },
    {
     "name": "stdout",
     "output_type": "stream",
     "text": [
      "Requirement already satisfied: matplotlib in /opt/conda/lib/python3.10/site-packages (3.7.5)\r\n"
     ]
    },
    {
     "name": "stdout",
     "output_type": "stream",
     "text": [
      "Requirement already satisfied: contourpy>=1.0.1 in /opt/conda/lib/python3.10/site-packages (from matplotlib) (1.2.1)\r\n",
      "Requirement already satisfied: cycler>=0.10 in /opt/conda/lib/python3.10/site-packages (from matplotlib) (0.12.1)\r\n",
      "Requirement already satisfied: fonttools>=4.22.0 in /opt/conda/lib/python3.10/site-packages (from matplotlib) (4.53.0)\r\n",
      "Requirement already satisfied: kiwisolver>=1.0.1 in /opt/conda/lib/python3.10/site-packages (from matplotlib) (1.4.5)\r\n",
      "Requirement already satisfied: numpy<2,>=1.20 in /opt/conda/lib/python3.10/site-packages (from matplotlib) (1.26.4)\r\n",
      "Requirement already satisfied: packaging>=20.0 in /opt/conda/lib/python3.10/site-packages (from matplotlib) (21.3)\r\n",
      "Requirement already satisfied: pillow>=6.2.0 in /opt/conda/lib/python3.10/site-packages (from matplotlib) (10.3.0)\r\n",
      "Requirement already satisfied: pyparsing>=2.3.1 in /opt/conda/lib/python3.10/site-packages (from matplotlib) (3.1.2)\r\n",
      "Requirement already satisfied: python-dateutil>=2.7 in /opt/conda/lib/python3.10/site-packages (from matplotlib) (2.9.0.post0)\r\n"
     ]
    },
    {
     "name": "stdout",
     "output_type": "stream",
     "text": [
      "Requirement already satisfied: six>=1.5 in /opt/conda/lib/python3.10/site-packages (from python-dateutil>=2.7->matplotlib) (1.16.0)\r\n"
     ]
    },
    {
     "name": "stdout",
     "output_type": "stream",
     "text": [
      "Note: you may need to restart the kernel to use updated packages.\n"
     ]
    },
    {
     "name": "stdout",
     "output_type": "stream",
     "text": [
      "Requirement already satisfied: numpy in /opt/conda/lib/python3.10/site-packages (1.26.4)\r\n"
     ]
    },
    {
     "name": "stdout",
     "output_type": "stream",
     "text": [
      "Note: you may need to restart the kernel to use updated packages.\n"
     ]
    },
    {
     "name": "stdout",
     "output_type": "stream",
     "text": [
      "Collecting sklearn\r\n"
     ]
    },
    {
     "name": "stdout",
     "output_type": "stream",
     "text": [
      "  Downloading sklearn-0.0.post12.tar.gz (2.6 kB)\r\n"
     ]
    },
    {
     "name": "stdout",
     "output_type": "stream",
     "text": [
      "  Preparing metadata (setup.py) ... \u001b[?25l-"
     ]
    },
    {
     "name": "stdout",
     "output_type": "stream",
     "text": [
      "\b \berror\r\n",
      "  \u001b[1;31merror\u001b[0m: \u001b[1msubprocess-exited-with-error\u001b[0m\r\n",
      "  \r\n",
      "  \u001b[31m×\u001b[0m \u001b[32mpython setup.py egg_info\u001b[0m did not run successfully.\r\n",
      "  \u001b[31m│\u001b[0m exit code: \u001b[1;36m1\u001b[0m\r\n",
      "  \u001b[31m╰─>\u001b[0m \u001b[31m[15 lines of output]\u001b[0m\r\n",
      "  \u001b[31m   \u001b[0m The 'sklearn' PyPI package is deprecated, use 'scikit-learn'\r\n",
      "  \u001b[31m   \u001b[0m rather than 'sklearn' for pip commands.\r\n",
      "  \u001b[31m   \u001b[0m \r\n",
      "  \u001b[31m   \u001b[0m Here is how to fix this error in the main use cases:\r\n",
      "  \u001b[31m   \u001b[0m - use 'pip install scikit-learn' rather than 'pip install sklearn'\r\n",
      "  \u001b[31m   \u001b[0m - replace 'sklearn' by 'scikit-learn' in your pip requirements files\r\n",
      "  \u001b[31m   \u001b[0m   (requirements.txt, setup.py, setup.cfg, Pipfile, etc ...)\r\n",
      "  \u001b[31m   \u001b[0m - if the 'sklearn' package is used by one of your dependencies,\r\n",
      "  \u001b[31m   \u001b[0m   it would be great if you take some time to track which package uses\r\n",
      "  \u001b[31m   \u001b[0m   'sklearn' instead of 'scikit-learn' and report it to their issue tracker\r\n",
      "  \u001b[31m   \u001b[0m - as a last resort, set the environment variable\r\n",
      "  \u001b[31m   \u001b[0m   SKLEARN_ALLOW_DEPRECATED_SKLEARN_PACKAGE_INSTALL=True to avoid this error\r\n",
      "  \u001b[31m   \u001b[0m \r\n",
      "  \u001b[31m   \u001b[0m More information is available at\r\n",
      "  \u001b[31m   \u001b[0m https://github.com/scikit-learn/sklearn-pypi-package\r\n",
      "  \u001b[31m   \u001b[0m \u001b[31m[end of output]\u001b[0m\r\n",
      "  \r\n",
      "  \u001b[1;35mnote\u001b[0m: This error originates from a subprocess, and is likely not a problem with pip.\r\n",
      "\u001b[1;31merror\u001b[0m: \u001b[1mmetadata-generation-failed\u001b[0m\r\n",
      "\r\n",
      "\u001b[31m×\u001b[0m Encountered error while generating package metadata.\r\n",
      "\u001b[31m╰─>\u001b[0m See above for output.\r\n",
      "\r\n",
      "\u001b[1;35mnote\u001b[0m: This is an issue with the package mentioned above, not pip.\r\n",
      "\u001b[1;36mhint\u001b[0m: See above for details.\r\n",
      "\u001b[?25h"
     ]
    },
    {
     "name": "stdout",
     "output_type": "stream",
     "text": [
      "Note: you may need to restart the kernel to use updated packages.\n"
     ]
    },
    {
     "name": "stdout",
     "output_type": "stream",
     "text": [
      "Requirement already satisfied: xgboost in /opt/conda/lib/python3.10/site-packages (2.0.3)\r\n",
      "Requirement already satisfied: numpy in /opt/conda/lib/python3.10/site-packages (from xgboost) (1.26.4)\r\n",
      "Requirement already satisfied: scipy in /opt/conda/lib/python3.10/site-packages (from xgboost) (1.14.1)\r\n"
     ]
    },
    {
     "name": "stdout",
     "output_type": "stream",
     "text": [
      "Note: you may need to restart the kernel to use updated packages.\n"
     ]
    },
    {
     "name": "stdout",
     "output_type": "stream",
     "text": [
      "Requirement already satisfied: gensim in /opt/conda/lib/python3.10/site-packages (4.3.3)\r\n"
     ]
    },
    {
     "name": "stdout",
     "output_type": "stream",
     "text": [
      "Requirement already satisfied: numpy<2.0,>=1.18.5 in /opt/conda/lib/python3.10/site-packages (from gensim) (1.26.4)\r\n"
     ]
    },
    {
     "name": "stdout",
     "output_type": "stream",
     "text": [
      "Collecting scipy<1.14.0,>=1.7.0 (from gensim)\r\n"
     ]
    },
    {
     "name": "stdout",
     "output_type": "stream",
     "text": [
      "  Downloading scipy-1.13.1-cp310-cp310-manylinux_2_17_x86_64.manylinux2014_x86_64.whl.metadata (60 kB)\r\n",
      "\u001b[?25l     \u001b[90m━━━━━━━━━━━━━━━━━━━━━━━━━━━━━━━━━━━━━━━━\u001b[0m \u001b[32m0.0/60.6 kB\u001b[0m \u001b[31m?\u001b[0m eta \u001b[36m-:--:--\u001b[0m\r",
      "\u001b[2K     \u001b[90m━━━━━━━━━━━━━━━━━━━━━━━━━━━━━━━━━━━━━━━━\u001b[0m \u001b[32m60.6/60.6 kB\u001b[0m \u001b[31m2.7 MB/s\u001b[0m eta \u001b[36m0:00:00\u001b[0m\r\n",
      "\u001b[?25hRequirement already satisfied: smart-open>=1.8.1 in /opt/conda/lib/python3.10/site-packages (from gensim) (7.0.4)\r\n"
     ]
    },
    {
     "name": "stdout",
     "output_type": "stream",
     "text": [
      "Requirement already satisfied: wrapt in /opt/conda/lib/python3.10/site-packages (from smart-open>=1.8.1->gensim) (1.16.0)\r\n",
      "Downloading scipy-1.13.1-cp310-cp310-manylinux_2_17_x86_64.manylinux2014_x86_64.whl (38.6 MB)\r\n",
      "\u001b[?25l   \u001b[90m━━━━━━━━━━━━━━━━━━━━━━━━━━━━━━━━━━━━━━━━\u001b[0m \u001b[32m0.0/38.6 MB\u001b[0m \u001b[31m?\u001b[0m eta \u001b[36m-:--:--\u001b[0m"
     ]
    },
    {
     "name": "stdout",
     "output_type": "stream",
     "text": [
      "\r",
      "\u001b[2K   \u001b[91m━━\u001b[0m\u001b[91m╸\u001b[0m\u001b[90m━━━━━━━━━━━━━━━━━━━━━━━━━━━━━━━━━━━━━\u001b[0m \u001b[32m2.7/38.6 MB\u001b[0m \u001b[31m80.7 MB/s\u001b[0m eta \u001b[36m0:00:01\u001b[0m\r",
      "\u001b[2K   \u001b[91m━━━━━━━━\u001b[0m\u001b[91m╸\u001b[0m\u001b[90m━━━━━━━━━━━━━━━━━━━━━━━━━━━━━━━\u001b[0m \u001b[32m8.6/38.6 MB\u001b[0m \u001b[31m124.2 MB/s\u001b[0m eta \u001b[36m0:00:01\u001b[0m"
     ]
    },
    {
     "name": "stdout",
     "output_type": "stream",
     "text": [
      "\r",
      "\u001b[2K   \u001b[91m━━━━━━━━━━━━━━━\u001b[0m\u001b[90m╺\u001b[0m\u001b[90m━━━━━━━━━━━━━━━━━━━━━━━━\u001b[0m \u001b[32m14.5/38.6 MB\u001b[0m \u001b[31m170.5 MB/s\u001b[0m eta \u001b[36m0:00:01\u001b[0m"
     ]
    },
    {
     "name": "stdout",
     "output_type": "stream",
     "text": [
      "\r",
      "\u001b[2K   \u001b[91m━━━━━━━━━━━━━━━━━━━━━\u001b[0m\u001b[90m╺\u001b[0m\u001b[90m━━━━━━━━━━━━━━━━━━\u001b[0m \u001b[32m20.5/38.6 MB\u001b[0m \u001b[31m173.1 MB/s\u001b[0m eta \u001b[36m0:00:01\u001b[0m\r",
      "\u001b[2K   \u001b[91m━━━━━━━━━━━━━━━━━━━━━━━━━━━\u001b[0m\u001b[90m╺\u001b[0m\u001b[90m━━━━━━━━━━━━\u001b[0m \u001b[32m26.5/38.6 MB\u001b[0m \u001b[31m173.1 MB/s\u001b[0m eta \u001b[36m0:00:01\u001b[0m"
     ]
    },
    {
     "name": "stdout",
     "output_type": "stream",
     "text": [
      "\r",
      "\u001b[2K   \u001b[91m━━━━━━━━━━━━━━━━━━━━━━━━━━━━━━━━━\u001b[0m\u001b[91m╸\u001b[0m\u001b[90m━━━━━━\u001b[0m \u001b[32m32.5/38.6 MB\u001b[0m \u001b[31m174.3 MB/s\u001b[0m eta \u001b[36m0:00:01\u001b[0m"
     ]
    },
    {
     "name": "stdout",
     "output_type": "stream",
     "text": [
      "\r",
      "\u001b[2K   \u001b[91m━━━━━━━━━━━━━━━━━━━━━━━━━━━━━━━━━━━━━━━\u001b[0m\u001b[91m╸\u001b[0m \u001b[32m38.6/38.6 MB\u001b[0m \u001b[31m176.8 MB/s\u001b[0m eta \u001b[36m0:00:01\u001b[0m"
     ]
    },
    {
     "name": "stdout",
     "output_type": "stream",
     "text": [
      "\r",
      "\u001b[2K   \u001b[91m━━━━━━━━━━━━━━━━━━━━━━━━━━━━━━━━━━━━━━━\u001b[0m\u001b[91m╸\u001b[0m \u001b[32m38.6/38.6 MB\u001b[0m \u001b[31m176.8 MB/s\u001b[0m eta \u001b[36m0:00:01\u001b[0m\r",
      "\u001b[2K   \u001b[91m━━━━━━━━━━━━━━━━━━━━━━━━━━━━━━━━━━━━━━━\u001b[0m\u001b[91m╸\u001b[0m \u001b[32m38.6/38.6 MB\u001b[0m \u001b[31m176.8 MB/s\u001b[0m eta \u001b[36m0:00:01\u001b[0m"
     ]
    },
    {
     "name": "stdout",
     "output_type": "stream",
     "text": [
      "\r",
      "\u001b[2K   \u001b[91m━━━━━━━━━━━━━━━━━━━━━━━━━━━━━━━━━━━━━━━\u001b[0m\u001b[91m╸\u001b[0m \u001b[32m38.6/38.6 MB\u001b[0m \u001b[31m176.8 MB/s\u001b[0m eta \u001b[36m0:00:01\u001b[0m"
     ]
    },
    {
     "name": "stdout",
     "output_type": "stream",
     "text": [
      "\r",
      "\u001b[2K   \u001b[91m━━━━━━━━━━━━━━━━━━━━━━━━━━━━━━━━━━━━━━━\u001b[0m\u001b[91m╸\u001b[0m \u001b[32m38.6/38.6 MB\u001b[0m \u001b[31m176.8 MB/s\u001b[0m eta \u001b[36m0:00:01\u001b[0m\r",
      "\u001b[2K   \u001b[90m━━━━━━━━━━━━━━━━━━━━━━━━━━━━━━━━━━━━━━━━\u001b[0m \u001b[32m38.6/38.6 MB\u001b[0m \u001b[31m44.1 MB/s\u001b[0m eta \u001b[36m0:00:00\u001b[0m\r\n",
      "\u001b[?25h"
     ]
    },
    {
     "name": "stdout",
     "output_type": "stream",
     "text": [
      "Installing collected packages: scipy\r\n",
      "  Attempting uninstall: scipy\r\n"
     ]
    },
    {
     "name": "stdout",
     "output_type": "stream",
     "text": [
      "    Found existing installation: scipy 1.14.1\r\n"
     ]
    },
    {
     "name": "stdout",
     "output_type": "stream",
     "text": [
      "    Uninstalling scipy-1.14.1:\r\n"
     ]
    },
    {
     "name": "stdout",
     "output_type": "stream",
     "text": [
      "      Successfully uninstalled scipy-1.14.1\r\n"
     ]
    },
    {
     "name": "stdout",
     "output_type": "stream",
     "text": [
      "\u001b[31mERROR: pip's dependency resolver does not currently take into account all the packages that are installed. This behaviour is the source of the following dependency conflicts.\r\n",
      "cuml 24.8.0 requires cupy-cuda11x>=12.0.0, which is not installed.\r\n",
      "cesium 0.12.3 requires numpy<3.0,>=2.0, but you have numpy 1.26.4 which is incompatible.\r\n",
      "libpysal 4.9.2 requires packaging>=22, but you have packaging 21.3 which is incompatible.\r\n",
      "libpysal 4.9.2 requires shapely>=2.0.1, but you have shapely 1.8.5.post1 which is incompatible.\r\n",
      "tsfresh 0.20.3 requires scipy>=1.14.0; python_version >= \"3.10\", but you have scipy 1.13.1 which is incompatible.\u001b[0m\u001b[31m\r\n",
      "\u001b[0mSuccessfully installed scipy-1.13.1\r\n"
     ]
    },
    {
     "name": "stdout",
     "output_type": "stream",
     "text": [
      "Note: you may need to restart the kernel to use updated packages.\n"
     ]
    },
    {
     "name": "stdout",
     "output_type": "stream",
     "text": [
      "Requirement already satisfied: nltk in /opt/conda/lib/python3.10/site-packages (3.2.4)\r\n",
      "Requirement already satisfied: six in /opt/conda/lib/python3.10/site-packages (from nltk) (1.16.0)\r\n"
     ]
    },
    {
     "name": "stdout",
     "output_type": "stream",
     "text": [
      "Note: you may need to restart the kernel to use updated packages.\n"
     ]
    }
   ],
   "source": [
    "%pip install scipy seaborn scikit-learn tensorflow tensorflow_datasets \n",
    "%pip install pandas\n",
    "%pip install matplotlib\n",
    "%pip install numpy\n",
    "%pip install sklearn\n",
    "%pip install xgboost\n",
    "%pip install gensim\n",
    "%pip install nltk"
   ]
  },
  {
   "cell_type": "code",
   "execution_count": 2,
   "id": "c6591dfa",
   "metadata": {
    "collapsed": true,
    "execution": {
     "iopub.execute_input": "2024-10-02T19:00:56.113054Z",
     "iopub.status.busy": "2024-10-02T19:00:56.112719Z",
     "iopub.status.idle": "2024-10-02T19:01:18.751451Z",
     "shell.execute_reply": "2024-10-02T19:01:18.750321Z"
    },
    "jupyter": {
     "outputs_hidden": true
    },
    "papermill": {
     "duration": 22.659358,
     "end_time": "2024-10-02T19:01:18.753797",
     "exception": false,
     "start_time": "2024-10-02T19:00:56.094439",
     "status": "completed"
    },
    "tags": []
   },
   "outputs": [
    {
     "name": "stdout",
     "output_type": "stream",
     "text": [
      "Requirement already satisfied: tf-keras in /opt/conda/lib/python3.10/site-packages (2.16.0)\r\n",
      "Requirement already satisfied: tensorflow<2.17,>=2.16 in /opt/conda/lib/python3.10/site-packages (from tf-keras) (2.16.1)\r\n"
     ]
    },
    {
     "name": "stdout",
     "output_type": "stream",
     "text": [
      "Requirement already satisfied: absl-py>=1.0.0 in /opt/conda/lib/python3.10/site-packages (from tensorflow<2.17,>=2.16->tf-keras) (1.4.0)\r\n",
      "Requirement already satisfied: astunparse>=1.6.0 in /opt/conda/lib/python3.10/site-packages (from tensorflow<2.17,>=2.16->tf-keras) (1.6.3)\r\n",
      "Requirement already satisfied: flatbuffers>=23.5.26 in /opt/conda/lib/python3.10/site-packages (from tensorflow<2.17,>=2.16->tf-keras) (24.3.25)\r\n",
      "Requirement already satisfied: gast!=0.5.0,!=0.5.1,!=0.5.2,>=0.2.1 in /opt/conda/lib/python3.10/site-packages (from tensorflow<2.17,>=2.16->tf-keras) (0.5.4)\r\n",
      "Requirement already satisfied: google-pasta>=0.1.1 in /opt/conda/lib/python3.10/site-packages (from tensorflow<2.17,>=2.16->tf-keras) (0.2.0)\r\n",
      "Requirement already satisfied: h5py>=3.10.0 in /opt/conda/lib/python3.10/site-packages (from tensorflow<2.17,>=2.16->tf-keras) (3.11.0)\r\n",
      "Requirement already satisfied: libclang>=13.0.0 in /opt/conda/lib/python3.10/site-packages (from tensorflow<2.17,>=2.16->tf-keras) (18.1.1)\r\n",
      "Requirement already satisfied: ml-dtypes~=0.3.1 in /opt/conda/lib/python3.10/site-packages (from tensorflow<2.17,>=2.16->tf-keras) (0.3.2)\r\n",
      "Requirement already satisfied: opt-einsum>=2.3.2 in /opt/conda/lib/python3.10/site-packages (from tensorflow<2.17,>=2.16->tf-keras) (3.3.0)\r\n",
      "Requirement already satisfied: packaging in /opt/conda/lib/python3.10/site-packages (from tensorflow<2.17,>=2.16->tf-keras) (21.3)\r\n",
      "Requirement already satisfied: protobuf!=4.21.0,!=4.21.1,!=4.21.2,!=4.21.3,!=4.21.4,!=4.21.5,<5.0.0dev,>=3.20.3 in /opt/conda/lib/python3.10/site-packages (from tensorflow<2.17,>=2.16->tf-keras) (3.20.3)\r\n",
      "Requirement already satisfied: requests<3,>=2.21.0 in /opt/conda/lib/python3.10/site-packages (from tensorflow<2.17,>=2.16->tf-keras) (2.32.3)\r\n",
      "Requirement already satisfied: setuptools in /opt/conda/lib/python3.10/site-packages (from tensorflow<2.17,>=2.16->tf-keras) (70.0.0)\r\n",
      "Requirement already satisfied: six>=1.12.0 in /opt/conda/lib/python3.10/site-packages (from tensorflow<2.17,>=2.16->tf-keras) (1.16.0)\r\n",
      "Requirement already satisfied: termcolor>=1.1.0 in /opt/conda/lib/python3.10/site-packages (from tensorflow<2.17,>=2.16->tf-keras) (2.4.0)\r\n",
      "Requirement already satisfied: typing-extensions>=3.6.6 in /opt/conda/lib/python3.10/site-packages (from tensorflow<2.17,>=2.16->tf-keras) (4.12.2)\r\n",
      "Requirement already satisfied: wrapt>=1.11.0 in /opt/conda/lib/python3.10/site-packages (from tensorflow<2.17,>=2.16->tf-keras) (1.16.0)\r\n",
      "Requirement already satisfied: grpcio<2.0,>=1.24.3 in /opt/conda/lib/python3.10/site-packages (from tensorflow<2.17,>=2.16->tf-keras) (1.62.2)\r\n",
      "Requirement already satisfied: tensorboard<2.17,>=2.16 in /opt/conda/lib/python3.10/site-packages (from tensorflow<2.17,>=2.16->tf-keras) (2.16.2)\r\n",
      "Requirement already satisfied: keras>=3.0.0 in /opt/conda/lib/python3.10/site-packages (from tensorflow<2.17,>=2.16->tf-keras) (3.3.3)\r\n",
      "Requirement already satisfied: tensorflow-io-gcs-filesystem>=0.23.1 in /opt/conda/lib/python3.10/site-packages (from tensorflow<2.17,>=2.16->tf-keras) (0.37.0)\r\n",
      "Requirement already satisfied: numpy<2.0.0,>=1.23.5 in /opt/conda/lib/python3.10/site-packages (from tensorflow<2.17,>=2.16->tf-keras) (1.26.4)\r\n",
      "Requirement already satisfied: wheel<1.0,>=0.23.0 in /opt/conda/lib/python3.10/site-packages (from astunparse>=1.6.0->tensorflow<2.17,>=2.16->tf-keras) (0.43.0)\r\n",
      "Requirement already satisfied: rich in /opt/conda/lib/python3.10/site-packages (from keras>=3.0.0->tensorflow<2.17,>=2.16->tf-keras) (13.7.1)\r\n",
      "Requirement already satisfied: namex in /opt/conda/lib/python3.10/site-packages (from keras>=3.0.0->tensorflow<2.17,>=2.16->tf-keras) (0.0.8)\r\n",
      "Requirement already satisfied: optree in /opt/conda/lib/python3.10/site-packages (from keras>=3.0.0->tensorflow<2.17,>=2.16->tf-keras) (0.11.0)\r\n"
     ]
    },
    {
     "name": "stdout",
     "output_type": "stream",
     "text": [
      "Requirement already satisfied: charset-normalizer<4,>=2 in /opt/conda/lib/python3.10/site-packages (from requests<3,>=2.21.0->tensorflow<2.17,>=2.16->tf-keras) (3.3.2)\r\n",
      "Requirement already satisfied: idna<4,>=2.5 in /opt/conda/lib/python3.10/site-packages (from requests<3,>=2.21.0->tensorflow<2.17,>=2.16->tf-keras) (3.7)\r\n",
      "Requirement already satisfied: urllib3<3,>=1.21.1 in /opt/conda/lib/python3.10/site-packages (from requests<3,>=2.21.0->tensorflow<2.17,>=2.16->tf-keras) (1.26.18)\r\n",
      "Requirement already satisfied: certifi>=2017.4.17 in /opt/conda/lib/python3.10/site-packages (from requests<3,>=2.21.0->tensorflow<2.17,>=2.16->tf-keras) (2024.8.30)\r\n"
     ]
    },
    {
     "name": "stdout",
     "output_type": "stream",
     "text": [
      "Requirement already satisfied: markdown>=2.6.8 in /opt/conda/lib/python3.10/site-packages (from tensorboard<2.17,>=2.16->tensorflow<2.17,>=2.16->tf-keras) (3.6)\r\n",
      "Requirement already satisfied: tensorboard-data-server<0.8.0,>=0.7.0 in /opt/conda/lib/python3.10/site-packages (from tensorboard<2.17,>=2.16->tensorflow<2.17,>=2.16->tf-keras) (0.7.2)\r\n",
      "Requirement already satisfied: werkzeug>=1.0.1 in /opt/conda/lib/python3.10/site-packages (from tensorboard<2.17,>=2.16->tensorflow<2.17,>=2.16->tf-keras) (3.0.4)\r\n"
     ]
    },
    {
     "name": "stdout",
     "output_type": "stream",
     "text": [
      "Requirement already satisfied: pyparsing!=3.0.5,>=2.0.2 in /opt/conda/lib/python3.10/site-packages (from packaging->tensorflow<2.17,>=2.16->tf-keras) (3.1.2)\r\n"
     ]
    },
    {
     "name": "stdout",
     "output_type": "stream",
     "text": [
      "Requirement already satisfied: MarkupSafe>=2.1.1 in /opt/conda/lib/python3.10/site-packages (from werkzeug>=1.0.1->tensorboard<2.17,>=2.16->tensorflow<2.17,>=2.16->tf-keras) (2.1.5)\r\n"
     ]
    },
    {
     "name": "stdout",
     "output_type": "stream",
     "text": [
      "Requirement already satisfied: markdown-it-py>=2.2.0 in /opt/conda/lib/python3.10/site-packages (from rich->keras>=3.0.0->tensorflow<2.17,>=2.16->tf-keras) (3.0.0)\r\n",
      "Requirement already satisfied: pygments<3.0.0,>=2.13.0 in /opt/conda/lib/python3.10/site-packages (from rich->keras>=3.0.0->tensorflow<2.17,>=2.16->tf-keras) (2.18.0)\r\n",
      "Requirement already satisfied: mdurl~=0.1 in /opt/conda/lib/python3.10/site-packages (from markdown-it-py>=2.2.0->rich->keras>=3.0.0->tensorflow<2.17,>=2.16->tf-keras) (0.1.2)\r\n"
     ]
    },
    {
     "name": "stdout",
     "output_type": "stream",
     "text": [
      "Note: you may need to restart the kernel to use updated packages.\n"
     ]
    },
    {
     "name": "stdout",
     "output_type": "stream",
     "text": [
      "Requirement already satisfied: tqdm in /opt/conda/lib/python3.10/site-packages (4.66.4)\r\n"
     ]
    },
    {
     "name": "stdout",
     "output_type": "stream",
     "text": [
      "Note: you may need to restart the kernel to use updated packages.\n"
     ]
    }
   ],
   "source": [
    "%pip install tf-keras\n",
    "%pip install tqdm"
   ]
  },
  {
   "cell_type": "code",
   "execution_count": 3,
   "id": "35a6ccbd",
   "metadata": {
    "execution": {
     "iopub.execute_input": "2024-10-02T19:01:18.791296Z",
     "iopub.status.busy": "2024-10-02T19:01:18.790653Z",
     "iopub.status.idle": "2024-10-02T19:02:00.631376Z",
     "shell.execute_reply": "2024-10-02T19:02:00.630461Z"
    },
    "papermill": {
     "duration": 41.861366,
     "end_time": "2024-10-02T19:02:00.633275",
     "exception": false,
     "start_time": "2024-10-02T19:01:18.771909",
     "status": "completed"
    },
    "tags": []
   },
   "outputs": [
    {
     "name": "stdout",
     "output_type": "stream",
     "text": [
      "[nltk_data] Downloading package punkt to /usr/share/nltk_data...\n",
      "[nltk_data]   Package punkt is already up-to-date!\n",
      "[nltk_data] Downloading package punkt_tab to /usr/share/nltk_data...\n",
      "[nltk_data]   Unzipping tokenizers/punkt_tab.zip.\n"
     ]
    },
    {
     "name": "stdout",
     "output_type": "stream",
     "text": [
      "[nltk_data] Downloading package stopwords to /usr/share/nltk_data...\n",
      "[nltk_data]   Package stopwords is already up-to-date!\n"
     ]
    },
    {
     "data": {
      "text/plain": [
       "True"
      ]
     },
     "execution_count": 3,
     "metadata": {},
     "output_type": "execute_result"
    }
   ],
   "source": [
    "## Imports\n",
    "from tqdm import tqdm\n",
    "import os\n",
    "import joblib\n",
    "import pandas as pd\n",
    "import matplotlib.pyplot as plt\n",
    "import numpy as np\n",
    "from sklearn.model_selection import train_test_split, StratifiedKFold, KFold\n",
    "from sklearn.linear_model import LogisticRegression, SGDClassifier\n",
    "from sklearn.ensemble import RandomForestClassifier\n",
    "import xgboost as xgb\n",
    "from xgboost import XGBClassifier\n",
    "from sklearn.naive_bayes import GaussianNB\n",
    "from sklearn.feature_extraction.text import TfidfVectorizer\n",
    "from sklearn.feature_extraction.text import CountVectorizer\n",
    "from sklearn.ensemble import VotingClassifier\n",
    "from sklearn.manifold import TSNE\n",
    "from sklearn.metrics import roc_auc_score, accuracy_score, precision_score, recall_score, f1_score\n",
    "\n",
    "from datasets import load_dataset, Dataset\n",
    "from transformers import AutoTokenizer, TFAutoModelForSequenceClassification, DataCollatorWithPadding, AutoModelForSequenceClassification, TrainingArguments, Trainer\n",
    "\n",
    "from gensim.models import KeyedVectors\n",
    "from gensim.scripts.glove2word2vec import glove2word2vec\n",
    "from gensim.test.utils import datapath, get_tmpfile\n",
    "\n",
    "import nltk\n",
    "from nltk import word_tokenize\n",
    "from nltk.tokenize import word_tokenize\n",
    "from nltk.corpus import stopwords\n",
    "\n",
    "import logging\n",
    "from sklearn.svm import SVC\n",
    "\n",
    "# Load the stop words\n",
    "stop_words = set(stopwords.words('english'))\n",
    "\n",
    "# ref: https://www.kaggle.com/code/eswarbabu88/toxic-comment-glove-logistic-regression\n",
    "# need to use glove_model from above\n",
    "# Download required NLTK resources\n",
    "nltk.download('punkt')\n",
    "nltk.download('punkt_tab')\n",
    "nltk.download('stopwords')\n",
    "\n",
    "# Options: 'LR', 'XGB', 'RF', 'RNN', 'SVM', 'BERT'\n",
    "# config_option = 'LR' "
   ]
  },
  {
   "cell_type": "code",
   "execution_count": 4,
   "id": "d506fbf9",
   "metadata": {
    "execution": {
     "iopub.execute_input": "2024-10-02T19:02:00.671271Z",
     "iopub.status.busy": "2024-10-02T19:02:00.670111Z",
     "iopub.status.idle": "2024-10-02T19:02:00.676014Z",
     "shell.execute_reply": "2024-10-02T19:02:00.675129Z"
    },
    "papermill": {
     "duration": 0.027027,
     "end_time": "2024-10-02T19:02:00.678351",
     "exception": false,
     "start_time": "2024-10-02T19:02:00.651324",
     "status": "completed"
    },
    "tags": []
   },
   "outputs": [],
   "source": [
    "# class MyLogger:\n",
    "#     def __init__(self, log_file='app.log'):\n",
    "#         self.log_file = log_file\n",
    "#         self._initialize_logger()\n",
    "\n",
    "#     def _initialize_logger(self):\n",
    "#         # Check if the log file already exists; if so, append to it\n",
    "#         if os.path.exists(self.log_file):\n",
    "#             file_mode = 'a'  # Append mode\n",
    "#         else:\n",
    "#             file_mode = 'w'  # Write mode (create new file)\n",
    "\n",
    "#         # Create a logger\n",
    "#         self.logger = logging.getLogger()\n",
    "#         self.logger.setLevel(logging.INFO)  # Set logging level to INFO\n",
    "\n",
    "#         # Create file handler\n",
    "#         file_handler = logging.FileHandler(self.log_file, mode=file_mode, encoding='utf-8')\n",
    "#         file_handler.setLevel(logging.INFO)  # Ensure the file handler logs INFO and above\n",
    "\n",
    "#         # Create console handler\n",
    "#         console_handler = logging.StreamHandler()\n",
    "#         console_handler.setLevel(logging.INFO)  # Ensure the console handler logs INFO and above\n",
    "\n",
    "#         # Set up the logging format\n",
    "#         formatter = logging.Formatter('%(asctime)s - %(levelname)s - %(message)s')\n",
    "#         file_handler.setFormatter(formatter)\n",
    "#         console_handler.setFormatter(formatter)\n",
    "\n",
    "#         # Remove existing handlers to avoid duplicates\n",
    "#         if self.logger.hasHandlers():\n",
    "#             self.logger.handlers.clear()\n",
    "\n",
    "#         # Add handlers to the logger\n",
    "#         self.logger.addHandler(file_handler)\n",
    "#         self.logger.addHandler(console_handler)\n",
    "\n",
    "#     def log_message(self, message):\n",
    "#         self.logger.info(message)\n",
    "\n",
    "#     def change_log_file(self, new_log_file):\n",
    "#         \"\"\"Change the log file and reinitialize the logger.\"\"\"\n",
    "#         self.log_file = new_log_file\n",
    "#         self._initialize_logger()  # Reinitialize logger with the new log file"
   ]
  },
  {
   "cell_type": "code",
   "execution_count": 5,
   "id": "a4d679cf",
   "metadata": {
    "execution": {
     "iopub.execute_input": "2024-10-02T19:02:00.715216Z",
     "iopub.status.busy": "2024-10-02T19:02:00.714909Z",
     "iopub.status.idle": "2024-10-02T19:02:00.719862Z",
     "shell.execute_reply": "2024-10-02T19:02:00.718833Z"
    },
    "papermill": {
     "duration": 0.025747,
     "end_time": "2024-10-02T19:02:00.721870",
     "exception": false,
     "start_time": "2024-10-02T19:02:00.696123",
     "status": "completed"
    },
    "tags": []
   },
   "outputs": [],
   "source": [
    "# Load the stop words\n",
    "stop_words = set(stopwords.words('english'))"
   ]
  },
  {
   "cell_type": "markdown",
   "id": "83e328ee",
   "metadata": {
    "papermill": {
     "duration": 0.017551,
     "end_time": "2024-10-02T19:02:00.757351",
     "exception": false,
     "start_time": "2024-10-02T19:02:00.739800",
     "status": "completed"
    },
    "tags": []
   },
   "source": [
    "# Load the preprocessing datasets"
   ]
  },
  {
   "cell_type": "markdown",
   "id": "bdae2b63",
   "metadata": {
    "papermill": {
     "duration": 0.017763,
     "end_time": "2024-10-02T19:02:00.792883",
     "exception": false,
     "start_time": "2024-10-02T19:02:00.775120",
     "status": "completed"
    },
    "tags": []
   },
   "source": [
    "# Word2Vec Embedding + Logistic Regression"
   ]
  },
  {
   "cell_type": "markdown",
   "id": "e51286cb",
   "metadata": {
    "papermill": {
     "duration": 0.018585,
     "end_time": "2024-10-02T19:02:00.829249",
     "exception": false,
     "start_time": "2024-10-02T19:02:00.810664",
     "status": "completed"
    },
    "tags": []
   },
   "source": [
    "Load the GloVe model in Word2Vec format"
   ]
  },
  {
   "cell_type": "code",
   "execution_count": 6,
   "id": "2da52c36",
   "metadata": {
    "execution": {
     "iopub.execute_input": "2024-10-02T19:02:00.865766Z",
     "iopub.status.busy": "2024-10-02T19:02:00.865431Z",
     "iopub.status.idle": "2024-10-02T19:02:06.016724Z",
     "shell.execute_reply": "2024-10-02T19:02:06.015783Z"
    },
    "papermill": {
     "duration": 5.171785,
     "end_time": "2024-10-02T19:02:06.018761",
     "exception": false,
     "start_time": "2024-10-02T19:02:00.846976",
     "status": "completed"
    },
    "tags": []
   },
   "outputs": [
    {
     "data": {
      "text/html": [
       "<div>\n",
       "<style scoped>\n",
       "    .dataframe tbody tr th:only-of-type {\n",
       "        vertical-align: middle;\n",
       "    }\n",
       "\n",
       "    .dataframe tbody tr th {\n",
       "        vertical-align: top;\n",
       "    }\n",
       "\n",
       "    .dataframe thead th {\n",
       "        text-align: right;\n",
       "    }\n",
       "</style>\n",
       "<table border=\"1\" class=\"dataframe\">\n",
       "  <thead>\n",
       "    <tr style=\"text-align: right;\">\n",
       "      <th></th>\n",
       "      <th>text</th>\n",
       "      <th>label</th>\n",
       "      <th>source</th>\n",
       "      <th>word_length</th>\n",
       "      <th>text_no_sw</th>\n",
       "    </tr>\n",
       "  </thead>\n",
       "  <tbody>\n",
       "    <tr>\n",
       "      <th>70396</th>\n",
       "      <td>as a citizen of the united states, i have the ...</td>\n",
       "      <td>0</td>\n",
       "      <td>competition-essay</td>\n",
       "      <td>569</td>\n",
       "      <td>citizen united states , right poinion electora...</td>\n",
       "    </tr>\n",
       "    <tr>\n",
       "      <th>37844</th>\n",
       "      <td>dear hiring manager,i am writing to express m...</td>\n",
       "      <td>1</td>\n",
       "      <td>mistral7binstruct_v2</td>\n",
       "      <td>226</td>\n",
       "      <td>dear hiring manager , writing express interest...</td>\n",
       "    </tr>\n",
       "    <tr>\n",
       "      <th>24861</th>\n",
       "      <td>working in groups can be a valuable experience...</td>\n",
       "      <td>1</td>\n",
       "      <td>llammistral7binstruct</td>\n",
       "      <td>382</td>\n",
       "      <td>working groups valuable experience students . ...</td>\n",
       "    </tr>\n",
       "    <tr>\n",
       "      <th>47197</th>\n",
       "      <td>the using of cars has caused much of the world...</td>\n",
       "      <td>0</td>\n",
       "      <td>personal-sunilthite</td>\n",
       "      <td>444</td>\n",
       "      <td>using cars caused much worlds green house gas ...</td>\n",
       "    </tr>\n",
       "    <tr>\n",
       "      <th>20172</th>\n",
       "      <td>to teacher_namewe the students should have a r...</td>\n",
       "      <td>0</td>\n",
       "      <td>persuade_corpus</td>\n",
       "      <td>263</td>\n",
       "      <td>teacher_name students right play sport want c ...</td>\n",
       "    </tr>\n",
       "  </tbody>\n",
       "</table>\n",
       "</div>"
      ],
      "text/plain": [
       "                                                    text  label  \\\n",
       "70396  as a citizen of the united states, i have the ...      0   \n",
       "37844   dear hiring manager,i am writing to express m...      1   \n",
       "24861  working in groups can be a valuable experience...      1   \n",
       "47197  the using of cars has caused much of the world...      0   \n",
       "20172  to teacher_namewe the students should have a r...      0   \n",
       "\n",
       "                      source  word_length  \\\n",
       "70396      competition-essay          569   \n",
       "37844   mistral7binstruct_v2          226   \n",
       "24861  llammistral7binstruct          382   \n",
       "47197    personal-sunilthite          444   \n",
       "20172        persuade_corpus          263   \n",
       "\n",
       "                                              text_no_sw  \n",
       "70396  citizen united states , right poinion electora...  \n",
       "37844  dear hiring manager , writing express interest...  \n",
       "24861  working groups valuable experience students . ...  \n",
       "47197  using cars caused much worlds green house gas ...  \n",
       "20172  teacher_name students right play sport want c ...  "
      ]
     },
     "execution_count": 6,
     "metadata": {},
     "output_type": "execute_result"
    }
   ],
   "source": [
    "path_ds = r\"/kaggle/input/pdz-dath-data/final_dataset_v1_afternb1.csv\"\n",
    "\n",
    "df_ds = pd.read_csv(path_ds)\n",
    "\n",
    "# split train and set dataset \n",
    "df_train, df_test = train_test_split(df_ds, test_size=0.2, random_state=42)\n",
    "\n",
    "df_train.head()"
   ]
  },
  {
   "cell_type": "code",
   "execution_count": 7,
   "id": "2542a7f1",
   "metadata": {
    "execution": {
     "iopub.execute_input": "2024-10-02T19:02:06.056915Z",
     "iopub.status.busy": "2024-10-02T19:02:06.056600Z",
     "iopub.status.idle": "2024-10-02T19:02:06.061581Z",
     "shell.execute_reply": "2024-10-02T19:02:06.060556Z"
    },
    "papermill": {
     "duration": 0.026419,
     "end_time": "2024-10-02T19:02:06.063627",
     "exception": false,
     "start_time": "2024-10-02T19:02:06.037208",
     "status": "completed"
    },
    "tags": []
   },
   "outputs": [
    {
     "name": "stdout",
     "output_type": "stream",
     "text": [
      "Test size (14211, 5)\n",
      "Train size (56843, 5)\n"
     ]
    }
   ],
   "source": [
    "print(\"Test size\", df_test.shape)\n",
    "print(\"Train size\", df_train.shape)"
   ]
  },
  {
   "cell_type": "code",
   "execution_count": 8,
   "id": "4715c158",
   "metadata": {
    "execution": {
     "iopub.execute_input": "2024-10-02T19:02:06.101255Z",
     "iopub.status.busy": "2024-10-02T19:02:06.100988Z",
     "iopub.status.idle": "2024-10-02T19:02:20.275766Z",
     "shell.execute_reply": "2024-10-02T19:02:20.274372Z"
    },
    "papermill": {
     "duration": 14.196767,
     "end_time": "2024-10-02T19:02:20.278620",
     "exception": false,
     "start_time": "2024-10-02T19:02:06.081853",
     "status": "completed"
    },
    "tags": []
   },
   "outputs": [],
   "source": [
    "df = pd.concat([df_test['text_no_sw'], df_train['text_no_sw']], axis=0)\n",
    "\n",
    "vectorizer = TfidfVectorizer(stop_words='english', max_features=50000)\n",
    "X = vectorizer.fit_transform(df)"
   ]
  },
  {
   "cell_type": "code",
   "execution_count": 9,
   "id": "e0036151",
   "metadata": {
    "execution": {
     "iopub.execute_input": "2024-10-02T19:02:20.323166Z",
     "iopub.status.busy": "2024-10-02T19:02:20.322353Z",
     "iopub.status.idle": "2024-10-02T19:02:20.327014Z",
     "shell.execute_reply": "2024-10-02T19:02:20.326281Z"
    },
    "papermill": {
     "duration": 0.025943,
     "end_time": "2024-10-02T19:02:20.328882",
     "exception": false,
     "start_time": "2024-10-02T19:02:20.302939",
     "status": "completed"
    },
    "tags": []
   },
   "outputs": [],
   "source": [
    "# How to use\n",
    "# ----------\n",
    "\n",
    "# .. sourcecode:: pycon\n",
    "\n",
    "#     >>> from gensim.test.utils import datapath, get_tmpfile\n",
    "#     >>> from gensim.models import KeyedVectors\n",
    "#     >>> from gensim.scripts.glove2word2vec import glove2word2vec\n",
    "#     >>>\n",
    "#     >>> glove_file = datapath('test_glove.txt')\n",
    "#     >>> tmp_file = get_tmpfile(\"test_word2vec.txt\")\n",
    "#     >>>\n",
    "#     >>> _ = glove2word2vec(glove_file, tmp_file)\n",
    "#     >>>\n",
    "#     >>> model = KeyedVectors.load_word2vec_format(tmp_file)\n",
    "\n",
    "# Command line arguments\n",
    "# ----------------------"
   ]
  },
  {
   "cell_type": "code",
   "execution_count": 10,
   "id": "1f2e3597",
   "metadata": {
    "execution": {
     "iopub.execute_input": "2024-10-02T19:02:20.366570Z",
     "iopub.status.busy": "2024-10-02T19:02:20.366274Z",
     "iopub.status.idle": "2024-10-02T19:04:13.108128Z",
     "shell.execute_reply": "2024-10-02T19:04:13.107074Z"
    },
    "papermill": {
     "duration": 112.763533,
     "end_time": "2024-10-02T19:04:13.110595",
     "exception": false,
     "start_time": "2024-10-02T19:02:20.347062",
     "status": "completed"
    },
    "tags": []
   },
   "outputs": [],
   "source": [
    "# Use raw strings or escape the backslashes in file paths\n",
    "# Glove_path = datapath(r\"E:\\2_LEARNING_BKU\\2_File_2\\K22_HK241\\CO3101_Do_an_Tri_tue_nhan_tao\\Main\\Code\\detect_llm_generated_essay-main\\notebooks\\Data_baseline\\Data Glove\\glove.6B.300d.txt\")\n",
    "word2vec_output_file = get_tmpfile(r\"/kaggle/input/pdz-dath-data/output_w2v.txt\")\n",
    "\n",
    "# Convert GloVe format to Word2Vec format\n",
    "# glove2word2vec(Glove_path, word2vec_output_file)\n",
    "\n",
    "# Load the Stanford GloVe model in Word2Vec format\n",
    "glove_model = KeyedVectors.load_word2vec_format(word2vec_output_file, binary=False)\n",
    "\n",
    "# Now you can use the glove_model for further processing"
   ]
  },
  {
   "cell_type": "code",
   "execution_count": 11,
   "id": "ea57899d",
   "metadata": {
    "execution": {
     "iopub.execute_input": "2024-10-02T19:04:13.149621Z",
     "iopub.status.busy": "2024-10-02T19:04:13.149049Z",
     "iopub.status.idle": "2024-10-02T19:04:13.165464Z",
     "shell.execute_reply": "2024-10-02T19:04:13.164534Z"
    },
    "papermill": {
     "duration": 0.038426,
     "end_time": "2024-10-02T19:04:13.167779",
     "exception": false,
     "start_time": "2024-10-02T19:04:13.129353",
     "status": "completed"
    },
    "tags": []
   },
   "outputs": [
    {
     "name": "stdout",
     "output_type": "stream",
     "text": [
      "Glove Word Embeddings of word 'human' \n"
     ]
    },
    {
     "data": {
      "text/plain": [
       "array([ 1.6608e-01,  3.1670e-01, -5.8249e-01, -3.0978e-01, -4.3342e-02,\n",
       "       -2.7902e-01, -2.2359e-01,  1.5822e-01,  1.4204e-01, -2.5546e+00,\n",
       "        1.4570e-01, -2.4335e-01, -7.9048e-01, -7.0345e-02,  3.6125e-02,\n",
       "        8.6590e-02,  7.9128e-01,  8.8366e-01, -3.8760e-01, -2.5363e-01,\n",
       "       -2.1893e-01,  2.9416e-01, -1.0171e-01,  1.3125e-01,  1.7897e-01,\n",
       "        5.8697e-01,  9.8880e-01,  1.3927e-01,  4.0796e-01,  1.0456e-02,\n",
       "        8.6774e-03,  5.1483e-01, -1.1121e+00, -5.1464e-01,  9.6359e-02,\n",
       "        1.8087e-01,  3.3565e-01,  2.4491e-01, -2.3970e-01, -3.6623e-01,\n",
       "        5.1139e-01,  2.0225e-01, -9.9939e-02, -2.1025e-01, -4.4924e-01,\n",
       "        2.7756e-01, -4.3422e-01,  2.9502e-01,  3.0119e-01,  7.0748e-02,\n",
       "       -4.7604e-02,  5.4410e-01, -2.1035e-01,  9.3486e-02, -1.6013e-01,\n",
       "       -6.2257e-02,  1.9005e-01, -4.4857e-01, -1.6407e-01, -2.2538e-01,\n",
       "        1.6229e-01,  2.2353e-01,  1.4428e-01, -1.4320e-01, -5.4452e-01,\n",
       "       -1.5810e-01,  1.6613e-01,  3.0517e-01,  2.2682e-01,  2.3392e-01,\n",
       "        1.4420e-02,  2.3581e-01,  3.3901e-01, -1.3515e-01,  1.2504e-01,\n",
       "        5.2091e-02,  1.7347e-01,  2.0413e-01,  1.4869e-01,  6.9364e-01,\n",
       "        4.2607e-02, -2.7914e-01, -4.2708e-02,  8.6777e-01, -2.7702e-01,\n",
       "       -1.6653e-01,  1.7128e-01,  2.4892e-01,  2.7636e-01, -5.9533e-01,\n",
       "       -4.0766e-01,  7.6787e-02, -3.2353e-01,  2.8717e-01,  7.8707e-02,\n",
       "        2.8422e-01, -5.0156e-01,  1.6480e-01,  1.4438e-01, -3.4472e-01,\n",
       "        6.8599e-01, -6.5710e-01, -7.4509e-02, -2.2058e-01,  3.2522e-01,\n",
       "        5.7178e-01,  3.6560e-01,  1.9006e-02, -2.6290e-01,  5.7679e-02,\n",
       "        4.6301e-01,  2.1049e-01, -8.7795e-01,  4.1986e-01, -9.7955e-02,\n",
       "        1.1727e-01,  5.8366e-01,  3.3378e-01, -6.8787e-01, -9.3053e-02,\n",
       "       -5.4548e-01,  4.4119e-01,  3.2057e-01,  6.9433e-01, -8.3096e-01,\n",
       "       -4.8262e-01, -1.8561e-01,  6.5913e-01, -1.3943e-01,  5.3444e-02,\n",
       "       -1.9355e-01, -3.0163e-01,  2.7448e-01, -7.6775e-02, -3.5173e-01,\n",
       "       -1.9312e-01,  2.0715e-01,  4.4466e-02, -4.1042e-01,  5.0207e-01,\n",
       "        1.1511e-01, -1.3306e-02, -1.2321e-01, -2.9420e-01,  5.0965e-03,\n",
       "       -1.2611e-01,  5.5238e-02,  4.2515e-01, -1.0139e+00, -2.9264e-01,\n",
       "        1.9368e-01, -5.9128e-01,  2.8595e-01,  2.7801e-01, -1.5338e-01,\n",
       "        1.8042e-01, -4.4115e-01,  8.0668e-02,  1.0496e-01, -1.4847e-01,\n",
       "        4.0407e-01,  2.0501e-01,  6.7686e-01, -1.2744e-01,  8.3360e-02,\n",
       "        1.8603e-01,  6.8722e-01, -2.1671e-01, -2.6148e-01, -3.1682e-02,\n",
       "       -4.4320e-02, -2.0805e-01, -2.5868e-01,  7.5387e-02, -5.7802e-01,\n",
       "       -1.9793e-01,  5.4040e-02, -7.5155e-02, -1.9803e-01, -7.5996e-02,\n",
       "       -1.0914e-01, -3.0985e-01,  2.5827e-01, -2.3484e-01, -3.2249e-01,\n",
       "       -4.9973e-01, -4.9038e-01, -1.9788e-01,  4.0958e-01, -2.5788e-01,\n",
       "        6.5527e-02, -6.6362e-01, -3.9411e-02, -2.3160e-01, -1.8412e-02,\n",
       "        4.8032e-01,  4.6074e-01, -4.9403e-01, -1.3993e-01,  3.3578e-01,\n",
       "        5.1559e-01,  7.9922e-02,  4.4496e-01, -9.7533e-02,  7.5394e-03,\n",
       "        4.2994e-01, -2.1932e-01,  2.0696e-01,  9.8378e-03,  2.6022e-01,\n",
       "        2.6218e-01,  4.8072e-02, -1.6135e-01, -3.7569e-01, -1.6533e-01,\n",
       "        8.3233e-01, -1.0609e-01, -1.8695e-01,  7.8082e-03,  2.1870e-01,\n",
       "       -6.5372e-01, -7.7777e-02, -3.6130e-01,  4.3058e-01,  2.2788e-01,\n",
       "        1.3172e-02, -8.6183e-02,  3.7470e-01, -5.8307e-01,  6.5118e-01,\n",
       "        3.6204e-01, -2.8726e-01, -3.8916e-02, -4.9841e-01, -4.9983e-01,\n",
       "        2.3650e-01, -2.7696e-01, -2.7693e-01, -1.9759e-01, -3.6214e-01,\n",
       "       -2.2412e-01,  8.1860e-02,  9.0234e-01, -5.4989e-01, -9.2574e-01,\n",
       "       -6.2176e-04,  3.4262e-01,  2.6824e-01,  1.1086e-02,  6.1992e-01,\n",
       "        1.5994e-01, -1.5260e-02, -1.0169e-01,  1.1510e-01,  7.8099e-01,\n",
       "        5.4375e-01, -2.3922e-03, -7.9489e-01, -4.1774e-01,  5.7822e-01,\n",
       "       -6.7492e-02, -3.7620e-01,  4.2536e-01,  1.0234e-01,  1.9731e-01,\n",
       "        3.9849e-01, -2.6960e-01,  4.0959e-01, -5.3788e-01,  4.2295e-01,\n",
       "        2.1651e-01,  3.7772e-01,  3.2295e-01,  2.4570e-01,  9.5233e-03,\n",
       "        3.6473e-01, -2.0200e+00, -2.2543e-01,  6.7088e-01, -1.8870e-01,\n",
       "       -2.1337e-01, -7.3625e-01,  5.5594e-01,  2.8003e-01, -5.1877e-01,\n",
       "       -6.1657e-02,  1.5836e-01,  2.8019e-01,  2.4515e-01,  1.7778e-01,\n",
       "       -3.3345e-01, -6.8802e-01, -1.9556e-01, -1.1132e-01,  1.0925e-01,\n",
       "        3.8288e-01, -2.7935e-01,  2.4013e-01,  8.8691e-02,  4.6489e-02],\n",
       "      dtype=float32)"
      ]
     },
     "execution_count": 11,
     "metadata": {},
     "output_type": "execute_result"
    }
   ],
   "source": [
    "print(\"Glove Word Embeddings of word 'human' \")\n",
    "glove_model['human']"
   ]
  },
  {
   "cell_type": "markdown",
   "id": "b6652d81",
   "metadata": {
    "papermill": {
     "duration": 0.01822,
     "end_time": "2024-10-02T19:04:13.204551",
     "exception": false,
     "start_time": "2024-10-02T19:04:13.186331",
     "status": "completed"
    },
    "tags": []
   },
   "source": [
    "Plot t-distributed stochastic neighbor embedding"
   ]
  },
  {
   "cell_type": "code",
   "execution_count": 12,
   "id": "47f8fda3",
   "metadata": {
    "execution": {
     "iopub.execute_input": "2024-10-02T19:04:13.242755Z",
     "iopub.status.busy": "2024-10-02T19:04:13.242446Z",
     "iopub.status.idle": "2024-10-02T19:04:17.152890Z",
     "shell.execute_reply": "2024-10-02T19:04:17.151906Z"
    },
    "papermill": {
     "duration": 3.932902,
     "end_time": "2024-10-02T19:04:17.155920",
     "exception": false,
     "start_time": "2024-10-02T19:04:13.223018",
     "status": "completed"
    },
    "tags": []
   },
   "outputs": [
    {
     "data": {
      "image/png": "[encoded data removed]",
      "text/plain": [
       "<Figure size 1000x1000 with 1 Axes>"
      ]
     },
     "metadata": {},
     "output_type": "display_data"
    }
   ],
   "source": [
    "def plot_tsne(model, num):\n",
    "    labels = []\n",
    "    tokens = []\n",
    "    for word in model.key_to_index:\n",
    "        if word not in stop_words:\n",
    "            tokens.append(np.array(model[word]))\n",
    "            labels.append(word)\n",
    "    tsne = TSNE(perplexity = 40, n_components = 2, init = 'pca', n_iter = 2500, random_state = 23)\n",
    "    data = tsne.fit_transform(np.array(tokens[:num]))\n",
    "    x = []\n",
    "    y = []\n",
    "    for each in data:\n",
    "        x.append(each[0])\n",
    "        y.append(each[1])\n",
    "    plt.figure(figsize = (10, 10))\n",
    "    for i in range(num):\n",
    "        plt.scatter(x[i], y[i])\n",
    "        plt.annotate(labels[i],\n",
    "                     xy = (x[i], y[i]),\n",
    "                     xytext = (5,2),\n",
    "                     textcoords = 'offset points',\n",
    "                     ha = 'right',\n",
    "                     va = 'bottom')\n",
    "    plt.show()\n",
    "    \n",
    "# visualising the cbow archtecture(only the first 300)\n",
    "plot_tsne(glove_model, 100)"
   ]
  },
  {
   "cell_type": "code",
   "execution_count": 13,
   "id": "d4089267",
   "metadata": {
    "execution": {
     "iopub.execute_input": "2024-10-02T19:04:17.197763Z",
     "iopub.status.busy": "2024-10-02T19:04:17.197122Z",
     "iopub.status.idle": "2024-10-02T19:04:17.210945Z",
     "shell.execute_reply": "2024-10-02T19:04:17.210228Z"
    },
    "papermill": {
     "duration": 0.036614,
     "end_time": "2024-10-02T19:04:17.212804",
     "exception": false,
     "start_time": "2024-10-02T19:04:17.176190",
     "status": "completed"
    },
    "tags": []
   },
   "outputs": [],
   "source": [
    "# Load stopwords\n",
    "stop_words = set(stopwords.words('english'))\n",
    "\n",
    "# Assuming glove_model is already loaded in your environment\n",
    "# Function to convert a sentence to a vector\n",
    "def sent2vec(s):\n",
    "    words = str(s).lower()\n",
    "    words = word_tokenize(words)  # This requires the 'punkt' tokenizer\n",
    "    words = [w for w in words if w not in stop_words]\n",
    "    words = [w for w in words if w.isalpha()]  # Filter out non-alphabetic tokens\n",
    "    M = []\n",
    "    for w in words:\n",
    "        try:\n",
    "            M.append(glove_model[w])  # Lookup word in GloVe model\n",
    "        except KeyError:\n",
    "            continue\n",
    "    M = np.array(M)\n",
    "    v = M.sum(axis=0)\n",
    "    if type(v) != np.ndarray:\n",
    "        return np.zeros(300)  # Return a zero vector if no word embeddings are found\n",
    "    return v / np.sqrt((v ** 2).sum())  # Normalize the vector\n"
   ]
  },
  {
   "cell_type": "code",
   "execution_count": 14,
   "id": "216a05c5",
   "metadata": {
    "execution": {
     "iopub.execute_input": "2024-10-02T19:04:17.253419Z",
     "iopub.status.busy": "2024-10-02T19:04:17.253134Z",
     "iopub.status.idle": "2024-10-02T19:04:31.198945Z",
     "shell.execute_reply": "2024-10-02T19:04:31.198118Z"
    },
    "papermill": {
     "duration": 13.968774,
     "end_time": "2024-10-02T19:04:31.201316",
     "exception": false,
     "start_time": "2024-10-02T19:04:17.232542",
     "status": "completed"
    },
    "tags": []
   },
   "outputs": [],
   "source": [
    "df = pd.concat([df_test['text_no_sw'], df_train['text_no_sw']], axis=0)\n",
    "X = vectorizer.fit_transform(df)"
   ]
  },
  {
   "cell_type": "markdown",
   "id": "ff8a70f3",
   "metadata": {
    "papermill": {
     "duration": 0.019484,
     "end_time": "2024-10-02T19:04:31.241125",
     "exception": false,
     "start_time": "2024-10-02T19:04:31.221641",
     "status": "completed"
    },
    "tags": []
   },
   "source": [
    "Start Logistic Regression"
   ]
  },
  {
   "cell_type": "code",
   "execution_count": 15,
   "id": "257ff3dd",
   "metadata": {
    "execution": {
     "iopub.execute_input": "2024-10-02T19:04:31.281772Z",
     "iopub.status.busy": "2024-10-02T19:04:31.281417Z",
     "iopub.status.idle": "2024-10-02T19:04:31.287612Z",
     "shell.execute_reply": "2024-10-02T19:04:31.286721Z"
    },
    "papermill": {
     "duration": 0.028796,
     "end_time": "2024-10-02T19:04:31.289547",
     "exception": false,
     "start_time": "2024-10-02T19:04:31.260751",
     "status": "completed"
    },
    "tags": []
   },
   "outputs": [
    {
     "data": {
      "text/plain": [
       "<71054x50000 sparse matrix of type '<class 'numpy.float64'>'\n",
       "\twith 6962619 stored elements in Compressed Sparse Row format>"
      ]
     },
     "execution_count": 15,
     "metadata": {},
     "output_type": "execute_result"
    }
   ],
   "source": [
    "X"
   ]
  },
  {
   "cell_type": "code",
   "execution_count": 16,
   "id": "fc521168",
   "metadata": {
    "execution": {
     "iopub.execute_input": "2024-10-02T19:04:31.330817Z",
     "iopub.status.busy": "2024-10-02T19:04:31.330535Z",
     "iopub.status.idle": "2024-10-02T19:04:31.390990Z",
     "shell.execute_reply": "2024-10-02T19:04:31.389905Z"
    },
    "papermill": {
     "duration": 0.083828,
     "end_time": "2024-10-02T19:04:31.393090",
     "exception": false,
     "start_time": "2024-10-02T19:04:31.309262",
     "status": "completed"
    },
    "tags": []
   },
   "outputs": [
    {
     "name": "stdout",
     "output_type": "stream",
     "text": [
      "(56843, 50000)\n",
      "(56843,)\n"
     ]
    }
   ],
   "source": [
    "print(X[:df_train.shape[0]].shape)  # Features\n",
    "print(df_train['label'].shape)      # Labels"
   ]
  },
  {
   "cell_type": "code",
   "execution_count": 17,
   "id": "cb83a4f3",
   "metadata": {
    "execution": {
     "iopub.execute_input": "2024-10-02T19:04:31.434403Z",
     "iopub.status.busy": "2024-10-02T19:04:31.434099Z",
     "iopub.status.idle": "2024-10-02T19:04:31.440402Z",
     "shell.execute_reply": "2024-10-02T19:04:31.439532Z"
    },
    "papermill": {
     "duration": 0.029175,
     "end_time": "2024-10-02T19:04:31.442389",
     "exception": false,
     "start_time": "2024-10-02T19:04:31.413214",
     "status": "completed"
    },
    "tags": []
   },
   "outputs": [],
   "source": [
    "# Define metrics calculation function\n",
    "def compute_metrics(preds, labels):\n",
    "    # Compute probabilities\n",
    "    probs = preds if len(preds.shape) == 1 else preds[:, 1]\n",
    "    \n",
    "    # Compute ROC AUC score\n",
    "    auc = roc_auc_score(labels, probs)\n",
    "    \n",
    "    # Convert probabilities to binary predictions (1 if prob >= 0.5 else 0)\n",
    "    binary_preds = (probs >= 0.5).astype(int)\n",
    "    \n",
    "    # other metrics\n",
    "    accuracy = accuracy_score(labels, binary_preds)\n",
    "    precision = precision_score(labels, binary_preds)\n",
    "    recall = recall_score(labels, binary_preds)\n",
    "    f1 = f1_score(labels, binary_preds)\n",
    "    \n",
    "    return {\"roc_auc\": auc, \"accuracy\": accuracy, \"precision\": precision, \"recall\": recall, \"f1\": f1}"
   ]
  },
  {
   "cell_type": "markdown",
   "id": "a6bd79a3",
   "metadata": {
    "papermill": {
     "duration": 0.01955,
     "end_time": "2024-10-02T19:04:31.481704",
     "exception": false,
     "start_time": "2024-10-02T19:04:31.462154",
     "status": "completed"
    },
    "tags": []
   },
   "source": [
    "Train Step"
   ]
  },
  {
   "cell_type": "code",
   "execution_count": 18,
   "id": "32c51540",
   "metadata": {
    "collapsed": true,
    "execution": {
     "iopub.execute_input": "2024-10-02T19:04:31.522753Z",
     "iopub.status.busy": "2024-10-02T19:04:31.522234Z",
     "iopub.status.idle": "2024-10-02T19:13:10.606893Z",
     "shell.execute_reply": "2024-10-02T19:13:10.605937Z"
    },
    "jupyter": {
     "outputs_hidden": true
    },
    "papermill": {
     "duration": 519.132813,
     "end_time": "2024-10-02T19:13:10.634125",
     "exception": false,
     "start_time": "2024-10-02T19:04:31.501312",
     "status": "completed"
    },
    "tags": []
   },
   "outputs": [
    {
     "name": "stdout",
     "output_type": "stream",
     "text": [
      "Model not found. Training a new model...\n"
     ]
    },
    {
     "name": "stderr",
     "output_type": "stream",
     "text": [
      "\r",
      "Epochs:   0%|          | 0/10 [00:00<?, ?epoch/s]"
     ]
    },
    {
     "name": "stderr",
     "output_type": "stream",
     "text": [
      "/opt/conda/lib/python3.10/site-packages/sklearn/linear_model/_logistic.py:458: ConvergenceWarning: lbfgs failed to converge (status=1):\n",
      "STOP: TOTAL NO. of ITERATIONS REACHED LIMIT.\n",
      "\n",
      "Increase the number of iterations (max_iter) or scale the data as shown in:\n",
      "    https://scikit-learn.org/stable/modules/preprocessing.html\n",
      "Please also refer to the documentation for alternative solver options:\n",
      "    https://scikit-learn.org/stable/modules/linear_model.html#logistic-regression\n",
      "  n_iter_i = _check_optimize_result(\n"
     ]
    },
    {
     "name": "stderr",
     "output_type": "stream",
     "text": [
      "/opt/conda/lib/python3.10/site-packages/sklearn/linear_model/_logistic.py:458: ConvergenceWarning: lbfgs failed to converge (status=1):\n",
      "STOP: TOTAL NO. of ITERATIONS REACHED LIMIT.\n",
      "\n",
      "Increase the number of iterations (max_iter) or scale the data as shown in:\n",
      "    https://scikit-learn.org/stable/modules/preprocessing.html\n",
      "Please also refer to the documentation for alternative solver options:\n",
      "    https://scikit-learn.org/stable/modules/linear_model.html#logistic-regression\n",
      "  n_iter_i = _check_optimize_result(\n"
     ]
    },
    {
     "name": "stderr",
     "output_type": "stream",
     "text": [
      "/opt/conda/lib/python3.10/site-packages/sklearn/linear_model/_logistic.py:458: ConvergenceWarning: lbfgs failed to converge (status=1):\n",
      "STOP: TOTAL NO. of ITERATIONS REACHED LIMIT.\n",
      "\n",
      "Increase the number of iterations (max_iter) or scale the data as shown in:\n",
      "    https://scikit-learn.org/stable/modules/preprocessing.html\n",
      "Please also refer to the documentation for alternative solver options:\n",
      "    https://scikit-learn.org/stable/modules/linear_model.html#logistic-regression\n",
      "  n_iter_i = _check_optimize_result(\n"
     ]
    },
    {
     "name": "stderr",
     "output_type": "stream",
     "text": [
      "/opt/conda/lib/python3.10/site-packages/sklearn/linear_model/_logistic.py:458: ConvergenceWarning: lbfgs failed to converge (status=1):\n",
      "STOP: TOTAL NO. of ITERATIONS REACHED LIMIT.\n",
      "\n",
      "Increase the number of iterations (max_iter) or scale the data as shown in:\n",
      "    https://scikit-learn.org/stable/modules/preprocessing.html\n",
      "Please also refer to the documentation for alternative solver options:\n",
      "    https://scikit-learn.org/stable/modules/linear_model.html#logistic-regression\n",
      "  n_iter_i = _check_optimize_result(\n"
     ]
    },
    {
     "name": "stderr",
     "output_type": "stream",
     "text": [
      "/opt/conda/lib/python3.10/site-packages/sklearn/linear_model/_logistic.py:458: ConvergenceWarning: lbfgs failed to converge (status=1):\n",
      "STOP: TOTAL NO. of ITERATIONS REACHED LIMIT.\n",
      "\n",
      "Increase the number of iterations (max_iter) or scale the data as shown in:\n",
      "    https://scikit-learn.org/stable/modules/preprocessing.html\n",
      "Please also refer to the documentation for alternative solver options:\n",
      "    https://scikit-learn.org/stable/modules/linear_model.html#logistic-regression\n",
      "  n_iter_i = _check_optimize_result(\n",
      "\r",
      "Epochs:  10%|█         | 1/10 [00:51<07:41, 51.31s/epoch]"
     ]
    },
    {
     "name": "stdout",
     "output_type": "stream",
     "text": [
      "Epoch 1 - Training Metrics: {'roc_auc': 0.7392497570498644, 'accuracy': 0.6585596481583288, 'precision': 0.7705588368923216, 'recall': 0.18940197665978, 'f1': 0.3040652592891399}\n",
      "Epoch 1 - Validation Metrics: {'roc_auc': 0.49041190130357826, 'accuracy': 0.5839197748064743, 'precision': 0.3733733733733734, 'recall': 0.08331471967835605, 'f1': 0.13623082542001463}\n"
     ]
    },
    {
     "name": "stderr",
     "output_type": "stream",
     "text": [
      "/opt/conda/lib/python3.10/site-packages/sklearn/linear_model/_logistic.py:458: ConvergenceWarning: lbfgs failed to converge (status=1):\n",
      "STOP: TOTAL NO. of ITERATIONS REACHED LIMIT.\n",
      "\n",
      "Increase the number of iterations (max_iter) or scale the data as shown in:\n",
      "    https://scikit-learn.org/stable/modules/preprocessing.html\n",
      "Please also refer to the documentation for alternative solver options:\n",
      "    https://scikit-learn.org/stable/modules/linear_model.html#logistic-regression\n",
      "  n_iter_i = _check_optimize_result(\n"
     ]
    },
    {
     "name": "stderr",
     "output_type": "stream",
     "text": [
      "/opt/conda/lib/python3.10/site-packages/sklearn/linear_model/_logistic.py:458: ConvergenceWarning: lbfgs failed to converge (status=1):\n",
      "STOP: TOTAL NO. of ITERATIONS REACHED LIMIT.\n",
      "\n",
      "Increase the number of iterations (max_iter) or scale the data as shown in:\n",
      "    https://scikit-learn.org/stable/modules/preprocessing.html\n",
      "Please also refer to the documentation for alternative solver options:\n",
      "    https://scikit-learn.org/stable/modules/linear_model.html#logistic-regression\n",
      "  n_iter_i = _check_optimize_result(\n"
     ]
    },
    {
     "name": "stderr",
     "output_type": "stream",
     "text": [
      "/opt/conda/lib/python3.10/site-packages/sklearn/linear_model/_logistic.py:458: ConvergenceWarning: lbfgs failed to converge (status=1):\n",
      "STOP: TOTAL NO. of ITERATIONS REACHED LIMIT.\n",
      "\n",
      "Increase the number of iterations (max_iter) or scale the data as shown in:\n",
      "    https://scikit-learn.org/stable/modules/preprocessing.html\n",
      "Please also refer to the documentation for alternative solver options:\n",
      "    https://scikit-learn.org/stable/modules/linear_model.html#logistic-regression\n",
      "  n_iter_i = _check_optimize_result(\n"
     ]
    },
    {
     "name": "stderr",
     "output_type": "stream",
     "text": [
      "/opt/conda/lib/python3.10/site-packages/sklearn/linear_model/_logistic.py:458: ConvergenceWarning: lbfgs failed to converge (status=1):\n",
      "STOP: TOTAL NO. of ITERATIONS REACHED LIMIT.\n",
      "\n",
      "Increase the number of iterations (max_iter) or scale the data as shown in:\n",
      "    https://scikit-learn.org/stable/modules/preprocessing.html\n",
      "Please also refer to the documentation for alternative solver options:\n",
      "    https://scikit-learn.org/stable/modules/linear_model.html#logistic-regression\n",
      "  n_iter_i = _check_optimize_result(\n"
     ]
    },
    {
     "name": "stderr",
     "output_type": "stream",
     "text": [
      "/opt/conda/lib/python3.10/site-packages/sklearn/linear_model/_logistic.py:458: ConvergenceWarning: lbfgs failed to converge (status=1):\n",
      "STOP: TOTAL NO. of ITERATIONS REACHED LIMIT.\n",
      "\n",
      "Increase the number of iterations (max_iter) or scale the data as shown in:\n",
      "    https://scikit-learn.org/stable/modules/preprocessing.html\n",
      "Please also refer to the documentation for alternative solver options:\n",
      "    https://scikit-learn.org/stable/modules/linear_model.html#logistic-regression\n",
      "  n_iter_i = _check_optimize_result(\n",
      "\r",
      "Epochs:  20%|██        | 2/10 [01:41<06:45, 50.69s/epoch]"
     ]
    },
    {
     "name": "stdout",
     "output_type": "stream",
     "text": [
      "Epoch 2 - Training Metrics: {'roc_auc': 0.739044451783529, 'accuracy': 0.6600549752611324, 'precision': 0.7803203661327232, 'recall': 0.19040705790384724, 'f1': 0.3061178688451008}\n",
      "Epoch 2 - Validation Metrics: {'roc_auc': 0.4940055441302127, 'accuracy': 0.5899014778325123, 'precision': 0.4085064292779426, 'recall': 0.09224927406745588, 'f1': 0.15051020408163265}\n"
     ]
    },
    {
     "name": "stderr",
     "output_type": "stream",
     "text": [
      "/opt/conda/lib/python3.10/site-packages/sklearn/linear_model/_logistic.py:458: ConvergenceWarning: lbfgs failed to converge (status=1):\n",
      "STOP: TOTAL NO. of ITERATIONS REACHED LIMIT.\n",
      "\n",
      "Increase the number of iterations (max_iter) or scale the data as shown in:\n",
      "    https://scikit-learn.org/stable/modules/preprocessing.html\n",
      "Please also refer to the documentation for alternative solver options:\n",
      "    https://scikit-learn.org/stable/modules/linear_model.html#logistic-regression\n",
      "  n_iter_i = _check_optimize_result(\n"
     ]
    },
    {
     "name": "stderr",
     "output_type": "stream",
     "text": [
      "/opt/conda/lib/python3.10/site-packages/sklearn/linear_model/_logistic.py:458: ConvergenceWarning: lbfgs failed to converge (status=1):\n",
      "STOP: TOTAL NO. of ITERATIONS REACHED LIMIT.\n",
      "\n",
      "Increase the number of iterations (max_iter) or scale the data as shown in:\n",
      "    https://scikit-learn.org/stable/modules/preprocessing.html\n",
      "Please also refer to the documentation for alternative solver options:\n",
      "    https://scikit-learn.org/stable/modules/linear_model.html#logistic-regression\n",
      "  n_iter_i = _check_optimize_result(\n"
     ]
    },
    {
     "name": "stderr",
     "output_type": "stream",
     "text": [
      "/opt/conda/lib/python3.10/site-packages/sklearn/linear_model/_logistic.py:458: ConvergenceWarning: lbfgs failed to converge (status=1):\n",
      "STOP: TOTAL NO. of ITERATIONS REACHED LIMIT.\n",
      "\n",
      "Increase the number of iterations (max_iter) or scale the data as shown in:\n",
      "    https://scikit-learn.org/stable/modules/preprocessing.html\n",
      "Please also refer to the documentation for alternative solver options:\n",
      "    https://scikit-learn.org/stable/modules/linear_model.html#logistic-regression\n",
      "  n_iter_i = _check_optimize_result(\n"
     ]
    },
    {
     "name": "stderr",
     "output_type": "stream",
     "text": [
      "/opt/conda/lib/python3.10/site-packages/sklearn/linear_model/_logistic.py:458: ConvergenceWarning: lbfgs failed to converge (status=1):\n",
      "STOP: TOTAL NO. of ITERATIONS REACHED LIMIT.\n",
      "\n",
      "Increase the number of iterations (max_iter) or scale the data as shown in:\n",
      "    https://scikit-learn.org/stable/modules/preprocessing.html\n",
      "Please also refer to the documentation for alternative solver options:\n",
      "    https://scikit-learn.org/stable/modules/linear_model.html#logistic-regression\n",
      "  n_iter_i = _check_optimize_result(\n"
     ]
    },
    {
     "name": "stderr",
     "output_type": "stream",
     "text": [
      "/opt/conda/lib/python3.10/site-packages/sklearn/linear_model/_logistic.py:458: ConvergenceWarning: lbfgs failed to converge (status=1):\n",
      "STOP: TOTAL NO. of ITERATIONS REACHED LIMIT.\n",
      "\n",
      "Increase the number of iterations (max_iter) or scale the data as shown in:\n",
      "    https://scikit-learn.org/stable/modules/preprocessing.html\n",
      "Please also refer to the documentation for alternative solver options:\n",
      "    https://scikit-learn.org/stable/modules/linear_model.html#logistic-regression\n",
      "  n_iter_i = _check_optimize_result(\n",
      "\r",
      "Epochs:  30%|███       | 3/10 [02:33<05:57, 51.05s/epoch]"
     ]
    },
    {
     "name": "stdout",
     "output_type": "stream",
     "text": [
      "Epoch 3 - Training Metrics: {'roc_auc': 0.7371468653709162, 'accuracy': 0.6605387575590984, 'precision': 0.7695159180113389, 'recall': 0.19705176168406946, 'f1': 0.3137586130251167}\n",
      "Epoch 3 - Validation Metrics: {'roc_auc': 0.4917513551502549, 'accuracy': 0.5822484166080225, 'precision': 0.36770428015564205, 'recall': 0.08443153897699353, 'f1': 0.13732970027247957}\n"
     ]
    },
    {
     "name": "stderr",
     "output_type": "stream",
     "text": [
      "/opt/conda/lib/python3.10/site-packages/sklearn/linear_model/_logistic.py:458: ConvergenceWarning: lbfgs failed to converge (status=1):\n",
      "STOP: TOTAL NO. of ITERATIONS REACHED LIMIT.\n",
      "\n",
      "Increase the number of iterations (max_iter) or scale the data as shown in:\n",
      "    https://scikit-learn.org/stable/modules/preprocessing.html\n",
      "Please also refer to the documentation for alternative solver options:\n",
      "    https://scikit-learn.org/stable/modules/linear_model.html#logistic-regression\n",
      "  n_iter_i = _check_optimize_result(\n"
     ]
    },
    {
     "name": "stderr",
     "output_type": "stream",
     "text": [
      "/opt/conda/lib/python3.10/site-packages/sklearn/linear_model/_logistic.py:458: ConvergenceWarning: lbfgs failed to converge (status=1):\n",
      "STOP: TOTAL NO. of ITERATIONS REACHED LIMIT.\n",
      "\n",
      "Increase the number of iterations (max_iter) or scale the data as shown in:\n",
      "    https://scikit-learn.org/stable/modules/preprocessing.html\n",
      "Please also refer to the documentation for alternative solver options:\n",
      "    https://scikit-learn.org/stable/modules/linear_model.html#logistic-regression\n",
      "  n_iter_i = _check_optimize_result(\n"
     ]
    },
    {
     "name": "stderr",
     "output_type": "stream",
     "text": [
      "/opt/conda/lib/python3.10/site-packages/sklearn/linear_model/_logistic.py:458: ConvergenceWarning: lbfgs failed to converge (status=1):\n",
      "STOP: TOTAL NO. of ITERATIONS REACHED LIMIT.\n",
      "\n",
      "Increase the number of iterations (max_iter) or scale the data as shown in:\n",
      "    https://scikit-learn.org/stable/modules/preprocessing.html\n",
      "Please also refer to the documentation for alternative solver options:\n",
      "    https://scikit-learn.org/stable/modules/linear_model.html#logistic-regression\n",
      "  n_iter_i = _check_optimize_result(\n"
     ]
    },
    {
     "name": "stderr",
     "output_type": "stream",
     "text": [
      "/opt/conda/lib/python3.10/site-packages/sklearn/linear_model/_logistic.py:458: ConvergenceWarning: lbfgs failed to converge (status=1):\n",
      "STOP: TOTAL NO. of ITERATIONS REACHED LIMIT.\n",
      "\n",
      "Increase the number of iterations (max_iter) or scale the data as shown in:\n",
      "    https://scikit-learn.org/stable/modules/preprocessing.html\n",
      "Please also refer to the documentation for alternative solver options:\n",
      "    https://scikit-learn.org/stable/modules/linear_model.html#logistic-regression\n",
      "  n_iter_i = _check_optimize_result(\n"
     ]
    },
    {
     "name": "stderr",
     "output_type": "stream",
     "text": [
      "/opt/conda/lib/python3.10/site-packages/sklearn/linear_model/_logistic.py:458: ConvergenceWarning: lbfgs failed to converge (status=1):\n",
      "STOP: TOTAL NO. of ITERATIONS REACHED LIMIT.\n",
      "\n",
      "Increase the number of iterations (max_iter) or scale the data as shown in:\n",
      "    https://scikit-learn.org/stable/modules/preprocessing.html\n",
      "Please also refer to the documentation for alternative solver options:\n",
      "    https://scikit-learn.org/stable/modules/linear_model.html#logistic-regression\n",
      "  n_iter_i = _check_optimize_result(\n",
      "\r",
      "Epochs:  40%|████      | 4/10 [03:23<05:05, 50.92s/epoch]"
     ]
    },
    {
     "name": "stdout",
     "output_type": "stream",
     "text": [
      "Epoch 4 - Training Metrics: {'roc_auc': 0.7387830352135307, 'accuracy': 0.6589774601429357, 'precision': 0.7711768692116557, 'recall': 0.19063040929141772, 'f1': 0.30569484240687683}\n",
      "Epoch 4 - Validation Metrics: {'roc_auc': 0.49561014329289155, 'accuracy': 0.5880541871921182, 'precision': 0.3946830265848671, 'recall': 0.08621844985481349, 'f1': 0.14152153987167734}\n"
     ]
    },
    {
     "name": "stderr",
     "output_type": "stream",
     "text": [
      "/opt/conda/lib/python3.10/site-packages/sklearn/linear_model/_logistic.py:458: ConvergenceWarning: lbfgs failed to converge (status=1):\n",
      "STOP: TOTAL NO. of ITERATIONS REACHED LIMIT.\n",
      "\n",
      "Increase the number of iterations (max_iter) or scale the data as shown in:\n",
      "    https://scikit-learn.org/stable/modules/preprocessing.html\n",
      "Please also refer to the documentation for alternative solver options:\n",
      "    https://scikit-learn.org/stable/modules/linear_model.html#logistic-regression\n",
      "  n_iter_i = _check_optimize_result(\n"
     ]
    },
    {
     "name": "stderr",
     "output_type": "stream",
     "text": [
      "/opt/conda/lib/python3.10/site-packages/sklearn/linear_model/_logistic.py:458: ConvergenceWarning: lbfgs failed to converge (status=1):\n",
      "STOP: TOTAL NO. of ITERATIONS REACHED LIMIT.\n",
      "\n",
      "Increase the number of iterations (max_iter) or scale the data as shown in:\n",
      "    https://scikit-learn.org/stable/modules/preprocessing.html\n",
      "Please also refer to the documentation for alternative solver options:\n",
      "    https://scikit-learn.org/stable/modules/linear_model.html#logistic-regression\n",
      "  n_iter_i = _check_optimize_result(\n"
     ]
    },
    {
     "name": "stderr",
     "output_type": "stream",
     "text": [
      "/opt/conda/lib/python3.10/site-packages/sklearn/linear_model/_logistic.py:458: ConvergenceWarning: lbfgs failed to converge (status=1):\n",
      "STOP: TOTAL NO. of ITERATIONS REACHED LIMIT.\n",
      "\n",
      "Increase the number of iterations (max_iter) or scale the data as shown in:\n",
      "    https://scikit-learn.org/stable/modules/preprocessing.html\n",
      "Please also refer to the documentation for alternative solver options:\n",
      "    https://scikit-learn.org/stable/modules/linear_model.html#logistic-regression\n",
      "  n_iter_i = _check_optimize_result(\n"
     ]
    },
    {
     "name": "stderr",
     "output_type": "stream",
     "text": [
      "/opt/conda/lib/python3.10/site-packages/sklearn/linear_model/_logistic.py:458: ConvergenceWarning: lbfgs failed to converge (status=1):\n",
      "STOP: TOTAL NO. of ITERATIONS REACHED LIMIT.\n",
      "\n",
      "Increase the number of iterations (max_iter) or scale the data as shown in:\n",
      "    https://scikit-learn.org/stable/modules/preprocessing.html\n",
      "Please also refer to the documentation for alternative solver options:\n",
      "    https://scikit-learn.org/stable/modules/linear_model.html#logistic-regression\n",
      "  n_iter_i = _check_optimize_result(\n"
     ]
    },
    {
     "name": "stderr",
     "output_type": "stream",
     "text": [
      "/opt/conda/lib/python3.10/site-packages/sklearn/linear_model/_logistic.py:458: ConvergenceWarning: lbfgs failed to converge (status=1):\n",
      "STOP: TOTAL NO. of ITERATIONS REACHED LIMIT.\n",
      "\n",
      "Increase the number of iterations (max_iter) or scale the data as shown in:\n",
      "    https://scikit-learn.org/stable/modules/preprocessing.html\n",
      "Please also refer to the documentation for alternative solver options:\n",
      "    https://scikit-learn.org/stable/modules/linear_model.html#logistic-regression\n",
      "  n_iter_i = _check_optimize_result(\n",
      "\r",
      "Epochs:  50%|█████     | 5/10 [04:19<04:23, 52.71s/epoch]"
     ]
    },
    {
     "name": "stdout",
     "output_type": "stream",
     "text": [
      "Epoch 5 - Training Metrics: {'roc_auc': 0.7372005287300833, 'accuracy': 0.6588894997251237, 'precision': 0.7765981998615278, 'recall': 0.18789435479367916, 'f1': 0.30258070317417496}\n",
      "Epoch 5 - Validation Metrics: {'roc_auc': 0.503087257411079, 'accuracy': 0.5913969035890219, 'precision': 0.4148073022312373, 'recall': 0.0913558186285459, 'f1': 0.14973457807065715}\n"
     ]
    },
    {
     "name": "stderr",
     "output_type": "stream",
     "text": [
      "/opt/conda/lib/python3.10/site-packages/sklearn/linear_model/_logistic.py:458: ConvergenceWarning: lbfgs failed to converge (status=1):\n",
      "STOP: TOTAL NO. of ITERATIONS REACHED LIMIT.\n",
      "\n",
      "Increase the number of iterations (max_iter) or scale the data as shown in:\n",
      "    https://scikit-learn.org/stable/modules/preprocessing.html\n",
      "Please also refer to the documentation for alternative solver options:\n",
      "    https://scikit-learn.org/stable/modules/linear_model.html#logistic-regression\n",
      "  n_iter_i = _check_optimize_result(\n"
     ]
    },
    {
     "name": "stderr",
     "output_type": "stream",
     "text": [
      "/opt/conda/lib/python3.10/site-packages/sklearn/linear_model/_logistic.py:458: ConvergenceWarning: lbfgs failed to converge (status=1):\n",
      "STOP: TOTAL NO. of ITERATIONS REACHED LIMIT.\n",
      "\n",
      "Increase the number of iterations (max_iter) or scale the data as shown in:\n",
      "    https://scikit-learn.org/stable/modules/preprocessing.html\n",
      "Please also refer to the documentation for alternative solver options:\n",
      "    https://scikit-learn.org/stable/modules/linear_model.html#logistic-regression\n",
      "  n_iter_i = _check_optimize_result(\n"
     ]
    },
    {
     "name": "stderr",
     "output_type": "stream",
     "text": [
      "/opt/conda/lib/python3.10/site-packages/sklearn/linear_model/_logistic.py:458: ConvergenceWarning: lbfgs failed to converge (status=1):\n",
      "STOP: TOTAL NO. of ITERATIONS REACHED LIMIT.\n",
      "\n",
      "Increase the number of iterations (max_iter) or scale the data as shown in:\n",
      "    https://scikit-learn.org/stable/modules/preprocessing.html\n",
      "Please also refer to the documentation for alternative solver options:\n",
      "    https://scikit-learn.org/stable/modules/linear_model.html#logistic-regression\n",
      "  n_iter_i = _check_optimize_result(\n"
     ]
    },
    {
     "name": "stderr",
     "output_type": "stream",
     "text": [
      "/opt/conda/lib/python3.10/site-packages/sklearn/linear_model/_logistic.py:458: ConvergenceWarning: lbfgs failed to converge (status=1):\n",
      "STOP: TOTAL NO. of ITERATIONS REACHED LIMIT.\n",
      "\n",
      "Increase the number of iterations (max_iter) or scale the data as shown in:\n",
      "    https://scikit-learn.org/stable/modules/preprocessing.html\n",
      "Please also refer to the documentation for alternative solver options:\n",
      "    https://scikit-learn.org/stable/modules/linear_model.html#logistic-regression\n",
      "  n_iter_i = _check_optimize_result(\n"
     ]
    },
    {
     "name": "stderr",
     "output_type": "stream",
     "text": [
      "/opt/conda/lib/python3.10/site-packages/sklearn/linear_model/_logistic.py:458: ConvergenceWarning: lbfgs failed to converge (status=1):\n",
      "STOP: TOTAL NO. of ITERATIONS REACHED LIMIT.\n",
      "\n",
      "Increase the number of iterations (max_iter) or scale the data as shown in:\n",
      "    https://scikit-learn.org/stable/modules/preprocessing.html\n",
      "Please also refer to the documentation for alternative solver options:\n",
      "    https://scikit-learn.org/stable/modules/linear_model.html#logistic-regression\n",
      "  n_iter_i = _check_optimize_result(\n",
      "\r",
      "Epochs:  60%|██████    | 6/10 [05:10<03:28, 52.18s/epoch]"
     ]
    },
    {
     "name": "stdout",
     "output_type": "stream",
     "text": [
      "Epoch 6 - Training Metrics: {'roc_auc': 0.7359426843035939, 'accuracy': 0.6600109950522265, 'precision': 0.7834645669291339, 'recall': 0.1888994360377464, 'f1': 0.3044045530211005}\n",
      "Epoch 6 - Validation Metrics: {'roc_auc': 0.49404854110596774, 'accuracy': 0.5862068965517241, 'precision': 0.3856998992950655, 'recall': 0.08554835827563101, 'f1': 0.14003656307129803}\n"
     ]
    },
    {
     "name": "stderr",
     "output_type": "stream",
     "text": [
      "/opt/conda/lib/python3.10/site-packages/sklearn/linear_model/_logistic.py:458: ConvergenceWarning: lbfgs failed to converge (status=1):\n",
      "STOP: TOTAL NO. of ITERATIONS REACHED LIMIT.\n",
      "\n",
      "Increase the number of iterations (max_iter) or scale the data as shown in:\n",
      "    https://scikit-learn.org/stable/modules/preprocessing.html\n",
      "Please also refer to the documentation for alternative solver options:\n",
      "    https://scikit-learn.org/stable/modules/linear_model.html#logistic-regression\n",
      "  n_iter_i = _check_optimize_result(\n"
     ]
    },
    {
     "name": "stderr",
     "output_type": "stream",
     "text": [
      "/opt/conda/lib/python3.10/site-packages/sklearn/linear_model/_logistic.py:458: ConvergenceWarning: lbfgs failed to converge (status=1):\n",
      "STOP: TOTAL NO. of ITERATIONS REACHED LIMIT.\n",
      "\n",
      "Increase the number of iterations (max_iter) or scale the data as shown in:\n",
      "    https://scikit-learn.org/stable/modules/preprocessing.html\n",
      "Please also refer to the documentation for alternative solver options:\n",
      "    https://scikit-learn.org/stable/modules/linear_model.html#logistic-regression\n",
      "  n_iter_i = _check_optimize_result(\n"
     ]
    },
    {
     "name": "stderr",
     "output_type": "stream",
     "text": [
      "/opt/conda/lib/python3.10/site-packages/sklearn/linear_model/_logistic.py:458: ConvergenceWarning: lbfgs failed to converge (status=1):\n",
      "STOP: TOTAL NO. of ITERATIONS REACHED LIMIT.\n",
      "\n",
      "Increase the number of iterations (max_iter) or scale the data as shown in:\n",
      "    https://scikit-learn.org/stable/modules/preprocessing.html\n",
      "Please also refer to the documentation for alternative solver options:\n",
      "    https://scikit-learn.org/stable/modules/linear_model.html#logistic-regression\n",
      "  n_iter_i = _check_optimize_result(\n"
     ]
    },
    {
     "name": "stderr",
     "output_type": "stream",
     "text": [
      "/opt/conda/lib/python3.10/site-packages/sklearn/linear_model/_logistic.py:458: ConvergenceWarning: lbfgs failed to converge (status=1):\n",
      "STOP: TOTAL NO. of ITERATIONS REACHED LIMIT.\n",
      "\n",
      "Increase the number of iterations (max_iter) or scale the data as shown in:\n",
      "    https://scikit-learn.org/stable/modules/preprocessing.html\n",
      "Please also refer to the documentation for alternative solver options:\n",
      "    https://scikit-learn.org/stable/modules/linear_model.html#logistic-regression\n",
      "  n_iter_i = _check_optimize_result(\n"
     ]
    },
    {
     "name": "stderr",
     "output_type": "stream",
     "text": [
      "/opt/conda/lib/python3.10/site-packages/sklearn/linear_model/_logistic.py:458: ConvergenceWarning: lbfgs failed to converge (status=1):\n",
      "STOP: TOTAL NO. of ITERATIONS REACHED LIMIT.\n",
      "\n",
      "Increase the number of iterations (max_iter) or scale the data as shown in:\n",
      "    https://scikit-learn.org/stable/modules/preprocessing.html\n",
      "Please also refer to the documentation for alternative solver options:\n",
      "    https://scikit-learn.org/stable/modules/linear_model.html#logistic-regression\n",
      "  n_iter_i = _check_optimize_result(\n",
      "\r",
      "Epochs:  70%|███████   | 7/10 [06:04<02:37, 52.61s/epoch]"
     ]
    },
    {
     "name": "stdout",
     "output_type": "stream",
     "text": [
      "Epoch 7 - Training Metrics: {'roc_auc': 0.7373633003278034, 'accuracy': 0.6591313908741067, 'precision': 0.7769089236430543, 'recall': 0.18862024680328326, 'f1': 0.30354495214988547}\n",
      "Epoch 7 - Validation Metrics: {'roc_auc': 0.4979609579680819, 'accuracy': 0.5896375791695989, 'precision': 0.40674603174603174, 'recall': 0.0915791824882734, 'f1': 0.14949863263445762}\n"
     ]
    },
    {
     "name": "stderr",
     "output_type": "stream",
     "text": [
      "/opt/conda/lib/python3.10/site-packages/sklearn/linear_model/_logistic.py:458: ConvergenceWarning: lbfgs failed to converge (status=1):\n",
      "STOP: TOTAL NO. of ITERATIONS REACHED LIMIT.\n",
      "\n",
      "Increase the number of iterations (max_iter) or scale the data as shown in:\n",
      "    https://scikit-learn.org/stable/modules/preprocessing.html\n",
      "Please also refer to the documentation for alternative solver options:\n",
      "    https://scikit-learn.org/stable/modules/linear_model.html#logistic-regression\n",
      "  n_iter_i = _check_optimize_result(\n"
     ]
    },
    {
     "name": "stderr",
     "output_type": "stream",
     "text": [
      "/opt/conda/lib/python3.10/site-packages/sklearn/linear_model/_logistic.py:458: ConvergenceWarning: lbfgs failed to converge (status=1):\n",
      "STOP: TOTAL NO. of ITERATIONS REACHED LIMIT.\n",
      "\n",
      "Increase the number of iterations (max_iter) or scale the data as shown in:\n",
      "    https://scikit-learn.org/stable/modules/preprocessing.html\n",
      "Please also refer to the documentation for alternative solver options:\n",
      "    https://scikit-learn.org/stable/modules/linear_model.html#logistic-regression\n",
      "  n_iter_i = _check_optimize_result(\n"
     ]
    },
    {
     "name": "stderr",
     "output_type": "stream",
     "text": [
      "/opt/conda/lib/python3.10/site-packages/sklearn/linear_model/_logistic.py:458: ConvergenceWarning: lbfgs failed to converge (status=1):\n",
      "STOP: TOTAL NO. of ITERATIONS REACHED LIMIT.\n",
      "\n",
      "Increase the number of iterations (max_iter) or scale the data as shown in:\n",
      "    https://scikit-learn.org/stable/modules/preprocessing.html\n",
      "Please also refer to the documentation for alternative solver options:\n",
      "    https://scikit-learn.org/stable/modules/linear_model.html#logistic-regression\n",
      "  n_iter_i = _check_optimize_result(\n"
     ]
    },
    {
     "name": "stderr",
     "output_type": "stream",
     "text": [
      "/opt/conda/lib/python3.10/site-packages/sklearn/linear_model/_logistic.py:458: ConvergenceWarning: lbfgs failed to converge (status=1):\n",
      "STOP: TOTAL NO. of ITERATIONS REACHED LIMIT.\n",
      "\n",
      "Increase the number of iterations (max_iter) or scale the data as shown in:\n",
      "    https://scikit-learn.org/stable/modules/preprocessing.html\n",
      "Please also refer to the documentation for alternative solver options:\n",
      "    https://scikit-learn.org/stable/modules/linear_model.html#logistic-regression\n",
      "  n_iter_i = _check_optimize_result(\n"
     ]
    },
    {
     "name": "stderr",
     "output_type": "stream",
     "text": [
      "/opt/conda/lib/python3.10/site-packages/sklearn/linear_model/_logistic.py:458: ConvergenceWarning: lbfgs failed to converge (status=1):\n",
      "STOP: TOTAL NO. of ITERATIONS REACHED LIMIT.\n",
      "\n",
      "Increase the number of iterations (max_iter) or scale the data as shown in:\n",
      "    https://scikit-learn.org/stable/modules/preprocessing.html\n",
      "Please also refer to the documentation for alternative solver options:\n",
      "    https://scikit-learn.org/stable/modules/linear_model.html#logistic-regression\n",
      "  n_iter_i = _check_optimize_result(\n",
      "\r",
      "Epochs:  80%|████████  | 8/10 [06:59<01:46, 53.29s/epoch]"
     ]
    },
    {
     "name": "stdout",
     "output_type": "stream",
     "text": [
      "Epoch 8 - Training Metrics: {'roc_auc': 0.737933741278709, 'accuracy': 0.6580318856514569, 'precision': 0.7754672897196262, 'recall': 0.18532581383661845, 'f1': 0.2991572400739105}\n",
      "Epoch 8 - Validation Metrics: {'roc_auc': 0.49831524137931704, 'accuracy': 0.5875263898662914, 'precision': 0.3933601609657948, 'recall': 0.08733526915345097, 'f1': 0.1429354779747761}\n"
     ]
    },
    {
     "name": "stderr",
     "output_type": "stream",
     "text": [
      "/opt/conda/lib/python3.10/site-packages/sklearn/linear_model/_logistic.py:458: ConvergenceWarning: lbfgs failed to converge (status=1):\n",
      "STOP: TOTAL NO. of ITERATIONS REACHED LIMIT.\n",
      "\n",
      "Increase the number of iterations (max_iter) or scale the data as shown in:\n",
      "    https://scikit-learn.org/stable/modules/preprocessing.html\n",
      "Please also refer to the documentation for alternative solver options:\n",
      "    https://scikit-learn.org/stable/modules/linear_model.html#logistic-regression\n",
      "  n_iter_i = _check_optimize_result(\n"
     ]
    },
    {
     "name": "stderr",
     "output_type": "stream",
     "text": [
      "/opt/conda/lib/python3.10/site-packages/sklearn/linear_model/_logistic.py:458: ConvergenceWarning: lbfgs failed to converge (status=1):\n",
      "STOP: TOTAL NO. of ITERATIONS REACHED LIMIT.\n",
      "\n",
      "Increase the number of iterations (max_iter) or scale the data as shown in:\n",
      "    https://scikit-learn.org/stable/modules/preprocessing.html\n",
      "Please also refer to the documentation for alternative solver options:\n",
      "    https://scikit-learn.org/stable/modules/linear_model.html#logistic-regression\n",
      "  n_iter_i = _check_optimize_result(\n"
     ]
    },
    {
     "name": "stderr",
     "output_type": "stream",
     "text": [
      "/opt/conda/lib/python3.10/site-packages/sklearn/linear_model/_logistic.py:458: ConvergenceWarning: lbfgs failed to converge (status=1):\n",
      "STOP: TOTAL NO. of ITERATIONS REACHED LIMIT.\n",
      "\n",
      "Increase the number of iterations (max_iter) or scale the data as shown in:\n",
      "    https://scikit-learn.org/stable/modules/preprocessing.html\n",
      "Please also refer to the documentation for alternative solver options:\n",
      "    https://scikit-learn.org/stable/modules/linear_model.html#logistic-regression\n",
      "  n_iter_i = _check_optimize_result(\n"
     ]
    },
    {
     "name": "stderr",
     "output_type": "stream",
     "text": [
      "/opt/conda/lib/python3.10/site-packages/sklearn/linear_model/_logistic.py:458: ConvergenceWarning: lbfgs failed to converge (status=1):\n",
      "STOP: TOTAL NO. of ITERATIONS REACHED LIMIT.\n",
      "\n",
      "Increase the number of iterations (max_iter) or scale the data as shown in:\n",
      "    https://scikit-learn.org/stable/modules/preprocessing.html\n",
      "Please also refer to the documentation for alternative solver options:\n",
      "    https://scikit-learn.org/stable/modules/linear_model.html#logistic-regression\n",
      "  n_iter_i = _check_optimize_result(\n"
     ]
    },
    {
     "name": "stderr",
     "output_type": "stream",
     "text": [
      "/opt/conda/lib/python3.10/site-packages/sklearn/linear_model/_logistic.py:458: ConvergenceWarning: lbfgs failed to converge (status=1):\n",
      "STOP: TOTAL NO. of ITERATIONS REACHED LIMIT.\n",
      "\n",
      "Increase the number of iterations (max_iter) or scale the data as shown in:\n",
      "    https://scikit-learn.org/stable/modules/preprocessing.html\n",
      "Please also refer to the documentation for alternative solver options:\n",
      "    https://scikit-learn.org/stable/modules/linear_model.html#logistic-regression\n",
      "  n_iter_i = _check_optimize_result(\n",
      "\r",
      "Epochs:  90%|█████████ | 9/10 [07:49<00:52, 52.40s/epoch]"
     ]
    },
    {
     "name": "stdout",
     "output_type": "stream",
     "text": [
      "Epoch 9 - Training Metrics: {'roc_auc': 0.7391424556516013, 'accuracy': 0.6589554700384826, 'precision': 0.7805049088359046, 'recall': 0.18644257077447093, 'f1': 0.3009870644972281}\n",
      "Epoch 9 - Validation Metrics: {'roc_auc': 0.49842165605809885, 'accuracy': 0.5873504574243491, 'precision': 0.39081632653061227, 'recall': 0.08554835827563101, 'f1': 0.14037016675829211}\n"
     ]
    },
    {
     "name": "stderr",
     "output_type": "stream",
     "text": [
      "/opt/conda/lib/python3.10/site-packages/sklearn/linear_model/_logistic.py:458: ConvergenceWarning: lbfgs failed to converge (status=1):\n",
      "STOP: TOTAL NO. of ITERATIONS REACHED LIMIT.\n",
      "\n",
      "Increase the number of iterations (max_iter) or scale the data as shown in:\n",
      "    https://scikit-learn.org/stable/modules/preprocessing.html\n",
      "Please also refer to the documentation for alternative solver options:\n",
      "    https://scikit-learn.org/stable/modules/linear_model.html#logistic-regression\n",
      "  n_iter_i = _check_optimize_result(\n"
     ]
    },
    {
     "name": "stderr",
     "output_type": "stream",
     "text": [
      "/opt/conda/lib/python3.10/site-packages/sklearn/linear_model/_logistic.py:458: ConvergenceWarning: lbfgs failed to converge (status=1):\n",
      "STOP: TOTAL NO. of ITERATIONS REACHED LIMIT.\n",
      "\n",
      "Increase the number of iterations (max_iter) or scale the data as shown in:\n",
      "    https://scikit-learn.org/stable/modules/preprocessing.html\n",
      "Please also refer to the documentation for alternative solver options:\n",
      "    https://scikit-learn.org/stable/modules/linear_model.html#logistic-regression\n",
      "  n_iter_i = _check_optimize_result(\n"
     ]
    },
    {
     "name": "stderr",
     "output_type": "stream",
     "text": [
      "/opt/conda/lib/python3.10/site-packages/sklearn/linear_model/_logistic.py:458: ConvergenceWarning: lbfgs failed to converge (status=1):\n",
      "STOP: TOTAL NO. of ITERATIONS REACHED LIMIT.\n",
      "\n",
      "Increase the number of iterations (max_iter) or scale the data as shown in:\n",
      "    https://scikit-learn.org/stable/modules/preprocessing.html\n",
      "Please also refer to the documentation for alternative solver options:\n",
      "    https://scikit-learn.org/stable/modules/linear_model.html#logistic-regression\n",
      "  n_iter_i = _check_optimize_result(\n"
     ]
    },
    {
     "name": "stderr",
     "output_type": "stream",
     "text": [
      "/opt/conda/lib/python3.10/site-packages/sklearn/linear_model/_logistic.py:458: ConvergenceWarning: lbfgs failed to converge (status=1):\n",
      "STOP: TOTAL NO. of ITERATIONS REACHED LIMIT.\n",
      "\n",
      "Increase the number of iterations (max_iter) or scale the data as shown in:\n",
      "    https://scikit-learn.org/stable/modules/preprocessing.html\n",
      "Please also refer to the documentation for alternative solver options:\n",
      "    https://scikit-learn.org/stable/modules/linear_model.html#logistic-regression\n",
      "  n_iter_i = _check_optimize_result(\n"
     ]
    },
    {
     "name": "stderr",
     "output_type": "stream",
     "text": [
      "/opt/conda/lib/python3.10/site-packages/sklearn/linear_model/_logistic.py:458: ConvergenceWarning: lbfgs failed to converge (status=1):\n",
      "STOP: TOTAL NO. of ITERATIONS REACHED LIMIT.\n",
      "\n",
      "Increase the number of iterations (max_iter) or scale the data as shown in:\n",
      "    https://scikit-learn.org/stable/modules/preprocessing.html\n",
      "Please also refer to the documentation for alternative solver options:\n",
      "    https://scikit-learn.org/stable/modules/linear_model.html#logistic-regression\n",
      "  n_iter_i = _check_optimize_result(\n",
      "\r",
      "Epochs: 100%|██████████| 10/10 [08:39<00:00, 51.53s/epoch]"
     ]
    },
    {
     "name": "stderr",
     "output_type": "stream",
     "text": [
      "\r",
      "Epochs: 100%|██████████| 10/10 [08:39<00:00, 51.91s/epoch]"
     ]
    },
    {
     "name": "stdout",
     "output_type": "stream",
     "text": [
      "Epoch 10 - Training Metrics: {'roc_auc': 0.7371075443129507, 'accuracy': 0.657372182517867, 'precision': 0.7705718270571827, 'recall': 0.18510246244904796, 'f1': 0.298500742875152}\n",
      "Epoch 10 - Validation Metrics: {'roc_auc': 0.5030478097522069, 'accuracy': 0.5881421534130894, 'precision': 0.4019138755980861, 'recall': 0.09381282108554836, 'f1': 0.15211879753712426}\n",
      "Model saved to /kaggle/working/LR_save.pkl\n"
     ]
    },
    {
     "name": "stderr",
     "output_type": "stream",
     "text": [
      "\n"
     ]
    }
   ],
   "source": [
    "# Path to save the model\n",
    "model_file_path = r\"/kaggle/working/LR_save.pkl\"\n",
    "\n",
    "# Define cross-validation strategy\n",
    "cv = StratifiedKFold(n_splits=5, shuffle=True)\n",
    "\n",
    "# Check if the model already exists\n",
    "if os.path.exists(model_file_path):\n",
    "    print(\"Loading model from file...\")\n",
    "    model = joblib.load(model_file_path)\n",
    "else:\n",
    "    print(\"Model not found. Training a new model...\")\n",
    "\n",
    "    # Initialize the model (choose either Logistic Regression or XGBoost)\n",
    "    # Uncomment one of the lines below based on the model you want to use\n",
    "    model = LogisticRegression()  # Logistic Regression\n",
    "    # model = XGBClassifier(use_label_encoder=False, eval_metric='logloss')  # XGBoost\n",
    "    # model = RandomForestClassifier(n_estimators=100, random_state=42)  # Set random_state for reproducibility\n",
    "    \n",
    "    # Define number of epochs\n",
    "    n_epochs = 10\n",
    "\n",
    "    # Initialize lists for storing metrics and epoch results\n",
    "    train_metrics = {'accuracy': [], 'roc_auc': [], 'precision': [], 'recall': [], 'f1': []}\n",
    "    val_metrics = {'accuracy': [], 'roc_auc': [], 'precision': [], 'recall': [], 'f1': []}\n",
    "\n",
    "    # Loop over epochs with tqdm to track progress\n",
    "    for epoch in tqdm(range(n_epochs), desc=\"Epochs\", unit=\"epoch\"):\n",
    "        epoch_train_metrics = {'accuracy': [], 'roc_auc': [], 'precision': [], 'recall': [], 'f1': []}  # Initialize for this epoch\n",
    "        epoch_val_metrics = {'accuracy': [], 'roc_auc': [], 'precision': [], 'recall': [], 'f1': []}    # Initialize for this epoch\n",
    "        \n",
    "        for train_idx, val_idx in cv.split(X[:df_train.shape[0]], df_train['label']):\n",
    "            # Split the data into training and validation for each fold\n",
    "            X_train, X_val = X[:df_train.shape[0]][train_idx], X[:df_train.shape[0]][val_idx]\n",
    "            y_train, y_val = df_train['label'].iloc[train_idx], df_train['label'].iloc[val_idx]\n",
    "\n",
    "            # Train the model on the training data\n",
    "            model.fit(X_train, y_train)\n",
    "            \n",
    "            # Predict probabilities for the training data\n",
    "            preds_train = model.predict_proba(X_train)[:, 1]\n",
    "            # Predict probabilities for the validation data\n",
    "            preds_val = model.predict_proba(X_val)[:, 1]\n",
    "            \n",
    "            # Compute and store metrics for training set\n",
    "            train_metrics_epoch = compute_metrics(preds_train, y_train)\n",
    "            for key, value in train_metrics_epoch.items():\n",
    "                epoch_train_metrics[key].append(value)  # Store metrics for this fold\n",
    "            \n",
    "            # Compute and store metrics for validation set\n",
    "            val_metrics_epoch = compute_metrics(preds_val, y_val)\n",
    "            for key, value in val_metrics_epoch.items():\n",
    "                epoch_val_metrics[key].append(value)  # Store metrics for this fold\n",
    "\n",
    "        # Average the metrics across folds for this epoch\n",
    "        for key in train_metrics.keys():\n",
    "            train_metrics[key].append(np.mean(epoch_train_metrics[key]))\n",
    "            val_metrics[key].append(np.mean(epoch_val_metrics[key]))\n",
    "\n",
    "        print(f\"Epoch {epoch+1} - Training Metrics: {train_metrics_epoch}\")\n",
    "        print(f\"Epoch {epoch+1} - Validation Metrics: {val_metrics_epoch}\")\n",
    "\n",
    "    # Save the trained model to a file\n",
    "    joblib.dump(model, model_file_path)\n",
    "    print(f\"Model saved to {model_file_path}\")"
   ]
  },
  {
   "cell_type": "code",
   "execution_count": 19,
   "id": "4388cb83",
   "metadata": {
    "execution": {
     "iopub.execute_input": "2024-10-02T19:13:10.685669Z",
     "iopub.status.busy": "2024-10-02T19:13:10.685096Z",
     "iopub.status.idle": "2024-10-02T19:13:10.689293Z",
     "shell.execute_reply": "2024-10-02T19:13:10.688417Z"
    },
    "papermill": {
     "duration": 0.032164,
     "end_time": "2024-10-02T19:13:10.691277",
     "exception": false,
     "start_time": "2024-10-02T19:13:10.659113",
     "status": "completed"
    },
    "tags": []
   },
   "outputs": [],
   "source": [
    "# import os\n",
    "\n",
    "# # Specify the path to the file you want to remove\n",
    "# file_path = \"/kaggle/working/LR_save.pkl\"\n",
    "\n",
    "# # Remove the file\n",
    "# if os.path.exists(file_path):\n",
    "#     os.remove(file_path)\n",
    "#     print(f\"File {file_path} has been removed.\")\n",
    "# else:\n",
    "#     print(f\"File {file_path} does not exist.\")"
   ]
  },
  {
   "cell_type": "code",
   "execution_count": 20,
   "id": "379e56ed",
   "metadata": {
    "execution": {
     "iopub.execute_input": "2024-10-02T19:13:10.742821Z",
     "iopub.status.busy": "2024-10-02T19:13:10.742530Z",
     "iopub.status.idle": "2024-10-02T19:13:10.746609Z",
     "shell.execute_reply": "2024-10-02T19:13:10.745766Z"
    },
    "papermill": {
     "duration": 0.032019,
     "end_time": "2024-10-02T19:13:10.748455",
     "exception": false,
     "start_time": "2024-10-02T19:13:10.716436",
     "status": "completed"
    },
    "tags": []
   },
   "outputs": [],
   "source": [
    "base_path = r\"/kaggle/working/\""
   ]
  },
  {
   "cell_type": "code",
   "execution_count": 21,
   "id": "dc3aa71a",
   "metadata": {
    "execution": {
     "iopub.execute_input": "2024-10-02T19:13:10.799417Z",
     "iopub.status.busy": "2024-10-02T19:13:10.799155Z",
     "iopub.status.idle": "2024-10-02T19:13:10.803551Z",
     "shell.execute_reply": "2024-10-02T19:13:10.802885Z"
    },
    "papermill": {
     "duration": 0.032005,
     "end_time": "2024-10-02T19:13:10.805370",
     "exception": false,
     "start_time": "2024-10-02T19:13:10.773365",
     "status": "completed"
    },
    "tags": []
   },
   "outputs": [],
   "source": [
    "# len(train_metrics['accuracy'])"
   ]
  },
  {
   "cell_type": "code",
   "execution_count": 22,
   "id": "a94216f2",
   "metadata": {
    "execution": {
     "iopub.execute_input": "2024-10-02T19:13:10.856242Z",
     "iopub.status.busy": "2024-10-02T19:13:10.855950Z",
     "iopub.status.idle": "2024-10-02T19:13:11.300737Z",
     "shell.execute_reply": "2024-10-02T19:13:11.299847Z"
    },
    "papermill": {
     "duration": 0.47244,
     "end_time": "2024-10-02T19:13:11.302677",
     "exception": false,
     "start_time": "2024-10-02T19:13:10.830237",
     "status": "completed"
    },
    "tags": []
   },
   "outputs": [
    {
     "data": {
      "image/png": "[encoded data removed]",
      "text/plain": [
       "<Figure size 1600x800 with 1 Axes>"
      ]
     },
     "metadata": {},
     "output_type": "display_data"
    },
    {
     "name": "stdout",
     "output_type": "stream",
     "text": [
      "Plot saved as /kaggle/working/LR.png\n"
     ]
    }
   ],
   "source": [
    "# Path to save the image\n",
    "base_path = r\"/kaggle/working/\" \n",
    "\n",
    "# Plotting Accuracy vs. Epochs for training and validation sets\n",
    "def plot_graphs(metrics_dict, metric_name, label):\n",
    "    plt.plot(np.arange(1, n_epochs + 1), metrics_dict[metric_name], label=label)\n",
    "\n",
    "# Create a plot and save it as an image\n",
    "plt.figure(figsize=(16, 8))\n",
    "\n",
    "# Plot for training and validation metrics together\n",
    "plt.subplot(1, 1, 1)  # Single subplot\n",
    "plot_graphs(train_metrics, 'accuracy', 'Training')\n",
    "plot_graphs(val_metrics, 'accuracy', 'Validation')\n",
    "\n",
    "plt.xlabel('Epochs')\n",
    "plt.ylabel('Accuracy')\n",
    "plt.title('Training and Validation Accuracy vs Epochs')\n",
    "plt.ylim(0, 1)\n",
    "plt.legend()  # Add legend to differentiate between training and validation\n",
    "\n",
    "# Save the plot to file\n",
    "image_file_path = os.path.join(base_path, \"LR.png\")  # This will save in the current working directory\n",
    "plt.savefig(image_file_path)\n",
    "\n",
    "# Show the plot (optional)\n",
    "plt.show()\n",
    "\n",
    "print(f\"Plot saved as {image_file_path}\")"
   ]
  },
  {
   "cell_type": "markdown",
   "id": "fad4d8a6",
   "metadata": {
    "papermill": {
     "duration": 0.025261,
     "end_time": "2024-10-02T19:13:11.354210",
     "exception": false,
     "start_time": "2024-10-02T19:13:11.328949",
     "status": "completed"
    },
    "tags": []
   },
   "source": [
    "Test Dataset"
   ]
  },
  {
   "cell_type": "code",
   "execution_count": 23,
   "id": "c865f620",
   "metadata": {
    "execution": {
     "iopub.execute_input": "2024-10-02T19:13:11.406291Z",
     "iopub.status.busy": "2024-10-02T19:13:11.405973Z",
     "iopub.status.idle": "2024-10-02T19:13:11.454442Z",
     "shell.execute_reply": "2024-10-02T19:13:11.453445Z"
    },
    "papermill": {
     "duration": 0.076951,
     "end_time": "2024-10-02T19:13:11.456583",
     "exception": false,
     "start_time": "2024-10-02T19:13:11.379632",
     "status": "completed"
    },
    "tags": []
   },
   "outputs": [
    {
     "name": "stdout",
     "output_type": "stream",
     "text": [
      "Evaluating on test set...\n",
      "Test Set Metrics:\n",
      "roc_auc: 0.4993\n",
      "accuracy: 0.5897\n",
      "precision: 0.4184\n",
      "recall: 0.0887\n",
      "f1: 0.1464\n"
     ]
    }
   ],
   "source": [
    "# Evaluation on test set after training\n",
    "print(\"Evaluating on test set...\")\n",
    "\n",
    "# Predict probabilities for the test data\n",
    "X_test = X[df_train.shape[0]:]  # Extract the test data portion\n",
    "y_test = df_test['label']  # Assuming df_test contains the test labels\n",
    "\n",
    "# Predict probabilities for the test data\n",
    "preds_test = model.predict_proba(X_test)[:, 1]\n",
    "\n",
    "# Compute metrics on the test set\n",
    "test_metrics = compute_metrics(preds_test, y_test)\n",
    "\n",
    "# Print the test set metrics\n",
    "print(\"Test Set Metrics:\")\n",
    "for key, value in test_metrics.items():\n",
    "    print(f\"{key}: {value:.4f}\")"
   ]
  },
  {
   "cell_type": "markdown",
   "id": "fd60ea86",
   "metadata": {
    "papermill": {
     "duration": 0.025462,
     "end_time": "2024-10-02T19:13:11.509807",
     "exception": false,
     "start_time": "2024-10-02T19:13:11.484345",
     "status": "completed"
    },
    "tags": []
   },
   "source": [
    "# Word2Vec Embedding + XGBoost"
   ]
  },
  {
   "cell_type": "code",
   "execution_count": 24,
   "id": "204a8dd1",
   "metadata": {
    "execution": {
     "iopub.execute_input": "2024-10-02T19:13:11.562263Z",
     "iopub.status.busy": "2024-10-02T19:13:11.561938Z",
     "iopub.status.idle": "2024-10-02T19:13:11.566021Z",
     "shell.execute_reply": "2024-10-02T19:13:11.565164Z"
    },
    "papermill": {
     "duration": 0.032537,
     "end_time": "2024-10-02T19:13:11.568000",
     "exception": false,
     "start_time": "2024-10-02T19:13:11.535463",
     "status": "completed"
    },
    "tags": []
   },
   "outputs": [],
   "source": [
    "# import os\n",
    "\n",
    "# # Specify the path to the file you want to remove\n",
    "# file_path = \"/kaggle/working/XGB_save.pkl\"\n",
    "\n",
    "# # Remove the file\n",
    "# if os.path.exists(file_path):\n",
    "#     os.remove(file_path)\n",
    "#     print(f\"File {file_path} has been removed.\")\n",
    "# else:\n",
    "#     print(f\"File {file_path} does not exist.\")"
   ]
  },
  {
   "cell_type": "code",
   "execution_count": 25,
   "id": "da584c8b",
   "metadata": {
    "execution": {
     "iopub.execute_input": "2024-10-02T19:13:11.620539Z",
     "iopub.status.busy": "2024-10-02T19:13:11.620243Z",
     "iopub.status.idle": "2024-10-02T19:54:31.046302Z",
     "shell.execute_reply": "2024-10-02T19:54:31.045534Z"
    },
    "papermill": {
     "duration": 2479.476078,
     "end_time": "2024-10-02T19:54:31.069592",
     "exception": false,
     "start_time": "2024-10-02T19:13:11.593514",
     "status": "completed"
    },
    "tags": []
   },
   "outputs": [
    {
     "name": "stdout",
     "output_type": "stream",
     "text": [
      "Model not found. Training a new model...\n"
     ]
    },
    {
     "name": "stderr",
     "output_type": "stream",
     "text": [
      "\r",
      "Epochs:   0%|          | 0/10 [00:00<?, ?epoch/s]"
     ]
    },
    {
     "name": "stderr",
     "output_type": "stream",
     "text": [
      "\r",
      "Epochs:  10%|█         | 1/10 [04:04<36:37, 244.19s/epoch]"
     ]
    },
    {
     "name": "stdout",
     "output_type": "stream",
     "text": [
      "Epoch 1 - Training Metrics: {'roc_auc': 0.8128576898111957, 'accuracy': 0.7010005497526113, 'precision': 0.9092634776006074, 'recall': 0.2674632866156681, 'f1': 0.41334081201190837}\n",
      "Epoch 1 - Validation Metrics: {'roc_auc': 0.49610445454827456, 'accuracy': 0.5842716396903589, 'precision': 0.3954659949622166, 'recall': 0.10520437793165066, 'f1': 0.16619618913196896}\n"
     ]
    },
    {
     "name": "stderr",
     "output_type": "stream",
     "text": [
      "\r",
      "Epochs:  20%|██        | 2/10 [08:04<32:17, 242.20s/epoch]"
     ]
    },
    {
     "name": "stdout",
     "output_type": "stream",
     "text": [
      "Epoch 2 - Training Metrics: {'roc_auc': 0.8199061140262796, 'accuracy': 0.7059263331500825, 'precision': 0.9089433826181031, 'recall': 0.2814785861857167, 'f1': 0.4298443828607973}\n",
      "Epoch 2 - Validation Metrics: {'roc_auc': 0.49250418308874, 'accuracy': 0.5803131597466573, 'precision': 0.37911184210526316, 'recall': 0.1029707393343757, 'f1': 0.16195327595292464}\n"
     ]
    },
    {
     "name": "stderr",
     "output_type": "stream",
     "text": [
      "\r",
      "Epochs:  30%|███       | 3/10 [12:13<28:34, 244.86s/epoch]"
     ]
    },
    {
     "name": "stdout",
     "output_type": "stream",
     "text": [
      "Epoch 3 - Training Metrics: {'roc_auc': 0.8248428918945537, 'accuracy': 0.7068499175371084, 'precision': 0.906139105748758, 'recall': 0.28516388408062987, 'f1': 0.433807602463368}\n",
      "Epoch 3 - Validation Metrics: {'roc_auc': 0.49895633876715917, 'accuracy': 0.5812807881773399, 'precision': 0.3919022154316272, 'recall': 0.1145856600402055, 'f1': 0.1773245765641203}\n"
     ]
    },
    {
     "name": "stderr",
     "output_type": "stream",
     "text": [
      "\r",
      "Epochs:  40%|████      | 4/10 [16:20<24:35, 245.90s/epoch]"
     ]
    },
    {
     "name": "stdout",
     "output_type": "stream",
     "text": [
      "Epoch 4 - Training Metrics: {'roc_auc': 0.8170577366537328, 'accuracy': 0.7021660252886202, 'precision': 0.9103214890016921, 'recall': 0.27036685465408455, 'f1': 0.4169106251076287}\n",
      "Epoch 4 - Validation Metrics: {'roc_auc': 0.49982895209871103, 'accuracy': 0.5830401125967628, 'precision': 0.3921246923707957, 'recall': 0.10676792494974313, 'f1': 0.1678370786516854}\n"
     ]
    },
    {
     "name": "stderr",
     "output_type": "stream",
     "text": [
      "\r",
      "Epochs:  50%|█████     | 5/10 [20:25<20:28, 245.72s/epoch]"
     ]
    },
    {
     "name": "stdout",
     "output_type": "stream",
     "text": [
      "Epoch 5 - Training Metrics: {'roc_auc': 0.816308861108985, 'accuracy': 0.7024738867509621, 'precision': 0.9031485914196281, 'recall': 0.27388463900831983, 'f1': 0.42030848329048837}\n",
      "Epoch 5 - Validation Metrics: {'roc_auc': 0.5006921167921682, 'accuracy': 0.5823363828289937, 'precision': 0.39664378337147216, 'recall': 0.11614920705829797, 'f1': 0.17968210089841052}\n"
     ]
    },
    {
     "name": "stderr",
     "output_type": "stream",
     "text": [
      "\r",
      "Epochs:  60%|██████    | 6/10 [24:38<16:32, 248.04s/epoch]"
     ]
    },
    {
     "name": "stdout",
     "output_type": "stream",
     "text": [
      "Epoch 6 - Training Metrics: {'roc_auc': 0.8226690189404544, 'accuracy': 0.7070698185816383, 'precision': 0.9158810732414794, 'recall': 0.28209280250153557, 'f1': 0.4313340448239061}\n",
      "Epoch 6 - Validation Metrics: {'roc_auc': 0.5023316094673993, 'accuracy': 0.5843596059113301, 'precision': 0.4025157232704403, 'recall': 0.114362296180478, 'f1': 0.17811793355366148}\n"
     ]
    },
    {
     "name": "stderr",
     "output_type": "stream",
     "text": [
      "\r",
      "Epochs:  70%|███████   | 7/10 [28:51<12:28, 249.62s/epoch]"
     ]
    },
    {
     "name": "stdout",
     "output_type": "stream",
     "text": [
      "Epoch 7 - Training Metrics: {'roc_auc': 0.820174433860524, 'accuracy': 0.7042550852116548, 'precision': 0.9063411078717201, 'recall': 0.2777374504439109, 'f1': 0.4251827157327863}\n",
      "Epoch 7 - Validation Metrics: {'roc_auc': 0.4993028428537195, 'accuracy': 0.5850633356790992, 'precision': 0.4043062200956938, 'recall': 0.11324547688184051, 'f1': 0.1769324725178852}\n"
     ]
    },
    {
     "name": "stderr",
     "output_type": "stream",
     "text": [
      "\r",
      "Epochs:  80%|████████  | 8/10 [33:04<08:21, 250.61s/epoch]"
     ]
    },
    {
     "name": "stdout",
     "output_type": "stream",
     "text": [
      "Epoch 8 - Training Metrics: {'roc_auc': 0.8117616031667704, 'accuracy': 0.7009785596481584, 'precision': 0.9128519440720169, 'recall': 0.2661231782902451, 'f1': 0.4121054907047125}\n",
      "Epoch 8 - Validation Metrics: {'roc_auc': 0.5001561861497746, 'accuracy': 0.5864707952146376, 'precision': 0.4075907590759076, 'recall': 0.11034174670538308, 'f1': 0.17366848303744067}\n"
     ]
    },
    {
     "name": "stderr",
     "output_type": "stream",
     "text": [
      "\r",
      "Epochs:  90%|█████████ | 9/10 [37:13<04:10, 250.12s/epoch]"
     ]
    },
    {
     "name": "stdout",
     "output_type": "stream",
     "text": [
      "Epoch 9 - Training Metrics: {'roc_auc': 0.8212478367594501, 'accuracy': 0.7065420560747664, 'precision': 0.9099892202659001, 'recall': 0.28281869451113967, 'f1': 0.4315228966986156}\n",
      "Epoch 9 - Validation Metrics: {'roc_auc': 0.5020412947946885, 'accuracy': 0.5836558761435608, 'precision': 0.4027355623100304, 'recall': 0.11838284565557293, 'f1': 0.18297945796651133}\n"
     ]
    },
    {
     "name": "stderr",
     "output_type": "stream",
     "text": [
      "\r",
      "Epochs: 100%|██████████| 10/10 [41:19<00:00, 248.94s/epoch]"
     ]
    },
    {
     "name": "stderr",
     "output_type": "stream",
     "text": [
      "\r",
      "Epochs: 100%|██████████| 10/10 [41:19<00:00, 247.94s/epoch]"
     ]
    },
    {
     "name": "stdout",
     "output_type": "stream",
     "text": [
      "Epoch 10 - Training Metrics: {'roc_auc': 0.8240118000526065, 'accuracy': 0.7062781748213304, 'precision': 0.9049822064056939, 'recall': 0.28399128929588474, 'f1': 0.4323175655573972}\n",
      "Epoch 10 - Validation Metrics: {'roc_auc': 0.5009791738726712, 'accuracy': 0.5780260380014075, 'precision': 0.37767584097859325, 'recall': 0.11034174670538308, 'f1': 0.1707865168539326}\n",
      "Model saved to /kaggle/working/XGB_save.pkl\n"
     ]
    },
    {
     "name": "stderr",
     "output_type": "stream",
     "text": [
      "\n"
     ]
    }
   ],
   "source": [
    "# Path to save the model\n",
    "model_file_path = r\"/kaggle/working/XGB_save.pkl\"\n",
    "\n",
    "# Define cross-validation strategy\n",
    "cv = StratifiedKFold(n_splits=5, shuffle=True)\n",
    "\n",
    "# Check if the model already exists\n",
    "if os.path.exists(model_file_path):\n",
    "    print(\"Loading model from file...\")\n",
    "    model = joblib.load(model_file_path)\n",
    "else:\n",
    "    print(\"Model not found. Training a new model...\")\n",
    "\n",
    "    # Initialize the model (choose either Logistic Regression or XGBoost)\n",
    "    # Uncomment one of the lines below based on the model you want to use\n",
    "    # model = LogisticRegression()  # Logistic Regression\n",
    "    model = XGBClassifier(use_label_encoder=False, eval_metric='logloss')  # XGBoost\n",
    "    # model = RandomForestClassifier(n_estimators=100, random_state=42)  # Set random_state for reproducibility\n",
    "    \n",
    "    # Define number of epochs\n",
    "    n_epochs = 10\n",
    "\n",
    "    # Initialize lists for storing metrics and epoch results\n",
    "    train_metrics = {'accuracy': [], 'roc_auc': [], 'precision': [], 'recall': [], 'f1': []}\n",
    "    val_metrics = {'accuracy': [], 'roc_auc': [], 'precision': [], 'recall': [], 'f1': []}\n",
    "\n",
    "    # Loop over epochs with tqdm to track progress\n",
    "    for epoch in tqdm(range(n_epochs), desc=\"Epochs\", unit=\"epoch\"):\n",
    "        epoch_train_metrics = {'accuracy': [], 'roc_auc': [], 'precision': [], 'recall': [], 'f1': []}  # Initialize for this epoch\n",
    "        epoch_val_metrics = {'accuracy': [], 'roc_auc': [], 'precision': [], 'recall': [], 'f1': []}    # Initialize for this epoch\n",
    "        \n",
    "        for train_idx, val_idx in cv.split(X[:df_train.shape[0]], df_train['label']):\n",
    "            # Split the data into training and validation for each fold\n",
    "            X_train, X_val = X[:df_train.shape[0]][train_idx], X[:df_train.shape[0]][val_idx]\n",
    "            y_train, y_val = df_train['label'].iloc[train_idx], df_train['label'].iloc[val_idx]\n",
    "\n",
    "            # Train the model on the training data\n",
    "            model.fit(X_train, y_train)\n",
    "            \n",
    "            # Predict probabilities for the training data\n",
    "            preds_train = model.predict_proba(X_train)[:, 1]\n",
    "            # Predict probabilities for the validation data\n",
    "            preds_val = model.predict_proba(X_val)[:, 1]\n",
    "            \n",
    "            # Compute and store metrics for training set\n",
    "            train_metrics_epoch = compute_metrics(preds_train, y_train)\n",
    "            for key, value in train_metrics_epoch.items():\n",
    "                epoch_train_metrics[key].append(value)  # Store metrics for this fold\n",
    "            \n",
    "            # Compute and store metrics for validation set\n",
    "            val_metrics_epoch = compute_metrics(preds_val, y_val)\n",
    "            for key, value in val_metrics_epoch.items():\n",
    "                epoch_val_metrics[key].append(value)  # Store metrics for this fold\n",
    "\n",
    "        # Average the metrics across folds for this epoch\n",
    "        for key in train_metrics.keys():\n",
    "            train_metrics[key].append(np.mean(epoch_train_metrics[key]))\n",
    "            val_metrics[key].append(np.mean(epoch_val_metrics[key]))\n",
    "\n",
    "        print(f\"Epoch {epoch+1} - Training Metrics: {train_metrics_epoch}\")\n",
    "        print(f\"Epoch {epoch+1} - Validation Metrics: {val_metrics_epoch}\")\n",
    "\n",
    "    # Save the trained model to a file\n",
    "    joblib.dump(model, model_file_path)\n",
    "    print(f\"Model saved to {model_file_path}\")"
   ]
  },
  {
   "cell_type": "code",
   "execution_count": 26,
   "id": "b68fc723",
   "metadata": {
    "execution": {
     "iopub.execute_input": "2024-10-02T19:54:31.126591Z",
     "iopub.status.busy": "2024-10-02T19:54:31.126265Z",
     "iopub.status.idle": "2024-10-02T19:54:31.130117Z",
     "shell.execute_reply": "2024-10-02T19:54:31.129386Z"
    },
    "papermill": {
     "duration": 0.034631,
     "end_time": "2024-10-02T19:54:31.131881",
     "exception": false,
     "start_time": "2024-10-02T19:54:31.097250",
     "status": "completed"
    },
    "tags": []
   },
   "outputs": [],
   "source": [
    "# len(train_metrics['accuracy'])"
   ]
  },
  {
   "cell_type": "code",
   "execution_count": 27,
   "id": "d9b8ecb8",
   "metadata": {
    "execution": {
     "iopub.execute_input": "2024-10-02T19:54:31.188289Z",
     "iopub.status.busy": "2024-10-02T19:54:31.188002Z",
     "iopub.status.idle": "2024-10-02T19:54:31.631032Z",
     "shell.execute_reply": "2024-10-02T19:54:31.630153Z"
    },
    "papermill": {
     "duration": 0.474141,
     "end_time": "2024-10-02T19:54:31.633775",
     "exception": false,
     "start_time": "2024-10-02T19:54:31.159634",
     "status": "completed"
    },
    "tags": []
   },
   "outputs": [
    {
     "data": {
      "image/png": "[encoded data removed]",
      "text/plain": [
       "<Figure size 1600x800 with 1 Axes>"
      ]
     },
     "metadata": {},
     "output_type": "display_data"
    },
    {
     "name": "stdout",
     "output_type": "stream",
     "text": [
      "Plot saved as /kaggle/working/XGB.png\n"
     ]
    }
   ],
   "source": [
    "# Create a plot and save it as an image\n",
    "plt.figure(figsize=(16, 8))\n",
    "\n",
    "# Plot for training and validation metrics together\n",
    "plt.subplot(1, 1, 1)  # Single subplot\n",
    "plot_graphs(train_metrics, 'accuracy', 'Training')\n",
    "plot_graphs(val_metrics, 'accuracy', 'Validation')\n",
    "\n",
    "plt.xlabel('Epochs')\n",
    "plt.ylabel('Accuracy')\n",
    "plt.title('Training and Validation Accuracy vs Epochs')\n",
    "plt.ylim(0, 1)\n",
    "plt.legend()  # Add legend to differentiate between training and validation\n",
    "\n",
    "# Save the plot to file\n",
    "image_file_path = os.path.join(base_path, \"XGB.png\")  # This will save in the current working directory\n",
    "plt.savefig(image_file_path)\n",
    "\n",
    "# Show the plot (optional)\n",
    "plt.show()\n",
    "\n",
    "print(f\"Plot saved as {image_file_path}\")"
   ]
  },
  {
   "cell_type": "code",
   "execution_count": 28,
   "id": "0d30d48e",
   "metadata": {
    "execution": {
     "iopub.execute_input": "2024-10-02T19:54:31.691633Z",
     "iopub.status.busy": "2024-10-02T19:54:31.691313Z",
     "iopub.status.idle": "2024-10-02T19:54:31.785363Z",
     "shell.execute_reply": "2024-10-02T19:54:31.784321Z"
    },
    "papermill": {
     "duration": 0.125265,
     "end_time": "2024-10-02T19:54:31.787338",
     "exception": false,
     "start_time": "2024-10-02T19:54:31.662073",
     "status": "completed"
    },
    "tags": []
   },
   "outputs": [
    {
     "name": "stdout",
     "output_type": "stream",
     "text": [
      "Evaluating on test set...\n",
      "Test Set Metrics:\n",
      "roc_auc: 0.5043\n",
      "accuracy: 0.5824\n",
      "precision: 0.4093\n",
      "recall: 0.1192\n",
      "f1: 0.1847\n"
     ]
    }
   ],
   "source": [
    "# Evaluation on test set after training\n",
    "print(\"Evaluating on test set...\")\n",
    "\n",
    "# Predict probabilities for the test data\n",
    "X_test = X[df_train.shape[0]:]  # Extract the test data portion\n",
    "y_test = df_test['label']  # Assuming df_test contains the test labels\n",
    "\n",
    "# Predict probabilities for the test data\n",
    "preds_test = model.predict_proba(X_test)[:, 1]\n",
    "\n",
    "# Compute metrics on the test set\n",
    "test_metrics = compute_metrics(preds_test, y_test)\n",
    "\n",
    "# Print the test set metrics\n",
    "print(\"Test Set Metrics:\")\n",
    "for key, value in test_metrics.items():\n",
    "    print(f\"{key}: {value:.4f}\")"
   ]
  },
  {
   "cell_type": "markdown",
   "id": "3952ac9a",
   "metadata": {
    "papermill": {
     "duration": 0.028371,
     "end_time": "2024-10-02T19:54:31.844020",
     "exception": false,
     "start_time": "2024-10-02T19:54:31.815649",
     "status": "completed"
    },
    "tags": []
   },
   "source": [
    "# Word2Vec Embedding + Random Forest"
   ]
  },
  {
   "cell_type": "code",
   "execution_count": 29,
   "id": "81af3d1d",
   "metadata": {
    "execution": {
     "iopub.execute_input": "2024-10-02T19:54:31.901929Z",
     "iopub.status.busy": "2024-10-02T19:54:31.901603Z",
     "iopub.status.idle": "2024-10-02T22:11:58.573229Z",
     "shell.execute_reply": "2024-10-02T22:11:58.572085Z"
    },
    "papermill": {
     "duration": 8246.7037,
     "end_time": "2024-10-02T22:11:58.575910",
     "exception": false,
     "start_time": "2024-10-02T19:54:31.872210",
     "status": "completed"
    },
    "tags": []
   },
   "outputs": [
    {
     "name": "stdout",
     "output_type": "stream",
     "text": [
      "Model not found. Training a new model...\n"
     ]
    },
    {
     "name": "stderr",
     "output_type": "stream",
     "text": [
      "\r",
      "Epochs:   0%|          | 0/10 [00:00<?, ?epoch/s]"
     ]
    },
    {
     "name": "stdout",
     "output_type": "stream",
     "text": [
      "Model fit time: 292.34315633773804 seconds\n"
     ]
    },
    {
     "name": "stdout",
     "output_type": "stream",
     "text": [
      "Model fit time: 294.93979001045227 seconds\n"
     ]
    },
    {
     "name": "stdout",
     "output_type": "stream",
     "text": [
      "Model fit time: 278.4537703990936 seconds\n"
     ]
    },
    {
     "name": "stderr",
     "output_type": "stream",
     "text": [
      "\r",
      "Epochs:  10%|█         | 1/10 [14:30<2:10:37, 870.85s/epoch]"
     ]
    },
    {
     "name": "stdout",
     "output_type": "stream",
     "text": [
      "Epoch 1 - Training Metrics: {'roc_auc': 0.9842552810261643, 'accuracy': 0.9185402153261558, 'precision': 0.9126403123474865, 'recall': 0.8771106941838649, 'f1': 0.8945228414254964}\n",
      "Epoch 1 - Validation Metrics: {'roc_auc': 0.5066323676005446, 'accuracy': 0.5564469309125455, 'precision': 0.40228215767634856, 'recall': 0.2598499061913696, 'f1': 0.3157466210714867}\n"
     ]
    },
    {
     "name": "stdout",
     "output_type": "stream",
     "text": [
      "Model fit time: 278.93045687675476 seconds\n"
     ]
    },
    {
     "name": "stdout",
     "output_type": "stream",
     "text": [
      "Model fit time: 280.44918274879456 seconds\n"
     ]
    },
    {
     "name": "stdout",
     "output_type": "stream",
     "text": [
      "Model fit time: 285.31034803390503 seconds\n"
     ]
    },
    {
     "name": "stderr",
     "output_type": "stream",
     "text": [
      "\r",
      "Epochs:  20%|██        | 2/10 [28:40<1:54:26, 858.29s/epoch]"
     ]
    },
    {
     "name": "stdout",
     "output_type": "stream",
     "text": [
      "Epoch 2 - Training Metrics: {'roc_auc': 0.9834414618138599, 'accuracy': 0.9171944268524382, 'precision': 0.90736900317987, 'recall': 0.8795229161082819, 'f1': 0.8932289894521945}\n",
      "Epoch 2 - Validation Metrics: {'roc_auc': 0.4957965518983602, 'accuracy': 0.5536496542988336, 'precision': 0.3943960942475058, 'recall': 0.2489949075314929, 'f1': 0.30526575207426265}\n"
     ]
    },
    {
     "name": "stdout",
     "output_type": "stream",
     "text": [
      "Model fit time: 271.9833824634552 seconds\n"
     ]
    },
    {
     "name": "stdout",
     "output_type": "stream",
     "text": [
      "Model fit time: 272.7562906742096 seconds\n"
     ]
    },
    {
     "name": "stdout",
     "output_type": "stream",
     "text": [
      "Model fit time: 276.2460741996765 seconds\n"
     ]
    },
    {
     "name": "stderr",
     "output_type": "stream",
     "text": [
      "\r",
      "Epochs:  30%|███       | 3/10 [42:26<1:38:24, 843.45s/epoch]"
     ]
    },
    {
     "name": "stdout",
     "output_type": "stream",
     "text": [
      "Epoch 3 - Training Metrics: {'roc_auc': 0.9835919835845514, 'accuracy': 0.9179860671310957, 'precision': 0.9084059173233789, 'recall': 0.880528008576789, 'f1': 0.8942497448111603}\n",
      "Epoch 3 - Validation Metrics: {'roc_auc': 0.5037100937012805, 'accuracy': 0.5547052303794796, 'precision': 0.39686905013750795, 'recall': 0.25140712945590993, 'f1': 0.3078185248994995}\n"
     ]
    },
    {
     "name": "stdout",
     "output_type": "stream",
     "text": [
      "Model fit time: 267.1607847213745 seconds\n"
     ]
    },
    {
     "name": "stdout",
     "output_type": "stream",
     "text": [
      "Model fit time: 282.5797691345215 seconds\n"
     ]
    },
    {
     "name": "stdout",
     "output_type": "stream",
     "text": [
      "Model fit time: 262.8303999900818 seconds\n"
     ]
    },
    {
     "name": "stderr",
     "output_type": "stream",
     "text": [
      "\r",
      "Epochs:  40%|████      | 4/10 [56:03<1:23:18, 833.16s/epoch]"
     ]
    },
    {
     "name": "stdout",
     "output_type": "stream",
     "text": [
      "Epoch 4 - Training Metrics: {'roc_auc': 0.9842925133171107, 'accuracy': 0.9191999155583703, 'precision': 0.9087525844245348, 'recall': 0.8835432859823104, 'f1': 0.8959706461914793}\n",
      "Epoch 4 - Validation Metrics: {'roc_auc': 0.5035653347151909, 'accuracy': 0.5532274238665752, 'precision': 0.39767394409304224, 'recall': 0.2611900294827124, 'f1': 0.31529564021677586}\n"
     ]
    },
    {
     "name": "stdout",
     "output_type": "stream",
     "text": [
      "Model fit time: 269.5972309112549 seconds\n"
     ]
    },
    {
     "name": "stdout",
     "output_type": "stream",
     "text": [
      "Model fit time: 274.04602694511414 seconds\n"
     ]
    },
    {
     "name": "stdout",
     "output_type": "stream",
     "text": [
      "Model fit time: 261.9059827327728 seconds\n"
     ]
    },
    {
     "name": "stderr",
     "output_type": "stream",
     "text": [
      "\r",
      "Epochs:  50%|█████     | 5/10 [1:09:33<1:08:44, 824.94s/epoch]"
     ]
    },
    {
     "name": "stdout",
     "output_type": "stream",
     "text": [
      "Epoch 5 - Training Metrics: {'roc_auc': 0.9842074459401545, 'accuracy': 0.9186721553725987, 'precision': 0.9077262085112243, 'recall': 0.8832752613240418, 'f1': 0.8953338314202267}\n",
      "Epoch 5 - Validation Metrics: {'roc_auc': 0.5025007330713607, 'accuracy': 0.5581358526415792, 'precision': 0.4045721476510067, 'recall': 0.2585097829000268, 'f1': 0.31545380212591984}\n"
     ]
    },
    {
     "name": "stdout",
     "output_type": "stream",
     "text": [
      "Model fit time: 272.8060133457184 seconds\n"
     ]
    },
    {
     "name": "stdout",
     "output_type": "stream",
     "text": [
      "Model fit time: 271.73081612586975 seconds\n"
     ]
    },
    {
     "name": "stdout",
     "output_type": "stream",
     "text": [
      "Model fit time: 268.6306805610657 seconds\n"
     ]
    },
    {
     "name": "stderr",
     "output_type": "stream",
     "text": [
      "\r",
      "Epochs:  60%|██████    | 6/10 [1:23:11<54:50, 822.54s/epoch]  "
     ]
    },
    {
     "name": "stdout",
     "output_type": "stream",
     "text": [
      "Epoch 6 - Training Metrics: {'roc_auc': 0.9839757347611555, 'accuracy': 0.91827633523327, 'precision': 0.9074061315880124, 'recall': 0.8825381935138032, 'f1': 0.8947994157410237}\n",
      "Epoch 6 - Validation Metrics: {'roc_auc': 0.5099465152535435, 'accuracy': 0.5599303319786774, 'precision': 0.40809903483004617, 'recall': 0.2606539801661753, 'f1': 0.31812234216552177}\n"
     ]
    },
    {
     "name": "stdout",
     "output_type": "stream",
     "text": [
      "Model fit time: 268.4070973396301 seconds\n"
     ]
    },
    {
     "name": "stdout",
     "output_type": "stream",
     "text": [
      "Model fit time: 265.7601683139801 seconds\n"
     ]
    },
    {
     "name": "stdout",
     "output_type": "stream",
     "text": [
      "Model fit time: 265.8697955608368 seconds\n"
     ]
    },
    {
     "name": "stderr",
     "output_type": "stream",
     "text": [
      "\r",
      "Epochs:  70%|███████   | 7/10 [1:36:36<40:50, 816.74s/epoch]"
     ]
    },
    {
     "name": "stdout",
     "output_type": "stream",
     "text": [
      "Epoch 7 - Training Metrics: {'roc_auc': 0.9844412966377722, 'accuracy': 0.9196221237069876, 'precision': 0.9098688750862663, 'recall': 0.8834092736531761, 'f1': 0.8964438702658598}\n",
      "Epoch 7 - Validation Metrics: {'roc_auc': 0.5029582011053071, 'accuracy': 0.5564997097165778, 'precision': 0.4020811654526535, 'recall': 0.2589118198874296, 'f1': 0.3149914404499877}\n"
     ]
    },
    {
     "name": "stdout",
     "output_type": "stream",
     "text": [
      "Model fit time: 274.4381113052368 seconds\n"
     ]
    },
    {
     "name": "stdout",
     "output_type": "stream",
     "text": [
      "Model fit time: 269.0723569393158 seconds\n"
     ]
    },
    {
     "name": "stdout",
     "output_type": "stream",
     "text": [
      "Model fit time: 267.62060832977295 seconds\n"
     ]
    },
    {
     "name": "stderr",
     "output_type": "stream",
     "text": [
      "\r",
      "Epochs:  80%|████████  | 8/10 [1:50:12<27:13, 816.51s/epoch]"
     ]
    },
    {
     "name": "stdout",
     "output_type": "stream",
     "text": [
      "Epoch 8 - Training Metrics: {'roc_auc': 0.9841278476803219, 'accuracy': 0.9186721553725987, 'precision': 0.9120389700765483, 'recall': 0.8781827928169391, 'f1': 0.8947907421314946}\n",
      "Epoch 8 - Validation Metrics: {'roc_auc': 0.5074748833357623, 'accuracy': 0.556341373304481, 'precision': 0.4021153048527582, 'recall': 0.2598499061913696, 'f1': 0.3156952132855747}\n"
     ]
    },
    {
     "name": "stdout",
     "output_type": "stream",
     "text": [
      "Model fit time: 266.8439939022064 seconds\n"
     ]
    },
    {
     "name": "stdout",
     "output_type": "stream",
     "text": [
      "Model fit time: 278.50022196769714 seconds\n"
     ]
    },
    {
     "name": "stdout",
     "output_type": "stream",
     "text": [
      "Model fit time: 267.1441385746002 seconds\n"
     ]
    },
    {
     "name": "stderr",
     "output_type": "stream",
     "text": [
      "\r",
      "Epochs:  90%|█████████ | 9/10 [2:03:49<13:36, 816.76s/epoch]"
     ]
    },
    {
     "name": "stdout",
     "output_type": "stream",
     "text": [
      "Epoch 9 - Training Metrics: {'roc_auc': 0.9840994141050041, 'accuracy': 0.9188568714376187, 'precision': 0.9091222981838271, 'recall': 0.8821361565264004, 'f1': 0.8954259479680327}\n",
      "Epoch 9 - Validation Metrics: {'roc_auc': 0.5098436110540977, 'accuracy': 0.5567108249327071, 'precision': 0.40217164334934224, 'recall': 0.258107745912624, 'f1': 0.31442331238266263}\n"
     ]
    },
    {
     "name": "stdout",
     "output_type": "stream",
     "text": [
      "Model fit time: 275.509970664978 seconds\n"
     ]
    },
    {
     "name": "stdout",
     "output_type": "stream",
     "text": [
      "Model fit time: 269.4536006450653 seconds\n"
     ]
    },
    {
     "name": "stdout",
     "output_type": "stream",
     "text": [
      "Model fit time: 267.051127910614 seconds\n"
     ]
    },
    {
     "name": "stderr",
     "output_type": "stream",
     "text": [
      "\r",
      "Epochs: 100%|██████████| 10/10 [2:17:26<00:00, 816.75s/epoch]"
     ]
    },
    {
     "name": "stderr",
     "output_type": "stream",
     "text": [
      "\r",
      "Epochs: 100%|██████████| 10/10 [2:17:26<00:00, 824.66s/epoch]"
     ]
    },
    {
     "name": "stdout",
     "output_type": "stream",
     "text": [
      "Epoch 10 - Training Metrics: {'roc_auc': 0.983965808678184, 'accuracy': 0.9186985433818873, 'precision': 0.9106734170192108, 'recall': 0.8798579469311176, 'f1': 0.8950005111951743}\n",
      "Epoch 10 - Validation Metrics: {'roc_auc': 0.5002767526706493, 'accuracy': 0.5534385390827044, 'precision': 0.39237233354880413, 'recall': 0.24403645135352453, 'f1': 0.3009171279847972}\n",
      "Model saved to /kaggle/working/RF_save.pkl\n"
     ]
    },
    {
     "name": "stderr",
     "output_type": "stream",
     "text": [
      "\n"
     ]
    }
   ],
   "source": [
    "import time\n",
    "\n",
    "# Path to save the model\n",
    "model_file_path = r\"/kaggle/working/RF_save.pkl\"\n",
    "\n",
    "# Define cross-validation strategy\n",
    "cv = StratifiedKFold(n_splits=3, shuffle=True)\n",
    "\n",
    "# Check if the model already exists\n",
    "if os.path.exists(model_file_path):\n",
    "    print(\"Loading model from file...\")\n",
    "    model = joblib.load(model_file_path)\n",
    "else:\n",
    "    print(\"Model not found. Training a new model...\")\n",
    "\n",
    "    # Initialize the model (choose either Logistic Regression or XGBoost)\n",
    "    # Uncomment one of the lines below based on the model you want to use\n",
    "    # model = LogisticRegression()  # Logistic Regression\n",
    "    # model = XGBClassifier(use_label_encoder=False, eval_metric='logloss')  # XGBoost\n",
    "    model = RandomForestClassifier(n_estimators=20, random_state=42)  # Set random_state for reproducibility\n",
    "    \n",
    "    # Define number of epochs\n",
    "    n_epochs = 10\n",
    "\n",
    "    # Initialize lists for storing metrics and epoch results\n",
    "    train_metrics = {'accuracy': [], 'roc_auc': [], 'precision': [], 'recall': [], 'f1': []}\n",
    "    val_metrics = {'accuracy': [], 'roc_auc': [], 'precision': [], 'recall': [], 'f1': []}\n",
    "\n",
    "    # Loop over epochs with tqdm to track progress\n",
    "    for epoch in tqdm(range(n_epochs), desc=\"Epochs\", unit=\"epoch\"):\n",
    "        epoch_train_metrics = {'accuracy': [], 'roc_auc': [], 'precision': [], 'recall': [], 'f1': []}  # Initialize for this epoch\n",
    "        epoch_val_metrics = {'accuracy': [], 'roc_auc': [], 'precision': [], 'recall': [], 'f1': []}    # Initialize for this epoch\n",
    "        \n",
    "        for train_idx, val_idx in cv.split(X[:df_train.shape[0]], df_train['label']):\n",
    "            # Split the data into training and validation for each fold\n",
    "            X_train, X_val = X[:df_train.shape[0]][train_idx], X[:df_train.shape[0]][val_idx]\n",
    "            y_train, y_val = df_train['label'].iloc[train_idx], df_train['label'].iloc[val_idx]\n",
    "\n",
    "            # Train the model on the training data\n",
    "            start = time.time()\n",
    "            model.fit(X_train, y_train)\n",
    "            print(f\"Model fit time: {time.time() - start} seconds\")\n",
    "            \n",
    "            # Predict probabilities for the training data\n",
    "            preds_train = model.predict_proba(X_train)[:, 1]\n",
    "            # Predict probabilities for the validation data\n",
    "            preds_val = model.predict_proba(X_val)[:, 1]\n",
    "            \n",
    "            # Compute and store metrics for training set\n",
    "            train_metrics_epoch = compute_metrics(preds_train, y_train)\n",
    "            for key, value in train_metrics_epoch.items():\n",
    "                epoch_train_metrics[key].append(value)  # Store metrics for this fold\n",
    "            \n",
    "            # Compute and store metrics for validation set\n",
    "            val_metrics_epoch = compute_metrics(preds_val, y_val)\n",
    "            for key, value in val_metrics_epoch.items():\n",
    "                epoch_val_metrics[key].append(value)  # Store metrics for this fold\n",
    "\n",
    "        # Average the metrics across folds for this epoch\n",
    "        for key in train_metrics.keys():\n",
    "            train_metrics[key].append(np.mean(epoch_train_metrics[key]))\n",
    "            val_metrics[key].append(np.mean(epoch_val_metrics[key]))\n",
    "\n",
    "        print(f\"Epoch {epoch+1} - Training Metrics: {train_metrics_epoch}\")\n",
    "        print(f\"Epoch {epoch+1} - Validation Metrics: {val_metrics_epoch}\")\n",
    "\n",
    "    # Save the trained model to a file\n",
    "    joblib.dump(model, model_file_path)\n",
    "    print(f\"Model saved to {model_file_path}\")"
   ]
  },
  {
   "cell_type": "code",
   "execution_count": 30,
   "id": "9be608dc",
   "metadata": {
    "execution": {
     "iopub.execute_input": "2024-10-02T22:11:58.645771Z",
     "iopub.status.busy": "2024-10-02T22:11:58.645432Z",
     "iopub.status.idle": "2024-10-02T22:11:59.098936Z",
     "shell.execute_reply": "2024-10-02T22:11:59.098049Z"
    },
    "papermill": {
     "duration": 0.489763,
     "end_time": "2024-10-02T22:11:59.101770",
     "exception": false,
     "start_time": "2024-10-02T22:11:58.612007",
     "status": "completed"
    },
    "tags": []
   },
   "outputs": [
    {
     "data": {
      "image/png": "[encoded data removed]",
      "text/plain": [
       "<Figure size 1600x800 with 1 Axes>"
      ]
     },
     "metadata": {},
     "output_type": "display_data"
    },
    {
     "name": "stdout",
     "output_type": "stream",
     "text": [
      "Plot saved as /kaggle/working/RF.png\n"
     ]
    }
   ],
   "source": [
    "# Create a plot and save it as an image\n",
    "plt.figure(figsize=(16, 8))\n",
    "\n",
    "# Plot for training and validation metrics together\n",
    "plt.subplot(1, 1, 1)  # Single subplot\n",
    "plot_graphs(train_metrics, 'accuracy', 'Training')\n",
    "plot_graphs(val_metrics, 'accuracy', 'Validation')\n",
    "\n",
    "plt.xlabel('Epochs')\n",
    "plt.ylabel('Accuracy')\n",
    "plt.title('Training and Validation Accuracy vs Epochs')\n",
    "plt.ylim(0, 1)\n",
    "plt.legend()  # Add legend to differentiate between training and validation\n",
    "\n",
    "# Save the plot to file\n",
    "image_file_path = os.path.join(base_path, \"RF.png\")  # This will save in the current working directory\n",
    "plt.savefig(image_file_path)\n",
    "\n",
    "# Show the plot (optional)\n",
    "plt.show()\n",
    "\n",
    "print(f\"Plot saved as {image_file_path}\")"
   ]
  },
  {
   "cell_type": "code",
   "execution_count": 31,
   "id": "8a1313c9",
   "metadata": {
    "execution": {
     "iopub.execute_input": "2024-10-02T22:11:59.169752Z",
     "iopub.status.busy": "2024-10-02T22:11:59.169392Z",
     "iopub.status.idle": "2024-10-02T22:11:59.558158Z",
     "shell.execute_reply": "2024-10-02T22:11:59.557126Z"
    },
    "papermill": {
     "duration": 0.425051,
     "end_time": "2024-10-02T22:11:59.560170",
     "exception": false,
     "start_time": "2024-10-02T22:11:59.135119",
     "status": "completed"
    },
    "tags": []
   },
   "outputs": [
    {
     "name": "stdout",
     "output_type": "stream",
     "text": [
      "Evaluating on test set...\n"
     ]
    },
    {
     "name": "stdout",
     "output_type": "stream",
     "text": [
      "Test Set Metrics:\n",
      "roc_auc: 0.4976\n",
      "accuracy: 0.5507\n",
      "precision: 0.3969\n",
      "recall: 0.2559\n",
      "f1: 0.3111\n"
     ]
    }
   ],
   "source": [
    "# Evaluation on test set after training\n",
    "print(\"Evaluating on test set...\")\n",
    "\n",
    "# Predict probabilities for the test data\n",
    "X_test = X[df_train.shape[0]:]  # Extract the test data portion\n",
    "y_test = df_test['label']  # Assuming df_test contains the test labels\n",
    "\n",
    "# Predict probabilities for the test data\n",
    "preds_test = model.predict_proba(X_test)[:, 1]\n",
    "\n",
    "# Compute metrics on the test set\n",
    "test_metrics = compute_metrics(preds_test, y_test)\n",
    "\n",
    "# Print the test set metrics\n",
    "print(\"Test Set Metrics:\")\n",
    "for key, value in test_metrics.items():\n",
    "    print(f\"{key}: {value:.4f}\")"
   ]
  },
  {
   "cell_type": "markdown",
   "id": "23dbfe26",
   "metadata": {
    "papermill": {
     "duration": 0.033929,
     "end_time": "2024-10-02T22:11:59.627708",
     "exception": false,
     "start_time": "2024-10-02T22:11:59.593779",
     "status": "completed"
    },
    "tags": []
   },
   "source": [
    "# SVM"
   ]
  },
  {
   "cell_type": "code",
   "execution_count": null,
   "id": "7188ab3f",
   "metadata": {
    "papermill": {
     "duration": null,
     "end_time": null,
     "exception": false,
     "start_time": "2024-10-02T22:11:59.660642",
     "status": "running"
    },
    "tags": []
   },
   "outputs": [],
   "source": [
    "# Path to save the model\n",
    "model_file_path = r\"/kaggle/working/SVM_save.pkl\"\n",
    "\n",
    "# Define cross-validation strategy\n",
    "cv = StratifiedKFold(n_splits=5, shuffle=True)\n",
    "\n",
    "# Check if the model already exists\n",
    "if os.path.exists(model_file_path):\n",
    "    print(\"Loading model from file...\")\n",
    "    model = joblib.load(model_file_path)\n",
    "else:\n",
    "    print(\"Model not found. Training a new SVM model...\")\n",
    "\n",
    "    # Initialize the SVM model with probability=True for predict_proba functionality\n",
    "    model = SVC(probability=True, random_state=42)\n",
    "\n",
    "    # Define number of epochs\n",
    "    n_epochs = 10\n",
    "\n",
    "    # Initialize lists for storing metrics and epoch results\n",
    "    train_metrics = {'accuracy': [], 'roc_auc': [], 'precision': [], 'recall': [], 'f1': []}\n",
    "    val_metrics = {'accuracy': [], 'roc_auc': [], 'precision': [], 'recall': [], 'f1': []}\n",
    "\n",
    "    # Loop over epochs with tqdm to track progress\n",
    "    for epoch in tqdm(range(n_epochs), desc=\"Epochs\", unit=\"epoch\"):\n",
    "        epoch_train_metrics = {'accuracy': [], 'roc_auc': [], 'precision': [], 'recall': [], 'f1': []}\n",
    "        epoch_val_metrics = {'accuracy': [], 'roc_auc': [], 'precision': [], 'recall': [], 'f1': []}\n",
    "\n",
    "        for train_idx, val_idx in cv.split(X[:df_train.shape[0]], df_train['label']):\n",
    "            # Split the data into training and validation for each fold\n",
    "            X_train, X_val = X[:df_train.shape[0]][train_idx], X[:df_train.shape[0]][val_idx]\n",
    "            y_train, y_val = df_train['label'].iloc[train_idx], df_train['label'].iloc[val_idx]\n",
    "\n",
    "            # Train the SVM model on the training data\n",
    "            start = time.time()\n",
    "            model.fit(X_train, y_train)\n",
    "            print(f\"Model fit time: {time.time() - start} seconds\")\n",
    "\n",
    "            # Predict probabilities for the training data\n",
    "            preds_train = model.predict_proba(X_train)[:, 1]\n",
    "            # Predict probabilities for the validation data\n",
    "            preds_val = model.predict_proba(X_val)[:, 1]\n",
    "\n",
    "            # Compute and store metrics for training set\n",
    "            train_metrics_epoch = compute_metrics(preds_train, y_train)\n",
    "            for key, value in train_metrics_epoch.items():\n",
    "                epoch_train_metrics[key].append(value)  # Store metrics for this fold\n",
    "\n",
    "            # Compute and store metrics for validation set\n",
    "            val_metrics_epoch = compute_metrics(preds_val, y_val)\n",
    "            for key, value in val_metrics_epoch.items():\n",
    "                epoch_val_metrics[key].append(value)  # Store metrics for this fold\n",
    "\n",
    "        # Average the metrics across folds for this epoch\n",
    "        for key in train_metrics.keys():\n",
    "            train_metrics[key].append(np.mean(epoch_train_metrics[key]))\n",
    "            val_metrics[key].append(np.mean(epoch_val_metrics[key]))\n",
    "\n",
    "        print(f\"Epoch {epoch+1} - Training Metrics: {train_metrics_epoch}\")\n",
    "        print(f\"Epoch {epoch+1} - Validation Metrics: {val_metrics_epoch}\")\n",
    "\n",
    "    # Save the trained model to a file\n",
    "    joblib.dump(model, model_file_path)\n",
    "    print(f\"SVM model saved to {model_file_path}\")"
   ]
  },
  {
   "cell_type": "code",
   "execution_count": null,
   "id": "f1675552",
   "metadata": {
    "papermill": {
     "duration": null,
     "end_time": null,
     "exception": null,
     "start_time": null,
     "status": "pending"
    },
    "tags": []
   },
   "outputs": [],
   "source": [
    "# Plot and save training and validation accuracy\n",
    "plt.figure(figsize=(16, 8))\n",
    "\n",
    "# Plot for training and validation metrics together\n",
    "plt.subplot(1, 1, 1)  # Single subplot\n",
    "plot_graphs(train_metrics, 'accuracy', 'Training')\n",
    "plot_graphs(val_metrics, 'accuracy', 'Validation')\n",
    "\n",
    "plt.xlabel('Epochs')\n",
    "plt.ylabel('Accuracy')\n",
    "plt.title('Training and Validation Accuracy vs Epochs')\n",
    "plt.ylim(0, 1)\n",
    "plt.legend()  # Add legend to differentiate between training and validation\n",
    "\n",
    "# Save the plot to file\n",
    "image_file_path = os.path.join(\"/kaggle/working\", \"SVM.png\")\n",
    "plt.savefig(image_file_path)\n",
    "\n",
    "# Show the plot (optional)\n",
    "plt.show()\n",
    "\n",
    "print(f\"Plot saved as {image_file_path}\")"
   ]
  },
  {
   "cell_type": "code",
   "execution_count": null,
   "id": "404920a7",
   "metadata": {
    "papermill": {
     "duration": null,
     "end_time": null,
     "exception": null,
     "start_time": null,
     "status": "pending"
    },
    "tags": []
   },
   "outputs": [],
   "source": [
    "# Evaluate on test set after training\n",
    "print(\"Evaluating on test set...\")\n",
    "\n",
    "# Predict probabilities for the test data\n",
    "X_test = X[df_train.shape[0]:]  # Extract the test data portion\n",
    "y_test = df_test['label']  # Assuming df_test contains the test labels\n",
    "\n",
    "# Predict probabilities for the test data\n",
    "preds_test = model.predict_proba(X_test)[:, 1]\n",
    "\n",
    "# Compute metrics on the test set\n",
    "test_metrics = compute_metrics(preds_test, y_test)\n",
    "\n",
    "# Print the test set metrics\n",
    "print(\"Test Set Metrics:\")\n",
    "for key, value in test_metrics.items():\n",
    "    print(f\"{key}: {value:.4f}\")"
   ]
  },
  {
   "cell_type": "markdown",
   "id": "08ca06da",
   "metadata": {
    "papermill": {
     "duration": null,
     "end_time": null,
     "exception": null,
     "start_time": null,
     "status": "pending"
    },
    "tags": []
   },
   "source": [
    "# RNN"
   ]
  },
  {
   "cell_type": "code",
   "execution_count": null,
   "id": "43b78870",
   "metadata": {
    "papermill": {
     "duration": null,
     "end_time": null,
     "exception": null,
     "start_time": null,
     "status": "pending"
    },
    "tags": []
   },
   "outputs": [],
   "source": [
    "import os\n",
    "import tensorflow as tf\n",
    "from sklearn.model_selection import train_test_split\n",
    "import pandas as pd\n",
    "import matplotlib.pyplot as plt\n",
    "import numpy as np\n",
    "\n",
    "# Path to dataset\n",
    "path_ds = r\"/kaggle/input/pdz-dath-data/final_dataset_v1_afternb1.csv\"\n",
    "df_ds = pd.read_csv(path_ds)\n",
    "\n",
    "# Split the dataset\n",
    "train_essays, test_essays = train_test_split(df_ds, test_size=0.2, random_state=42)\n",
    "train_essays, val_essays = train_test_split(train_essays, test_size=0.33, random_state=42)\n",
    "\n",
    "print(f'Training set size: {len(train_essays)}')\n",
    "print(f'Validation set size: {len(val_essays)}')\n",
    "print(f'Test set size: {len(test_essays)}')\n",
    "\n",
    "# Create TensorFlow datasets\n",
    "batch_size = 16\n",
    "train_dataset = tf.data.Dataset.from_tensor_slices(\n",
    "    (train_essays['text'].values, train_essays['label'].values)\n",
    ").batch(batch_size)\n",
    "\n",
    "val_dataset = tf.data.Dataset.from_tensor_slices(\n",
    "    (val_essays['text'].values, val_essays['label'].values)\n",
    ").batch(batch_size)\n",
    "\n",
    "test_dataset = tf.data.Dataset.from_tensor_slices(\n",
    "    (test_essays['text'].values)\n",
    ").batch(batch_size)\n",
    "\n",
    "# Path to save the model\n",
    "model_file_path = r\"/kaggle/working/tf_lstm_rnn_save.h5\"\n",
    "plot_file_path = r\"/kaggle/working/tf_lstm_rnn.png\""
   ]
  },
  {
   "cell_type": "code",
   "execution_count": null,
   "id": "cd19323b",
   "metadata": {
    "papermill": {
     "duration": null,
     "end_time": null,
     "exception": null,
     "start_time": null,
     "status": "pending"
    },
    "tags": []
   },
   "outputs": [],
   "source": [
    "# Check if model exists\n",
    "if os.path.exists(model_file_path):\n",
    "    print(\"Loading model from file...\")\n",
    "    model = tf.keras.models.load_model(model_file_path)\n",
    "else:\n",
    "    print(\"Model not found. Training a new model...\")\n",
    "\n",
    "    # Text vectorization\n",
    "    VOCAB_SIZE = 1000\n",
    "    encoder = tf.keras.layers.TextVectorization(max_tokens=VOCAB_SIZE)\n",
    "    encoder.adapt(train_dataset.map(lambda text, label: text))\n",
    "\n",
    "    # Define the model\n",
    "    model = tf.keras.Sequential([\n",
    "        encoder,\n",
    "        tf.keras.layers.Embedding(input_dim=len(encoder.get_vocabulary()), output_dim=64, mask_zero=True),\n",
    "        tf.keras.layers.Bidirectional(tf.keras.layers.LSTM(64)),\n",
    "        tf.keras.layers.Dense(64, activation='relu'),\n",
    "        tf.keras.layers.Dense(1)\n",
    "    ])\n",
    "\n",
    "    # Compile the model\n",
    "    model.compile(loss=tf.keras.losses.BinaryCrossentropy(from_logits=True),\n",
    "                  optimizer=tf.keras.optimizers.Adam(1e-4),\n",
    "                  metrics=['accuracy', tf.keras.metrics.AUC(name='auc')])\n",
    "\n",
    "    # Train the model\n",
    "    history = model.fit(train_dataset, epochs=20, validation_data=val_dataset, validation_steps=30)\n",
    "\n",
    "    # Save the model\n",
    "    model.save(model_file_path)\n",
    "    print(f\"Model saved to {model_file_path}\")\n",
    "\n",
    "    # Plot training and validation accuracy\n",
    "    def plot_graphs(history, metric):\n",
    "        plt.plot(history.history[metric])\n",
    "        plt.plot(history.history['val_'+metric], '')\n",
    "        plt.xlabel(\"Epochs\")\n",
    "        plt.ylabel(metric)\n",
    "        plt.legend([metric, 'val_'+metric])\n",
    "\n",
    "    plt.figure(figsize=(16, 8))\n",
    "    plt.subplot(1, 2, 1)\n",
    "    plot_graphs(history, 'accuracy')\n",
    "    plt.ylim(None, 1)\n",
    "    plt.subplot(1, 2, 2)\n",
    "    plot_graphs(history, 'loss')\n",
    "    plt.ylim(0, None)\n",
    "    \n",
    "    # Save the plot\n",
    "    plt.savefig(plot_file_path)\n",
    "    print(f\"Training plot saved to {plot_file_path}\")\n",
    "    plt.show()"
   ]
  },
  {
   "cell_type": "code",
   "execution_count": null,
   "id": "ac5b6c98",
   "metadata": {
    "papermill": {
     "duration": null,
     "end_time": null,
     "exception": null,
     "start_time": null,
     "status": "pending"
    },
    "tags": []
   },
   "outputs": [],
   "source": [
    "# Evaluate on the test set\n",
    "print(\"Evaluating on test set...\")\n",
    "predictions = model.predict(test_dataset)\n",
    "\n",
    "# Convert predictions from logits to binary labels (0 or 1)\n",
    "predicted_labels = [1 if pred >= 0.5 else 0 for pred in predictions]\n",
    "\n",
    "# Calculate test accuracy\n",
    "test_accuracy = accuracy_score(test_essays['label'], predicted_labels)\n",
    "print(f'Test Accuracy: {test_accuracy * 100:.2f}%')"
   ]
  },
  {
   "cell_type": "markdown",
   "id": "99353b7d",
   "metadata": {
    "papermill": {
     "duration": null,
     "end_time": null,
     "exception": null,
     "start_time": null,
     "status": "pending"
    },
    "tags": []
   },
   "source": [
    "# BERT"
   ]
  },
  {
   "cell_type": "code",
   "execution_count": null,
   "id": "8bba5e95",
   "metadata": {
    "papermill": {
     "duration": null,
     "end_time": null,
     "exception": null,
     "start_time": null,
     "status": "pending"
    },
    "tags": []
   },
   "outputs": [],
   "source": [
    "import os\n",
    "import joblib\n",
    "import numpy as np\n",
    "import matplotlib.pyplot as plt\n",
    "from transformers import AutoTokenizer, AutoModelForSequenceClassification, Trainer, TrainingArguments\n",
    "from sklearn.metrics import roc_auc_score, accuracy_score, precision_score, recall_score, f1_score\n",
    "from datasets import Dataset\n",
    "from sklearn.model_selection import train_test_split\n",
    "\n",
    "# Define metrics calculation function\n",
    "def compute_metrics(preds, labels):\n",
    "    # Compute probabilities\n",
    "    probs = preds if len(preds.shape) == 1 else preds[:, 1]\n",
    "    \n",
    "    # Compute ROC AUC score\n",
    "    auc = roc_auc_score(labels, probs)\n",
    "    \n",
    "    # Convert probabilities to binary predictions (1 if prob >= 0.5 else 0)\n",
    "    binary_preds = (probs >= 0.5).astype(int)\n",
    "    \n",
    "    # other metrics\n",
    "    accuracy = accuracy_score(labels, binary_preds)\n",
    "    precision = precision_score(labels, binary_preds)\n",
    "    recall = recall_score(labels, binary_preds)\n",
    "    f1 = f1_score(labels, binary_preds)\n",
    "    \n",
    "    return {\"roc_auc\": auc, \"accuracy\": accuracy, \"precision\": precision, \"recall\": recall, \"f1\": f1}\n",
    "\n",
    "# Preprocessing function for tokenization\n",
    "def preprocess_function(examples):\n",
    "    return tokenizer(examples[\"text\"], max_length=128, padding=True, truncation=True)\n",
    "\n",
    "# Check if model exists\n",
    "model_file_path = r\"/kaggle/working/distilbert_model.pkl\"\n",
    "if os.path.exists(model_file_path):\n",
    "    print(\"Loading model from file...\")\n",
    "    model = joblib.load(model_file_path)\n",
    "else:\n",
    "    print(\"Model not found. Training a new model...\")\n",
    "\n",
    "    # Split dataset\n",
    "    train_essays, test_essays = train_test_split(df_ds, test_size=0.2, random_state=42)\n",
    "    train_essays, val_essays = train_test_split(train_essays, test_size=0.33, random_state=42)\n",
    "\n",
    "    # Tokenizer and model\n",
    "    tokenizer = AutoTokenizer.from_pretrained(\"distilbert-base-uncased\")\n",
    "    model = AutoModelForSequenceClassification.from_pretrained(\"distilbert-base-uncased\", num_labels=2)\n",
    "\n",
    "    # Create dataset\n",
    "    train_essay_dataset = Dataset.from_pandas(train_essays)\n",
    "    val_essay_dataset = Dataset.from_pandas(val_essays)\n",
    "    \n",
    "    # Tokenize datasets\n",
    "    tokenized_train_essays = train_essay_dataset.map(preprocess_function, batched=True)\n",
    "    tokenized_val_essays = val_essay_dataset.map(preprocess_function, batched=True)\n",
    "\n",
    "    # Define training arguments\n",
    "    training_args = TrainingArguments(\n",
    "        output_dir=\"/kaggle/working/\",\n",
    "        learning_rate=2e-5,\n",
    "        num_train_epochs=10,\n",
    "        weight_decay=0.01,\n",
    "        evaluation_strategy=\"epoch\",\n",
    "        save_strategy=\"epoch\",\n",
    "        report_to='none'\n",
    "    )\n",
    "\n",
    "    # Initialize Trainer\n",
    "    trainer = Trainer(\n",
    "        model=model,\n",
    "        args=training_args,\n",
    "        train_dataset=tokenized_train_essays,\n",
    "        eval_dataset=tokenized_val_essays,\n",
    "        tokenizer=tokenizer,\n",
    "        compute_metrics=lambda p: compute_metrics(p.predictions, p.label_ids)\n",
    "    )\n",
    "\n",
    "    # Train the model\n",
    "    trainer.train()\n",
    "\n",
    "    # Save the trained model\n",
    "    joblib.dump(model, model_file_path)\n",
    "    print(f\"Model saved to {model_file_path}\")"
   ]
  },
  {
   "cell_type": "code",
   "execution_count": null,
   "id": "b7b5730a",
   "metadata": {
    "papermill": {
     "duration": null,
     "end_time": null,
     "exception": null,
     "start_time": null,
     "status": "pending"
    },
    "tags": []
   },
   "outputs": [],
   "source": [
    "# Plot accuracy and loss graphs\n",
    "plt.figure(figsize=(16, 8))\n",
    "plt.subplot(1, 2, 1)\n",
    "plot_graphs(trainer.state.log_history, 'eval_accuracy')\n",
    "plt.ylim(None, 1)\n",
    "plt.subplot(1, 2, 2)\n",
    "plot_graphs(trainer.state.log_history, 'eval_loss')\n",
    "plt.ylim(0, None)\n",
    "\n",
    "# Save the plot\n",
    "image_file_path = \"/kaggle/working/distilbert_training_plot.png\"\n",
    "plt.savefig(image_file_path)\n",
    "plt.show()\n",
    "print(f\"Plot saved as {image_file_path}\")"
   ]
  },
  {
   "cell_type": "code",
   "execution_count": null,
   "id": "5c788ea8",
   "metadata": {
    "papermill": {
     "duration": null,
     "end_time": null,
     "exception": null,
     "start_time": null,
     "status": "pending"
    },
    "tags": []
   },
   "outputs": [],
   "source": [
    "# Evaluate on test set\n",
    "print(\"Evaluating on test set...\")\n",
    "test_essay_dataset = Dataset.from_pandas(test_essays)\n",
    "tokenized_test_essays = test_essay_dataset.map(preprocess_function, batched=True)\n",
    "test_results = trainer.evaluate(tokenized_test_essays)\n",
    "\n",
    "# Print the evaluation results\n",
    "print(f\"Test AUC: {test_results['eval_roc_auc']:.4f}\")\n",
    "print(f\"Test Accuracy: {test_results['eval_accuracy']:.4f}\")\n",
    "print(f\"Test Precision: {test_results['eval_precision']:.4f}\")\n",
    "print(f\"Test Recall: {test_results['eval_recall']:.4f}\")\n",
    "print(f\"Test F1: {test_results['eval_f1']:.4f}\")"
   ]
  }
 ],
 "metadata": {
  "kaggle": {
   "accelerator": "nvidiaTeslaT4",
   "dataSources": [
    {
     "datasetId": 5803916,
     "sourceId": 9530414,
     "sourceType": "datasetVersion"
    }
   ],
   "dockerImageVersionId": 30775,
   "isGpuEnabled": true,
   "isInternetEnabled": true,
   "language": "python",
   "sourceType": "notebook"
  },
  "kernelspec": {
   "display_name": "Python 3",
   "language": "python",
   "name": "python3"
  },
  "language_info": {
   "codemirror_mode": {
    "name": "ipython",
    "version": 3
   },
   "file_extension": ".py",
   "mimetype": "text/x-python",
   "name": "python",
   "nbconvert_exporter": "python",
   "pygments_lexer": "ipython3",
   "version": "3.10.14"
  },
  "papermill": {
   "default_parameters": {},
   "duration": null,
   "end_time": null,
   "environment_variables": {},
   "exception": null,
   "input_path": "__notebook__.ipynb",
   "output_path": "__notebook__.ipynb",
   "parameters": {},
   "start_time": "2024-10-02T18:59:23.174639",
   "version": "2.6.0"
  }
 },
 "nbformat": 4,
 "nbformat_minor": 5
}