{
 "cells": [
  {
   "cell_type": "markdown",
   "id": "748fd0dc",
   "metadata": {
    "papermill": {
     "duration": 0.006201,
     "end_time": "2024-10-10T03:49:43.329890",
     "exception": false,
     "start_time": "2024-10-10T03:49:43.323689",
     "status": "completed"
    },
    "tags": []
   },
   "source": [
    "# Install Package"
   ]
  },
  {
   "cell_type": "code",
   "execution_count": 1,
   "id": "66eb521a",
   "metadata": {
    "collapsed": true,
    "execution": {
     "iopub.execute_input": "2024-10-10T03:49:43.342830Z",
     "iopub.status.busy": "2024-10-10T03:49:43.342397Z",
     "iopub.status.idle": "2024-10-10T03:52:35.170904Z",
     "shell.execute_reply": "2024-10-10T03:52:35.169555Z"
    },
    "jupyter": {
     "outputs_hidden": true
    },
    "papermill": {
     "duration": 171.838118,
     "end_time": "2024-10-10T03:52:35.173727",
     "exception": false,
     "start_time": "2024-10-10T03:49:43.335609",
     "status": "completed"
    },
    "tags": []
   },
   "outputs": [
    {
     "name": "stdout",
     "output_type": "stream",
     "text": [
      "Requirement already satisfied: scipy in /opt/conda/lib/python3.10/site-packages (1.14.1)\r\n",
      "Requirement already satisfied: seaborn in /opt/conda/lib/python3.10/site-packages (0.12.2)\r\n",
      "Requirement already satisfied: scikit-learn in /opt/conda/lib/python3.10/site-packages (1.2.2)\r\n",
      "Requirement already satisfied: tensorflow in /opt/conda/lib/python3.10/site-packages (2.16.1)\r\n",
      "Requirement already satisfied: tensorflow_datasets in /opt/conda/lib/python3.10/site-packages (4.9.6)\r\n",
      "Requirement already satisfied: numpy<2.3,>=1.23.5 in /opt/conda/lib/python3.10/site-packages (from scipy) (1.26.4)\r\n",
      "Requirement already satisfied: pandas>=0.25 in /opt/conda/lib/python3.10/site-packages (from seaborn) (2.2.2)\r\n",
      "Requirement already satisfied: matplotlib!=3.6.1,>=3.1 in /opt/conda/lib/python3.10/site-packages (from seaborn) (3.7.5)\r\n",
      "Requirement already satisfied: joblib>=1.1.1 in /opt/conda/lib/python3.10/site-packages (from scikit-learn) (1.4.2)\r\n",
      "Requirement already satisfied: threadpoolctl>=2.0.0 in /opt/conda/lib/python3.10/site-packages (from scikit-learn) (3.5.0)\r\n",
      "Requirement already satisfied: absl-py>=1.0.0 in /opt/conda/lib/python3.10/site-packages (from tensorflow) (1.4.0)\r\n",
      "Requirement already satisfied: astunparse>=1.6.0 in /opt/conda/lib/python3.10/site-packages (from tensorflow) (1.6.3)\r\n",
      "Requirement already satisfied: flatbuffers>=23.5.26 in /opt/conda/lib/python3.10/site-packages (from tensorflow) (24.3.25)\r\n",
      "Requirement already satisfied: gast!=0.5.0,!=0.5.1,!=0.5.2,>=0.2.1 in /opt/conda/lib/python3.10/site-packages (from tensorflow) (0.5.4)\r\n",
      "Requirement already satisfied: google-pasta>=0.1.1 in /opt/conda/lib/python3.10/site-packages (from tensorflow) (0.2.0)\r\n",
      "Requirement already satisfied: h5py>=3.10.0 in /opt/conda/lib/python3.10/site-packages (from tensorflow) (3.11.0)\r\n",
      "Requirement already satisfied: libclang>=13.0.0 in /opt/conda/lib/python3.10/site-packages (from tensorflow) (18.1.1)\r\n",
      "Requirement already satisfied: ml-dtypes~=0.3.1 in /opt/conda/lib/python3.10/site-packages (from tensorflow) (0.3.2)\r\n",
      "Requirement already satisfied: opt-einsum>=2.3.2 in /opt/conda/lib/python3.10/site-packages (from tensorflow) (3.3.0)\r\n",
      "Requirement already satisfied: packaging in /opt/conda/lib/python3.10/site-packages (from tensorflow) (21.3)\r\n",
      "Requirement already satisfied: protobuf!=4.21.0,!=4.21.1,!=4.21.2,!=4.21.3,!=4.21.4,!=4.21.5,<5.0.0dev,>=3.20.3 in /opt/conda/lib/python3.10/site-packages (from tensorflow) (3.20.3)\r\n",
      "Requirement already satisfied: requests<3,>=2.21.0 in /opt/conda/lib/python3.10/site-packages (from tensorflow) (2.32.3)\r\n",
      "Requirement already satisfied: setuptools in /opt/conda/lib/python3.10/site-packages (from tensorflow) (70.0.0)\r\n",
      "Requirement already satisfied: six>=1.12.0 in /opt/conda/lib/python3.10/site-packages (from tensorflow) (1.16.0)\r\n",
      "Requirement already satisfied: termcolor>=1.1.0 in /opt/conda/lib/python3.10/site-packages (from tensorflow) (2.4.0)\r\n",
      "Requirement already satisfied: typing-extensions>=3.6.6 in /opt/conda/lib/python3.10/site-packages (from tensorflow) (4.12.2)\r\n",
      "Requirement already satisfied: wrapt>=1.11.0 in /opt/conda/lib/python3.10/site-packages (from tensorflow) (1.16.0)\r\n",
      "Requirement already satisfied: grpcio<2.0,>=1.24.3 in /opt/conda/lib/python3.10/site-packages (from tensorflow) (1.62.2)\r\n",
      "Requirement already satisfied: tensorboard<2.17,>=2.16 in /opt/conda/lib/python3.10/site-packages (from tensorflow) (2.16.2)\r\n",
      "Requirement already satisfied: keras>=3.0.0 in /opt/conda/lib/python3.10/site-packages (from tensorflow) (3.3.3)\r\n",
      "Requirement already satisfied: tensorflow-io-gcs-filesystem>=0.23.1 in /opt/conda/lib/python3.10/site-packages (from tensorflow) (0.37.0)\r\n",
      "Requirement already satisfied: click in /opt/conda/lib/python3.10/site-packages (from tensorflow_datasets) (8.1.7)\r\n",
      "Requirement already satisfied: dm-tree in /opt/conda/lib/python3.10/site-packages (from tensorflow_datasets) (0.1.8)\r\n",
      "Requirement already satisfied: immutabledict in /opt/conda/lib/python3.10/site-packages (from tensorflow_datasets) (4.2.0)\r\n",
      "Requirement already satisfied: promise in /opt/conda/lib/python3.10/site-packages (from tensorflow_datasets) (2.3)\r\n",
      "Requirement already satisfied: psutil in /opt/conda/lib/python3.10/site-packages (from tensorflow_datasets) (5.9.3)\r\n",
      "Requirement already satisfied: pyarrow in /opt/conda/lib/python3.10/site-packages (from tensorflow_datasets) (16.1.0)\r\n",
      "Requirement already satisfied: simple-parsing in /opt/conda/lib/python3.10/site-packages (from tensorflow_datasets) (0.1.5)\r\n",
      "Requirement already satisfied: tensorflow-metadata in /opt/conda/lib/python3.10/site-packages (from tensorflow_datasets) (0.14.0)\r\n",
      "Requirement already satisfied: toml in /opt/conda/lib/python3.10/site-packages (from tensorflow_datasets) (0.10.2)\r\n",
      "Requirement already satisfied: tqdm in /opt/conda/lib/python3.10/site-packages (from tensorflow_datasets) (4.66.4)\r\n",
      "Requirement already satisfied: array-record>=0.5.0 in /opt/conda/lib/python3.10/site-packages (from tensorflow_datasets) (0.5.1)\r\n",
      "Requirement already satisfied: etils>=1.6.0 in /opt/conda/lib/python3.10/site-packages (from etils[enp,epath,epy,etree]>=1.6.0; python_version < \"3.11\"->tensorflow_datasets) (1.7.0)\r\n",
      "Requirement already satisfied: wheel<1.0,>=0.23.0 in /opt/conda/lib/python3.10/site-packages (from astunparse>=1.6.0->tensorflow) (0.43.0)\r\n",
      "Requirement already satisfied: fsspec in /opt/conda/lib/python3.10/site-packages (from etils[enp,epath,epy,etree]>=1.6.0; python_version < \"3.11\"->tensorflow_datasets) (2024.6.1)\r\n",
      "Requirement already satisfied: importlib_resources in /opt/conda/lib/python3.10/site-packages (from etils[enp,epath,epy,etree]>=1.6.0; python_version < \"3.11\"->tensorflow_datasets) (6.4.0)\r\n",
      "Requirement already satisfied: zipp in /opt/conda/lib/python3.10/site-packages (from etils[enp,epath,epy,etree]>=1.6.0; python_version < \"3.11\"->tensorflow_datasets) (3.19.2)\r\n",
      "Requirement already satisfied: rich in /opt/conda/lib/python3.10/site-packages (from keras>=3.0.0->tensorflow) (13.7.1)\r\n",
      "Requirement already satisfied: namex in /opt/conda/lib/python3.10/site-packages (from keras>=3.0.0->tensorflow) (0.0.8)\r\n",
      "Requirement already satisfied: optree in /opt/conda/lib/python3.10/site-packages (from keras>=3.0.0->tensorflow) (0.11.0)\r\n",
      "Requirement already satisfied: contourpy>=1.0.1 in /opt/conda/lib/python3.10/site-packages (from matplotlib!=3.6.1,>=3.1->seaborn) (1.2.1)\r\n",
      "Requirement already satisfied: cycler>=0.10 in /opt/conda/lib/python3.10/site-packages (from matplotlib!=3.6.1,>=3.1->seaborn) (0.12.1)\r\n",
      "Requirement already satisfied: fonttools>=4.22.0 in /opt/conda/lib/python3.10/site-packages (from matplotlib!=3.6.1,>=3.1->seaborn) (4.53.0)\r\n",
      "Requirement already satisfied: kiwisolver>=1.0.1 in /opt/conda/lib/python3.10/site-packages (from matplotlib!=3.6.1,>=3.1->seaborn) (1.4.5)\r\n",
      "Requirement already satisfied: pillow>=6.2.0 in /opt/conda/lib/python3.10/site-packages (from matplotlib!=3.6.1,>=3.1->seaborn) (10.3.0)\r\n",
      "Requirement already satisfied: pyparsing>=2.3.1 in /opt/conda/lib/python3.10/site-packages (from matplotlib!=3.6.1,>=3.1->seaborn) (3.1.2)\r\n",
      "Requirement already satisfied: python-dateutil>=2.7 in /opt/conda/lib/python3.10/site-packages (from matplotlib!=3.6.1,>=3.1->seaborn) (2.9.0.post0)\r\n",
      "Requirement already satisfied: pytz>=2020.1 in /opt/conda/lib/python3.10/site-packages (from pandas>=0.25->seaborn) (2024.1)\r\n",
      "Requirement already satisfied: tzdata>=2022.7 in /opt/conda/lib/python3.10/site-packages (from pandas>=0.25->seaborn) (2024.1)\r\n",
      "Requirement already satisfied: charset-normalizer<4,>=2 in /opt/conda/lib/python3.10/site-packages (from requests<3,>=2.21.0->tensorflow) (3.3.2)\r\n",
      "Requirement already satisfied: idna<4,>=2.5 in /opt/conda/lib/python3.10/site-packages (from requests<3,>=2.21.0->tensorflow) (3.7)\r\n",
      "Requirement already satisfied: urllib3<3,>=1.21.1 in /opt/conda/lib/python3.10/site-packages (from requests<3,>=2.21.0->tensorflow) (1.26.18)\r\n",
      "Requirement already satisfied: certifi>=2017.4.17 in /opt/conda/lib/python3.10/site-packages (from requests<3,>=2.21.0->tensorflow) (2024.8.30)\r\n",
      "Requirement already satisfied: markdown>=2.6.8 in /opt/conda/lib/python3.10/site-packages (from tensorboard<2.17,>=2.16->tensorflow) (3.6)\r\n",
      "Requirement already satisfied: tensorboard-data-server<0.8.0,>=0.7.0 in /opt/conda/lib/python3.10/site-packages (from tensorboard<2.17,>=2.16->tensorflow) (0.7.2)\r\n",
      "Requirement already satisfied: werkzeug>=1.0.1 in /opt/conda/lib/python3.10/site-packages (from tensorboard<2.17,>=2.16->tensorflow) (3.0.4)\r\n",
      "Requirement already satisfied: docstring-parser~=0.15 in /opt/conda/lib/python3.10/site-packages (from simple-parsing->tensorflow_datasets) (0.16)\r\n",
      "Requirement already satisfied: googleapis-common-protos in /opt/conda/lib/python3.10/site-packages (from tensorflow-metadata->tensorflow_datasets) (1.63.1)\r\n",
      "Requirement already satisfied: MarkupSafe>=2.1.1 in /opt/conda/lib/python3.10/site-packages (from werkzeug>=1.0.1->tensorboard<2.17,>=2.16->tensorflow) (2.1.5)\r\n",
      "Requirement already satisfied: markdown-it-py>=2.2.0 in /opt/conda/lib/python3.10/site-packages (from rich->keras>=3.0.0->tensorflow) (3.0.0)\r\n",
      "Requirement already satisfied: pygments<3.0.0,>=2.13.0 in /opt/conda/lib/python3.10/site-packages (from rich->keras>=3.0.0->tensorflow) (2.18.0)\r\n",
      "Requirement already satisfied: mdurl~=0.1 in /opt/conda/lib/python3.10/site-packages (from markdown-it-py>=2.2.0->rich->keras>=3.0.0->tensorflow) (0.1.2)\r\n",
      "Note: you may need to restart the kernel to use updated packages.\n",
      "Requirement already satisfied: pandas in /opt/conda/lib/python3.10/site-packages (2.2.2)\r\n",
      "Requirement already satisfied: numpy>=1.22.4 in /opt/conda/lib/python3.10/site-packages (from pandas) (1.26.4)\r\n",
      "Requirement already satisfied: python-dateutil>=2.8.2 in /opt/conda/lib/python3.10/site-packages (from pandas) (2.9.0.post0)\r\n",
      "Requirement already satisfied: pytz>=2020.1 in /opt/conda/lib/python3.10/site-packages (from pandas) (2024.1)\r\n",
      "Requirement already satisfied: tzdata>=2022.7 in /opt/conda/lib/python3.10/site-packages (from pandas) (2024.1)\r\n",
      "Requirement already satisfied: six>=1.5 in /opt/conda/lib/python3.10/site-packages (from python-dateutil>=2.8.2->pandas) (1.16.0)\r\n",
      "Note: you may need to restart the kernel to use updated packages.\n",
      "Requirement already satisfied: matplotlib in /opt/conda/lib/python3.10/site-packages (3.7.5)\r\n",
      "Requirement already satisfied: contourpy>=1.0.1 in /opt/conda/lib/python3.10/site-packages (from matplotlib) (1.2.1)\r\n",
      "Requirement already satisfied: cycler>=0.10 in /opt/conda/lib/python3.10/site-packages (from matplotlib) (0.12.1)\r\n",
      "Requirement already satisfied: fonttools>=4.22.0 in /opt/conda/lib/python3.10/site-packages (from matplotlib) (4.53.0)\r\n",
      "Requirement already satisfied: kiwisolver>=1.0.1 in /opt/conda/lib/python3.10/site-packages (from matplotlib) (1.4.5)\r\n",
      "Requirement already satisfied: numpy<2,>=1.20 in /opt/conda/lib/python3.10/site-packages (from matplotlib) (1.26.4)\r\n",
      "Requirement already satisfied: packaging>=20.0 in /opt/conda/lib/python3.10/site-packages (from matplotlib) (21.3)\r\n",
      "Requirement already satisfied: pillow>=6.2.0 in /opt/conda/lib/python3.10/site-packages (from matplotlib) (10.3.0)\r\n",
      "Requirement already satisfied: pyparsing>=2.3.1 in /opt/conda/lib/python3.10/site-packages (from matplotlib) (3.1.2)\r\n",
      "Requirement already satisfied: python-dateutil>=2.7 in /opt/conda/lib/python3.10/site-packages (from matplotlib) (2.9.0.post0)\r\n",
      "Requirement already satisfied: six>=1.5 in /opt/conda/lib/python3.10/site-packages (from python-dateutil>=2.7->matplotlib) (1.16.0)\r\n",
      "Note: you may need to restart the kernel to use updated packages.\n",
      "Requirement already satisfied: numpy in /opt/conda/lib/python3.10/site-packages (1.26.4)\r\n",
      "Note: you may need to restart the kernel to use updated packages.\n",
      "Collecting sklearn\r\n",
      "  Downloading sklearn-0.0.post12.tar.gz (2.6 kB)\r\n",
      "  Preparing metadata (setup.py) ... \u001b[?25l-\b \berror\r\n",
      "  \u001b[1;31merror\u001b[0m: \u001b[1msubprocess-exited-with-error\u001b[0m\r\n",
      "  \r\n",
      "  \u001b[31m×\u001b[0m \u001b[32mpython setup.py egg_info\u001b[0m did not run successfully.\r\n",
      "  \u001b[31m│\u001b[0m exit code: \u001b[1;36m1\u001b[0m\r\n",
      "  \u001b[31m╰─>\u001b[0m \u001b[31m[15 lines of output]\u001b[0m\r\n",
      "  \u001b[31m   \u001b[0m The 'sklearn' PyPI package is deprecated, use 'scikit-learn'\r\n",
      "  \u001b[31m   \u001b[0m rather than 'sklearn' for pip commands.\r\n",
      "  \u001b[31m   \u001b[0m \r\n",
      "  \u001b[31m   \u001b[0m Here is how to fix this error in the main use cases:\r\n",
      "  \u001b[31m   \u001b[0m - use 'pip install scikit-learn' rather than 'pip install sklearn'\r\n",
      "  \u001b[31m   \u001b[0m - replace 'sklearn' by 'scikit-learn' in your pip requirements files\r\n",
      "  \u001b[31m   \u001b[0m   (requirements.txt, setup.py, setup.cfg, Pipfile, etc ...)\r\n",
      "  \u001b[31m   \u001b[0m - if the 'sklearn' package is used by one of your dependencies,\r\n",
      "  \u001b[31m   \u001b[0m   it would be great if you take some time to track which package uses\r\n",
      "  \u001b[31m   \u001b[0m   'sklearn' instead of 'scikit-learn' and report it to their issue tracker\r\n",
      "  \u001b[31m   \u001b[0m - as a last resort, set the environment variable\r\n",
      "  \u001b[31m   \u001b[0m   SKLEARN_ALLOW_DEPRECATED_SKLEARN_PACKAGE_INSTALL=True to avoid this error\r\n",
      "  \u001b[31m   \u001b[0m \r\n",
      "  \u001b[31m   \u001b[0m More information is available at\r\n",
      "  \u001b[31m   \u001b[0m https://github.com/scikit-learn/sklearn-pypi-package\r\n",
      "  \u001b[31m   \u001b[0m \u001b[31m[end of output]\u001b[0m\r\n",
      "  \r\n",
      "  \u001b[1;35mnote\u001b[0m: This error originates from a subprocess, and is likely not a problem with pip.\r\n",
      "\u001b[1;31merror\u001b[0m: \u001b[1mmetadata-generation-failed\u001b[0m\r\n",
      "\r\n",
      "\u001b[31m×\u001b[0m Encountered error while generating package metadata.\r\n",
      "\u001b[31m╰─>\u001b[0m See above for output.\r\n",
      "\r\n",
      "\u001b[1;35mnote\u001b[0m: This is an issue with the package mentioned above, not pip.\r\n",
      "\u001b[1;36mhint\u001b[0m: See above for details.\r\n",
      "\u001b[?25hNote: you may need to restart the kernel to use updated packages.\n",
      "Requirement already satisfied: xgboost in /opt/conda/lib/python3.10/site-packages (2.0.3)\r\n",
      "Requirement already satisfied: numpy in /opt/conda/lib/python3.10/site-packages (from xgboost) (1.26.4)\r\n",
      "Requirement already satisfied: scipy in /opt/conda/lib/python3.10/site-packages (from xgboost) (1.14.1)\r\n",
      "Note: you may need to restart the kernel to use updated packages.\n",
      "Requirement already satisfied: gensim in /opt/conda/lib/python3.10/site-packages (4.3.3)\r\n",
      "Requirement already satisfied: numpy<2.0,>=1.18.5 in /opt/conda/lib/python3.10/site-packages (from gensim) (1.26.4)\r\n",
      "Collecting scipy<1.14.0,>=1.7.0 (from gensim)\r\n",
      "  Downloading scipy-1.13.1-cp310-cp310-manylinux_2_17_x86_64.manylinux2014_x86_64.whl.metadata (60 kB)\r\n",
      "\u001b[2K     \u001b[90m━━━━━━━━━━━━━━━━━━━━━━━━━━━━━━━━━━━━━━━━\u001b[0m \u001b[32m60.6/60.6 kB\u001b[0m \u001b[31m1.8 MB/s\u001b[0m eta \u001b[36m0:00:00\u001b[0m\r\n",
      "\u001b[?25hRequirement already satisfied: smart-open>=1.8.1 in /opt/conda/lib/python3.10/site-packages (from gensim) (7.0.4)\r\n",
      "Requirement already satisfied: wrapt in /opt/conda/lib/python3.10/site-packages (from smart-open>=1.8.1->gensim) (1.16.0)\r\n",
      "Downloading scipy-1.13.1-cp310-cp310-manylinux_2_17_x86_64.manylinux2014_x86_64.whl (38.6 MB)\r\n",
      "\u001b[2K   \u001b[90m━━━━━━━━━━━━━━━━━━━━━━━━━━━━━━━━━━━━━━━━\u001b[0m \u001b[32m38.6/38.6 MB\u001b[0m \u001b[31m38.4 MB/s\u001b[0m eta \u001b[36m0:00:00\u001b[0m\r\n",
      "\u001b[?25hInstalling collected packages: scipy\r\n",
      "  Attempting uninstall: scipy\r\n",
      "    Found existing installation: scipy 1.14.1\r\n",
      "    Uninstalling scipy-1.14.1:\r\n",
      "      Successfully uninstalled scipy-1.14.1\r\n",
      "\u001b[31mERROR: pip's dependency resolver does not currently take into account all the packages that are installed. This behaviour is the source of the following dependency conflicts.\r\n",
      "cuml 24.8.0 requires cupy-cuda11x>=12.0.0, which is not installed.\r\n",
      "cesium 0.12.3 requires numpy<3.0,>=2.0, but you have numpy 1.26.4 which is incompatible.\r\n",
      "libpysal 4.9.2 requires packaging>=22, but you have packaging 21.3 which is incompatible.\r\n",
      "libpysal 4.9.2 requires shapely>=2.0.1, but you have shapely 1.8.5.post1 which is incompatible.\r\n",
      "tsfresh 0.20.3 requires scipy>=1.14.0; python_version >= \"3.10\", but you have scipy 1.13.1 which is incompatible.\u001b[0m\u001b[31m\r\n",
      "\u001b[0mSuccessfully installed scipy-1.13.1\r\n",
      "Note: you may need to restart the kernel to use updated packages.\n",
      "Requirement already satisfied: nltk in /opt/conda/lib/python3.10/site-packages (3.2.4)\r\n",
      "Requirement already satisfied: six in /opt/conda/lib/python3.10/site-packages (from nltk) (1.16.0)\r\n",
      "Note: you may need to restart the kernel to use updated packages.\n",
      "Requirement already satisfied: tqdm in /opt/conda/lib/python3.10/site-packages (4.66.4)\r\n",
      "Note: you may need to restart the kernel to use updated packages.\n",
      "Collecting pyvi\r\n",
      "  Downloading pyvi-0.1.1-py2.py3-none-any.whl.metadata (2.5 kB)\r\n",
      "Requirement already satisfied: scikit-learn in /opt/conda/lib/python3.10/site-packages (from pyvi) (1.2.2)\r\n",
      "Collecting sklearn-crfsuite (from pyvi)\r\n",
      "  Downloading sklearn_crfsuite-0.5.0-py2.py3-none-any.whl.metadata (4.9 kB)\r\n",
      "Requirement already satisfied: numpy>=1.17.3 in /opt/conda/lib/python3.10/site-packages (from scikit-learn->pyvi) (1.26.4)\r\n",
      "Requirement already satisfied: scipy>=1.3.2 in /opt/conda/lib/python3.10/site-packages (from scikit-learn->pyvi) (1.13.1)\r\n",
      "Requirement already satisfied: joblib>=1.1.1 in /opt/conda/lib/python3.10/site-packages (from scikit-learn->pyvi) (1.4.2)\r\n",
      "Requirement already satisfied: threadpoolctl>=2.0.0 in /opt/conda/lib/python3.10/site-packages (from scikit-learn->pyvi) (3.5.0)\r\n",
      "Collecting python-crfsuite>=0.9.7 (from sklearn-crfsuite->pyvi)\r\n",
      "  Downloading python_crfsuite-0.9.11-cp310-cp310-manylinux_2_17_x86_64.manylinux2014_x86_64.whl.metadata (4.3 kB)\r\n",
      "Requirement already satisfied: tabulate>=0.4.2 in /opt/conda/lib/python3.10/site-packages (from sklearn-crfsuite->pyvi) (0.9.0)\r\n",
      "Requirement already satisfied: tqdm>=2.0 in /opt/conda/lib/python3.10/site-packages (from sklearn-crfsuite->pyvi) (4.66.4)\r\n",
      "Downloading pyvi-0.1.1-py2.py3-none-any.whl (8.5 MB)\r\n",
      "\u001b[2K   \u001b[90m━━━━━━━━━━━━━━━━━━━━━━━━━━━━━━━━━━━━━━━━\u001b[0m \u001b[32m8.5/8.5 MB\u001b[0m \u001b[31m51.2 MB/s\u001b[0m eta \u001b[36m0:00:00\u001b[0m\r\n",
      "\u001b[?25hDownloading sklearn_crfsuite-0.5.0-py2.py3-none-any.whl (10 kB)\r\n",
      "Downloading python_crfsuite-0.9.11-cp310-cp310-manylinux_2_17_x86_64.manylinux2014_x86_64.whl (1.2 MB)\r\n",
      "\u001b[2K   \u001b[90m━━━━━━━━━━━━━━━━━━━━━━━━━━━━━━━━━━━━━━━━\u001b[0m \u001b[32m1.2/1.2 MB\u001b[0m \u001b[31m42.4 MB/s\u001b[0m eta \u001b[36m0:00:00\u001b[0m\r\n",
      "\u001b[?25hInstalling collected packages: python-crfsuite, sklearn-crfsuite, pyvi\r\n",
      "Successfully installed python-crfsuite-0.9.11 pyvi-0.1.1 sklearn-crfsuite-0.5.0\r\n",
      "Note: you may need to restart the kernel to use updated packages.\n",
      "Requirement already satisfied: tensorflow in /opt/conda/lib/python3.10/site-packages (2.16.1)\r\n",
      "Requirement already satisfied: absl-py>=1.0.0 in /opt/conda/lib/python3.10/site-packages (from tensorflow) (1.4.0)\r\n",
      "Requirement already satisfied: astunparse>=1.6.0 in /opt/conda/lib/python3.10/site-packages (from tensorflow) (1.6.3)\r\n",
      "Requirement already satisfied: flatbuffers>=23.5.26 in /opt/conda/lib/python3.10/site-packages (from tensorflow) (24.3.25)\r\n",
      "Requirement already satisfied: gast!=0.5.0,!=0.5.1,!=0.5.2,>=0.2.1 in /opt/conda/lib/python3.10/site-packages (from tensorflow) (0.5.4)\r\n",
      "Requirement already satisfied: google-pasta>=0.1.1 in /opt/conda/lib/python3.10/site-packages (from tensorflow) (0.2.0)\r\n",
      "Requirement already satisfied: h5py>=3.10.0 in /opt/conda/lib/python3.10/site-packages (from tensorflow) (3.11.0)\r\n",
      "Requirement already satisfied: libclang>=13.0.0 in /opt/conda/lib/python3.10/site-packages (from tensorflow) (18.1.1)\r\n",
      "Requirement already satisfied: ml-dtypes~=0.3.1 in /opt/conda/lib/python3.10/site-packages (from tensorflow) (0.3.2)\r\n",
      "Requirement already satisfied: opt-einsum>=2.3.2 in /opt/conda/lib/python3.10/site-packages (from tensorflow) (3.3.0)\r\n",
      "Requirement already satisfied: packaging in /opt/conda/lib/python3.10/site-packages (from tensorflow) (21.3)\r\n",
      "Requirement already satisfied: protobuf!=4.21.0,!=4.21.1,!=4.21.2,!=4.21.3,!=4.21.4,!=4.21.5,<5.0.0dev,>=3.20.3 in /opt/conda/lib/python3.10/site-packages (from tensorflow) (3.20.3)\r\n",
      "Requirement already satisfied: requests<3,>=2.21.0 in /opt/conda/lib/python3.10/site-packages (from tensorflow) (2.32.3)\r\n",
      "Requirement already satisfied: setuptools in /opt/conda/lib/python3.10/site-packages (from tensorflow) (70.0.0)\r\n",
      "Requirement already satisfied: six>=1.12.0 in /opt/conda/lib/python3.10/site-packages (from tensorflow) (1.16.0)\r\n",
      "Requirement already satisfied: termcolor>=1.1.0 in /opt/conda/lib/python3.10/site-packages (from tensorflow) (2.4.0)\r\n",
      "Requirement already satisfied: typing-extensions>=3.6.6 in /opt/conda/lib/python3.10/site-packages (from tensorflow) (4.12.2)\r\n",
      "Requirement already satisfied: wrapt>=1.11.0 in /opt/conda/lib/python3.10/site-packages (from tensorflow) (1.16.0)\r\n",
      "Requirement already satisfied: grpcio<2.0,>=1.24.3 in /opt/conda/lib/python3.10/site-packages (from tensorflow) (1.62.2)\r\n",
      "Requirement already satisfied: tensorboard<2.17,>=2.16 in /opt/conda/lib/python3.10/site-packages (from tensorflow) (2.16.2)\r\n",
      "Requirement already satisfied: keras>=3.0.0 in /opt/conda/lib/python3.10/site-packages (from tensorflow) (3.3.3)\r\n",
      "Requirement already satisfied: tensorflow-io-gcs-filesystem>=0.23.1 in /opt/conda/lib/python3.10/site-packages (from tensorflow) (0.37.0)\r\n",
      "Requirement already satisfied: numpy<2.0.0,>=1.23.5 in /opt/conda/lib/python3.10/site-packages (from tensorflow) (1.26.4)\r\n",
      "Requirement already satisfied: wheel<1.0,>=0.23.0 in /opt/conda/lib/python3.10/site-packages (from astunparse>=1.6.0->tensorflow) (0.43.0)\r\n",
      "Requirement already satisfied: rich in /opt/conda/lib/python3.10/site-packages (from keras>=3.0.0->tensorflow) (13.7.1)\r\n",
      "Requirement already satisfied: namex in /opt/conda/lib/python3.10/site-packages (from keras>=3.0.0->tensorflow) (0.0.8)\r\n",
      "Requirement already satisfied: optree in /opt/conda/lib/python3.10/site-packages (from keras>=3.0.0->tensorflow) (0.11.0)\r\n",
      "Requirement already satisfied: charset-normalizer<4,>=2 in /opt/conda/lib/python3.10/site-packages (from requests<3,>=2.21.0->tensorflow) (3.3.2)\r\n",
      "Requirement already satisfied: idna<4,>=2.5 in /opt/conda/lib/python3.10/site-packages (from requests<3,>=2.21.0->tensorflow) (3.7)\r\n",
      "Requirement already satisfied: urllib3<3,>=1.21.1 in /opt/conda/lib/python3.10/site-packages (from requests<3,>=2.21.0->tensorflow) (1.26.18)\r\n",
      "Requirement already satisfied: certifi>=2017.4.17 in /opt/conda/lib/python3.10/site-packages (from requests<3,>=2.21.0->tensorflow) (2024.8.30)\r\n",
      "Requirement already satisfied: markdown>=2.6.8 in /opt/conda/lib/python3.10/site-packages (from tensorboard<2.17,>=2.16->tensorflow) (3.6)\r\n",
      "Requirement already satisfied: tensorboard-data-server<0.8.0,>=0.7.0 in /opt/conda/lib/python3.10/site-packages (from tensorboard<2.17,>=2.16->tensorflow) (0.7.2)\r\n",
      "Requirement already satisfied: werkzeug>=1.0.1 in /opt/conda/lib/python3.10/site-packages (from tensorboard<2.17,>=2.16->tensorflow) (3.0.4)\r\n",
      "Requirement already satisfied: pyparsing!=3.0.5,>=2.0.2 in /opt/conda/lib/python3.10/site-packages (from packaging->tensorflow) (3.1.2)\r\n",
      "Requirement already satisfied: MarkupSafe>=2.1.1 in /opt/conda/lib/python3.10/site-packages (from werkzeug>=1.0.1->tensorboard<2.17,>=2.16->tensorflow) (2.1.5)\r\n",
      "Requirement already satisfied: markdown-it-py>=2.2.0 in /opt/conda/lib/python3.10/site-packages (from rich->keras>=3.0.0->tensorflow) (3.0.0)\r\n",
      "Requirement already satisfied: pygments<3.0.0,>=2.13.0 in /opt/conda/lib/python3.10/site-packages (from rich->keras>=3.0.0->tensorflow) (2.18.0)\r\n",
      "Requirement already satisfied: mdurl~=0.1 in /opt/conda/lib/python3.10/site-packages (from markdown-it-py>=2.2.0->rich->keras>=3.0.0->tensorflow) (0.1.2)\r\n",
      "Note: you may need to restart the kernel to use updated packages.\n",
      "Requirement already satisfied: torch in /opt/conda/lib/python3.10/site-packages (2.4.0)\r\n",
      "Requirement already satisfied: filelock in /opt/conda/lib/python3.10/site-packages (from torch) (3.15.1)\r\n",
      "Requirement already satisfied: typing-extensions>=4.8.0 in /opt/conda/lib/python3.10/site-packages (from torch) (4.12.2)\r\n",
      "Requirement already satisfied: sympy in /opt/conda/lib/python3.10/site-packages (from torch) (1.13.3)\r\n",
      "Requirement already satisfied: networkx in /opt/conda/lib/python3.10/site-packages (from torch) (3.3)\r\n",
      "Requirement already satisfied: jinja2 in /opt/conda/lib/python3.10/site-packages (from torch) (3.1.4)\r\n",
      "Requirement already satisfied: fsspec in /opt/conda/lib/python3.10/site-packages (from torch) (2024.6.1)\r\n",
      "Requirement already satisfied: MarkupSafe>=2.0 in /opt/conda/lib/python3.10/site-packages (from jinja2->torch) (2.1.5)\r\n",
      "Requirement already satisfied: mpmath<1.4,>=1.1.0 in /opt/conda/lib/python3.10/site-packages (from sympy->torch) (1.3.0)\r\n",
      "Note: you may need to restart the kernel to use updated packages.\n"
     ]
    }
   ],
   "source": [
    "%pip install scipy seaborn scikit-learn tensorflow tensorflow_datasets \n",
    "%pip install pandas\n",
    "%pip install matplotlib\n",
    "%pip install numpy\n",
    "%pip install sklearn\n",
    "%pip install xgboost\n",
    "%pip install gensim\n",
    "%pip install nltk\n",
    "%pip install tqdm\n",
    "%pip install pyvi\n",
    "%pip install tensorflow\n",
    "%pip install torch"
   ]
  },
  {
   "cell_type": "code",
   "execution_count": 2,
   "id": "e97816b5",
   "metadata": {
    "execution": {
     "iopub.execute_input": "2024-10-10T03:52:35.205774Z",
     "iopub.status.busy": "2024-10-10T03:52:35.205332Z",
     "iopub.status.idle": "2024-10-10T03:52:35.210557Z",
     "shell.execute_reply": "2024-10-10T03:52:35.209527Z"
    },
    "papermill": {
     "duration": 0.024571,
     "end_time": "2024-10-10T03:52:35.213035",
     "exception": false,
     "start_time": "2024-10-10T03:52:35.188464",
     "status": "completed"
    },
    "tags": []
   },
   "outputs": [],
   "source": [
    "# !rm -rf /kaggle/working/*"
   ]
  },
  {
   "cell_type": "code",
   "execution_count": 3,
   "id": "aaac3ddc",
   "metadata": {
    "execution": {
     "iopub.execute_input": "2024-10-10T03:52:35.243734Z",
     "iopub.status.busy": "2024-10-10T03:52:35.243302Z",
     "iopub.status.idle": "2024-10-10T03:53:40.839819Z",
     "shell.execute_reply": "2024-10-10T03:53:40.838668Z"
    },
    "papermill": {
     "duration": 65.615123,
     "end_time": "2024-10-10T03:53:40.842467",
     "exception": false,
     "start_time": "2024-10-10T03:52:35.227344",
     "status": "completed"
    },
    "tags": []
   },
   "outputs": [
    {
     "name": "stdout",
     "output_type": "stream",
     "text": [
      "[nltk_data] Downloading package punkt to /usr/share/nltk_data...\n",
      "[nltk_data]   Package punkt is already up-to-date!\n",
      "[nltk_data] Downloading package punkt_tab to /usr/share/nltk_data...\n",
      "[nltk_data]   Unzipping tokenizers/punkt_tab.zip.\n",
      "[nltk_data] Downloading package stopwords to /usr/share/nltk_data...\n",
      "[nltk_data]   Package stopwords is already up-to-date!\n"
     ]
    },
    {
     "data": {
      "text/plain": [
       "True"
      ]
     },
     "execution_count": 3,
     "metadata": {},
     "output_type": "execute_result"
    }
   ],
   "source": [
    "## Imports\n",
    "from tqdm import tqdm\n",
    "import os\n",
    "import time\n",
    "import re\n",
    "import joblib\n",
    "import torch\n",
    "import logging\n",
    "import nltk\n",
    "from nltk import word_tokenize\n",
    "from nltk.tokenize import word_tokenize\n",
    "from nltk.corpus import stopwords\n",
    "import pandas as pd\n",
    "import matplotlib.pyplot as plt\n",
    "import numpy as np\n",
    "from sklearn.model_selection import train_test_split, StratifiedKFold, KFold\n",
    "from sklearn.linear_model import LogisticRegression, SGDClassifier\n",
    "from sklearn.ensemble import RandomForestClassifier\n",
    "import xgboost as xgb\n",
    "from xgboost import XGBClassifier\n",
    "from sklearn.naive_bayes import GaussianNB\n",
    "from sklearn.feature_extraction.text import TfidfVectorizer\n",
    "from sklearn.feature_extraction.text import CountVectorizer\n",
    "from sklearn.ensemble import VotingClassifier\n",
    "from sklearn.manifold import TSNE\n",
    "from sklearn.metrics import roc_auc_score, accuracy_score, precision_score, recall_score, f1_score, log_loss\n",
    "from datasets import load_dataset, Dataset\n",
    "from transformers import AutoTokenizer, TFAutoModelForSequenceClassification, DataCollatorWithPadding, AutoModelForSequenceClassification, TrainingArguments, Trainer\n",
    "from gensim.models import KeyedVectors\n",
    "from gensim.scripts.glove2word2vec import glove2word2vec\n",
    "from gensim.test.utils import datapath, get_tmpfile\n",
    "from pyvi import ViTokenizer, ViPosTagger\n",
    "from tqdm import tqdm\n",
    "from sklearn.svm import LinearSVC\n",
    "from sklearn.utils.class_weight import compute_class_weight\n",
    "import tensorflow as tf\n",
    "\n",
    "# ref: https://www.kaggle.com/code/eswarbabu88/toxic-comment-glove-logistic-regression\n",
    "# need to use glove_model from above\n",
    "# Download required NLTK resources\n",
    "nltk.download('punkt')\n",
    "nltk.download('punkt_tab')\n",
    "nltk.download('stopwords')"
   ]
  },
  {
   "cell_type": "markdown",
   "id": "fa0a73c6",
   "metadata": {
    "papermill": {
     "duration": 0.014393,
     "end_time": "2024-10-10T03:53:40.871666",
     "exception": false,
     "start_time": "2024-10-10T03:53:40.857273",
     "status": "completed"
    },
    "tags": []
   },
   "source": [
    "# Cute processing functions"
   ]
  },
  {
   "cell_type": "code",
   "execution_count": 4,
   "id": "91c6c54f",
   "metadata": {
    "execution": {
     "iopub.execute_input": "2024-10-10T03:53:40.905119Z",
     "iopub.status.busy": "2024-10-10T03:53:40.904209Z",
     "iopub.status.idle": "2024-10-10T03:53:41.049188Z",
     "shell.execute_reply": "2024-10-10T03:53:41.048170Z"
    },
    "papermill": {
     "duration": 0.165504,
     "end_time": "2024-10-10T03:53:41.051836",
     "exception": false,
     "start_time": "2024-10-10T03:53:40.886332",
     "status": "completed"
    },
    "tags": []
   },
   "outputs": [],
   "source": [
    "# ===========================================================================================\n",
    "# Tạo class Logger\n",
    "class MyLogger:\n",
    "    def __init__(self, log_file='app.log'):\n",
    "        self.log_file = log_file\n",
    "        self._initialize_logger()\n",
    "\n",
    "    def _initialize_logger(self):\n",
    "        # Check if the log file already exists; if so, append to it\n",
    "        if os.path.exists(self.log_file):\n",
    "            file_mode = 'a'  # Append mode\n",
    "        else:\n",
    "            file_mode = 'w'  # Write mode (create new file)\n",
    "\n",
    "        # Create a logger\n",
    "        self.logger = logging.getLogger()\n",
    "        self.logger.setLevel(logging.INFO)  # Set logging level to INFO\n",
    "\n",
    "        # Create file handler\n",
    "        file_handler = logging.FileHandler(self.log_file, mode=file_mode, encoding='utf-8')\n",
    "        file_handler.setLevel(logging.INFO)  # Ensure the file handler logs INFO and above\n",
    "\n",
    "        # Create console handler\n",
    "        console_handler = logging.StreamHandler()\n",
    "        console_handler.setLevel(logging.INFO)  # Ensure the console handler logs INFO and above\n",
    "\n",
    "        # Set up the logging format\n",
    "        formatter = logging.Formatter('%(asctime)s - %(levelname)s - %(message)s')\n",
    "        file_handler.setFormatter(formatter)\n",
    "        console_handler.setFormatter(formatter)\n",
    "\n",
    "        # Remove existing handlers to avoid duplicates\n",
    "        if self.logger.hasHandlers():\n",
    "            self.logger.handlers.clear()\n",
    "\n",
    "        # Add handlers to the logger\n",
    "        self.logger.addHandler(file_handler)\n",
    "        self.logger.addHandler(console_handler)\n",
    "\n",
    "    def log_message(self, message):\n",
    "        self.logger.info(message)\n",
    "\n",
    "    def change_log_file(self, new_log_file):\n",
    "        \"\"\"Change the log file and reinitialize the logger.\"\"\"\n",
    "        self.log_file = new_log_file\n",
    "        self._initialize_logger()  # Reinitialize logger with the new log file\n",
    "\n",
    "# ============================================================================================\n",
    "# danh sách các biến toàn cục\n",
    "logger = MyLogger()\n",
    "\n",
    "# Enable/Disable tokenizers parallelism to avoid the warning\n",
    "os.environ[\"TOKENIZERS_PARALLELISM\"] = \"true\"\n",
    "\n",
    "# ============================================================================================\n",
    "# Danh sách các hàm xử lý\n",
    "# ============================================================================================\n",
    "# Load the stop words\n",
    "stop_words = set(stopwords.words('english'))\n",
    "\n",
    "# Function to remove stop words\n",
    "def remove_stop_words(text):\n",
    "    # Tokenize the text\n",
    "    words = word_tokenize(text)\n",
    "    \n",
    "    # Remove stop words\n",
    "    filtered_words = [word for word in words if word.lower() not in stop_words]\n",
    "    \n",
    "    # Join the filtered words back into a string\n",
    "    return ' '.join(filtered_words)\n",
    "\n",
    "def preprocess_text(text):\n",
    "    # Step 1: Remove URLs\n",
    "    text = re.sub(r'http\\S+|https?://\\S+|www\\.\\S+', '', text)\n",
    "    \n",
    "    # Step 2: Remove text in square brackets\n",
    "    text = re.sub(r'\\[.*?\\]', '', text)\n",
    "    \n",
    "    # Step 3: Remove angle brackets\n",
    "    text = re.sub(r'<.*?>+', '', text)\n",
    "    \n",
    "    # Step 4: Remove newlines, tabs, carriage returns, form feeds, backspace characters\n",
    "    text = re.sub(r'\\n|\\t|\\r|\\f|\\b', '', text)\n",
    "    \n",
    "    # Step 5: Remove words that contain numbers\n",
    "    text = re.sub(r'\\w*\\d\\w*', '', text)\n",
    "    \n",
    "    # Step 6: Remove any non-alphanumeric characters, then make lowercase\n",
    "    text = re.sub(r'\\W+', ' ', text).lower().strip()\n",
    "    \n",
    "    # Step 7: Tokenize the Vietnamese text using ViTokenizer\n",
    "    text = ViTokenizer.tokenize(text)\n",
    "    \n",
    "    text = remove_stop_words(text)\n",
    "    \n",
    "    return text\n",
    "\n",
    "def load_data(file_path):\n",
    "    # Load the dataset\n",
    "    df_ds = pd.read_csv(file_path)\n",
    "\n",
    "    # First, split into train and test sets (80% train, 20% test)\n",
    "    train_essays, test_essays = train_test_split(df_ds, test_size=0.2, random_state=42)\n",
    "\n",
    "    # Then, split the train set into train and validation sets (67% train, 33% validation)\n",
    "    train_essays, val_essays = train_test_split(train_essays, test_size=0.33, random_state=42)\n",
    "    \n",
    "    return df_ds, train_essays, test_essays, val_essays\n",
    "\n",
    "def compute_metrics(preds, labels):\n",
    "    # Convert probabilities to binary predictions\n",
    "    binary_preds = (preds >= 0.5).astype(int)\n",
    "\n",
    "    # Compute ROC AUC score\n",
    "    auc = roc_auc_score(labels, preds)\n",
    "\n",
    "    # Other metrics with zero_division set to handle undefined metrics\n",
    "    accuracy = accuracy_score(labels, binary_preds)\n",
    "    precision = precision_score(labels, binary_preds, zero_division=0)  # Use zero_division=0 to avoid warnings\n",
    "    recall = recall_score(labels, binary_preds)\n",
    "    f1 = f1_score(labels, binary_preds, zero_division=0)  # Use zero_division=0 to avoid warnings\n",
    "\n",
    "    return {\"roc_auc\": auc, \"accuracy\": accuracy, \"precision\": precision, \"recall\": recall, \"f1\": f1}\n",
    "\n",
    "def compute_metrics_bert(eval_pred):\n",
    "    logits, labels = eval_pred\n",
    "    # Convert logits to probabilities using softmax\n",
    "    probs = torch.nn.functional.softmax(torch.tensor(logits), dim=-1).numpy()\n",
    "    \n",
    "    # Get the predicted class by selecting the class with the highest probability\n",
    "    preds = np.argmax(probs, axis=-1)\n",
    "    \n",
    "    # Compute ROC AUC score using probabilities of the positive class (class 1)\n",
    "    if len(np.unique(labels)) > 1:  # Ensure there are both classes present for AUC computation\n",
    "        auc = roc_auc_score(labels, probs[:, 1])\n",
    "    else:\n",
    "        auc = float('nan')  # AUC is not defined if only one class is present\n",
    "    \n",
    "    # Compute other metrics\n",
    "    accuracy = accuracy_score(labels, preds)\n",
    "    precision = precision_score(labels, preds, zero_division=0)\n",
    "    recall = recall_score(labels, preds)\n",
    "    f1 = f1_score(labels, preds, zero_division=0)\n",
    "\n",
    "    return {\"roc_auc\": auc, \"accuracy\": accuracy, \"precision\": precision, \"recall\": recall, \"f1\": f1}\n",
    "\n",
    "def plot_tsne(model, num):\n",
    "    labels = []\n",
    "    tokens = []\n",
    "    for word in model.key_to_index:\n",
    "        if word not in stop_words:\n",
    "            tokens.append(np.array(model[word]))\n",
    "            labels.append(word)\n",
    "    tsne = TSNE(perplexity = 40, n_components = 2, init = 'pca', n_iter = 2500, random_state = 23)\n",
    "    data = tsne.fit_transform(np.array(tokens[:num]))\n",
    "    x = []\n",
    "    y = []\n",
    "    for each in data:\n",
    "        x.append(each[0])\n",
    "        y.append(each[1])\n",
    "    plt.figure(figsize = (10, 10))\n",
    "    for i in range(num):\n",
    "        plt.scatter(x[i], y[i])\n",
    "        plt.annotate(labels[i],\n",
    "                     xy = (x[i], y[i]),\n",
    "                     xytext = (5,2),\n",
    "                     textcoords = 'offset points',\n",
    "                     ha = 'right',\n",
    "                     va = 'bottom')\n",
    "    plt.show()\n",
    "\n",
    "# Assuming glove_model is already loaded in your environment\n",
    "# Function to convert a sentence to a vector\n",
    "def sent2vec(s, glove_model):\n",
    "    words = str(s).lower()\n",
    "    words = word_tokenize(words)  # This requires the 'punkt' tokenizer\n",
    "    words = [w for w in words if w not in stop_words]\n",
    "    words = [w for w in words if w.isalpha()]  # Filter out non-alphabetic tokens\n",
    "    M = []\n",
    "    for w in words:\n",
    "        try:\n",
    "            M.append(glove_model[w])  # Lookup word in GloVe model\n",
    "        except KeyError:\n",
    "            continue\n",
    "    M = np.array(M)\n",
    "    v = M.sum(axis=0)\n",
    "    if type(v) != np.ndarray:\n",
    "        return np.zeros(300)  # Return a zero vector if no word embeddings are found\n",
    "    return v / np.sqrt((v ** 2).sum())  # Normalize the vector\n",
    "\n",
    "# ============================================================================================\n",
    "def plot_training_validation_curves(train_metrics, val_metrics, save_path, file_name):\n",
    "    # Create the output directory if it doesn't exist\n",
    "    if not os.path.exists(save_path):\n",
    "        os.makedirs(save_path)\n",
    "\n",
    "    # Plot accuracy and loss\n",
    "    plt.figure(figsize=(12, 5))\n",
    "\n",
    "    # Plot accuracy\n",
    "    plt.subplot(1, 2, 1)\n",
    "    plt.plot(train_metrics['accuracy'], label='Train Accuracy')\n",
    "    plt.plot(val_metrics['accuracy'], label='Validation Accuracy')\n",
    "    plt.title('Accuracy over epochs')\n",
    "    plt.xlabel('Epochs')\n",
    "    plt.ylabel('Accuracy')\n",
    "    plt.legend()\n",
    "\n",
    "    # Plot loss\n",
    "    plt.subplot(1, 2, 2)\n",
    "    plt.plot(train_metrics['loss'], label='Train Loss')\n",
    "    plt.plot(val_metrics['loss'], label='Validation Loss')\n",
    "    plt.title('Loss over epochs')\n",
    "    plt.xlabel('Epochs')\n",
    "    plt.ylabel('Loss')\n",
    "    plt.legend()\n",
    "\n",
    "    plt.tight_layout()\n",
    "\n",
    "    # Save the plot to the specified directory with the specified file name\n",
    "    plot_path = os.path.join(save_path, file_name)\n",
    "    plt.savefig(plot_path)\n",
    "\n",
    "    # Show the plot as well\n",
    "    plt.show()\n",
    "\n",
    "    print(f\"Plot saved to: {plot_path}\")\n",
    "\n",
    "def test_model(X_test_embeddings, y_test, model_file_path):\n",
    "    # Load the trained model\n",
    "    model = joblib.load(model_file_path)\n",
    "    \n",
    "    # Predict probabilities\n",
    "    preds_test = model.predict_proba(X_test_embeddings)[:, 1]\n",
    "    \n",
    "    # Compute test metrics\n",
    "    test_loss = log_loss(y_test, preds_test)\n",
    "    test_metrics = compute_metrics(preds_test, y_test)\n",
    "\n",
    "    # Log test metrics\n",
    "    logger.log_message(\"Testing Results:\")\n",
    "    logger.log_message(f\"Test Loss: {test_loss:.4f}, Test Accuracy: {test_metrics['accuracy']:.4f}, \")\n",
    "    logger.log_message(f\"Test ROC AUC: {test_metrics['roc_auc']:.4f}, Precision: {test_metrics['precision']:.4f}, \")\n",
    "    logger.log_message(f\"Recall: {test_metrics['recall']:.4f}, F1: {test_metrics['f1']:.4f}\")\n",
    "    \n",
    "    # Print test metrics for console\n",
    "    print(f\"Test Loss: {test_loss:.4f}, Test Accuracy: {test_metrics['accuracy']:.4f}, \"\n",
    "          f\"Test ROC AUC: {test_metrics['roc_auc']:.4f}, Precision: {test_metrics['precision']:.4f}, \"\n",
    "          f\"Recall: {test_metrics['recall']:.4f}, F1: {test_metrics['f1']:.4f}\")\n",
    "    \n",
    "    # Return all test metrics\n",
    "    return {\"loss\": test_loss, **test_metrics}\n",
    "\n",
    "def test_linearsvc(X_test_embeddings, y_test, model_file_path):\n",
    "    # Load the trained model\n",
    "    model = joblib.load(model_file_path)\n",
    "    \n",
    "    # Predict decision function values (not probabilities) for the test set\n",
    "    preds_test = model.decision_function(X_test_embeddings)\n",
    "\n",
    "    # Since LinearSVC doesn't output probabilities, you can use the decision function output directly\n",
    "    # Compute the test loss using log loss (note: log_loss usually expects probabilities, but here we use decision values)\n",
    "    # You might want to threshold or normalize preds_test before passing it to log_loss\n",
    "    test_loss = log_loss(y_test, preds_test, labels=np.unique(y_test))  # Ensure labels are passed to handle binary classification\n",
    "\n",
    "    # Compute test metrics\n",
    "    test_metrics = compute_metrics(preds_test, y_test)\n",
    "\n",
    "    # Log test metrics\n",
    "    logger.log_message(\"Testing Results:\")\n",
    "    logger.log_message(f\"Test Loss: {test_loss:.4f}, Test Accuracy: {test_metrics['accuracy']:.4f}, \")\n",
    "    logger.log_message(f\"Test ROC AUC: {test_metrics['roc_auc']:.4f}, Precision: {test_metrics['precision']:.4f}, \")\n",
    "    logger.log_message(f\"Recall: {test_metrics['recall']:.4f}, F1: {test_metrics['f1']:.4f}\")\n",
    "    \n",
    "    # Print test metrics for console\n",
    "    print(f\"Test Loss: {test_loss:.4f}, Test Accuracy: {test_metrics['accuracy']:.4f}, \"\n",
    "          f\"Test ROC AUC: {test_metrics['roc_auc']:.4f}, Precision: {test_metrics['precision']:.4f}, \"\n",
    "          f\"Recall: {test_metrics['recall']:.4f}, F1: {test_metrics['f1']:.4f}\")\n",
    "    \n",
    "    # Return all test metrics\n",
    "    return {\"loss\": test_loss, **test_metrics}\n",
    "\n",
    "def test_rnn(X_test, y_test, model_file_path):\n",
    "    \"\"\"\n",
    "    Function to test a trained RNN model using TensorFlow/Keras.\n",
    "    It loads the model, performs predictions, and computes metrics.\n",
    "    \"\"\"\n",
    "    # Load the trained model\n",
    "    if os.path.exists(model_file_path):\n",
    "        print(\"Loading model from file...\")\n",
    "        model = tf.keras.models.load_model(model_file_path)\n",
    "    else:\n",
    "        raise FileNotFoundError(f\"Model file not found at {model_file_path}\")\n",
    "\n",
    "    # Create a TensorFlow dataset for testing\n",
    "    batch_size = 32\n",
    "    test_dataset = tf.data.Dataset.from_tensor_slices((X_test, y_test)).batch(batch_size)\n",
    "\n",
    "    # Predict logits (raw output before activation)\n",
    "    preds_test_logits = model.predict(test_dataset)\n",
    "\n",
    "    # Convert logits to probabilities using sigmoid since we are doing binary classification\n",
    "    preds_test = tf.sigmoid(preds_test_logits).numpy().flatten()\n",
    "\n",
    "    # Compute test loss using log loss (cross-entropy)\n",
    "    test_loss = log_loss(y_test, preds_test)\n",
    "\n",
    "    # Compute test metrics (precision, recall, F1, etc.)\n",
    "    test_metrics = compute_metrics(preds_test, y_test)\n",
    "\n",
    "    # Log test metrics\n",
    "    logger.log_message(\"Testing Results:\")\n",
    "    logger.log_message(f\"Test Loss: {test_loss:.4f}, Test Accuracy: {test_metrics['accuracy']:.4f}, \")\n",
    "    logger.log_message(f\"Test ROC AUC: {test_metrics['roc_auc']:.4f}, Precision: {test_metrics['precision']:.4f}, \")\n",
    "    logger.log_message(f\"Recall: {test_metrics['recall']:.4f}, F1: {test_metrics['f1']:.4f}\")\n",
    "\n",
    "    # Print test metrics to console\n",
    "    print(f\"Test Loss: {test_loss:.4f}, Test Accuracy: {test_metrics['accuracy']:.4f}, \"\n",
    "          f\"Test ROC AUC: {test_metrics['roc_auc']:.4f}, Precision: {test_metrics['precision']:.4f}, \"\n",
    "          f\"Recall: {test_metrics['recall']:.4f}, F1: {test_metrics['f1']:.4f}\")\n",
    "\n",
    "    # Return test loss and all test metrics\n",
    "    return {\"loss\": test_loss, **test_metrics}\n",
    "\n",
    "def test_distilbert(X_test, model_file_path):\n",
    "    \"\"\"\n",
    "    Function to test a DistilBERT model on the test dataset and print metrics.\n",
    "    \"\"\"\n",
    "    # Load the trained model and tokenizer\n",
    "    if os.path.exists(model_file_path):\n",
    "        print(\"Loading model and tokenizer from file...\")\n",
    "        model = AutoModelForSequenceClassification.from_pretrained(model_file_path)\n",
    "        tokenizer = AutoTokenizer.from_pretrained(model_file_path)\n",
    "    else:\n",
    "        raise FileNotFoundError(f\"Model file not found at {model_file_path}\")\n",
    "\n",
    "    # Create the test dataset\n",
    "    test_dataset = Dataset.from_pandas(X_test)\n",
    "\n",
    "    # Tokenize the test dataset\n",
    "    tokenized_test = test_dataset.map(lambda examples: tokenizer(examples['processed_text_swr'], max_length=128, padding=True, truncation=True), batched=True)\n",
    "\n",
    "    # Initialize the Trainer (no training arguments needed for testing)\n",
    "    trainer = Trainer(model=model, tokenizer=tokenizer)\n",
    "\n",
    "    # Perform predictions on the test set\n",
    "    predictions = trainer.predict(tokenized_test)\n",
    "    preds_test = predictions.predictions.argmax(axis=-1)\n",
    "\n",
    "    # Compute metrics for the test set using the logits and labels from predictions\n",
    "    test_metrics = compute_metrics(predictions.predictions, predictions.label_ids)\n",
    "\n",
    "    # Log and print the test metrics\n",
    "    logger.log_message(\"Testing Results:\")\n",
    "    logger.log_message(f\"Test Accuracy: {test_metrics['accuracy']:.4f}, Test ROC AUC: {test_metrics['roc_auc']:.4f}, \")\n",
    "    logger.log_message(f\"Precision: {test_metrics['precision']:.4f}, Recall: {test_metrics['recall']:.4f}, F1: {test_metrics['f1']:.4f}\")\n",
    "    \n",
    "    print(f\"Test Accuracy: {test_metrics['accuracy']:.4f}, Test ROC AUC: {test_metrics['roc_auc']:.4f}, \"\n",
    "          f\"Precision: {test_metrics['precision']:.4f}, Recall: {test_metrics['recall']:.4f}, F1: {test_metrics['f1']:.4f}\")\n",
    "\n",
    "    return test_metrics\n",
    "\n",
    "\n",
    "# ============================================================================================\n",
    "def shuffle_and_split(X, y, batch_size):\n",
    "    \"\"\"Shuffle the data and split into batches.\"\"\"\n",
    "    indices = np.random.permutation(len(y))  # Shuffle the indices\n",
    "    X_shuffled = X[indices]\n",
    "    y_shuffled = y[indices]\n",
    "    \n",
    "    # Divide into batches\n",
    "    num_batches = len(y) // batch_size\n",
    "    X_batches = np.array_split(X_shuffled, num_batches)\n",
    "    y_batches = np.array_split(y_shuffled, num_batches)\n",
    "    \n",
    "    return X_batches, y_batches\n",
    "\n",
    "#######\n",
    "def train_logistic_regression(X_train_embeddings, y_train, X_val_embeddings, y_val, model_file_path, out_base_path, n_epochs=20, batch_size=32):\n",
    "    logger.log_message(f\"Training a Logistic Regression model for {n_epochs} epochs...\")\n",
    "\n",
    "    if os.path.exists(model_file_path):\n",
    "        print(\"Loading model from file...\")\n",
    "        model = joblib.load(model_file_path)\n",
    "    else:\n",
    "        print(\"Model not found. Training a new model...\")\n",
    "        model = LogisticRegression(max_iter=246, C=0.01, class_weight='balanced')\n",
    "\n",
    "        train_metrics = {'accuracy': [], 'loss': [], 'roc_auc': [], 'precision': [], 'recall': [], 'f1': []}\n",
    "        val_metrics = {'accuracy': [], 'loss': [], 'roc_auc': [], 'precision': [], 'recall': [], 'f1': []}\n",
    "\n",
    "        # Loop over epochs\n",
    "        for epoch in tqdm(range(n_epochs), desc=\"Epochs\", unit=\"epoch\"):\n",
    "            logger.log_message(f\"Epoch {epoch + 1}/{n_epochs} - Shuffling and batching data\")\n",
    "\n",
    "            # Shuffle and split data into batches\n",
    "            X_train_batches, y_train_batches = shuffle_and_split(X_train_embeddings, y_train, batch_size)\n",
    "\n",
    "            # Train model on each batch\n",
    "            for X_batch, y_batch in zip(X_train_batches, y_train_batches):\n",
    "                model.fit(X_batch, y_batch)\n",
    "\n",
    "            # After training on batches, validate\n",
    "            preds_train = model.predict_proba(X_train_embeddings)[:, 1]\n",
    "            preds_val = model.predict_proba(X_val_embeddings)[:, 1]\n",
    "\n",
    "            # Compute training metrics\n",
    "            train_loss = log_loss(y_train, preds_train)\n",
    "            train_metrics_epoch = compute_metrics(preds_train, y_train)\n",
    "            train_metrics['loss'].append(train_loss)\n",
    "            for key, value in train_metrics_epoch.items():\n",
    "                train_metrics[key].append(value)\n",
    "\n",
    "            # Compute validation metrics\n",
    "            val_loss = log_loss(y_val, preds_val)\n",
    "            val_metrics_epoch = compute_metrics(preds_val, y_val)\n",
    "            val_metrics['loss'].append(val_loss)\n",
    "            for key, value in val_metrics_epoch.items():\n",
    "                val_metrics[key].append(value)\n",
    "\n",
    "            # Print metrics for the epoch\n",
    "            # logger.log_message(f\"Epoch {epoch + 1}/{n_epochs}\")\n",
    "            logger.log_message(f\"Train Loss: {train_loss:.4f}, Train Accuracy: {train_metrics_epoch['accuracy']:.4f}, \")\n",
    "            logger.log_message(f\"Train ROC AUC: {train_metrics_epoch['roc_auc']:.4f}, Precision: {train_metrics_epoch['precision']:.4f}, \")\n",
    "            logger.log_message(f\"Recall: {train_metrics_epoch['recall']:.4f}, F1: {train_metrics_epoch['f1']:.4f}\")\n",
    "            \n",
    "            print(f\"Epoch {epoch + 1}/{n_epochs}\")\n",
    "            print(f\"Train Loss: {train_loss:.4f}, Train Accuracy: {train_metrics_epoch['accuracy']:.4f}, \"\n",
    "                  f\"Train ROC AUC: {train_metrics_epoch['roc_auc']:.4f}, Precision: {train_metrics_epoch['precision']:.4f}, \"\n",
    "                  f\"Recall: {train_metrics_epoch['recall']:.4f}, F1: {train_metrics_epoch['f1']:.4f}\")\n",
    "            print(f\"Val Loss: {val_loss:.4f}, Val Accuracy: {val_metrics_epoch['accuracy']:.4f}, \"\n",
    "                  f\"Val ROC AUC: {val_metrics_epoch['roc_auc']:.4f}, Precision: {val_metrics_epoch['precision']:.4f}, \"\n",
    "                  f\"Recall: {val_metrics_epoch['recall']:.4f}, F1: {val_metrics_epoch['f1']:.4f}\")\n",
    "\n",
    "        # Save the trained model\n",
    "        joblib.dump(model, model_file_path)\n",
    "        print(f\"Model saved to {model_file_path}\")\n",
    "\n",
    "        # Plot accuracy and loss curves\n",
    "        plot_training_validation_curves(train_metrics, val_metrics, out_base_path, \"LogisticRegressionAnalysis.png\")\n",
    "\n",
    "    return model\n",
    "\n",
    "#######\n",
    "def train_xgboost(X_train_embeddings, y_train, X_val_embeddings, y_val, model_file_path, out_base_path, n_epochs=20, batch_size=32):\n",
    "    logger.log_message(f\"Training an XGBoost model for {n_epochs} epochs...\")\n",
    "\n",
    "    if os.path.exists(model_file_path):\n",
    "        print(\"Loading model from file...\")\n",
    "        model = joblib.load(model_file_path)\n",
    "    else:\n",
    "        print(\"Model not found. Training a new model...\")\n",
    "        # model = xgb.XGBClassifier(use_label_encoder=False, eval_metric='logloss', learning_rate=0.01, n_estimators=100)\n",
    "        model = xgb.XGBClassifier(use_label_encoder=False, eval_metric='logloss', learning_rate=0.01, n_estimators=100)\n",
    "\n",
    "        train_metrics = {'accuracy': [], 'loss': [], 'roc_auc': [], 'precision': [], 'recall': [], 'f1': []}\n",
    "        val_metrics = {'accuracy': [], 'loss': [], 'roc_auc': [], 'precision': [], 'recall': [], 'f1': []}\n",
    "\n",
    "        # Loop over epochs\n",
    "        for epoch in tqdm(range(n_epochs), desc=\"Epochs\", unit=\"epoch\"):\n",
    "            logger.log_message(f\"Epoch {epoch + 1}/{n_epochs} - Shuffling and batching data\")\n",
    "\n",
    "            # Shuffle and split data into batches\n",
    "            X_train_batches, y_train_batches = shuffle_and_split(X_train_embeddings, y_train, batch_size)\n",
    "\n",
    "            # Train model on each batch\n",
    "            for X_batch, y_batch in zip(X_train_batches, y_train_batches):\n",
    "                model.fit(X_batch, y_batch)\n",
    "\n",
    "            # After training on batches, validate\n",
    "            preds_train = model.predict_proba(X_train_embeddings)[:, 1]\n",
    "            preds_val = model.predict_proba(X_val_embeddings)[:, 1]\n",
    "\n",
    "            # Compute training metrics\n",
    "            train_loss = log_loss(y_train, preds_train)\n",
    "            train_metrics_epoch = compute_metrics(preds_train, y_train)\n",
    "            train_metrics['loss'].append(train_loss)\n",
    "            for key, value in train_metrics_epoch.items():\n",
    "                train_metrics[key].append(value)\n",
    "\n",
    "            # Compute validation metrics\n",
    "            val_loss = log_loss(y_val, preds_val)\n",
    "            val_metrics_epoch = compute_metrics(preds_val, y_val)\n",
    "            val_metrics['loss'].append(val_loss)\n",
    "            for key, value in val_metrics_epoch.items():\n",
    "                val_metrics[key].append(value)\n",
    "\n",
    "            # Print metrics for the epoch\n",
    "            # logger.log_message(f\"Epoch {epoch + 1}/{n_epochs}\")\n",
    "            logger.log_message(f\"Train Loss: {train_loss:.4f}, Train Accuracy: {train_metrics_epoch['accuracy']:.4f}, \")\n",
    "            logger.log_message(f\"Train ROC AUC: {train_metrics_epoch['roc_auc']:.4f}, Precision: {train_metrics_epoch['precision']:.4f}, \")\n",
    "            logger.log_message(f\"Recall: {train_metrics_epoch['recall']:.4f}, F1: {train_metrics_epoch['f1']:.4f}\")\n",
    "\n",
    "            print(f\"Epoch {epoch + 1}/{n_epochs}\")\n",
    "            print(f\"Train Loss: {train_loss:.4f}, Train Accuracy: {train_metrics_epoch['accuracy']:.4f}, \"\n",
    "                  f\"Train ROC AUC: {train_metrics_epoch['roc_auc']:.4f}, Precision: {train_metrics_epoch['precision']:.4f}, \"\n",
    "                  f\"Recall: {train_metrics_epoch['recall']:.4f}, F1: {train_metrics_epoch['f1']:.4f}\")\n",
    "            print(f\"Val Loss: {val_loss:.4f}, Val Accuracy: {val_metrics_epoch['accuracy']:.4f}, \"\n",
    "                  f\"Val ROC AUC: {val_metrics_epoch['roc_auc']:.4f}, Precision: {val_metrics_epoch['precision']:.4f}, \"\n",
    "                  f\"Recall: {val_metrics_epoch['recall']:.4f}, F1: {val_metrics_epoch['f1']:.4f}\")\n",
    "\n",
    "        # Save the trained model\n",
    "        joblib.dump(model, model_file_path)\n",
    "        print(f\"Model saved to {model_file_path}\")\n",
    "\n",
    "        # Plot accuracy and loss curves\n",
    "        plot_training_validation_curves(train_metrics, val_metrics, out_base_path, \"xgboost_training_validation_curves.jpg\")\n",
    "\n",
    "    return model\n",
    "\n",
    "#######\n",
    "def train_random_forest(X_train_embeddings, y_train, X_val_embeddings, y_val, model_file_path, out_base_path, n_epochs=20, batch_size=32):\n",
    "    logger.log_message(f\"Training a Random Forest model for {n_epochs} epochs...\")\n",
    "\n",
    "    if os.path.exists(model_file_path):\n",
    "        print(\"Loading model from file...\")\n",
    "        model = joblib.load(model_file_path)\n",
    "    else:\n",
    "        print(\"Model not found. Training a new model...\")\n",
    "        model = RandomForestClassifier(n_estimators=24, max_depth=10, random_state=42)\n",
    "\n",
    "        train_metrics = {'accuracy': [], 'loss': [], 'roc_auc': [], 'precision': [], 'recall': [], 'f1': []}\n",
    "        val_metrics = {'accuracy': [], 'loss': [], 'roc_auc': [], 'precision': [], 'recall': [], 'f1': []}\n",
    "\n",
    "        # Loop over epochs\n",
    "        for epoch in tqdm(range(n_epochs), desc=\"Epochs\", unit=\"epoch\"):\n",
    "            logger.log_message(f\"Epoch {epoch + 1}/{n_epochs} - Shuffling and batching data\")\n",
    "\n",
    "            # Shuffle and split data into batches\n",
    "            X_train_batches, y_train_batches = shuffle_and_split(X_train_embeddings, y_train, batch_size)\n",
    "\n",
    "            # Train model on each batch\n",
    "            for X_batch, y_batch in zip(X_train_batches, y_train_batches):\n",
    "                start = time.time()\n",
    "                model.fit(X_batch, y_batch)\n",
    "                # print(f\"Model fit time: {time.time() - start} seconds\")\n",
    "\n",
    "            # After training on batches, validate\n",
    "            preds_train = model.predict_proba(X_train_embeddings)[:, 1]\n",
    "            preds_val = model.predict_proba(X_val_embeddings)[:, 1]\n",
    "\n",
    "            # Compute training metrics\n",
    "            train_loss = log_loss(y_train, preds_train)\n",
    "            train_metrics_epoch = compute_metrics(preds_train, y_train)\n",
    "            train_metrics['loss'].append(train_loss)\n",
    "            for key, value in train_metrics_epoch.items():\n",
    "                train_metrics[key].append(value)\n",
    "\n",
    "            # Compute validation metrics\n",
    "            val_loss = log_loss(y_val, preds_val)\n",
    "            val_metrics_epoch = compute_metrics(preds_val, y_val)\n",
    "            val_metrics['loss'].append(val_loss)\n",
    "            for key, value in val_metrics_epoch.items():\n",
    "                val_metrics[key].append(value)\n",
    "\n",
    "            # Print metrics for the epoch\n",
    "            # logger.log_message(f\"Epoch {epoch + 1}/{n_epochs}\")\n",
    "            logger.log_message(f\"Train Loss: {train_loss:.4f}, Train Accuracy: {train_metrics_epoch['accuracy']:.4f}, \")\n",
    "            logger.log_message(f\"Train ROC AUC: {train_metrics_epoch['roc_auc']:.4f}, Precision: {train_metrics_epoch['precision']:.4f}, \")\n",
    "            logger.log_message(f\"Recall: {train_metrics_epoch['recall']:.4f}, F1: {train_metrics_epoch['f1']:.4f}\")\n",
    "\n",
    "            print(f\"Epoch {epoch + 1}/{n_epochs}\")\n",
    "            print(f\"Train Loss: {train_loss:.4f}, Train Accuracy: {train_metrics_epoch['accuracy']:.4f}, \"\n",
    "                  f\"Train ROC AUC: {train_metrics_epoch['roc_auc']:.4f}, Precision: {train_metrics_epoch['precision']:.4f}, \"\n",
    "                  f\"Recall: {train_metrics_epoch['recall']:.4f}, F1: {train_metrics_epoch['f1']:.4f}\")\n",
    "            print(f\"Val Loss: {val_loss:.4f}, Val Accuracy: {val_metrics_epoch['accuracy']:.4f}, \"\n",
    "                  f\"Val ROC AUC: {val_metrics_epoch['roc_auc']:.4f}, Precision: {val_metrics_epoch['precision']:.4f}, \"\n",
    "                  f\"Recall: {val_metrics_epoch['recall']:.4f}, F1: {val_metrics_epoch['f1']:.4f}\")\n",
    "\n",
    "        # Save the trained model\n",
    "        joblib.dump(model, model_file_path)\n",
    "        print(f\"Model saved to {model_file_path}\")\n",
    "\n",
    "        # Plot accuracy and loss curves\n",
    "        plot_training_validation_curves(train_metrics, val_metrics, out_base_path, \"RF_training_validation_curves.jpg\")\n",
    "\n",
    "    return model\n",
    "\n",
    "#######\n",
    "def train_linear_svc(X_train_embeddings, y_train, X_val_embeddings, y_val, model_file_path, out_base_path, n_epochs=20, batch_size=32):\n",
    "    logger.log_message(f\"Training a LinearSVC model for {n_epochs} epochs...\")\n",
    "\n",
    "    if os.path.exists(model_file_path):\n",
    "        print(\"Loading model from file...\")\n",
    "        model = joblib.load(model_file_path)\n",
    "    else:\n",
    "        print(\"Model not found. Training a new model...\")\n",
    "        # Instantiate the LinearSVC model\n",
    "        model = LinearSVC(max_iter=246, class_weight='balanced', tol=1e-4, C=1.0)\n",
    "\n",
    "        train_metrics = {'accuracy': [], 'loss': [], 'roc_auc': [], 'precision': [], 'recall': [], 'f1': []}\n",
    "        val_metrics = {'accuracy': [], 'loss': [], 'roc_auc': [], 'precision': [], 'recall': [], 'f1': []}\n",
    "\n",
    "        # Loop over epochs\n",
    "        for epoch in tqdm(range(n_epochs), desc=\"Epochs\", unit=\"epoch\"):\n",
    "            logger.log_message(f\"Epoch {epoch + 1}/{n_epochs} - Shuffling and batching data\")\n",
    "\n",
    "            # Shuffle and split data into batches\n",
    "            X_train_batches, y_train_batches = shuffle_and_split(X_train_embeddings, y_train, batch_size)\n",
    "\n",
    "            # Train model on each batch\n",
    "            for X_batch, y_batch in zip(X_train_batches, y_train_batches):\n",
    "                model.fit(X_batch, y_batch)\n",
    "\n",
    "            # After training on batches, validate\n",
    "            preds_train = model.decision_function(X_train_embeddings)\n",
    "            preds_val = model.decision_function(X_val_embeddings)\n",
    "\n",
    "            # Compute training metrics\n",
    "            train_loss = log_loss(y_train, preds_train)\n",
    "            train_metrics_epoch = compute_metrics(preds_train, y_train)\n",
    "            train_metrics['loss'].append(train_loss)\n",
    "            for key, value in train_metrics_epoch.items():\n",
    "                train_metrics[key].append(value)\n",
    "\n",
    "            # Compute validation metrics\n",
    "            val_loss = log_loss(y_val, preds_val)\n",
    "            val_metrics_epoch = compute_metrics(preds_val, y_val)\n",
    "            val_metrics['loss'].append(val_loss)\n",
    "            for key, value in val_metrics_epoch.items():\n",
    "                val_metrics[key].append(value)\n",
    "\n",
    "            # Print metrics for the epoch\n",
    "            logger.log_message(f\"Train Loss: {train_loss:.4f}, Train Accuracy: {train_metrics_epoch['accuracy']:.4f}, \")\n",
    "            logger.log_message(f\"Train ROC AUC: {train_metrics_epoch['roc_auc']:.4f}, Precision: {train_metrics_epoch['precision']:.4f}, \")\n",
    "            logger.log_message(f\"Recall: {train_metrics_epoch['recall']:.4f}, F1: {train_metrics_epoch['f1']:.4f}\")\n",
    "\n",
    "            print(f\"Epoch {epoch + 1}/{n_epochs}\")\n",
    "            print(f\"Train Loss: {train_loss:.4f}, Train Accuracy: {train_metrics_epoch['accuracy']:.4f}, \"\n",
    "                  f\"Train ROC AUC: {train_metrics_epoch['roc_auc']:.4f}, Precision: {train_metrics_epoch['precision']:.4f}, \"\n",
    "                  f\"Recall: {train_metrics_epoch['recall']:.4f}, F1: {train_metrics_epoch['f1']:.4f}\")\n",
    "            print(f\"Val Loss: {val_loss:.4f}, Val Accuracy: {val_metrics_epoch['accuracy']:.4f}, \"\n",
    "                  f\"Val ROC AUC: {val_metrics_epoch['roc_auc']:.4f}, Precision: {val_metrics_epoch['precision']:.4f}, \"\n",
    "                  f\"Recall: {val_metrics_epoch['recall']:.4f}, F1: {val_metrics_epoch['f1']:.4f}\")\n",
    "\n",
    "        # Save the trained model\n",
    "        joblib.dump(model, model_file_path)\n",
    "        print(f\"Model saved to {model_file_path}\")\n",
    "\n",
    "        # Plot accuracy and loss curves\n",
    "        plot_training_validation_curves(train_metrics, val_metrics, out_base_path, \"LinearSVC_training_validation_curves.png\")\n",
    "\n",
    "    return model\n",
    "\n",
    "#######\n",
    "def train_rnn(X_train, y_train, X_val, y_val, model_file_path, plot_file_path, n_epochs=20, batch_size=32):\n",
    "    \"\"\"\n",
    "    Function to train a Bidirectional LSTM RNN using TensorFlow/Keras.\n",
    "    It checks if the model already exists, otherwise it trains and saves the model.\n",
    "    \"\"\"\n",
    "    # Create TensorFlow datasets from the input data\n",
    "    train_dataset = tf.data.Dataset.from_tensor_slices((X_train, y_train)).batch(batch_size)\n",
    "    val_dataset = tf.data.Dataset.from_tensor_slices((X_val, y_val)).batch(batch_size)\n",
    "\n",
    "    # Check if the model already exists\n",
    "    if os.path.exists(model_file_path):\n",
    "        print(\"Loading model from file...\")\n",
    "        model = tf.keras.models.load_model(model_file_path)\n",
    "    else:\n",
    "        print(\"Model not found. Training a new model...\")\n",
    "\n",
    "        # Text vectorization layer\n",
    "        VOCAB_SIZE = 1000\n",
    "        encoder = tf.keras.layers.TextVectorization(max_tokens=VOCAB_SIZE)\n",
    "        encoder.adapt(train_dataset.map(lambda text, label: text))\n",
    "\n",
    "        # Define the Bidirectional LSTM RNN model\n",
    "        model = tf.keras.Sequential([\n",
    "            encoder,\n",
    "            tf.keras.layers.Embedding(input_dim=len(encoder.get_vocabulary()), output_dim=64, mask_zero=True),\n",
    "            tf.keras.layers.Bidirectional(tf.keras.layers.LSTM(64)),\n",
    "            tf.keras.layers.Dense(64, activation='relu'),\n",
    "            tf.keras.layers.Dense(1)\n",
    "        ])\n",
    "\n",
    "        # Compile the model\n",
    "        model.compile(loss=tf.keras.losses.BinaryCrossentropy(from_logits=True),\n",
    "                      optimizer=tf.keras.optimizers.Adam(1e-4),\n",
    "                      metrics=['accuracy', tf.keras.metrics.AUC(name='auc')])\n",
    "\n",
    "        # Train the model\n",
    "        history = model.fit(train_dataset, epochs=n_epochs, validation_data=val_dataset)\n",
    "\n",
    "        # Save the model\n",
    "        model.save(model_file_path)\n",
    "        print(f\"Model saved to {model_file_path}\")\n",
    "\n",
    "        # Plot training and validation accuracy and loss\n",
    "        def plot_graphs(history, metric):\n",
    "            plt.plot(history.history[metric])\n",
    "            plt.plot(history.history['val_' + metric], '')\n",
    "            plt.xlabel(\"Epochs\")\n",
    "            plt.ylabel(metric)\n",
    "            plt.legend([metric, 'val_' + metric])\n",
    "\n",
    "        plt.figure(figsize=(16, 8))\n",
    "        plt.subplot(1, 2, 1)\n",
    "        plot_graphs(history, 'accuracy')\n",
    "        plt.ylim(None, 1)\n",
    "        plt.subplot(1, 2, 2)\n",
    "        plot_graphs(history, 'loss')\n",
    "        plt.ylim(0, None)\n",
    "\n",
    "        # Save the plot\n",
    "        plt.savefig(plot_file_path)\n",
    "        print(f\"Training plot saved to {plot_file_path}\")\n",
    "        plt.show()\n",
    "\n",
    "    return model\n",
    "\n",
    "#######\n",
    "def preprocess_function(examples, tokenizer):\n",
    "    return tokenizer(examples[\"processed_text_swr\"], max_length=128, padding=True, truncation=True)\n",
    "\n",
    "def plot_graphs(log_history, metric):\n",
    "    epochs = [entry['epoch'] for entry in log_history if metric in entry]\n",
    "    metric_values = [entry[metric] for entry in log_history if metric in entry]\n",
    "    plt.plot(epochs, metric_values)\n",
    "    plt.xlabel(\"Epochs\")\n",
    "    plt.ylabel(metric)\n",
    "    plt.legend([metric])\n",
    "\n",
    "def train_distilbert(df_ds, model_file_path, image_file_path, n_epochs=20):\n",
    "    \"\"\"\n",
    "    Function to train a DistilBERT model. \n",
    "    It checks if the model already exists, otherwise it trains and saves the model.\n",
    "    \"\"\"\n",
    "    # Check if model exists\n",
    "    if os.path.exists(model_file_path):\n",
    "        print(\"Loading model from file...\")\n",
    "        model = AutoModelForSequenceClassification.from_pretrained(model_file_path)\n",
    "    else:\n",
    "        print(\"Model not found. Training a new model...\")\n",
    "\n",
    "        # Split dataset\n",
    "        train_essays, test_essays = train_test_split(df_ds, test_size=0.2, random_state=42)\n",
    "        train_essays, val_essays = train_test_split(train_essays, test_size=0.33, random_state=42)\n",
    "\n",
    "        # Tokenizer and model\n",
    "        tokenizer = AutoTokenizer.from_pretrained(\"distilbert-base-uncased\")\n",
    "        model = AutoModelForSequenceClassification.from_pretrained(\"distilbert-base-uncased\", num_labels=2)\n",
    "\n",
    "        # Create dataset\n",
    "        train_essay_dataset = Dataset.from_pandas(train_essays)\n",
    "        val_essay_dataset = Dataset.from_pandas(val_essays)\n",
    "        \n",
    "        # Tokenize datasets, passing the tokenizer as an argument to the map function\n",
    "        tokenized_train_essays = train_essay_dataset.map(lambda examples: preprocess_function(examples, tokenizer), batched=True)\n",
    "        tokenized_val_essays = val_essay_dataset.map(lambda examples: preprocess_function(examples, tokenizer), batched=True)\n",
    "\n",
    "        # Define training arguments\n",
    "        training_args = TrainingArguments(\n",
    "            output_dir=\"/kaggle/working/\",\n",
    "            learning_rate=2e-5,\n",
    "            num_train_epochs=n_epochs,\n",
    "            weight_decay=0.01,\n",
    "            evaluation_strategy=\"epoch\",\n",
    "            save_strategy=\"epoch\",\n",
    "            report_to='none'\n",
    "        )\n",
    "\n",
    "        # Initialize Trainer\n",
    "        trainer = Trainer(\n",
    "            model=model,\n",
    "            args=training_args,\n",
    "            train_dataset=tokenized_train_essays,\n",
    "            eval_dataset=tokenized_val_essays,\n",
    "            tokenizer=tokenizer,\n",
    "            compute_metrics=compute_metrics_bert\n",
    "        )\n",
    "\n",
    "        # Train the model\n",
    "        trainer.train()\n",
    "\n",
    "        # Save the trained model\n",
    "        model.save_pretrained(model_file_path)  # Updated to Hugging Face save method\n",
    "        tokenizer.save_pretrained(model_file_path)  # Save tokenizer too\n",
    "        print(f\"Model saved to {model_file_path}\")\n",
    "\n",
    "        # Plot accuracy and loss graphs\n",
    "        plt.figure(figsize=(16, 8))\n",
    "        plt.subplot(1, 2, 1)\n",
    "        plot_graphs(trainer.state.log_history, 'eval_accuracy')\n",
    "        plt.ylim(None, 1)\n",
    "        plt.subplot(1, 2, 2)\n",
    "        plot_graphs(trainer.state.log_history, 'eval_loss')\n",
    "        plt.ylim(0, None)\n",
    "\n",
    "        # Save the plot\n",
    "        plt.savefig(image_file_path)\n",
    "        plt.show()\n",
    "        print(f\"Training plot saved as {image_file_path}\")\n",
    "\n",
    "    return model\n",
    "\n",
    "\n",
    "# ============================================================================================\n",
    "\n",
    "\n"
   ]
  },
  {
   "cell_type": "markdown",
   "id": "a6a03cef",
   "metadata": {
    "papermill": {
     "duration": 0.014291,
     "end_time": "2024-10-10T03:53:41.080755",
     "exception": false,
     "start_time": "2024-10-10T03:53:41.066464",
     "status": "completed"
    },
    "tags": []
   },
   "source": [
    "# Main Function"
   ]
  },
  {
   "cell_type": "code",
   "execution_count": 5,
   "id": "b93d8545",
   "metadata": {
    "execution": {
     "iopub.execute_input": "2024-10-10T03:53:41.112593Z",
     "iopub.status.busy": "2024-10-10T03:53:41.112133Z",
     "iopub.status.idle": "2024-10-10T05:24:29.043645Z",
     "shell.execute_reply": "2024-10-10T05:24:29.041271Z"
    },
    "papermill": {
     "duration": 5447.951631,
     "end_time": "2024-10-10T05:24:29.046971",
     "exception": true,
     "start_time": "2024-10-10T03:53:41.095340",
     "status": "failed"
    },
    "tags": []
   },
   "outputs": [
    {
     "name": "stderr",
     "output_type": "stream",
     "text": [
      "2024-10-10 03:53:51,091 - INFO - loading projection weights from /kaggle/input/pdz-dath-ds/output_w2v.txt\n"
     ]
    },
    {
     "name": "stdout",
     "output_type": "stream",
     "text": [
      "Full set size: 75340\n",
      "Training set size: 40382\n",
      "Validation set size: 19890\n",
      "Test set size: 15068\n"
     ]
    },
    {
     "name": "stderr",
     "output_type": "stream",
     "text": [
      "2024-10-10 03:56:04,507 - INFO - KeyedVectors lifecycle event {'msg': 'loaded (400000, 300) matrix of type float32 from /kaggle/input/pdz-dath-ds/output_w2v.txt', 'binary': False, 'encoding': 'utf8', 'datetime': '2024-10-10T03:56:04.507824', 'gensim': '4.3.3', 'python': '3.10.14 | packaged by conda-forge | (main, Mar 20 2024, 12:45:18) [GCC 12.3.0]', 'platform': 'Linux-5.15.154+-x86_64-with-glibc2.35', 'event': 'load_word2vec_format'}\n",
      "2024-10-10 03:59:57,092 - INFO - Training a Logistic Regression model for 20 epochs...\n"
     ]
    },
    {
     "name": "stdout",
     "output_type": "stream",
     "text": [
      "Model not found. Training a new model...\n"
     ]
    },
    {
     "name": "stderr",
     "output_type": "stream",
     "text": [
      "Epochs:   0%|          | 0/20 [00:00<?, ?epoch/s]2024-10-10 03:59:57,098 - INFO - Epoch 1/20 - Shuffling and batching data\n",
      "2024-10-10 04:00:05,589 - INFO - Train Loss: 0.6922, Train Accuracy: 0.8505, \n",
      "2024-10-10 04:00:05,591 - INFO - Train ROC AUC: 0.9114, Precision: 0.8547, \n",
      "2024-10-10 04:00:05,592 - INFO - Recall: 0.7220, F1: 0.7828\n",
      "Epochs:   5%|▌         | 1/20 [00:08<02:41,  8.50s/epoch]2024-10-10 04:00:05,594 - INFO - Epoch 2/20 - Shuffling and batching data\n"
     ]
    },
    {
     "name": "stdout",
     "output_type": "stream",
     "text": [
      "Epoch 1/20\n",
      "Train Loss: 0.6922, Train Accuracy: 0.8505, Train ROC AUC: 0.9114, Precision: 0.8547, Recall: 0.7220, F1: 0.7828\n",
      "Val Loss: 0.6922, Val Accuracy: 0.8523, Val ROC AUC: 0.9102, Precision: 0.8520, Recall: 0.7293, F1: 0.7859\n"
     ]
    },
    {
     "name": "stderr",
     "output_type": "stream",
     "text": [
      "2024-10-10 04:00:13,460 - INFO - Train Loss: 0.6923, Train Accuracy: 0.8500, \n",
      "2024-10-10 04:00:13,461 - INFO - Train ROC AUC: 0.8953, Precision: 0.8421, \n",
      "2024-10-10 04:00:13,462 - INFO - Recall: 0.7359, F1: 0.7854\n",
      "Epochs:  10%|█         | 2/20 [00:16<02:26,  8.13s/epoch]2024-10-10 04:00:13,464 - INFO - Epoch 3/20 - Shuffling and batching data\n"
     ]
    },
    {
     "name": "stdout",
     "output_type": "stream",
     "text": [
      "Epoch 2/20\n",
      "Train Loss: 0.6923, Train Accuracy: 0.8500, Train ROC AUC: 0.8953, Precision: 0.8421, Recall: 0.7359, F1: 0.7854\n",
      "Val Loss: 0.6923, Val Accuracy: 0.8463, Val ROC AUC: 0.8917, Precision: 0.8341, Recall: 0.7320, F1: 0.7797\n"
     ]
    },
    {
     "name": "stderr",
     "output_type": "stream",
     "text": [
      "2024-10-10 04:00:21,976 - INFO - Train Loss: 0.6924, Train Accuracy: 0.8324, \n",
      "2024-10-10 04:00:21,978 - INFO - Train ROC AUC: 0.8899, Precision: 0.7664, \n",
      "2024-10-10 04:00:21,979 - INFO - Recall: 0.7920, F1: 0.7790\n",
      "Epochs:  15%|█▌        | 3/20 [00:24<02:21,  8.31s/epoch]2024-10-10 04:00:21,982 - INFO - Epoch 4/20 - Shuffling and batching data\n"
     ]
    },
    {
     "name": "stdout",
     "output_type": "stream",
     "text": [
      "Epoch 3/20\n",
      "Train Loss: 0.6924, Train Accuracy: 0.8324, Train ROC AUC: 0.8899, Precision: 0.7664, Recall: 0.7920, F1: 0.7790\n",
      "Val Loss: 0.6924, Val Accuracy: 0.8277, Val ROC AUC: 0.8857, Precision: 0.7577, Recall: 0.7884, F1: 0.7728\n"
     ]
    },
    {
     "name": "stderr",
     "output_type": "stream",
     "text": [
      "2024-10-10 04:00:30,471 - INFO - Train Loss: 0.6927, Train Accuracy: 0.7560, \n",
      "2024-10-10 04:00:30,473 - INFO - Train ROC AUC: 0.8453, Precision: 0.6489, \n",
      "2024-10-10 04:00:30,474 - INFO - Recall: 0.7534, F1: 0.6973\n",
      "Epochs:  20%|██        | 4/20 [00:33<02:14,  8.38s/epoch]2024-10-10 04:00:30,476 - INFO - Epoch 5/20 - Shuffling and batching data\n"
     ]
    },
    {
     "name": "stdout",
     "output_type": "stream",
     "text": [
      "Epoch 4/20\n",
      "Train Loss: 0.6927, Train Accuracy: 0.7560, Train ROC AUC: 0.8453, Precision: 0.6489, Recall: 0.7534, F1: 0.6973\n",
      "Val Loss: 0.6927, Val Accuracy: 0.7588, Val ROC AUC: 0.8512, Precision: 0.6480, Recall: 0.7681, F1: 0.7029\n"
     ]
    },
    {
     "name": "stderr",
     "output_type": "stream",
     "text": [
      "2024-10-10 04:00:39,061 - INFO - Train Loss: 0.6925, Train Accuracy: 0.8199, \n",
      "2024-10-10 04:00:39,062 - INFO - Train ROC AUC: 0.8733, Precision: 0.7420, \n",
      "2024-10-10 04:00:39,063 - INFO - Recall: 0.7928, F1: 0.7666\n",
      "Epochs:  25%|██▌       | 5/20 [00:41<02:06,  8.46s/epoch]2024-10-10 04:00:39,066 - INFO - Epoch 6/20 - Shuffling and batching data\n"
     ]
    },
    {
     "name": "stdout",
     "output_type": "stream",
     "text": [
      "Epoch 5/20\n",
      "Train Loss: 0.6925, Train Accuracy: 0.8199, Train ROC AUC: 0.8733, Precision: 0.7420, Recall: 0.7928, F1: 0.7666\n",
      "Val Loss: 0.6926, Val Accuracy: 0.8158, Val ROC AUC: 0.8663, Precision: 0.7342, Recall: 0.7906, F1: 0.7614\n"
     ]
    },
    {
     "name": "stderr",
     "output_type": "stream",
     "text": [
      "2024-10-10 04:00:47,904 - INFO - Train Loss: 0.6923, Train Accuracy: 0.7794, \n",
      "2024-10-10 04:00:47,905 - INFO - Train ROC AUC: 0.8614, Precision: 0.6821, \n",
      "2024-10-10 04:00:47,907 - INFO - Recall: 0.7651, F1: 0.7212\n",
      "Epochs:  30%|███       | 6/20 [00:50<02:00,  8.59s/epoch]2024-10-10 04:00:47,909 - INFO - Epoch 7/20 - Shuffling and batching data\n"
     ]
    },
    {
     "name": "stdout",
     "output_type": "stream",
     "text": [
      "Epoch 6/20\n",
      "Train Loss: 0.6923, Train Accuracy: 0.7794, Train ROC AUC: 0.8614, Precision: 0.6821, Recall: 0.7651, F1: 0.7212\n",
      "Val Loss: 0.6923, Val Accuracy: 0.7771, Val ROC AUC: 0.8569, Precision: 0.6766, Recall: 0.7666, F1: 0.7188\n"
     ]
    },
    {
     "name": "stderr",
     "output_type": "stream",
     "text": [
      "2024-10-10 04:00:56,408 - INFO - Train Loss: 0.6922, Train Accuracy: 0.8593, \n",
      "2024-10-10 04:00:56,410 - INFO - Train ROC AUC: 0.8968, Precision: 0.8450, \n",
      "2024-10-10 04:00:56,412 - INFO - Recall: 0.7626, F1: 0.8017\n",
      "Epochs:  35%|███▌      | 7/20 [00:59<01:51,  8.56s/epoch]2024-10-10 04:00:56,420 - INFO - Epoch 8/20 - Shuffling and batching data\n"
     ]
    },
    {
     "name": "stdout",
     "output_type": "stream",
     "text": [
      "Epoch 7/20\n",
      "Train Loss: 0.6922, Train Accuracy: 0.8593, Train ROC AUC: 0.8968, Precision: 0.8450, Recall: 0.7626, F1: 0.8017\n",
      "Val Loss: 0.6922, Val Accuracy: 0.8560, Val ROC AUC: 0.8938, Precision: 0.8346, Recall: 0.7638, F1: 0.7976\n"
     ]
    },
    {
     "name": "stderr",
     "output_type": "stream",
     "text": [
      "2024-10-10 04:01:04,861 - INFO - Train Loss: 0.6921, Train Accuracy: 0.8613, \n",
      "2024-10-10 04:01:04,863 - INFO - Train ROC AUC: 0.8892, Precision: 0.8477, \n",
      "2024-10-10 04:01:04,864 - INFO - Recall: 0.7658, F1: 0.8047\n",
      "Epochs:  40%|████      | 8/20 [01:07<01:42,  8.53s/epoch]2024-10-10 04:01:04,866 - INFO - Epoch 9/20 - Shuffling and batching data\n"
     ]
    },
    {
     "name": "stdout",
     "output_type": "stream",
     "text": [
      "Epoch 8/20\n",
      "Train Loss: 0.6921, Train Accuracy: 0.8613, Train ROC AUC: 0.8892, Precision: 0.8477, Recall: 0.7658, F1: 0.8047\n",
      "Val Loss: 0.6921, Val Accuracy: 0.8580, Val ROC AUC: 0.8845, Precision: 0.8374, Recall: 0.7666, F1: 0.8005\n"
     ]
    },
    {
     "name": "stderr",
     "output_type": "stream",
     "text": [
      "2024-10-10 04:01:13,385 - INFO - Train Loss: 0.6923, Train Accuracy: 0.8677, \n",
      "2024-10-10 04:01:13,387 - INFO - Train ROC AUC: 0.9149, Precision: 0.8364, \n",
      "2024-10-10 04:01:13,389 - INFO - Recall: 0.8022, F1: 0.8189\n",
      "Epochs:  45%|████▌     | 9/20 [01:16<01:33,  8.53s/epoch]2024-10-10 04:01:13,393 - INFO - Epoch 10/20 - Shuffling and batching data\n"
     ]
    },
    {
     "name": "stdout",
     "output_type": "stream",
     "text": [
      "Epoch 9/20\n",
      "Train Loss: 0.6923, Train Accuracy: 0.8677, Train ROC AUC: 0.9149, Precision: 0.8364, Recall: 0.8022, F1: 0.8189\n",
      "Val Loss: 0.6923, Val Accuracy: 0.8673, Val ROC AUC: 0.9141, Precision: 0.8319, Recall: 0.8057, F1: 0.8186\n"
     ]
    },
    {
     "name": "stderr",
     "output_type": "stream",
     "text": [
      "2024-10-10 04:01:22,987 - INFO - Train Loss: 0.6926, Train Accuracy: 0.7781, \n",
      "2024-10-10 04:01:22,988 - INFO - Train ROC AUC: 0.8396, Precision: 0.6915, \n",
      "2024-10-10 04:01:22,994 - INFO - Recall: 0.7316, F1: 0.7110\n",
      "Epochs:  50%|█████     | 10/20 [01:25<01:28,  8.86s/epoch]2024-10-10 04:01:23,000 - INFO - Epoch 11/20 - Shuffling and batching data\n"
     ]
    },
    {
     "name": "stdout",
     "output_type": "stream",
     "text": [
      "Epoch 10/20\n",
      "Train Loss: 0.6926, Train Accuracy: 0.7781, Train ROC AUC: 0.8396, Precision: 0.6915, Recall: 0.7316, F1: 0.7110\n",
      "Val Loss: 0.6926, Val Accuracy: 0.7769, Val ROC AUC: 0.8380, Precision: 0.6873, Recall: 0.7329, F1: 0.7094\n"
     ]
    },
    {
     "name": "stderr",
     "output_type": "stream",
     "text": [
      "2024-10-10 04:01:31,573 - INFO - Train Loss: 0.6922, Train Accuracy: 0.8438, \n",
      "2024-10-10 04:01:31,574 - INFO - Train ROC AUC: 0.8874, Precision: 0.7773, \n",
      "2024-10-10 04:01:31,575 - INFO - Recall: 0.8149, F1: 0.7956\n",
      "Epochs:  55%|█████▌    | 11/20 [01:34<01:18,  8.77s/epoch]2024-10-10 04:01:31,577 - INFO - Epoch 12/20 - Shuffling and batching data\n"
     ]
    },
    {
     "name": "stdout",
     "output_type": "stream",
     "text": [
      "Epoch 11/20\n",
      "Train Loss: 0.6922, Train Accuracy: 0.8438, Train ROC AUC: 0.8874, Precision: 0.7773, Recall: 0.8149, F1: 0.7956\n",
      "Val Loss: 0.6922, Val Accuracy: 0.8415, Val ROC AUC: 0.8848, Precision: 0.7703, Recall: 0.8169, F1: 0.7930\n"
     ]
    },
    {
     "name": "stderr",
     "output_type": "stream",
     "text": [
      "2024-10-10 04:01:40,159 - INFO - Train Loss: 0.6924, Train Accuracy: 0.8294, \n",
      "2024-10-10 04:01:40,160 - INFO - Train ROC AUC: 0.9010, Precision: 0.7557, \n",
      "2024-10-10 04:01:40,162 - INFO - Recall: 0.8021, F1: 0.7782\n",
      "Epochs:  60%|██████    | 12/20 [01:43<01:09,  8.72s/epoch]2024-10-10 04:01:40,164 - INFO - Epoch 13/20 - Shuffling and batching data\n"
     ]
    },
    {
     "name": "stdout",
     "output_type": "stream",
     "text": [
      "Epoch 12/20\n",
      "Train Loss: 0.6924, Train Accuracy: 0.8294, Train ROC AUC: 0.9010, Precision: 0.7557, Recall: 0.8021, F1: 0.7782\n",
      "Val Loss: 0.6924, Val Accuracy: 0.8270, Val ROC AUC: 0.9024, Precision: 0.7482, Recall: 0.8054, F1: 0.7758\n"
     ]
    },
    {
     "name": "stderr",
     "output_type": "stream",
     "text": [
      "2024-10-10 04:01:48,799 - INFO - Train Loss: 0.6924, Train Accuracy: 0.7679, \n",
      "2024-10-10 04:01:48,801 - INFO - Train ROC AUC: 0.8433, Precision: 0.6701, \n",
      "2024-10-10 04:01:48,802 - INFO - Recall: 0.7443, F1: 0.7052\n",
      "Epochs:  65%|██████▌   | 13/20 [01:51<01:00,  8.69s/epoch]2024-10-10 04:01:48,804 - INFO - Epoch 14/20 - Shuffling and batching data\n"
     ]
    },
    {
     "name": "stdout",
     "output_type": "stream",
     "text": [
      "Epoch 13/20\n",
      "Train Loss: 0.6924, Train Accuracy: 0.7679, Train ROC AUC: 0.8433, Precision: 0.6701, Recall: 0.7443, F1: 0.7052\n",
      "Val Loss: 0.6923, Val Accuracy: 0.7692, Val ROC AUC: 0.8497, Precision: 0.6688, Recall: 0.7506, F1: 0.7073\n"
     ]
    },
    {
     "name": "stderr",
     "output_type": "stream",
     "text": [
      "2024-10-10 04:01:57,368 - INFO - Train Loss: 0.6923, Train Accuracy: 0.8632, \n",
      "2024-10-10 04:01:57,369 - INFO - Train ROC AUC: 0.9105, Precision: 0.8550, \n",
      "2024-10-10 04:01:57,371 - INFO - Recall: 0.7624, F1: 0.8061\n",
      "Epochs:  70%|███████   | 14/20 [02:00<00:51,  8.66s/epoch]2024-10-10 04:01:57,373 - INFO - Epoch 15/20 - Shuffling and batching data\n"
     ]
    },
    {
     "name": "stdout",
     "output_type": "stream",
     "text": [
      "Epoch 14/20\n",
      "Train Loss: 0.6923, Train Accuracy: 0.8632, Train ROC AUC: 0.9105, Precision: 0.8550, Recall: 0.7624, F1: 0.8061\n",
      "Val Loss: 0.6923, Val Accuracy: 0.8595, Val ROC AUC: 0.9088, Precision: 0.8448, Recall: 0.7617, F1: 0.8011\n"
     ]
    },
    {
     "name": "stderr",
     "output_type": "stream",
     "text": [
      "2024-10-10 04:02:05,886 - INFO - Train Loss: 0.6923, Train Accuracy: 0.8282, \n",
      "2024-10-10 04:02:05,889 - INFO - Train ROC AUC: 0.9051, Precision: 0.7524, \n",
      "2024-10-10 04:02:05,890 - INFO - Recall: 0.8043, F1: 0.7775\n",
      "Epochs:  75%|███████▌  | 15/20 [02:08<00:43,  8.62s/epoch]2024-10-10 04:02:05,894 - INFO - Epoch 16/20 - Shuffling and batching data\n"
     ]
    },
    {
     "name": "stdout",
     "output_type": "stream",
     "text": [
      "Epoch 15/20\n",
      "Train Loss: 0.6923, Train Accuracy: 0.8282, Train ROC AUC: 0.9051, Precision: 0.7524, Recall: 0.8043, F1: 0.7775\n",
      "Val Loss: 0.6923, Val Accuracy: 0.8274, Val ROC AUC: 0.9061, Precision: 0.7460, Recall: 0.8118, F1: 0.7775\n"
     ]
    },
    {
     "name": "stderr",
     "output_type": "stream",
     "text": [
      "2024-10-10 04:02:14,724 - INFO - Train Loss: 0.6924, Train Accuracy: 0.8543, \n",
      "2024-10-10 04:02:14,725 - INFO - Train ROC AUC: 0.8974, Precision: 0.8105, \n",
      "2024-10-10 04:02:14,726 - INFO - Recall: 0.7955, F1: 0.8029\n",
      "Epochs:  80%|████████  | 16/20 [02:17<00:34,  8.68s/epoch]2024-10-10 04:02:14,728 - INFO - Epoch 17/20 - Shuffling and batching data\n"
     ]
    },
    {
     "name": "stdout",
     "output_type": "stream",
     "text": [
      "Epoch 16/20\n",
      "Train Loss: 0.6924, Train Accuracy: 0.8543, Train ROC AUC: 0.8974, Precision: 0.8105, Recall: 0.7955, F1: 0.8029\n",
      "Val Loss: 0.6924, Val Accuracy: 0.8508, Val ROC AUC: 0.8923, Precision: 0.8039, Recall: 0.7916, F1: 0.7977\n"
     ]
    },
    {
     "name": "stderr",
     "output_type": "stream",
     "text": [
      "2024-10-10 04:02:23,550 - INFO - Train Loss: 0.6925, Train Accuracy: 0.7908, \n",
      "2024-10-10 04:02:23,552 - INFO - Train ROC AUC: 0.8681, Precision: 0.7441, \n",
      "2024-10-10 04:02:23,553 - INFO - Recall: 0.6695, F1: 0.7049\n",
      "Epochs:  85%|████████▌ | 17/20 [02:26<00:26,  8.72s/epoch]2024-10-10 04:02:23,555 - INFO - Epoch 18/20 - Shuffling and batching data\n"
     ]
    },
    {
     "name": "stdout",
     "output_type": "stream",
     "text": [
      "Epoch 17/20\n",
      "Train Loss: 0.6925, Train Accuracy: 0.7908, Train ROC AUC: 0.8681, Precision: 0.7441, Recall: 0.6695, F1: 0.7049\n",
      "Val Loss: 0.6925, Val Accuracy: 0.7926, Val ROC AUC: 0.8711, Precision: 0.7391, Recall: 0.6829, F1: 0.7098\n"
     ]
    },
    {
     "name": "stderr",
     "output_type": "stream",
     "text": [
      "2024-10-10 04:02:32,746 - INFO - Train Loss: 0.6922, Train Accuracy: 0.7844, \n",
      "2024-10-10 04:02:32,748 - INFO - Train ROC AUC: 0.8492, Precision: 0.6932, \n",
      "2024-10-10 04:02:32,749 - INFO - Recall: 0.7574, F1: 0.7239\n",
      "Epochs:  90%|█████████ | 18/20 [02:35<00:17,  8.87s/epoch]2024-10-10 04:02:32,751 - INFO - Epoch 19/20 - Shuffling and batching data\n"
     ]
    },
    {
     "name": "stdout",
     "output_type": "stream",
     "text": [
      "Epoch 18/20\n",
      "Train Loss: 0.6922, Train Accuracy: 0.7844, Train ROC AUC: 0.8492, Precision: 0.6932, Recall: 0.7574, F1: 0.7239\n",
      "Val Loss: 0.6922, Val Accuracy: 0.7855, Val ROC AUC: 0.8486, Precision: 0.6916, Recall: 0.7632, F1: 0.7256\n"
     ]
    },
    {
     "name": "stderr",
     "output_type": "stream",
     "text": [
      "2024-10-10 04:02:41,590 - INFO - Train Loss: 0.6921, Train Accuracy: 0.8469, \n",
      "2024-10-10 04:02:41,592 - INFO - Train ROC AUC: 0.8875, Precision: 0.8668, \n",
      "2024-10-10 04:02:41,593 - INFO - Recall: 0.6966, F1: 0.7725\n",
      "Epochs:  95%|█████████▌| 19/20 [02:44<00:08,  8.86s/epoch]2024-10-10 04:02:41,596 - INFO - Epoch 20/20 - Shuffling and batching data\n"
     ]
    },
    {
     "name": "stdout",
     "output_type": "stream",
     "text": [
      "Epoch 19/20\n",
      "Train Loss: 0.6921, Train Accuracy: 0.8469, Train ROC AUC: 0.8875, Precision: 0.8668, Recall: 0.6966, F1: 0.7725\n",
      "Val Loss: 0.6921, Val Accuracy: 0.8440, Val ROC AUC: 0.8833, Precision: 0.8586, Recall: 0.6948, F1: 0.7680\n"
     ]
    },
    {
     "name": "stderr",
     "output_type": "stream",
     "text": [
      "2024-10-10 04:02:50,403 - INFO - Train Loss: 0.6925, Train Accuracy: 0.8030, \n",
      "2024-10-10 04:02:50,404 - INFO - Train ROC AUC: 0.8512, Precision: 0.7788, \n",
      "2024-10-10 04:02:50,406 - INFO - Recall: 0.6590, F1: 0.7139\n",
      "Epochs: 100%|██████████| 20/20 [02:53<00:00,  8.67s/epoch]\n"
     ]
    },
    {
     "name": "stdout",
     "output_type": "stream",
     "text": [
      "Epoch 20/20\n",
      "Train Loss: 0.6925, Train Accuracy: 0.8030, Train ROC AUC: 0.8512, Precision: 0.7788, Recall: 0.6590, F1: 0.7139\n",
      "Val Loss: 0.6925, Val Accuracy: 0.7989, Val ROC AUC: 0.8485, Precision: 0.7699, Recall: 0.6546, F1: 0.7076\n",
      "Model saved to /kaggle/working/logistic_regression_model.pkl\n"
     ]
    },
    {
     "data": {
      "image/png": "[encoded data removed]",
      "text/plain": [
       "<Figure size 1200x500 with 2 Axes>"
      ]
     },
     "metadata": {},
     "output_type": "display_data"
    },
    {
     "name": "stderr",
     "output_type": "stream",
     "text": [
      "2024-10-10 04:02:51,582 - INFO - Testing Results:\n",
      "2024-10-10 04:02:51,584 - INFO - Test Loss: 0.6925, Test Accuracy: 0.8079, \n",
      "2024-10-10 04:02:51,586 - INFO - Test ROC AUC: 0.8539, Precision: 0.7833, \n",
      "2024-10-10 04:02:51,588 - INFO - Recall: 0.6673, F1: 0.7206\n",
      "2024-10-10 04:02:51,590 - INFO - Training an XGBoost model for 20 epochs...\n"
     ]
    },
    {
     "name": "stdout",
     "output_type": "stream",
     "text": [
      "Plot saved to: /kaggle/working/LogisticRegressionAnalysis.png\n",
      "Testing Logistic Regression Model\n",
      "Test Loss: 0.6925, Test Accuracy: 0.8079, Test ROC AUC: 0.8539, Precision: 0.7833, Recall: 0.6673, F1: 0.7206\n",
      "Model not found. Training a new model...\n"
     ]
    },
    {
     "name": "stderr",
     "output_type": "stream",
     "text": [
      "Epochs:   0%|          | 0/20 [00:00<?, ?epoch/s]2024-10-10 04:02:51,596 - INFO - Epoch 1/20 - Shuffling and batching data\n",
      "2024-10-10 04:04:30,311 - INFO - Train Loss: 0.5912, Train Accuracy: 0.7030, \n",
      "2024-10-10 04:04:30,312 - INFO - Train ROC AUC: 0.8115, Precision: 0.8563, \n",
      "2024-10-10 04:04:30,313 - INFO - Recall: 0.2448, F1: 0.3808\n",
      "Epochs:   5%|▌         | 1/20 [01:38<31:15, 98.72s/epoch]2024-10-10 04:04:30,315 - INFO - Epoch 2/20 - Shuffling and batching data\n"
     ]
    },
    {
     "name": "stdout",
     "output_type": "stream",
     "text": [
      "Epoch 1/20\n",
      "Train Loss: 0.5912, Train Accuracy: 0.7030, Train ROC AUC: 0.8115, Precision: 0.8563, Recall: 0.2448, F1: 0.3808\n",
      "Val Loss: 0.5904, Val Accuracy: 0.7052, Val ROC AUC: 0.8088, Precision: 0.8479, Recall: 0.2519, F1: 0.3884\n"
     ]
    },
    {
     "name": "stderr",
     "output_type": "stream",
     "text": [
      "2024-10-10 04:06:09,093 - INFO - Train Loss: 0.5474, Train Accuracy: 0.7318, \n",
      "2024-10-10 04:06:09,094 - INFO - Train ROC AUC: 0.8226, Precision: 0.6165, \n",
      "2024-10-10 04:06:09,096 - INFO - Recall: 0.7434, F1: 0.6740\n",
      "Epochs:  10%|█         | 2/20 [03:17<29:37, 98.76s/epoch]2024-10-10 04:06:09,099 - INFO - Epoch 3/20 - Shuffling and batching data\n"
     ]
    },
    {
     "name": "stdout",
     "output_type": "stream",
     "text": [
      "Epoch 2/20\n",
      "Train Loss: 0.5474, Train Accuracy: 0.7318, Train ROC AUC: 0.8226, Precision: 0.6165, Recall: 0.7434, F1: 0.6740\n",
      "Val Loss: 0.5499, Val Accuracy: 0.7292, Val ROC AUC: 0.8185, Precision: 0.6126, Recall: 0.7377, F1: 0.6693\n"
     ]
    },
    {
     "name": "stderr",
     "output_type": "stream",
     "text": [
      "2024-10-10 04:07:47,942 - INFO - Train Loss: 0.5932, Train Accuracy: 0.6948, \n",
      "2024-10-10 04:07:47,944 - INFO - Train ROC AUC: 0.7658, Precision: 0.5787, \n",
      "2024-10-10 04:07:47,945 - INFO - Recall: 0.6687, F1: 0.6204\n",
      "Epochs:  15%|█▌        | 3/20 [04:56<27:59, 98.80s/epoch]2024-10-10 04:07:47,947 - INFO - Epoch 4/20 - Shuffling and batching data\n"
     ]
    },
    {
     "name": "stdout",
     "output_type": "stream",
     "text": [
      "Epoch 3/20\n",
      "Train Loss: 0.5932, Train Accuracy: 0.6948, Train ROC AUC: 0.7658, Precision: 0.5787, Recall: 0.6687, F1: 0.6204\n",
      "Val Loss: 0.5949, Val Accuracy: 0.6927, Val ROC AUC: 0.7631, Precision: 0.5741, Recall: 0.6705, F1: 0.6186\n"
     ]
    },
    {
     "name": "stderr",
     "output_type": "stream",
     "text": [
      "2024-10-10 04:09:27,408 - INFO - Train Loss: 0.5736, Train Accuracy: 0.7052, \n",
      "2024-10-10 04:09:27,410 - INFO - Train ROC AUC: 0.7635, Precision: 0.6263, \n",
      "2024-10-10 04:09:27,412 - INFO - Recall: 0.5202, F1: 0.5684\n",
      "Epochs:  20%|██        | 4/20 [06:35<26:24, 99.06s/epoch]2024-10-10 04:09:27,414 - INFO - Epoch 5/20 - Shuffling and batching data\n"
     ]
    },
    {
     "name": "stdout",
     "output_type": "stream",
     "text": [
      "Epoch 4/20\n",
      "Train Loss: 0.5736, Train Accuracy: 0.7052, Train ROC AUC: 0.7635, Precision: 0.6263, Recall: 0.5202, F1: 0.5684\n",
      "Val Loss: 0.5726, Val Accuracy: 0.7070, Val ROC AUC: 0.7638, Precision: 0.6262, Recall: 0.5246, F1: 0.5709\n"
     ]
    },
    {
     "name": "stderr",
     "output_type": "stream",
     "text": [
      "2024-10-10 04:11:06,207 - INFO - Train Loss: 0.5999, Train Accuracy: 0.6835, \n",
      "2024-10-10 04:11:06,209 - INFO - Train ROC AUC: 0.7340, Precision: 0.9007, \n",
      "2024-10-10 04:11:06,210 - INFO - Recall: 0.1703, F1: 0.2865\n",
      "Epochs:  25%|██▌       | 5/20 [08:14<24:44, 98.97s/epoch]2024-10-10 04:11:06,212 - INFO - Epoch 6/20 - Shuffling and batching data\n"
     ]
    },
    {
     "name": "stdout",
     "output_type": "stream",
     "text": [
      "Epoch 5/20\n",
      "Train Loss: 0.5999, Train Accuracy: 0.6835, Train ROC AUC: 0.7340, Precision: 0.9007, Recall: 0.1703, F1: 0.2865\n",
      "Val Loss: 0.6016, Val Accuracy: 0.6843, Val ROC AUC: 0.7266, Precision: 0.9094, Recall: 0.1670, F1: 0.2821\n"
     ]
    },
    {
     "name": "stderr",
     "output_type": "stream",
     "text": [
      "2024-10-10 04:12:44,888 - INFO - Train Loss: 0.7047, Train Accuracy: 0.6638, \n",
      "2024-10-10 04:12:44,889 - INFO - Train ROC AUC: 0.7081, Precision: 0.5360, \n",
      "2024-10-10 04:12:44,894 - INFO - Recall: 0.7347, F1: 0.6198\n",
      "Epochs:  30%|███       | 6/20 [09:53<23:04, 98.87s/epoch]2024-10-10 04:12:44,896 - INFO - Epoch 7/20 - Shuffling and batching data\n"
     ]
    },
    {
     "name": "stdout",
     "output_type": "stream",
     "text": [
      "Epoch 6/20\n",
      "Train Loss: 0.7047, Train Accuracy: 0.6638, Train ROC AUC: 0.7081, Precision: 0.5360, Recall: 0.7347, F1: 0.6198\n",
      "Val Loss: 0.7021, Val Accuracy: 0.6666, Val ROC AUC: 0.7112, Precision: 0.5374, Recall: 0.7371, F1: 0.6216\n"
     ]
    },
    {
     "name": "stderr",
     "output_type": "stream",
     "text": [
      "2024-10-10 04:14:23,302 - INFO - Train Loss: 0.5926, Train Accuracy: 0.6695, \n",
      "2024-10-10 04:14:23,304 - INFO - Train ROC AUC: 0.7297, Precision: 0.5824, \n",
      "2024-10-10 04:14:23,305 - INFO - Recall: 0.4024, F1: 0.4760\n",
      "Epochs:  35%|███▌      | 7/20 [11:31<21:23, 98.72s/epoch]2024-10-10 04:14:23,310 - INFO - Epoch 8/20 - Shuffling and batching data\n"
     ]
    },
    {
     "name": "stdout",
     "output_type": "stream",
     "text": [
      "Epoch 7/20\n",
      "Train Loss: 0.5926, Train Accuracy: 0.6695, Train ROC AUC: 0.7297, Precision: 0.5824, Recall: 0.4024, F1: 0.4760\n",
      "Val Loss: 0.5908, Val Accuracy: 0.6715, Val ROC AUC: 0.7325, Precision: 0.5835, Recall: 0.4051, F1: 0.4782\n"
     ]
    },
    {
     "name": "stderr",
     "output_type": "stream",
     "text": [
      "2024-10-10 04:16:01,989 - INFO - Train Loss: 0.5562, Train Accuracy: 0.7236, \n",
      "2024-10-10 04:16:01,990 - INFO - Train ROC AUC: 0.8215, Precision: 0.8728, \n",
      "2024-10-10 04:16:01,992 - INFO - Recall: 0.3032, F1: 0.4501\n",
      "Epochs:  40%|████      | 8/20 [13:10<19:44, 98.71s/epoch]2024-10-10 04:16:01,994 - INFO - Epoch 9/20 - Shuffling and batching data\n"
     ]
    },
    {
     "name": "stdout",
     "output_type": "stream",
     "text": [
      "Epoch 8/20\n",
      "Train Loss: 0.5562, Train Accuracy: 0.7236, Train ROC AUC: 0.8215, Precision: 0.8728, Recall: 0.3032, F1: 0.4501\n",
      "Val Loss: 0.5602, Val Accuracy: 0.7239, Val ROC AUC: 0.8155, Precision: 0.8740, Recall: 0.3002, F1: 0.4469\n"
     ]
    },
    {
     "name": "stderr",
     "output_type": "stream",
     "text": [
      "2024-10-10 04:17:39,709 - INFO - Train Loss: 0.5495, Train Accuracy: 0.7315, \n",
      "2024-10-10 04:17:39,711 - INFO - Train ROC AUC: 0.7945, Precision: 0.7832, \n",
      "2024-10-10 04:17:39,713 - INFO - Recall: 0.3877, F1: 0.5186\n",
      "Epochs:  45%|████▌     | 9/20 [14:48<18:02, 98.40s/epoch]2024-10-10 04:17:39,715 - INFO - Epoch 10/20 - Shuffling and batching data\n"
     ]
    },
    {
     "name": "stdout",
     "output_type": "stream",
     "text": [
      "Epoch 9/20\n",
      "Train Loss: 0.5495, Train Accuracy: 0.7315, Train ROC AUC: 0.7945, Precision: 0.7832, Recall: 0.3877, F1: 0.5186\n",
      "Val Loss: 0.5541, Val Accuracy: 0.7270, Val ROC AUC: 0.7897, Precision: 0.7744, Recall: 0.3744, F1: 0.5047\n"
     ]
    },
    {
     "name": "stderr",
     "output_type": "stream",
     "text": [
      "2024-10-10 04:19:17,423 - INFO - Train Loss: 0.5141, Train Accuracy: 0.8195, \n",
      "2024-10-10 04:19:17,425 - INFO - Train ROC AUC: 0.8516, Precision: 0.8169, \n",
      "2024-10-10 04:19:17,426 - INFO - Recall: 0.6654, F1: 0.7334\n",
      "Epochs:  50%|█████     | 10/20 [16:25<16:21, 98.19s/epoch]2024-10-10 04:19:17,428 - INFO - Epoch 11/20 - Shuffling and batching data\n"
     ]
    },
    {
     "name": "stdout",
     "output_type": "stream",
     "text": [
      "Epoch 10/20\n",
      "Train Loss: 0.5141, Train Accuracy: 0.8195, Train ROC AUC: 0.8516, Precision: 0.8169, Recall: 0.6654, F1: 0.7334\n",
      "Val Loss: 0.5142, Val Accuracy: 0.8164, Val ROC AUC: 0.8500, Precision: 0.8089, Recall: 0.6624, F1: 0.7284\n"
     ]
    },
    {
     "name": "stderr",
     "output_type": "stream",
     "text": [
      "2024-10-10 04:20:55,155 - INFO - Train Loss: 0.5408, Train Accuracy: 0.7466, \n",
      "2024-10-10 04:20:55,157 - INFO - Train ROC AUC: 0.8309, Precision: 0.7801, \n",
      "2024-10-10 04:20:55,159 - INFO - Recall: 0.4466, F1: 0.5681\n",
      "Epochs:  55%|█████▌    | 11/20 [18:03<14:42, 98.05s/epoch]2024-10-10 04:20:55,161 - INFO - Epoch 12/20 - Shuffling and batching data\n"
     ]
    },
    {
     "name": "stdout",
     "output_type": "stream",
     "text": [
      "Epoch 11/20\n",
      "Train Loss: 0.5408, Train Accuracy: 0.7466, Train ROC AUC: 0.8309, Precision: 0.7801, Recall: 0.4466, F1: 0.5681\n",
      "Val Loss: 0.5391, Val Accuracy: 0.7468, Val ROC AUC: 0.8331, Precision: 0.7788, Recall: 0.4450, F1: 0.5664\n"
     ]
    },
    {
     "name": "stderr",
     "output_type": "stream",
     "text": [
      "2024-10-10 04:22:33,893 - INFO - Train Loss: 0.5040, Train Accuracy: 0.7692, \n",
      "2024-10-10 04:22:33,895 - INFO - Train ROC AUC: 0.8689, Precision: 0.9451, \n",
      "2024-10-10 04:22:33,896 - INFO - Recall: 0.4047, F1: 0.5667\n",
      "Epochs:  60%|██████    | 12/20 [19:42<13:06, 98.26s/epoch]2024-10-10 04:22:33,899 - INFO - Epoch 13/20 - Shuffling and batching data\n"
     ]
    },
    {
     "name": "stdout",
     "output_type": "stream",
     "text": [
      "Epoch 12/20\n",
      "Train Loss: 0.5040, Train Accuracy: 0.7692, Train ROC AUC: 0.8689, Precision: 0.9451, Recall: 0.4047, F1: 0.5667\n",
      "Val Loss: 0.5074, Val Accuracy: 0.7653, Val ROC AUC: 0.8640, Precision: 0.9294, Recall: 0.3987, F1: 0.5580\n"
     ]
    },
    {
     "name": "stderr",
     "output_type": "stream",
     "text": [
      "2024-10-10 04:24:12,040 - INFO - Train Loss: 0.5514, Train Accuracy: 0.7355, \n",
      "2024-10-10 04:24:12,041 - INFO - Train ROC AUC: 0.8144, Precision: 0.6529, \n",
      "2024-10-10 04:24:12,042 - INFO - Recall: 0.6211, F1: 0.6366\n",
      "Epochs:  65%|██████▌   | 13/20 [21:20<11:27, 98.22s/epoch]2024-10-10 04:24:12,045 - INFO - Epoch 14/20 - Shuffling and batching data\n"
     ]
    },
    {
     "name": "stdout",
     "output_type": "stream",
     "text": [
      "Epoch 13/20\n",
      "Train Loss: 0.5514, Train Accuracy: 0.7355, Train ROC AUC: 0.8144, Precision: 0.6529, Recall: 0.6211, F1: 0.6366\n",
      "Val Loss: 0.5538, Val Accuracy: 0.7331, Val ROC AUC: 0.8118, Precision: 0.6456, Recall: 0.6248, F1: 0.6350\n"
     ]
    },
    {
     "name": "stderr",
     "output_type": "stream",
     "text": [
      "2024-10-10 04:25:49,411 - INFO - Train Loss: 0.5208, Train Accuracy: 0.7932, \n",
      "2024-10-10 04:25:49,412 - INFO - Train ROC AUC: 0.8397, Precision: 0.8809, \n",
      "2024-10-10 04:25:49,413 - INFO - Recall: 0.5151, F1: 0.6501\n",
      "Epochs:  70%|███████   | 14/20 [22:57<09:47, 97.97s/epoch]2024-10-10 04:25:49,415 - INFO - Epoch 15/20 - Shuffling and batching data\n"
     ]
    },
    {
     "name": "stdout",
     "output_type": "stream",
     "text": [
      "Epoch 14/20\n",
      "Train Loss: 0.5208, Train Accuracy: 0.7932, Train ROC AUC: 0.8397, Precision: 0.8809, Recall: 0.5151, F1: 0.6501\n",
      "Val Loss: 0.5201, Val Accuracy: 0.7965, Val ROC AUC: 0.8388, Precision: 0.8809, Recall: 0.5232, F1: 0.6565\n"
     ]
    },
    {
     "name": "stderr",
     "output_type": "stream",
     "text": [
      "2024-10-10 04:27:27,636 - INFO - Train Loss: 0.5822, Train Accuracy: 0.7341, \n",
      "2024-10-10 04:27:27,638 - INFO - Train ROC AUC: 0.7676, Precision: 0.7828, \n",
      "2024-10-10 04:27:27,638 - INFO - Recall: 0.3976, F1: 0.5274\n",
      "Epochs:  75%|███████▌  | 15/20 [24:36<08:10, 98.04s/epoch]2024-10-10 04:27:27,641 - INFO - Epoch 16/20 - Shuffling and batching data\n"
     ]
    },
    {
     "name": "stdout",
     "output_type": "stream",
     "text": [
      "Epoch 15/20\n",
      "Train Loss: 0.5822, Train Accuracy: 0.7341, Train ROC AUC: 0.7676, Precision: 0.7828, Recall: 0.3976, F1: 0.5274\n",
      "Val Loss: 0.5830, Val Accuracy: 0.7336, Val ROC AUC: 0.7681, Precision: 0.7878, Recall: 0.3874, F1: 0.5194\n"
     ]
    },
    {
     "name": "stderr",
     "output_type": "stream",
     "text": [
      "2024-10-10 04:29:06,473 - INFO - Train Loss: 0.5620, Train Accuracy: 0.7494, \n",
      "2024-10-10 04:29:06,474 - INFO - Train ROC AUC: 0.8159, Precision: 0.6391, \n",
      "2024-10-10 04:29:06,475 - INFO - Recall: 0.7543, F1: 0.6919\n",
      "Epochs:  80%|████████  | 16/20 [26:14<06:33, 98.28s/epoch]2024-10-10 04:29:06,477 - INFO - Epoch 17/20 - Shuffling and batching data\n"
     ]
    },
    {
     "name": "stdout",
     "output_type": "stream",
     "text": [
      "Epoch 16/20\n",
      "Train Loss: 0.5620, Train Accuracy: 0.7494, Train ROC AUC: 0.8159, Precision: 0.6391, Recall: 0.7543, F1: 0.6919\n",
      "Val Loss: 0.5652, Val Accuracy: 0.7437, Val ROC AUC: 0.8097, Precision: 0.6307, Recall: 0.7485, F1: 0.6846\n"
     ]
    },
    {
     "name": "stderr",
     "output_type": "stream",
     "text": [
      "2024-10-10 04:30:44,637 - INFO - Train Loss: 0.5968, Train Accuracy: 0.6815, \n",
      "2024-10-10 04:30:44,638 - INFO - Train ROC AUC: 0.7477, Precision: 0.8123, \n",
      "2024-10-10 04:30:44,640 - INFO - Recall: 0.1902, F1: 0.3082\n",
      "Epochs:  85%|████████▌ | 17/20 [27:53<04:54, 98.25s/epoch]2024-10-10 04:30:44,642 - INFO - Epoch 18/20 - Shuffling and batching data\n"
     ]
    },
    {
     "name": "stdout",
     "output_type": "stream",
     "text": [
      "Epoch 17/20\n",
      "Train Loss: 0.5968, Train Accuracy: 0.6815, Train ROC AUC: 0.7477, Precision: 0.8123, Recall: 0.1902, F1: 0.3082\n",
      "Val Loss: 0.5981, Val Accuracy: 0.6824, Val ROC AUC: 0.7425, Precision: 0.8150, Recall: 0.1878, F1: 0.3053\n"
     ]
    },
    {
     "name": "stderr",
     "output_type": "stream",
     "text": [
      "2024-10-10 04:32:22,243 - INFO - Train Loss: 0.5392, Train Accuracy: 0.7503, \n",
      "2024-10-10 04:32:22,245 - INFO - Train ROC AUC: 0.8249, Precision: 0.8866, \n",
      "2024-10-10 04:32:22,246 - INFO - Recall: 0.3792, F1: 0.5312\n",
      "Epochs:  90%|█████████ | 18/20 [29:30<03:16, 98.05s/epoch]2024-10-10 04:32:22,249 - INFO - Epoch 19/20 - Shuffling and batching data\n"
     ]
    },
    {
     "name": "stdout",
     "output_type": "stream",
     "text": [
      "Epoch 18/20\n",
      "Train Loss: 0.5392, Train Accuracy: 0.7503, Train ROC AUC: 0.8249, Precision: 0.8866, Recall: 0.3792, F1: 0.5312\n",
      "Val Loss: 0.5369, Val Accuracy: 0.7524, Val ROC AUC: 0.8279, Precision: 0.8836, Recall: 0.3843, F1: 0.5356\n"
     ]
    },
    {
     "name": "stderr",
     "output_type": "stream",
     "text": [
      "2024-10-10 04:33:59,492 - INFO - Train Loss: 0.5763, Train Accuracy: 0.7166, \n",
      "2024-10-10 04:33:59,493 - INFO - Train ROC AUC: 0.7774, Precision: 0.6020, \n",
      "2024-10-10 04:33:59,494 - INFO - Recall: 0.7088, F1: 0.6511\n",
      "Epochs:  95%|█████████▌| 19/20 [31:07<01:37, 97.81s/epoch]2024-10-10 04:33:59,496 - INFO - Epoch 20/20 - Shuffling and batching data\n"
     ]
    },
    {
     "name": "stdout",
     "output_type": "stream",
     "text": [
      "Epoch 19/20\n",
      "Train Loss: 0.5763, Train Accuracy: 0.7166, Train ROC AUC: 0.7774, Precision: 0.6020, Recall: 0.7088, F1: 0.6511\n",
      "Val Loss: 0.5792, Val Accuracy: 0.7130, Val ROC AUC: 0.7736, Precision: 0.5957, Recall: 0.7080, F1: 0.6470\n"
     ]
    },
    {
     "name": "stderr",
     "output_type": "stream",
     "text": [
      "2024-10-10 04:35:36,404 - INFO - Train Loss: 0.5456, Train Accuracy: 0.7080, \n",
      "2024-10-10 04:35:36,407 - INFO - Train ROC AUC: 0.8153, Precision: 0.7332, \n",
      "2024-10-10 04:35:36,413 - INFO - Recall: 0.3417, F1: 0.4661\n",
      "Epochs: 100%|██████████| 20/20 [32:44<00:00, 98.24s/epoch]\n"
     ]
    },
    {
     "name": "stdout",
     "output_type": "stream",
     "text": [
      "Epoch 20/20\n",
      "Train Loss: 0.5456, Train Accuracy: 0.7080, Train ROC AUC: 0.8153, Precision: 0.7332, Recall: 0.3417, F1: 0.4661\n",
      "Val Loss: 0.5492, Val Accuracy: 0.7040, Val ROC AUC: 0.8079, Precision: 0.7151, Recall: 0.3382, F1: 0.4593\n",
      "Model saved to /kaggle/working/xgboost_model.pkl\n"
     ]
    },
    {
     "data": {
      "image/png": "[encoded data removed]",
      "text/plain": [
       "<Figure size 1200x500 with 2 Axes>"
      ]
     },
     "metadata": {},
     "output_type": "display_data"
    },
    {
     "name": "stderr",
     "output_type": "stream",
     "text": [
      "2024-10-10 04:35:37,678 - INFO - Testing Results:\n",
      "2024-10-10 04:35:37,680 - INFO - Test Loss: 0.5423, Test Accuracy: 0.7132, \n",
      "2024-10-10 04:35:37,681 - INFO - Test ROC AUC: 0.8191, Precision: 0.7527, \n",
      "2024-10-10 04:35:37,683 - INFO - Recall: 0.3393, F1: 0.4678\n",
      "2024-10-10 04:35:37,684 - INFO - Training a Random Forest model for 20 epochs...\n"
     ]
    },
    {
     "name": "stdout",
     "output_type": "stream",
     "text": [
      "Plot saved to: /kaggle/working/xgboost_training_validation_curves.jpg\n",
      "Testing XGBoost Model\n",
      "Test Loss: 0.5423, Test Accuracy: 0.7132, Test ROC AUC: 0.8191, Precision: 0.7527, Recall: 0.3393, F1: 0.4678\n",
      "Model not found. Training a new model...\n"
     ]
    },
    {
     "name": "stderr",
     "output_type": "stream",
     "text": [
      "Epochs:   0%|          | 0/20 [00:00<?, ?epoch/s]2024-10-10 04:35:37,687 - INFO - Epoch 1/20 - Shuffling and batching data\n",
      "2024-10-10 04:36:51,334 - INFO - Train Loss: 0.4946, Train Accuracy: 0.7884, \n",
      "2024-10-10 04:36:51,335 - INFO - Train ROC AUC: 0.8532, Precision: 0.7967, \n",
      "2024-10-10 04:36:51,336 - INFO - Recall: 0.5811, F1: 0.6720\n",
      "Epochs:   5%|▌         | 1/20 [01:13<23:19, 73.65s/epoch]2024-10-10 04:36:51,339 - INFO - Epoch 2/20 - Shuffling and batching data\n"
     ]
    },
    {
     "name": "stdout",
     "output_type": "stream",
     "text": [
      "Epoch 1/20\n",
      "Train Loss: 0.4946, Train Accuracy: 0.7884, Train ROC AUC: 0.8532, Precision: 0.7967, Recall: 0.5811, F1: 0.6720\n",
      "Val Loss: 0.4959, Val Accuracy: 0.7836, Val ROC AUC: 0.8506, Precision: 0.7814, Recall: 0.5798, F1: 0.6656\n"
     ]
    },
    {
     "name": "stderr",
     "output_type": "stream",
     "text": [
      "2024-10-10 04:38:04,885 - INFO - Train Loss: 0.4901, Train Accuracy: 0.8409, \n",
      "2024-10-10 04:38:04,886 - INFO - Train ROC AUC: 0.8877, Precision: 0.8009, \n",
      "2024-10-10 04:38:04,887 - INFO - Recall: 0.7633, F1: 0.7817\n",
      "Epochs:  10%|█         | 2/20 [02:27<22:04, 73.59s/epoch]2024-10-10 04:38:04,889 - INFO - Epoch 3/20 - Shuffling and batching data\n"
     ]
    },
    {
     "name": "stdout",
     "output_type": "stream",
     "text": [
      "Epoch 2/20\n",
      "Train Loss: 0.4901, Train Accuracy: 0.8409, Train ROC AUC: 0.8877, Precision: 0.8009, Recall: 0.7633, F1: 0.7817\n",
      "Val Loss: 0.5190, Val Accuracy: 0.8401, Val ROC AUC: 0.8837, Precision: 0.7988, Recall: 0.7613, F1: 0.7796\n"
     ]
    },
    {
     "name": "stderr",
     "output_type": "stream",
     "text": [
      "2024-10-10 04:39:19,651 - INFO - Train Loss: 0.4793, Train Accuracy: 0.8226, \n",
      "2024-10-10 04:39:19,652 - INFO - Train ROC AUC: 0.8906, Precision: 0.8759, \n",
      "2024-10-10 04:39:19,653 - INFO - Recall: 0.6112, F1: 0.7200\n",
      "Epochs:  15%|█▌        | 3/20 [03:41<21:00, 74.13s/epoch]2024-10-10 04:39:19,655 - INFO - Epoch 4/20 - Shuffling and batching data\n"
     ]
    },
    {
     "name": "stdout",
     "output_type": "stream",
     "text": [
      "Epoch 3/20\n",
      "Train Loss: 0.4793, Train Accuracy: 0.8226, Train ROC AUC: 0.8906, Precision: 0.8759, Recall: 0.6112, F1: 0.7200\n",
      "Val Loss: 0.4755, Val Accuracy: 0.8229, Val ROC AUC: 0.8944, Precision: 0.8692, Recall: 0.6162, F1: 0.7211\n"
     ]
    },
    {
     "name": "stderr",
     "output_type": "stream",
     "text": [
      "2024-10-10 04:40:34,527 - INFO - Train Loss: 0.4914, Train Accuracy: 0.7968, \n",
      "2024-10-10 04:40:34,528 - INFO - Train ROC AUC: 0.8561, Precision: 0.7403, \n",
      "2024-10-10 04:40:34,530 - INFO - Recall: 0.7013, F1: 0.7203\n",
      "Epochs:  20%|██        | 4/20 [04:56<19:50, 74.42s/epoch]2024-10-10 04:40:34,533 - INFO - Epoch 5/20 - Shuffling and batching data\n"
     ]
    },
    {
     "name": "stdout",
     "output_type": "stream",
     "text": [
      "Epoch 4/20\n",
      "Train Loss: 0.4914, Train Accuracy: 0.7968, Train ROC AUC: 0.8561, Precision: 0.7403, Recall: 0.7013, F1: 0.7203\n",
      "Val Loss: 0.4999, Val Accuracy: 0.7902, Val ROC AUC: 0.8471, Precision: 0.7277, Recall: 0.6958, F1: 0.7114\n"
     ]
    },
    {
     "name": "stderr",
     "output_type": "stream",
     "text": [
      "2024-10-10 04:41:49,543 - INFO - Train Loss: 0.5044, Train Accuracy: 0.7890, \n",
      "2024-10-10 04:41:49,544 - INFO - Train ROC AUC: 0.8461, Precision: 0.7428, \n",
      "2024-10-10 04:41:49,546 - INFO - Recall: 0.6645, F1: 0.7015\n",
      "Epochs:  25%|██▌       | 5/20 [06:11<18:39, 74.64s/epoch]2024-10-10 04:41:49,548 - INFO - Epoch 6/20 - Shuffling and batching data\n"
     ]
    },
    {
     "name": "stdout",
     "output_type": "stream",
     "text": [
      "Epoch 5/20\n",
      "Train Loss: 0.5044, Train Accuracy: 0.7890, Train ROC AUC: 0.8461, Precision: 0.7428, Recall: 0.6645, F1: 0.7015\n",
      "Val Loss: 0.5059, Val Accuracy: 0.7864, Val ROC AUC: 0.8427, Precision: 0.7371, Recall: 0.6608, F1: 0.6969\n"
     ]
    },
    {
     "name": "stderr",
     "output_type": "stream",
     "text": [
      "2024-10-10 04:43:03,104 - INFO - Train Loss: 0.5124, Train Accuracy: 0.7436, \n",
      "2024-10-10 04:43:03,106 - INFO - Train ROC AUC: 0.8993, Precision: 0.9752, \n",
      "2024-10-10 04:43:03,107 - INFO - Recall: 0.3210, F1: 0.4830\n",
      "Epochs:  30%|███       | 6/20 [07:25<17:19, 74.27s/epoch]2024-10-10 04:43:03,110 - INFO - Epoch 7/20 - Shuffling and batching data\n"
     ]
    },
    {
     "name": "stdout",
     "output_type": "stream",
     "text": [
      "Epoch 6/20\n",
      "Train Loss: 0.5124, Train Accuracy: 0.7436, Train ROC AUC: 0.8993, Precision: 0.9752, Recall: 0.3210, F1: 0.4830\n",
      "Val Loss: 0.5003, Val Accuracy: 0.7437, Val ROC AUC: 0.8976, Precision: 0.9693, Recall: 0.3204, F1: 0.4816\n"
     ]
    },
    {
     "name": "stderr",
     "output_type": "stream",
     "text": [
      "2024-10-10 04:44:17,583 - INFO - Train Loss: 0.6825, Train Accuracy: 0.7826, \n",
      "2024-10-10 04:44:17,584 - INFO - Train ROC AUC: 0.8472, Precision: 0.8508, \n",
      "2024-10-10 04:44:17,585 - INFO - Recall: 0.5058, F1: 0.6345\n",
      "Epochs:  35%|███▌      | 7/20 [08:39<16:06, 74.34s/epoch]2024-10-10 04:44:17,587 - INFO - Epoch 8/20 - Shuffling and batching data\n"
     ]
    },
    {
     "name": "stdout",
     "output_type": "stream",
     "text": [
      "Epoch 7/20\n",
      "Train Loss: 0.6825, Train Accuracy: 0.7826, Train ROC AUC: 0.8472, Precision: 0.8508, Recall: 0.5058, F1: 0.6345\n",
      "Val Loss: 0.6816, Val Accuracy: 0.7782, Val ROC AUC: 0.8421, Precision: 0.8365, Recall: 0.5010, F1: 0.6267\n"
     ]
    },
    {
     "name": "stderr",
     "output_type": "stream",
     "text": [
      "2024-10-10 04:45:32,948 - INFO - Train Loss: 0.4419, Train Accuracy: 0.8292, \n",
      "2024-10-10 04:45:32,950 - INFO - Train ROC AUC: 0.8937, Precision: 0.8907, \n",
      "2024-10-10 04:45:32,951 - INFO - Recall: 0.6178, F1: 0.7296\n",
      "Epochs:  40%|████      | 8/20 [09:55<14:55, 74.67s/epoch]2024-10-10 04:45:32,953 - INFO - Epoch 9/20 - Shuffling and batching data\n"
     ]
    },
    {
     "name": "stdout",
     "output_type": "stream",
     "text": [
      "Epoch 8/20\n",
      "Train Loss: 0.4419, Train Accuracy: 0.8292, Train ROC AUC: 0.8937, Precision: 0.8907, Recall: 0.6178, F1: 0.7296\n",
      "Val Loss: 0.4427, Val Accuracy: 0.8269, Val ROC AUC: 0.8917, Precision: 0.8850, Recall: 0.6141, F1: 0.7251\n"
     ]
    },
    {
     "name": "stderr",
     "output_type": "stream",
     "text": [
      "2024-10-10 04:46:48,572 - INFO - Train Loss: 0.4947, Train Accuracy: 0.8302, \n",
      "2024-10-10 04:46:48,573 - INFO - Train ROC AUC: 0.8939, Precision: 0.9112, \n",
      "2024-10-10 04:46:48,574 - INFO - Recall: 0.6037, F1: 0.7262\n",
      "Epochs:  45%|████▌     | 9/20 [11:10<13:44, 74.97s/epoch]2024-10-10 04:46:48,576 - INFO - Epoch 10/20 - Shuffling and batching data\n"
     ]
    },
    {
     "name": "stdout",
     "output_type": "stream",
     "text": [
      "Epoch 9/20\n",
      "Train Loss: 0.4947, Train Accuracy: 0.8302, Train ROC AUC: 0.8939, Precision: 0.9112, Recall: 0.6037, F1: 0.7262\n",
      "Val Loss: 0.5069, Val Accuracy: 0.8295, Val ROC AUC: 0.8902, Precision: 0.9071, Recall: 0.6028, F1: 0.7243\n"
     ]
    },
    {
     "name": "stderr",
     "output_type": "stream",
     "text": [
      "2024-10-10 04:48:05,234 - INFO - Train Loss: 0.4702, Train Accuracy: 0.8126, \n",
      "2024-10-10 04:48:05,235 - INFO - Train ROC AUC: 0.8777, Precision: 0.8566, \n",
      "2024-10-10 04:48:05,236 - INFO - Recall: 0.5978, F1: 0.7041\n",
      "Epochs:  50%|█████     | 10/20 [12:27<12:34, 75.49s/epoch]2024-10-10 04:48:05,238 - INFO - Epoch 11/20 - Shuffling and batching data\n"
     ]
    },
    {
     "name": "stdout",
     "output_type": "stream",
     "text": [
      "Epoch 10/20\n",
      "Train Loss: 0.4702, Train Accuracy: 0.8126, Train ROC AUC: 0.8777, Precision: 0.8566, Recall: 0.5978, F1: 0.7041\n",
      "Val Loss: 0.4681, Val Accuracy: 0.8127, Val ROC AUC: 0.8757, Precision: 0.8489, Recall: 0.6034, F1: 0.7054\n"
     ]
    },
    {
     "name": "stderr",
     "output_type": "stream",
     "text": [
      "2024-10-10 04:49:21,459 - INFO - Train Loss: 0.5505, Train Accuracy: 0.7053, \n",
      "2024-10-10 04:49:21,460 - INFO - Train ROC AUC: 0.8567, Precision: 0.5675, \n",
      "2024-10-10 04:49:21,461 - INFO - Recall: 0.8834, F1: 0.6910\n",
      "Epochs:  55%|█████▌    | 11/20 [13:43<11:21, 75.71s/epoch]2024-10-10 04:49:21,464 - INFO - Epoch 12/20 - Shuffling and batching data\n"
     ]
    },
    {
     "name": "stdout",
     "output_type": "stream",
     "text": [
      "Epoch 11/20\n",
      "Train Loss: 0.5505, Train Accuracy: 0.7053, Train ROC AUC: 0.8567, Precision: 0.5675, Recall: 0.8834, F1: 0.6910\n",
      "Val Loss: 0.5693, Val Accuracy: 0.6938, Val ROC AUC: 0.8500, Precision: 0.5555, Recall: 0.8805, F1: 0.6812\n"
     ]
    },
    {
     "name": "stderr",
     "output_type": "stream",
     "text": [
      "2024-10-10 04:50:37,448 - INFO - Train Loss: 0.4634, Train Accuracy: 0.8055, \n",
      "2024-10-10 04:50:37,449 - INFO - Train ROC AUC: 0.9099, Precision: 0.9451, \n",
      "2024-10-10 04:50:37,451 - INFO - Recall: 0.5082, F1: 0.6610\n",
      "Epochs:  60%|██████    | 12/20 [14:59<10:06, 75.80s/epoch]2024-10-10 04:50:37,454 - INFO - Epoch 13/20 - Shuffling and batching data\n"
     ]
    },
    {
     "name": "stdout",
     "output_type": "stream",
     "text": [
      "Epoch 12/20\n",
      "Train Loss: 0.4634, Train Accuracy: 0.8055, Train ROC AUC: 0.9099, Precision: 0.9451, Recall: 0.5082, F1: 0.6610\n",
      "Val Loss: 0.4688, Val Accuracy: 0.8037, Val ROC AUC: 0.9086, Precision: 0.9380, Recall: 0.5052, F1: 0.6567\n"
     ]
    },
    {
     "name": "stderr",
     "output_type": "stream",
     "text": [
      "2024-10-10 04:51:53,514 - INFO - Train Loss: 0.5854, Train Accuracy: 0.7665, \n",
      "2024-10-10 04:51:53,515 - INFO - Train ROC AUC: 0.8629, Precision: 0.9656, \n",
      "2024-10-10 04:51:53,516 - INFO - Recall: 0.3879, F1: 0.5535\n",
      "Epochs:  65%|██████▌   | 13/20 [16:15<08:51, 75.88s/epoch]2024-10-10 04:51:53,518 - INFO - Epoch 14/20 - Shuffling and batching data\n"
     ]
    },
    {
     "name": "stdout",
     "output_type": "stream",
     "text": [
      "Epoch 13/20\n",
      "Train Loss: 0.5854, Train Accuracy: 0.7665, Train ROC AUC: 0.8629, Precision: 0.9656, Recall: 0.3879, F1: 0.5535\n",
      "Val Loss: 0.5969, Val Accuracy: 0.7669, Val ROC AUC: 0.8641, Precision: 0.9593, Recall: 0.3893, F1: 0.5538\n"
     ]
    },
    {
     "name": "stderr",
     "output_type": "stream",
     "text": [
      "2024-10-10 04:53:08,859 - INFO - Train Loss: 0.4675, Train Accuracy: 0.7976, \n",
      "2024-10-10 04:53:08,860 - INFO - Train ROC AUC: 0.8782, Precision: 0.8412, \n",
      "2024-10-10 04:53:08,861 - INFO - Recall: 0.5637, F1: 0.6751\n",
      "Epochs:  70%|███████   | 14/20 [17:31<07:34, 75.72s/epoch]2024-10-10 04:53:08,864 - INFO - Epoch 15/20 - Shuffling and batching data\n"
     ]
    },
    {
     "name": "stdout",
     "output_type": "stream",
     "text": [
      "Epoch 14/20\n",
      "Train Loss: 0.4675, Train Accuracy: 0.7976, Train ROC AUC: 0.8782, Precision: 0.8412, Recall: 0.5637, F1: 0.6751\n",
      "Val Loss: 0.4621, Val Accuracy: 0.7970, Val ROC AUC: 0.8775, Precision: 0.8373, Recall: 0.5633, F1: 0.6735\n"
     ]
    },
    {
     "name": "stderr",
     "output_type": "stream",
     "text": [
      "2024-10-10 04:54:24,352 - INFO - Train Loss: 0.5389, Train Accuracy: 0.7897, \n",
      "2024-10-10 04:54:24,354 - INFO - Train ROC AUC: 0.8613, Precision: 0.8490, \n",
      "2024-10-10 04:54:24,355 - INFO - Recall: 0.5307, F1: 0.6532\n",
      "Epochs:  75%|███████▌  | 15/20 [18:46<06:18, 75.65s/epoch]2024-10-10 04:54:24,357 - INFO - Epoch 16/20 - Shuffling and batching data\n"
     ]
    },
    {
     "name": "stdout",
     "output_type": "stream",
     "text": [
      "Epoch 15/20\n",
      "Train Loss: 0.5389, Train Accuracy: 0.7897, Train ROC AUC: 0.8613, Precision: 0.8490, Recall: 0.5307, F1: 0.6532\n",
      "Val Loss: 0.5377, Val Accuracy: 0.7906, Val ROC AUC: 0.8594, Precision: 0.8447, Recall: 0.5350, F1: 0.6551\n"
     ]
    },
    {
     "name": "stderr",
     "output_type": "stream",
     "text": [
      "2024-10-10 04:55:39,438 - INFO - Train Loss: 0.5096, Train Accuracy: 0.7732, \n",
      "2024-10-10 04:55:39,439 - INFO - Train ROC AUC: 0.8752, Precision: 0.9396, \n",
      "2024-10-10 04:55:39,440 - INFO - Recall: 0.4191, F1: 0.5796\n",
      "Epochs:  80%|████████  | 16/20 [20:01<05:01, 75.48s/epoch]2024-10-10 04:55:39,442 - INFO - Epoch 17/20 - Shuffling and batching data\n"
     ]
    },
    {
     "name": "stdout",
     "output_type": "stream",
     "text": [
      "Epoch 16/20\n",
      "Train Loss: 0.5096, Train Accuracy: 0.7732, Train ROC AUC: 0.8752, Precision: 0.9396, Recall: 0.4191, F1: 0.5796\n",
      "Val Loss: 0.5053, Val Accuracy: 0.7773, Val ROC AUC: 0.8750, Precision: 0.9421, Recall: 0.4270, F1: 0.5877\n"
     ]
    },
    {
     "name": "stderr",
     "output_type": "stream",
     "text": [
      "2024-10-10 04:56:55,246 - INFO - Train Loss: 0.4411, Train Accuracy: 0.8387, \n",
      "2024-10-10 04:56:55,247 - INFO - Train ROC AUC: 0.8904, Precision: 0.7760, \n",
      "2024-10-10 04:56:55,248 - INFO - Recall: 0.7981, F1: 0.7869\n",
      "Epochs:  85%|████████▌ | 17/20 [21:17<03:46, 75.58s/epoch]2024-10-10 04:56:55,250 - INFO - Epoch 18/20 - Shuffling and batching data\n"
     ]
    },
    {
     "name": "stdout",
     "output_type": "stream",
     "text": [
      "Epoch 17/20\n",
      "Train Loss: 0.4411, Train Accuracy: 0.8387, Train ROC AUC: 0.8904, Precision: 0.7760, Recall: 0.7981, F1: 0.7869\n",
      "Val Loss: 0.4474, Val Accuracy: 0.8329, Val ROC AUC: 0.8872, Precision: 0.7650, Recall: 0.7945, F1: 0.7795\n"
     ]
    },
    {
     "name": "stderr",
     "output_type": "stream",
     "text": [
      "2024-10-10 04:58:10,807 - INFO - Train Loss: 0.5487, Train Accuracy: 0.7736, \n",
      "2024-10-10 04:58:10,808 - INFO - Train ROC AUC: 0.8348, Precision: 0.8581, \n",
      "2024-10-10 04:58:10,809 - INFO - Recall: 0.4709, F1: 0.6081\n",
      "Epochs:  90%|█████████ | 18/20 [22:33<02:31, 75.57s/epoch]2024-10-10 04:58:10,812 - INFO - Epoch 19/20 - Shuffling and batching data\n"
     ]
    },
    {
     "name": "stdout",
     "output_type": "stream",
     "text": [
      "Epoch 18/20\n",
      "Train Loss: 0.5487, Train Accuracy: 0.7736, Train ROC AUC: 0.8348, Precision: 0.8581, Recall: 0.4709, F1: 0.6081\n",
      "Val Loss: 0.5596, Val Accuracy: 0.7722, Val ROC AUC: 0.8300, Precision: 0.8479, Recall: 0.4715, F1: 0.6060\n"
     ]
    },
    {
     "name": "stderr",
     "output_type": "stream",
     "text": [
      "2024-10-10 04:59:26,690 - INFO - Train Loss: 0.4882, Train Accuracy: 0.7780, \n",
      "2024-10-10 04:59:26,691 - INFO - Train ROC AUC: 0.8645, Precision: 0.8140, \n",
      "2024-10-10 04:59:26,692 - INFO - Recall: 0.5247, F1: 0.6381\n",
      "Epochs:  95%|█████████▌| 19/20 [23:49<01:15, 75.67s/epoch]2024-10-10 04:59:26,694 - INFO - Epoch 20/20 - Shuffling and batching data\n"
     ]
    },
    {
     "name": "stdout",
     "output_type": "stream",
     "text": [
      "Epoch 19/20\n",
      "Train Loss: 0.4882, Train Accuracy: 0.7780, Train ROC AUC: 0.8645, Precision: 0.8140, Recall: 0.5247, F1: 0.6381\n",
      "Val Loss: 0.4953, Val Accuracy: 0.7749, Val ROC AUC: 0.8582, Precision: 0.8049, Recall: 0.5204, F1: 0.6321\n"
     ]
    },
    {
     "name": "stderr",
     "output_type": "stream",
     "text": [
      "2024-10-10 05:00:42,613 - INFO - Train Loss: 0.4786, Train Accuracy: 0.7928, \n",
      "2024-10-10 05:00:42,614 - INFO - Train ROC AUC: 0.8839, Precision: 0.9138, \n",
      "2024-10-10 05:00:42,615 - INFO - Recall: 0.4910, F1: 0.6387\n",
      "Epochs: 100%|██████████| 20/20 [25:04<00:00, 75.25s/epoch]\n"
     ]
    },
    {
     "name": "stdout",
     "output_type": "stream",
     "text": [
      "Epoch 20/20\n",
      "Train Loss: 0.4786, Train Accuracy: 0.7928, Train ROC AUC: 0.8839, Precision: 0.9138, Recall: 0.4910, F1: 0.6387\n",
      "Val Loss: 0.4833, Val Accuracy: 0.7897, Val ROC AUC: 0.8772, Precision: 0.9034, Recall: 0.4860, F1: 0.6320\n",
      "Model saved to /kaggle/working/randomforest_model.pkl\n"
     ]
    },
    {
     "data": {
      "image/png": "[encoded data removed]",
      "text/plain": [
       "<Figure size 1200x500 with 2 Axes>"
      ]
     },
     "metadata": {},
     "output_type": "display_data"
    },
    {
     "name": "stderr",
     "output_type": "stream",
     "text": [
      "2024-10-10 05:00:43,836 - INFO - Testing Results:\n",
      "2024-10-10 05:00:43,838 - INFO - Test Loss: 0.4816, Test Accuracy: 0.7933, \n",
      "2024-10-10 05:00:43,838 - INFO - Test ROC AUC: 0.8823, Precision: 0.9069, \n",
      "2024-10-10 05:00:43,840 - INFO - Recall: 0.4941, F1: 0.6397\n",
      "2024-10-10 05:00:43,841 - INFO - Training a LinearSVC model for 20 epochs...\n"
     ]
    },
    {
     "name": "stdout",
     "output_type": "stream",
     "text": [
      "Plot saved to: /kaggle/working/RF_training_validation_curves.jpg\n",
      "Testing Random Forest Model\n",
      "Test Loss: 0.4816, Test Accuracy: 0.7933, Test ROC AUC: 0.8823, Precision: 0.9069, Recall: 0.4941, F1: 0.6397\n",
      "Model not found. Training a new model...\n"
     ]
    },
    {
     "name": "stderr",
     "output_type": "stream",
     "text": [
      "Epochs:   0%|          | 0/20 [00:00<?, ?epoch/s]2024-10-10 05:00:43,845 - INFO - Epoch 1/20 - Shuffling and batching data\n",
      "2024-10-10 05:00:48,354 - INFO - Train Loss: 3.1046, Train Accuracy: 0.7054, \n",
      "2024-10-10 05:00:48,355 - INFO - Train ROC AUC: 0.9191, Precision: 0.9962, \n",
      "2024-10-10 05:00:48,356 - INFO - Recall: 0.2112, F1: 0.3485\n",
      "Epochs:   5%|▌         | 1/20 [00:04<01:25,  4.51s/epoch]2024-10-10 05:00:48,358 - INFO - Epoch 2/20 - Shuffling and batching data\n"
     ]
    },
    {
     "name": "stdout",
     "output_type": "stream",
     "text": [
      "Epoch 1/20\n",
      "Train Loss: 3.1046, Train Accuracy: 0.7054, Train ROC AUC: 0.9191, Precision: 0.9962, Recall: 0.2112, F1: 0.3485\n",
      "Val Loss: 3.0964, Val Accuracy: 0.7088, Val ROC AUC: 0.9173, Precision: 0.9920, Recall: 0.2182, F1: 0.3578\n"
     ]
    },
    {
     "name": "stderr",
     "output_type": "stream",
     "text": [
      "2024-10-10 05:00:52,839 - INFO - Train Loss: 3.4788, Train Accuracy: 0.7146, \n",
      "2024-10-10 05:00:52,840 - INFO - Train ROC AUC: 0.9109, Precision: 0.9972, \n",
      "2024-10-10 05:00:52,841 - INFO - Recall: 0.2355, F1: 0.3811\n",
      "Epochs:  10%|█         | 2/20 [00:08<01:20,  4.50s/epoch]2024-10-10 05:00:52,843 - INFO - Epoch 3/20 - Shuffling and batching data\n"
     ]
    },
    {
     "name": "stdout",
     "output_type": "stream",
     "text": [
      "Epoch 2/20\n",
      "Train Loss: 3.4788, Train Accuracy: 0.7146, Train ROC AUC: 0.9109, Precision: 0.9972, Recall: 0.2355, F1: 0.3811\n",
      "Val Loss: 3.4533, Val Accuracy: 0.7181, Val ROC AUC: 0.9074, Precision: 0.9950, Recall: 0.2427, F1: 0.3903\n"
     ]
    },
    {
     "name": "stderr",
     "output_type": "stream",
     "text": [
      "2024-10-10 05:00:57,358 - INFO - Train Loss: 3.1262, Train Accuracy: 0.7425, \n",
      "2024-10-10 05:00:57,359 - INFO - Train ROC AUC: 0.9052, Precision: 0.9869, \n",
      "2024-10-10 05:00:57,360 - INFO - Recall: 0.3139, F1: 0.4763\n",
      "Epochs:  15%|█▌        | 3/20 [00:13<01:16,  4.51s/epoch]2024-10-10 05:00:57,362 - INFO - Epoch 4/20 - Shuffling and batching data\n"
     ]
    },
    {
     "name": "stdout",
     "output_type": "stream",
     "text": [
      "Epoch 3/20\n",
      "Train Loss: 3.1262, Train Accuracy: 0.7425, Train ROC AUC: 0.9052, Precision: 0.9869, Recall: 0.3139, F1: 0.4763\n",
      "Val Loss: 3.1381, Val Accuracy: 0.7476, Val ROC AUC: 0.9015, Precision: 0.9837, Recall: 0.3262, F1: 0.4899\n"
     ]
    },
    {
     "name": "stderr",
     "output_type": "stream",
     "text": [
      "2024-10-10 05:01:01,900 - INFO - Train Loss: 4.2278, Train Accuracy: 0.6780, \n",
      "2024-10-10 05:01:01,902 - INFO - Train ROC AUC: 0.9001, Precision: 0.9933, \n",
      "2024-10-10 05:01:01,903 - INFO - Recall: 0.1379, F1: 0.2421\n",
      "Epochs:  20%|██        | 4/20 [00:18<01:12,  4.52s/epoch]2024-10-10 05:01:01,905 - INFO - Epoch 5/20 - Shuffling and batching data\n"
     ]
    },
    {
     "name": "stdout",
     "output_type": "stream",
     "text": [
      "Epoch 4/20\n",
      "Train Loss: 4.2278, Train Accuracy: 0.6780, Train ROC AUC: 0.9001, Precision: 0.9933, Recall: 0.1379, F1: 0.2421\n",
      "Val Loss: 4.1143, Val Accuracy: 0.6821, Val ROC AUC: 0.8996, Precision: 0.9926, Recall: 0.1454, F1: 0.2537\n"
     ]
    },
    {
     "name": "stderr",
     "output_type": "stream",
     "text": [
      "2024-10-10 05:01:06,399 - INFO - Train Loss: 3.8242, Train Accuracy: 0.7024, \n",
      "2024-10-10 05:01:06,401 - INFO - Train ROC AUC: 0.9090, Precision: 0.9958, \n",
      "2024-10-10 05:01:06,411 - INFO - Recall: 0.2030, F1: 0.3372\n",
      "Epochs:  25%|██▌       | 5/20 [00:22<01:07,  4.52s/epoch]2024-10-10 05:01:06,413 - INFO - Epoch 6/20 - Shuffling and batching data\n"
     ]
    },
    {
     "name": "stdout",
     "output_type": "stream",
     "text": [
      "Epoch 5/20\n",
      "Train Loss: 3.8242, Train Accuracy: 0.7024, Train ROC AUC: 0.9090, Precision: 0.9958, Recall: 0.2030, F1: 0.3372\n",
      "Val Loss: 3.7955, Val Accuracy: 0.7062, Val ROC AUC: 0.9052, Precision: 0.9936, Recall: 0.2107, F1: 0.3476\n"
     ]
    },
    {
     "name": "stderr",
     "output_type": "stream",
     "text": [
      "2024-10-10 05:01:10,991 - INFO - Train Loss: 4.0748, Train Accuracy: 0.6775, \n",
      "2024-10-10 05:01:10,993 - INFO - Train ROC AUC: 0.8978, Precision: 0.9976, \n",
      "2024-10-10 05:01:10,994 - INFO - Recall: 0.1359, F1: 0.2392\n",
      "Epochs:  30%|███       | 6/20 [00:27<01:03,  4.54s/epoch]2024-10-10 05:01:10,995 - INFO - Epoch 7/20 - Shuffling and batching data\n"
     ]
    },
    {
     "name": "stdout",
     "output_type": "stream",
     "text": [
      "Epoch 6/20\n",
      "Train Loss: 4.0748, Train Accuracy: 0.6775, Train ROC AUC: 0.8978, Precision: 0.9976, Recall: 0.1359, F1: 0.2392\n",
      "Val Loss: 3.9287, Val Accuracy: 0.6791, Val ROC AUC: 0.8997, Precision: 0.9941, Recall: 0.1372, F1: 0.2411\n"
     ]
    },
    {
     "name": "stderr",
     "output_type": "stream",
     "text": [
      "2024-10-10 05:01:15,478 - INFO - Train Loss: 2.7501, Train Accuracy: 0.7234, \n",
      "2024-10-10 05:01:15,480 - INFO - Train ROC AUC: 0.9179, Precision: 0.9985, \n",
      "2024-10-10 05:01:15,481 - INFO - Recall: 0.2589, F1: 0.4112\n",
      "Epochs:  35%|███▌      | 7/20 [00:31<00:58,  4.52s/epoch]2024-10-10 05:01:15,483 - INFO - Epoch 8/20 - Shuffling and batching data\n"
     ]
    },
    {
     "name": "stdout",
     "output_type": "stream",
     "text": [
      "Epoch 7/20\n",
      "Train Loss: 2.7501, Train Accuracy: 0.7234, Train ROC AUC: 0.9179, Precision: 0.9985, Recall: 0.2589, F1: 0.4112\n",
      "Val Loss: 2.7225, Val Accuracy: 0.7262, Val ROC AUC: 0.9130, Precision: 0.9969, Recall: 0.2640, F1: 0.4174\n"
     ]
    },
    {
     "name": "stderr",
     "output_type": "stream",
     "text": [
      "2024-10-10 05:01:20,016 - INFO - Train Loss: 3.1452, Train Accuracy: 0.7028, \n",
      "2024-10-10 05:01:20,017 - INFO - Train ROC AUC: 0.9178, Precision: 0.9990, \n",
      "2024-10-10 05:01:20,018 - INFO - Recall: 0.2034, F1: 0.3380\n",
      "Epochs:  40%|████      | 8/20 [00:36<00:54,  4.53s/epoch]2024-10-10 05:01:20,020 - INFO - Epoch 9/20 - Shuffling and batching data\n"
     ]
    },
    {
     "name": "stdout",
     "output_type": "stream",
     "text": [
      "Epoch 8/20\n",
      "Train Loss: 3.1452, Train Accuracy: 0.7028, Train ROC AUC: 0.9178, Precision: 0.9990, Recall: 0.2034, F1: 0.3380\n",
      "Val Loss: 3.1500, Val Accuracy: 0.7069, Val ROC AUC: 0.9128, Precision: 0.9981, Recall: 0.2116, F1: 0.3492\n"
     ]
    },
    {
     "name": "stderr",
     "output_type": "stream",
     "text": [
      "2024-10-10 05:01:24,509 - INFO - Train Loss: 3.3283, Train Accuracy: 0.7195, \n",
      "2024-10-10 05:01:24,510 - INFO - Train ROC AUC: 0.9022, Precision: 0.9905, \n",
      "2024-10-10 05:01:24,511 - INFO - Recall: 0.2505, F1: 0.3998\n",
      "Epochs:  45%|████▌     | 9/20 [00:40<00:49,  4.52s/epoch]2024-10-10 05:01:24,514 - INFO - Epoch 10/20 - Shuffling and batching data\n"
     ]
    },
    {
     "name": "stdout",
     "output_type": "stream",
     "text": [
      "Epoch 9/20\n",
      "Train Loss: 3.3283, Train Accuracy: 0.7195, Train ROC AUC: 0.9022, Precision: 0.9905, Recall: 0.2505, F1: 0.3998\n",
      "Val Loss: 3.2412, Val Accuracy: 0.7195, Val ROC AUC: 0.9029, Precision: 0.9860, Recall: 0.2485, F1: 0.3970\n"
     ]
    },
    {
     "name": "stderr",
     "output_type": "stream",
     "text": [
      "2024-10-10 05:01:29,029 - INFO - Train Loss: 4.2109, Train Accuracy: 0.6441, \n",
      "2024-10-10 05:01:29,031 - INFO - Train ROC AUC: 0.8647, Precision: 0.9929, \n",
      "2024-10-10 05:01:29,032 - INFO - Recall: 0.0464, F1: 0.0887\n",
      "Epochs:  50%|█████     | 10/20 [00:45<00:45,  4.52s/epoch]2024-10-10 05:01:29,034 - INFO - Epoch 11/20 - Shuffling and batching data\n"
     ]
    },
    {
     "name": "stdout",
     "output_type": "stream",
     "text": [
      "Epoch 10/20\n",
      "Train Loss: 4.2109, Train Accuracy: 0.6441, Train ROC AUC: 0.8647, Precision: 0.9929, Recall: 0.0464, F1: 0.0887\n",
      "Val Loss: 4.0454, Val Accuracy: 0.6435, Val ROC AUC: 0.8721, Precision: 0.9902, Recall: 0.0410, F1: 0.0787\n"
     ]
    },
    {
     "name": "stderr",
     "output_type": "stream",
     "text": [
      "2024-10-10 05:01:33,520 - INFO - Train Loss: 2.8261, Train Accuracy: 0.6809, \n",
      "2024-10-10 05:01:33,521 - INFO - Train ROC AUC: 0.9029, Precision: 0.9973, \n",
      "2024-10-10 05:01:33,523 - INFO - Recall: 0.1451, F1: 0.2534\n",
      "Epochs:  55%|█████▌    | 11/20 [00:49<00:40,  4.51s/epoch]2024-10-10 05:01:33,525 - INFO - Epoch 12/20 - Shuffling and batching data\n"
     ]
    },
    {
     "name": "stdout",
     "output_type": "stream",
     "text": [
      "Epoch 11/20\n",
      "Train Loss: 2.8261, Train Accuracy: 0.6809, Train ROC AUC: 0.9029, Precision: 0.9973, Recall: 0.1451, F1: 0.2534\n",
      "Val Loss: 2.7869, Val Accuracy: 0.6823, Val ROC AUC: 0.9016, Precision: 0.9972, Recall: 0.1454, F1: 0.2539\n"
     ]
    },
    {
     "name": "stderr",
     "output_type": "stream",
     "text": [
      "2024-10-10 05:01:38,005 - INFO - Train Loss: 3.2715, Train Accuracy: 0.6750, \n",
      "2024-10-10 05:01:38,006 - INFO - Train ROC AUC: 0.9282, Precision: 1.0000, \n",
      "2024-10-10 05:01:38,008 - INFO - Recall: 0.1289, F1: 0.2283\n",
      "Epochs:  60%|██████    | 12/20 [00:54<00:36,  4.50s/epoch]2024-10-10 05:01:38,010 - INFO - Epoch 13/20 - Shuffling and batching data\n"
     ]
    },
    {
     "name": "stdout",
     "output_type": "stream",
     "text": [
      "Epoch 12/20\n",
      "Train Loss: 3.2715, Train Accuracy: 0.6750, Train ROC AUC: 0.9282, Precision: 1.0000, Recall: 0.1289, F1: 0.2283\n",
      "Val Loss: 3.1810, Val Accuracy: 0.6734, Val ROC AUC: 0.9275, Precision: 1.0000, Recall: 0.1210, F1: 0.2158\n"
     ]
    },
    {
     "name": "stderr",
     "output_type": "stream",
     "text": [
      "2024-10-10 05:01:42,524 - INFO - Train Loss: 2.9461, Train Accuracy: 0.6996, \n",
      "2024-10-10 05:01:42,526 - INFO - Train ROC AUC: 0.9164, Precision: 0.9983, \n",
      "2024-10-10 05:01:42,527 - INFO - Recall: 0.1952, F1: 0.3265\n",
      "Epochs:  65%|██████▌   | 13/20 [00:58<00:31,  4.51s/epoch]2024-10-10 05:01:42,529 - INFO - Epoch 14/20 - Shuffling and batching data\n"
     ]
    },
    {
     "name": "stdout",
     "output_type": "stream",
     "text": [
      "Epoch 13/20\n",
      "Train Loss: 2.9461, Train Accuracy: 0.6996, Train ROC AUC: 0.9164, Precision: 0.9983, Recall: 0.1952, F1: 0.3265\n",
      "Val Loss: 2.9403, Val Accuracy: 0.7015, Val ROC AUC: 0.9123, Precision: 0.9959, Recall: 0.1974, F1: 0.3295\n"
     ]
    },
    {
     "name": "stderr",
     "output_type": "stream",
     "text": [
      "2024-10-10 05:01:46,991 - INFO - Train Loss: 3.4867, Train Accuracy: 0.7287, \n",
      "2024-10-10 05:01:46,993 - INFO - Train ROC AUC: 0.8848, Precision: 0.9926, \n",
      "2024-10-10 05:01:46,994 - INFO - Recall: 0.2748, F1: 0.4304\n",
      "Epochs:  70%|███████   | 14/20 [01:03<00:26,  4.50s/epoch]2024-10-10 05:01:46,996 - INFO - Epoch 15/20 - Shuffling and batching data\n"
     ]
    },
    {
     "name": "stdout",
     "output_type": "stream",
     "text": [
      "Epoch 14/20\n",
      "Train Loss: 3.4867, Train Accuracy: 0.7287, Train ROC AUC: 0.8848, Precision: 0.9926, Recall: 0.2748, F1: 0.4304\n",
      "Val Loss: 3.4490, Val Accuracy: 0.7310, Val ROC AUC: 0.8817, Precision: 0.9885, Recall: 0.2793, F1: 0.4355\n"
     ]
    },
    {
     "name": "stderr",
     "output_type": "stream",
     "text": [
      "2024-10-10 05:01:51,496 - INFO - Train Loss: 2.8848, Train Accuracy: 0.7221, \n",
      "2024-10-10 05:01:51,497 - INFO - Train ROC AUC: 0.8885, Precision: 0.9977, \n",
      "2024-10-10 05:01:51,498 - INFO - Recall: 0.2556, F1: 0.4070\n",
      "Epochs:  75%|███████▌  | 15/20 [01:07<00:22,  4.50s/epoch]2024-10-10 05:01:51,501 - INFO - Epoch 16/20 - Shuffling and batching data\n"
     ]
    },
    {
     "name": "stdout",
     "output_type": "stream",
     "text": [
      "Epoch 15/20\n",
      "Train Loss: 2.8848, Train Accuracy: 0.7221, Train ROC AUC: 0.8885, Precision: 0.9977, Recall: 0.2556, F1: 0.4070\n",
      "Val Loss: 2.9397, Val Accuracy: 0.7230, Val ROC AUC: 0.8824, Precision: 0.9974, Recall: 0.2552, F1: 0.4064\n"
     ]
    },
    {
     "name": "stderr",
     "output_type": "stream",
     "text": [
      "2024-10-10 05:01:56,009 - INFO - Train Loss: 3.8944, Train Accuracy: 0.7050, \n",
      "2024-10-10 05:01:56,010 - INFO - Train ROC AUC: 0.8970, Precision: 0.9956, \n",
      "2024-10-10 05:01:56,011 - INFO - Recall: 0.2100, F1: 0.3469\n",
      "Epochs:  80%|████████  | 16/20 [01:12<00:18,  4.50s/epoch]2024-10-10 05:01:56,013 - INFO - Epoch 17/20 - Shuffling and batching data\n"
     ]
    },
    {
     "name": "stdout",
     "output_type": "stream",
     "text": [
      "Epoch 16/20\n",
      "Train Loss: 3.8944, Train Accuracy: 0.7050, Train ROC AUC: 0.8970, Precision: 0.9956, Recall: 0.2100, F1: 0.3469\n",
      "Val Loss: 3.8941, Val Accuracy: 0.7066, Val ROC AUC: 0.8925, Precision: 0.9912, Recall: 0.2123, F1: 0.3497\n"
     ]
    },
    {
     "name": "stderr",
     "output_type": "stream",
     "text": [
      "2024-10-10 05:02:00,505 - INFO - Train Loss: 2.5839, Train Accuracy: 0.7400, \n",
      "2024-10-10 05:02:00,506 - INFO - Train ROC AUC: 0.9026, Precision: 0.9924, \n",
      "2024-10-10 05:02:00,507 - INFO - Recall: 0.3054, F1: 0.4670\n",
      "Epochs:  85%|████████▌ | 17/20 [01:16<00:13,  4.50s/epoch]2024-10-10 05:02:00,509 - INFO - Epoch 18/20 - Shuffling and batching data\n"
     ]
    },
    {
     "name": "stdout",
     "output_type": "stream",
     "text": [
      "Epoch 17/20\n",
      "Train Loss: 2.5839, Train Accuracy: 0.7400, Train ROC AUC: 0.9026, Precision: 0.9924, Recall: 0.3054, F1: 0.4670\n",
      "Val Loss: 2.6008, Val Accuracy: 0.7453, Val ROC AUC: 0.8981, Precision: 0.9895, Recall: 0.3180, F1: 0.4813\n"
     ]
    },
    {
     "name": "stderr",
     "output_type": "stream",
     "text": [
      "2024-10-10 05:02:04,954 - INFO - Train Loss: 2.8414, Train Accuracy: 0.7303, \n",
      "2024-10-10 05:02:04,955 - INFO - Train ROC AUC: 0.9006, Precision: 0.9976, \n",
      "2024-10-10 05:02:04,956 - INFO - Recall: 0.2776, F1: 0.4344\n",
      "Epochs:  90%|█████████ | 18/20 [01:21<00:08,  4.49s/epoch]2024-10-10 05:02:04,959 - INFO - Epoch 19/20 - Shuffling and batching data\n"
     ]
    },
    {
     "name": "stdout",
     "output_type": "stream",
     "text": [
      "Epoch 18/20\n",
      "Train Loss: 2.8414, Train Accuracy: 0.7303, Train ROC AUC: 0.9006, Precision: 0.9976, Recall: 0.2776, F1: 0.4344\n",
      "Val Loss: 2.8621, Val Accuracy: 0.7308, Val ROC AUC: 0.8963, Precision: 0.9961, Recall: 0.2766, F1: 0.4329\n"
     ]
    },
    {
     "name": "stderr",
     "output_type": "stream",
     "text": [
      "2024-10-10 05:02:09,482 - INFO - Train Loss: 2.2798, Train Accuracy: 0.7314, \n",
      "2024-10-10 05:02:09,483 - INFO - Train ROC AUC: 0.8977, Precision: 0.9797, \n",
      "2024-10-10 05:02:09,484 - INFO - Recall: 0.2858, F1: 0.4426\n",
      "Epochs:  95%|█████████▌| 19/20 [01:25<00:04,  4.50s/epoch]2024-10-10 05:02:09,486 - INFO - Epoch 20/20 - Shuffling and batching data\n"
     ]
    },
    {
     "name": "stdout",
     "output_type": "stream",
     "text": [
      "Epoch 19/20\n",
      "Train Loss: 2.2798, Train Accuracy: 0.7314, Train ROC AUC: 0.8977, Precision: 0.9797, Recall: 0.2858, F1: 0.4426\n",
      "Val Loss: 2.2506, Val Accuracy: 0.7328, Val ROC AUC: 0.9001, Precision: 0.9757, Recall: 0.2881, F1: 0.4448\n"
     ]
    },
    {
     "name": "stderr",
     "output_type": "stream",
     "text": [
      "2024-10-10 05:02:13,980 - INFO - Train Loss: 4.0459, Train Accuracy: 0.6653, \n",
      "2024-10-10 05:02:13,981 - INFO - Train ROC AUC: 0.9274, Precision: 0.9987, \n",
      "2024-10-10 05:02:13,981 - INFO - Recall: 0.1030, F1: 0.1867\n",
      "Epochs: 100%|██████████| 20/20 [01:30<00:00,  4.51s/epoch]\n"
     ]
    },
    {
     "name": "stdout",
     "output_type": "stream",
     "text": [
      "Epoch 20/20\n",
      "Train Loss: 4.0459, Train Accuracy: 0.6653, Train ROC AUC: 0.9274, Precision: 0.9987, Recall: 0.1030, F1: 0.1867\n",
      "Val Loss: 3.9932, Val Accuracy: 0.6658, Val ROC AUC: 0.9285, Precision: 0.9987, Recall: 0.1008, F1: 0.1831\n",
      "Model saved to /kaggle/working/linearsvc_model.pkl\n"
     ]
    },
    {
     "data": {
      "image/png": "[encoded data removed]",
      "text/plain": [
       "<Figure size 1200x500 with 2 Axes>"
      ]
     },
     "metadata": {},
     "output_type": "display_data"
    },
    {
     "name": "stderr",
     "output_type": "stream",
     "text": [
      "2024-10-10 05:02:15,263 - INFO - Testing Results:\n",
      "2024-10-10 05:02:15,265 - INFO - Test Loss: 3.8464, Test Accuracy: 0.6699, \n",
      "2024-10-10 05:02:15,266 - INFO - Test ROC AUC: 0.9303, Precision: 1.0000, \n",
      "2024-10-10 05:02:15,267 - INFO - Recall: 0.1112, F1: 0.2001\n"
     ]
    },
    {
     "name": "stdout",
     "output_type": "stream",
     "text": [
      "Plot saved to: /kaggle/working/LinearSVC_training_validation_curves.png\n",
      "Testing linear SVC Model\n",
      "Test Loss: 3.8464, Test Accuracy: 0.6699, Test ROC AUC: 0.9303, Precision: 1.0000, Recall: 0.1112, F1: 0.2001\n",
      "Training RNN Model\n",
      "Model not found. Training a new model...\n",
      "Epoch 1/20\n"
     ]
    },
    {
     "name": "stderr",
     "output_type": "stream",
     "text": [
      "WARNING: All log messages before absl::InitializeLog() is called are written to STDERR\n",
      "I0000 00:00:1728536596.134246     126 service.cc:145] XLA service 0x7efb441a6280 initialized for platform CUDA (this does not guarantee that XLA will be used). Devices:\n",
      "I0000 00:00:1728536596.134319     126 service.cc:153]   StreamExecutor device (0): Tesla P100-PCIE-16GB, Compute Capability 6.0\n",
      "I0000 00:00:1728536596.326770     126 device_compiler.h:188] Compiled cluster using XLA!  This line is logged at most once for the lifetime of the process.\n"
     ]
    },
    {
     "name": "stdout",
     "output_type": "stream",
     "text": [
      "1262/1262 [==============================] - 129s 63ms/step - loss: 0.2003 - accuracy: 0.8990 - auc: 0.9026 - val_loss: 0.0672 - val_accuracy: 0.9785 - val_auc: 0.9793\n",
      "Epoch 2/20\n",
      "1262/1262 [==============================] - 59s 47ms/step - loss: 0.0541 - accuracy: 0.9822 - auc: 0.9823 - val_loss: 0.0585 - val_accuracy: 0.9814 - val_auc: 0.9833\n",
      "Epoch 3/20\n",
      "1262/1262 [==============================] - 59s 47ms/step - loss: 0.0417 - accuracy: 0.9866 - auc: 0.9866 - val_loss: 0.0552 - val_accuracy: 0.9841 - val_auc: 0.9848\n",
      "Epoch 4/20\n",
      "1262/1262 [==============================] - 60s 48ms/step - loss: 0.0366 - accuracy: 0.9887 - auc: 0.9884 - val_loss: 0.0495 - val_accuracy: 0.9840 - val_auc: 0.9828\n",
      "Epoch 5/20\n",
      "1262/1262 [==============================] - 60s 48ms/step - loss: 0.0340 - accuracy: 0.9891 - auc: 0.9892 - val_loss: 0.0531 - val_accuracy: 0.9845 - val_auc: 0.9839\n",
      "Epoch 6/20\n",
      "1262/1262 [==============================] - 60s 47ms/step - loss: 0.0329 - accuracy: 0.9899 - auc: 0.9896 - val_loss: 0.0487 - val_accuracy: 0.9841 - val_auc: 0.9824\n",
      "Epoch 7/20\n",
      "1262/1262 [==============================] - 59s 47ms/step - loss: 0.0313 - accuracy: 0.9907 - auc: 0.9903 - val_loss: 0.0520 - val_accuracy: 0.9845 - val_auc: 0.9857\n",
      "Epoch 8/20\n",
      "1262/1262 [==============================] - 59s 47ms/step - loss: 0.0295 - accuracy: 0.9907 - auc: 0.9904 - val_loss: 0.0565 - val_accuracy: 0.9815 - val_auc: 0.9788\n",
      "Epoch 9/20\n",
      "1262/1262 [==============================] - 60s 47ms/step - loss: 0.0268 - accuracy: 0.9918 - auc: 0.9914 - val_loss: 0.0499 - val_accuracy: 0.9858 - val_auc: 0.9844\n",
      "Epoch 10/20\n",
      "1262/1262 [==============================] - 59s 47ms/step - loss: 0.0283 - accuracy: 0.9911 - auc: 0.9908 - val_loss: 0.0516 - val_accuracy: 0.9846 - val_auc: 0.9827\n",
      "Epoch 11/20\n",
      "1262/1262 [==============================] - 60s 47ms/step - loss: 0.0261 - accuracy: 0.9921 - auc: 0.9918 - val_loss: 0.0513 - val_accuracy: 0.9855 - val_auc: 0.9840\n",
      "Epoch 12/20\n",
      "1262/1262 [==============================] - 59s 47ms/step - loss: 0.0254 - accuracy: 0.9922 - auc: 0.9919 - val_loss: 0.0493 - val_accuracy: 0.9856 - val_auc: 0.9851\n",
      "Epoch 13/20\n",
      "1262/1262 [==============================] - 59s 47ms/step - loss: 0.0231 - accuracy: 0.9931 - auc: 0.9929 - val_loss: 0.0522 - val_accuracy: 0.9855 - val_auc: 0.9837\n",
      "Epoch 14/20\n",
      "1262/1262 [==============================] - 60s 48ms/step - loss: 0.0239 - accuracy: 0.9927 - auc: 0.9925 - val_loss: 0.0683 - val_accuracy: 0.9838 - val_auc: 0.9821\n",
      "Epoch 15/20\n",
      "1262/1262 [==============================] - 59s 47ms/step - loss: 0.0213 - accuracy: 0.9939 - auc: 0.9937 - val_loss: 0.0505 - val_accuracy: 0.9869 - val_auc: 0.9861\n",
      "Epoch 16/20\n",
      "1262/1262 [==============================] - 60s 47ms/step - loss: 0.0215 - accuracy: 0.9934 - auc: 0.9934 - val_loss: 0.0489 - val_accuracy: 0.9863 - val_auc: 0.9847\n",
      "Epoch 17/20\n",
      "1262/1262 [==============================] - 60s 47ms/step - loss: 0.0207 - accuracy: 0.9941 - auc: 0.9936 - val_loss: 0.0490 - val_accuracy: 0.9866 - val_auc: 0.9853\n",
      "Epoch 18/20\n",
      "1262/1262 [==============================] - 60s 47ms/step - loss: 0.0196 - accuracy: 0.9942 - auc: 0.9941 - val_loss: 0.0579 - val_accuracy: 0.9837 - val_auc: 0.9810\n",
      "Epoch 19/20\n",
      "1262/1262 [==============================] - 60s 47ms/step - loss: 0.0194 - accuracy: 0.9946 - auc: 0.9942 - val_loss: 0.0553 - val_accuracy: 0.9857 - val_auc: 0.9844\n",
      "Epoch 20/20\n",
      "1262/1262 [==============================] - 59s 47ms/step - loss: 0.0179 - accuracy: 0.9953 - auc: 0.9948 - val_loss: 0.0629 - val_accuracy: 0.9837 - val_auc: 0.9809\n",
      "Model saved to /kaggle/working/tf_lstm_rnn.keras\n",
      "Training plot saved to /kaggle/working/tf_lstm_rnn.png\n"
     ]
    },
    {
     "data": {
      "image/png": "[encoded data removed]",
      "text/plain": [
       "<Figure size 1600x800 with 2 Axes>"
      ]
     },
     "metadata": {},
     "output_type": "display_data"
    },
    {
     "name": "stdout",
     "output_type": "stream",
     "text": [
      "Testing RNN Model\n",
      "Loading model from file...\n",
      "471/471 [==============================] - 14s 18ms/step\n"
     ]
    },
    {
     "name": "stderr",
     "output_type": "stream",
     "text": [
      "2024-10-10 05:23:46,197 - INFO - Testing Results:\n",
      "2024-10-10 05:23:46,198 - INFO - Test Loss: 0.0694, Test Accuracy: 0.9829, \n",
      "2024-10-10 05:23:46,199 - INFO - Test ROC AUC: 0.9975, Precision: 0.9878, \n",
      "2024-10-10 05:23:46,201 - INFO - Recall: 0.9660, F1: 0.9768\n"
     ]
    },
    {
     "name": "stdout",
     "output_type": "stream",
     "text": [
      "Test Loss: 0.0694, Test Accuracy: 0.9829, Test ROC AUC: 0.9975, Precision: 0.9878, Recall: 0.9660, F1: 0.9768\n",
      "Training DistilBERT Model\n",
      "Model not found. Training a new model...\n"
     ]
    },
    {
     "data": {
      "application/vnd.jupyter.widget-view+json": {
       "model_id": "513c566b99514f5ba50fb07f92f93040",
       "version_major": 2,
       "version_minor": 0
      },
      "text/plain": [
       "tokenizer_config.json:   0%|          | 0.00/48.0 [00:00<?, ?B/s]"
      ]
     },
     "metadata": {},
     "output_type": "display_data"
    },
    {
     "data": {
      "application/vnd.jupyter.widget-view+json": {
       "model_id": "91412fc13f1e413a9b7c896e57b044df",
       "version_major": 2,
       "version_minor": 0
      },
      "text/plain": [
       "config.json:   0%|          | 0.00/483 [00:00<?, ?B/s]"
      ]
     },
     "metadata": {},
     "output_type": "display_data"
    },
    {
     "data": {
      "application/vnd.jupyter.widget-view+json": {
       "model_id": "13190e00a2594ab3947860c31324e507",
       "version_major": 2,
       "version_minor": 0
      },
      "text/plain": [
       "vocab.txt:   0%|          | 0.00/232k [00:00<?, ?B/s]"
      ]
     },
     "metadata": {},
     "output_type": "display_data"
    },
    {
     "data": {
      "application/vnd.jupyter.widget-view+json": {
       "model_id": "1afb62315d5949e3bfcac1bcd72915dd",
       "version_major": 2,
       "version_minor": 0
      },
      "text/plain": [
       "tokenizer.json:   0%|          | 0.00/466k [00:00<?, ?B/s]"
      ]
     },
     "metadata": {},
     "output_type": "display_data"
    },
    {
     "name": "stderr",
     "output_type": "stream",
     "text": [
      "/opt/conda/lib/python3.10/site-packages/transformers/tokenization_utils_base.py:1617: FutureWarning: `clean_up_tokenization_spaces` was not set. It will be set to `True` by default. This behavior will be deprecated in transformers v4.45, and will be then set to `False` by default. For more details check this issue: https://github.com/huggingface/transformers/issues/31884\n",
      "  warnings.warn(\n"
     ]
    },
    {
     "data": {
      "application/vnd.jupyter.widget-view+json": {
       "model_id": "2cf1d083446546fe84d3c58dcac0e1a6",
       "version_major": 2,
       "version_minor": 0
      },
      "text/plain": [
       "model.safetensors:   0%|          | 0.00/268M [00:00<?, ?B/s]"
      ]
     },
     "metadata": {},
     "output_type": "display_data"
    },
    {
     "name": "stderr",
     "output_type": "stream",
     "text": [
      "Some weights of DistilBertForSequenceClassification were not initialized from the model checkpoint at distilbert-base-uncased and are newly initialized: ['classifier.bias', 'classifier.weight', 'pre_classifier.bias', 'pre_classifier.weight']\n",
      "You should probably TRAIN this model on a down-stream task to be able to use it for predictions and inference.\n"
     ]
    },
    {
     "data": {
      "application/vnd.jupyter.widget-view+json": {
       "model_id": "b5cf47538b8f4f0c9cb5ae6557585f1c",
       "version_major": 2,
       "version_minor": 0
      },
      "text/plain": [
       "Map:   0%|          | 0/40382 [00:00<?, ? examples/s]"
      ]
     },
     "metadata": {},
     "output_type": "display_data"
    },
    {
     "data": {
      "application/vnd.jupyter.widget-view+json": {
       "model_id": "530ad6bc0ddd4d94b95661ff4c81ba9e",
       "version_major": 2,
       "version_minor": 0
      },
      "text/plain": [
       "Map:   0%|          | 0/19890 [00:00<?, ? examples/s]"
      ]
     },
     "metadata": {},
     "output_type": "display_data"
    },
    {
     "name": "stderr",
     "output_type": "stream",
     "text": [
      "/opt/conda/lib/python3.10/site-packages/transformers/training_args.py:1545: FutureWarning: `evaluation_strategy` is deprecated and will be removed in version 4.46 of 🤗 Transformers. Use `eval_strategy` instead\n",
      "  warnings.warn(\n"
     ]
    },
    {
     "ename": "OutOfMemoryError",
     "evalue": "CUDA out of memory. Tried to allocate 20.00 MiB. GPU 0 has a total capacity of 15.89 GiB of which 33.12 MiB is free. Process 2945 has 15.85 GiB memory in use. Of the allocated memory 355.16 MiB is allocated by PyTorch, and 30.84 MiB is reserved by PyTorch but unallocated. If reserved but unallocated memory is large try setting PYTORCH_CUDA_ALLOC_CONF=expandable_segments:True to avoid fragmentation.  See documentation for Memory Management  (https://pytorch.org/docs/stable/notes/cuda.html#environment-variables)",
     "output_type": "error",
     "traceback": [
      "\u001b[0;31m---------------------------------------------------------------------------\u001b[0m",
      "\u001b[0;31mOutOfMemoryError\u001b[0m                          Traceback (most recent call last)",
      "Cell \u001b[0;32mIn[5], line 136\u001b[0m\n\u001b[1;32m    133\u001b[0m     logger\u001b[38;5;241m.\u001b[39mlog_message(\u001b[38;5;124mf\u001b[39m\u001b[38;5;124m\"\u001b[39m\u001b[38;5;124mFinished processing (total) in \u001b[39m\u001b[38;5;132;01m{\u001b[39;00mt_hours\u001b[38;5;132;01m}\u001b[39;00m\u001b[38;5;124m hours, \u001b[39m\u001b[38;5;132;01m{\u001b[39;00mt_minutes\u001b[38;5;132;01m}\u001b[39;00m\u001b[38;5;124m minutes, \u001b[39m\u001b[38;5;132;01m{\u001b[39;00mt_seconds\u001b[38;5;132;01m}\u001b[39;00m\u001b[38;5;124m seconds\u001b[39m\u001b[38;5;124m\"\u001b[39m)       \n\u001b[1;32m    135\u001b[0m \u001b[38;5;28;01mif\u001b[39;00m \u001b[38;5;18m__name__\u001b[39m \u001b[38;5;241m==\u001b[39m \u001b[38;5;124m\"\u001b[39m\u001b[38;5;124m__main__\u001b[39m\u001b[38;5;124m\"\u001b[39m:  \n\u001b[0;32m--> 136\u001b[0m     \u001b[43mmain\u001b[49m\u001b[43m(\u001b[49m\u001b[43m)\u001b[49m\n",
      "Cell \u001b[0;32mIn[5], line 116\u001b[0m, in \u001b[0;36mmain\u001b[0;34m()\u001b[0m\n\u001b[1;32m    113\u001b[0m distilbert_plot_file_path \u001b[38;5;241m=\u001b[39m os\u001b[38;5;241m.\u001b[39mpath\u001b[38;5;241m.\u001b[39mjoin(out_base_path, \u001b[38;5;124m'\u001b[39m\u001b[38;5;124mdistilbert_training_plot.png\u001b[39m\u001b[38;5;124m'\u001b[39m)\n\u001b[1;32m    115\u001b[0m \u001b[38;5;28mprint\u001b[39m(\u001b[38;5;124m\"\u001b[39m\u001b[38;5;124mTraining DistilBERT Model\u001b[39m\u001b[38;5;124m\"\u001b[39m)\n\u001b[0;32m--> 116\u001b[0m \u001b[43mtrain_distilbert\u001b[49m\u001b[43m(\u001b[49m\u001b[43mdf_ds\u001b[49m\u001b[43m,\u001b[49m\u001b[43m \u001b[49m\u001b[43mdistilbert_model_path\u001b[49m\u001b[43m,\u001b[49m\u001b[43m \u001b[49m\u001b[43mdistilbert_plot_file_path\u001b[49m\u001b[43m,\u001b[49m\u001b[43m \u001b[49m\u001b[43mn_epochs\u001b[49m\u001b[38;5;241;43m=\u001b[39;49m\u001b[38;5;241;43m10\u001b[39;49m\u001b[43m)\u001b[49m\n\u001b[1;32m    118\u001b[0m \u001b[38;5;66;03m# Test the DistilBERT model on the test set\u001b[39;00m\n\u001b[1;32m    119\u001b[0m \u001b[38;5;28mprint\u001b[39m(\u001b[38;5;124m\"\u001b[39m\u001b[38;5;124mTesting DistilBERT Model\u001b[39m\u001b[38;5;124m\"\u001b[39m)\n",
      "Cell \u001b[0;32mIn[4], line 773\u001b[0m, in \u001b[0;36mtrain_distilbert\u001b[0;34m(df_ds, model_file_path, image_file_path, n_epochs)\u001b[0m\n\u001b[1;32m    763\u001b[0m trainer \u001b[38;5;241m=\u001b[39m Trainer(\n\u001b[1;32m    764\u001b[0m     model\u001b[38;5;241m=\u001b[39mmodel,\n\u001b[1;32m    765\u001b[0m     args\u001b[38;5;241m=\u001b[39mtraining_args,\n\u001b[0;32m   (...)\u001b[0m\n\u001b[1;32m    769\u001b[0m     compute_metrics\u001b[38;5;241m=\u001b[39mcompute_metrics_bert\n\u001b[1;32m    770\u001b[0m )\n\u001b[1;32m    772\u001b[0m \u001b[38;5;66;03m# Train the model\u001b[39;00m\n\u001b[0;32m--> 773\u001b[0m \u001b[43mtrainer\u001b[49m\u001b[38;5;241;43m.\u001b[39;49m\u001b[43mtrain\u001b[49m\u001b[43m(\u001b[49m\u001b[43m)\u001b[49m\n\u001b[1;32m    775\u001b[0m \u001b[38;5;66;03m# Save the trained model\u001b[39;00m\n\u001b[1;32m    776\u001b[0m model\u001b[38;5;241m.\u001b[39msave_pretrained(model_file_path)  \u001b[38;5;66;03m# Updated to Hugging Face save method\u001b[39;00m\n",
      "File \u001b[0;32m/opt/conda/lib/python3.10/site-packages/transformers/trainer.py:2052\u001b[0m, in \u001b[0;36mTrainer.train\u001b[0;34m(self, resume_from_checkpoint, trial, ignore_keys_for_eval, **kwargs)\u001b[0m\n\u001b[1;32m   2050\u001b[0m         hf_hub_utils\u001b[38;5;241m.\u001b[39menable_progress_bars()\n\u001b[1;32m   2051\u001b[0m \u001b[38;5;28;01melse\u001b[39;00m:\n\u001b[0;32m-> 2052\u001b[0m     \u001b[38;5;28;01mreturn\u001b[39;00m \u001b[43minner_training_loop\u001b[49m\u001b[43m(\u001b[49m\n\u001b[1;32m   2053\u001b[0m \u001b[43m        \u001b[49m\u001b[43margs\u001b[49m\u001b[38;5;241;43m=\u001b[39;49m\u001b[43margs\u001b[49m\u001b[43m,\u001b[49m\n\u001b[1;32m   2054\u001b[0m \u001b[43m        \u001b[49m\u001b[43mresume_from_checkpoint\u001b[49m\u001b[38;5;241;43m=\u001b[39;49m\u001b[43mresume_from_checkpoint\u001b[49m\u001b[43m,\u001b[49m\n\u001b[1;32m   2055\u001b[0m \u001b[43m        \u001b[49m\u001b[43mtrial\u001b[49m\u001b[38;5;241;43m=\u001b[39;49m\u001b[43mtrial\u001b[49m\u001b[43m,\u001b[49m\n\u001b[1;32m   2056\u001b[0m \u001b[43m        \u001b[49m\u001b[43mignore_keys_for_eval\u001b[49m\u001b[38;5;241;43m=\u001b[39;49m\u001b[43mignore_keys_for_eval\u001b[49m\u001b[43m,\u001b[49m\n\u001b[1;32m   2057\u001b[0m \u001b[43m    \u001b[49m\u001b[43m)\u001b[49m\n",
      "File \u001b[0;32m/opt/conda/lib/python3.10/site-packages/transformers/trainer.py:2388\u001b[0m, in \u001b[0;36mTrainer._inner_training_loop\u001b[0;34m(self, batch_size, args, resume_from_checkpoint, trial, ignore_keys_for_eval)\u001b[0m\n\u001b[1;32m   2385\u001b[0m     \u001b[38;5;28mself\u001b[39m\u001b[38;5;241m.\u001b[39mcontrol \u001b[38;5;241m=\u001b[39m \u001b[38;5;28mself\u001b[39m\u001b[38;5;241m.\u001b[39mcallback_handler\u001b[38;5;241m.\u001b[39mon_step_begin(args, \u001b[38;5;28mself\u001b[39m\u001b[38;5;241m.\u001b[39mstate, \u001b[38;5;28mself\u001b[39m\u001b[38;5;241m.\u001b[39mcontrol)\n\u001b[1;32m   2387\u001b[0m \u001b[38;5;28;01mwith\u001b[39;00m \u001b[38;5;28mself\u001b[39m\u001b[38;5;241m.\u001b[39maccelerator\u001b[38;5;241m.\u001b[39maccumulate(model):\n\u001b[0;32m-> 2388\u001b[0m     tr_loss_step \u001b[38;5;241m=\u001b[39m \u001b[38;5;28;43mself\u001b[39;49m\u001b[38;5;241;43m.\u001b[39;49m\u001b[43mtraining_step\u001b[49m\u001b[43m(\u001b[49m\u001b[43mmodel\u001b[49m\u001b[43m,\u001b[49m\u001b[43m \u001b[49m\u001b[43minputs\u001b[49m\u001b[43m)\u001b[49m\n\u001b[1;32m   2390\u001b[0m \u001b[38;5;28;01mif\u001b[39;00m (\n\u001b[1;32m   2391\u001b[0m     args\u001b[38;5;241m.\u001b[39mlogging_nan_inf_filter\n\u001b[1;32m   2392\u001b[0m     \u001b[38;5;129;01mand\u001b[39;00m \u001b[38;5;129;01mnot\u001b[39;00m is_torch_xla_available()\n\u001b[1;32m   2393\u001b[0m     \u001b[38;5;129;01mand\u001b[39;00m (torch\u001b[38;5;241m.\u001b[39misnan(tr_loss_step) \u001b[38;5;129;01mor\u001b[39;00m torch\u001b[38;5;241m.\u001b[39misinf(tr_loss_step))\n\u001b[1;32m   2394\u001b[0m ):\n\u001b[1;32m   2395\u001b[0m     \u001b[38;5;66;03m# if loss is nan or inf simply add the average of previous logged losses\u001b[39;00m\n\u001b[1;32m   2396\u001b[0m     tr_loss \u001b[38;5;241m+\u001b[39m\u001b[38;5;241m=\u001b[39m tr_loss \u001b[38;5;241m/\u001b[39m (\u001b[38;5;241m1\u001b[39m \u001b[38;5;241m+\u001b[39m \u001b[38;5;28mself\u001b[39m\u001b[38;5;241m.\u001b[39mstate\u001b[38;5;241m.\u001b[39mglobal_step \u001b[38;5;241m-\u001b[39m \u001b[38;5;28mself\u001b[39m\u001b[38;5;241m.\u001b[39m_globalstep_last_logged)\n",
      "File \u001b[0;32m/opt/conda/lib/python3.10/site-packages/transformers/trainer.py:3485\u001b[0m, in \u001b[0;36mTrainer.training_step\u001b[0;34m(self, model, inputs)\u001b[0m\n\u001b[1;32m   3482\u001b[0m     \u001b[38;5;28;01mreturn\u001b[39;00m loss_mb\u001b[38;5;241m.\u001b[39mreduce_mean()\u001b[38;5;241m.\u001b[39mdetach()\u001b[38;5;241m.\u001b[39mto(\u001b[38;5;28mself\u001b[39m\u001b[38;5;241m.\u001b[39margs\u001b[38;5;241m.\u001b[39mdevice)\n\u001b[1;32m   3484\u001b[0m \u001b[38;5;28;01mwith\u001b[39;00m \u001b[38;5;28mself\u001b[39m\u001b[38;5;241m.\u001b[39mcompute_loss_context_manager():\n\u001b[0;32m-> 3485\u001b[0m     loss \u001b[38;5;241m=\u001b[39m \u001b[38;5;28;43mself\u001b[39;49m\u001b[38;5;241;43m.\u001b[39;49m\u001b[43mcompute_loss\u001b[49m\u001b[43m(\u001b[49m\u001b[43mmodel\u001b[49m\u001b[43m,\u001b[49m\u001b[43m \u001b[49m\u001b[43minputs\u001b[49m\u001b[43m)\u001b[49m\n\u001b[1;32m   3487\u001b[0m \u001b[38;5;28;01mdel\u001b[39;00m inputs\n\u001b[1;32m   3488\u001b[0m \u001b[38;5;28;01mif\u001b[39;00m (\n\u001b[1;32m   3489\u001b[0m     \u001b[38;5;28mself\u001b[39m\u001b[38;5;241m.\u001b[39margs\u001b[38;5;241m.\u001b[39mtorch_empty_cache_steps \u001b[38;5;129;01mis\u001b[39;00m \u001b[38;5;129;01mnot\u001b[39;00m \u001b[38;5;28;01mNone\u001b[39;00m\n\u001b[1;32m   3490\u001b[0m     \u001b[38;5;129;01mand\u001b[39;00m \u001b[38;5;28mself\u001b[39m\u001b[38;5;241m.\u001b[39mstate\u001b[38;5;241m.\u001b[39mglobal_step \u001b[38;5;241m%\u001b[39m \u001b[38;5;28mself\u001b[39m\u001b[38;5;241m.\u001b[39margs\u001b[38;5;241m.\u001b[39mtorch_empty_cache_steps \u001b[38;5;241m==\u001b[39m \u001b[38;5;241m0\u001b[39m\n\u001b[1;32m   3491\u001b[0m ):\n",
      "File \u001b[0;32m/opt/conda/lib/python3.10/site-packages/transformers/trainer.py:3532\u001b[0m, in \u001b[0;36mTrainer.compute_loss\u001b[0;34m(self, model, inputs, return_outputs)\u001b[0m\n\u001b[1;32m   3530\u001b[0m \u001b[38;5;28;01melse\u001b[39;00m:\n\u001b[1;32m   3531\u001b[0m     labels \u001b[38;5;241m=\u001b[39m \u001b[38;5;28;01mNone\u001b[39;00m\n\u001b[0;32m-> 3532\u001b[0m outputs \u001b[38;5;241m=\u001b[39m \u001b[43mmodel\u001b[49m\u001b[43m(\u001b[49m\u001b[38;5;241;43m*\u001b[39;49m\u001b[38;5;241;43m*\u001b[39;49m\u001b[43minputs\u001b[49m\u001b[43m)\u001b[49m\n\u001b[1;32m   3533\u001b[0m \u001b[38;5;66;03m# Save past state if it exists\u001b[39;00m\n\u001b[1;32m   3534\u001b[0m \u001b[38;5;66;03m# TODO: this needs to be fixed and made cleaner later.\u001b[39;00m\n\u001b[1;32m   3535\u001b[0m \u001b[38;5;28;01mif\u001b[39;00m \u001b[38;5;28mself\u001b[39m\u001b[38;5;241m.\u001b[39margs\u001b[38;5;241m.\u001b[39mpast_index \u001b[38;5;241m>\u001b[39m\u001b[38;5;241m=\u001b[39m \u001b[38;5;241m0\u001b[39m:\n",
      "File \u001b[0;32m/opt/conda/lib/python3.10/site-packages/torch/nn/modules/module.py:1553\u001b[0m, in \u001b[0;36mModule._wrapped_call_impl\u001b[0;34m(self, *args, **kwargs)\u001b[0m\n\u001b[1;32m   1551\u001b[0m     \u001b[38;5;28;01mreturn\u001b[39;00m \u001b[38;5;28mself\u001b[39m\u001b[38;5;241m.\u001b[39m_compiled_call_impl(\u001b[38;5;241m*\u001b[39margs, \u001b[38;5;241m*\u001b[39m\u001b[38;5;241m*\u001b[39mkwargs)  \u001b[38;5;66;03m# type: ignore[misc]\u001b[39;00m\n\u001b[1;32m   1552\u001b[0m \u001b[38;5;28;01melse\u001b[39;00m:\n\u001b[0;32m-> 1553\u001b[0m     \u001b[38;5;28;01mreturn\u001b[39;00m \u001b[38;5;28;43mself\u001b[39;49m\u001b[38;5;241;43m.\u001b[39;49m\u001b[43m_call_impl\u001b[49m\u001b[43m(\u001b[49m\u001b[38;5;241;43m*\u001b[39;49m\u001b[43margs\u001b[49m\u001b[43m,\u001b[49m\u001b[43m \u001b[49m\u001b[38;5;241;43m*\u001b[39;49m\u001b[38;5;241;43m*\u001b[39;49m\u001b[43mkwargs\u001b[49m\u001b[43m)\u001b[49m\n",
      "File \u001b[0;32m/opt/conda/lib/python3.10/site-packages/torch/nn/modules/module.py:1562\u001b[0m, in \u001b[0;36mModule._call_impl\u001b[0;34m(self, *args, **kwargs)\u001b[0m\n\u001b[1;32m   1557\u001b[0m \u001b[38;5;66;03m# If we don't have any hooks, we want to skip the rest of the logic in\u001b[39;00m\n\u001b[1;32m   1558\u001b[0m \u001b[38;5;66;03m# this function, and just call forward.\u001b[39;00m\n\u001b[1;32m   1559\u001b[0m \u001b[38;5;28;01mif\u001b[39;00m \u001b[38;5;129;01mnot\u001b[39;00m (\u001b[38;5;28mself\u001b[39m\u001b[38;5;241m.\u001b[39m_backward_hooks \u001b[38;5;129;01mor\u001b[39;00m \u001b[38;5;28mself\u001b[39m\u001b[38;5;241m.\u001b[39m_backward_pre_hooks \u001b[38;5;129;01mor\u001b[39;00m \u001b[38;5;28mself\u001b[39m\u001b[38;5;241m.\u001b[39m_forward_hooks \u001b[38;5;129;01mor\u001b[39;00m \u001b[38;5;28mself\u001b[39m\u001b[38;5;241m.\u001b[39m_forward_pre_hooks\n\u001b[1;32m   1560\u001b[0m         \u001b[38;5;129;01mor\u001b[39;00m _global_backward_pre_hooks \u001b[38;5;129;01mor\u001b[39;00m _global_backward_hooks\n\u001b[1;32m   1561\u001b[0m         \u001b[38;5;129;01mor\u001b[39;00m _global_forward_hooks \u001b[38;5;129;01mor\u001b[39;00m _global_forward_pre_hooks):\n\u001b[0;32m-> 1562\u001b[0m     \u001b[38;5;28;01mreturn\u001b[39;00m \u001b[43mforward_call\u001b[49m\u001b[43m(\u001b[49m\u001b[38;5;241;43m*\u001b[39;49m\u001b[43margs\u001b[49m\u001b[43m,\u001b[49m\u001b[43m \u001b[49m\u001b[38;5;241;43m*\u001b[39;49m\u001b[38;5;241;43m*\u001b[39;49m\u001b[43mkwargs\u001b[49m\u001b[43m)\u001b[49m\n\u001b[1;32m   1564\u001b[0m \u001b[38;5;28;01mtry\u001b[39;00m:\n\u001b[1;32m   1565\u001b[0m     result \u001b[38;5;241m=\u001b[39m \u001b[38;5;28;01mNone\u001b[39;00m\n",
      "File \u001b[0;32m/opt/conda/lib/python3.10/site-packages/transformers/models/distilbert/modeling_distilbert.py:883\u001b[0m, in \u001b[0;36mDistilBertForSequenceClassification.forward\u001b[0;34m(self, input_ids, attention_mask, head_mask, inputs_embeds, labels, output_attentions, output_hidden_states, return_dict)\u001b[0m\n\u001b[1;32m    875\u001b[0m \u001b[38;5;250m\u001b[39m\u001b[38;5;124mr\u001b[39m\u001b[38;5;124;03m\"\"\"\u001b[39;00m\n\u001b[1;32m    876\u001b[0m \u001b[38;5;124;03mlabels (`torch.LongTensor` of shape `(batch_size,)`, *optional*):\u001b[39;00m\n\u001b[1;32m    877\u001b[0m \u001b[38;5;124;03m    Labels for computing the sequence classification/regression loss. Indices should be in `[0, ...,\u001b[39;00m\n\u001b[1;32m    878\u001b[0m \u001b[38;5;124;03m    config.num_labels - 1]`. If `config.num_labels == 1` a regression loss is computed (Mean-Square loss), If\u001b[39;00m\n\u001b[1;32m    879\u001b[0m \u001b[38;5;124;03m    `config.num_labels > 1` a classification loss is computed (Cross-Entropy).\u001b[39;00m\n\u001b[1;32m    880\u001b[0m \u001b[38;5;124;03m\"\"\"\u001b[39;00m\n\u001b[1;32m    881\u001b[0m return_dict \u001b[38;5;241m=\u001b[39m return_dict \u001b[38;5;28;01mif\u001b[39;00m return_dict \u001b[38;5;129;01mis\u001b[39;00m \u001b[38;5;129;01mnot\u001b[39;00m \u001b[38;5;28;01mNone\u001b[39;00m \u001b[38;5;28;01melse\u001b[39;00m \u001b[38;5;28mself\u001b[39m\u001b[38;5;241m.\u001b[39mconfig\u001b[38;5;241m.\u001b[39muse_return_dict\n\u001b[0;32m--> 883\u001b[0m distilbert_output \u001b[38;5;241m=\u001b[39m \u001b[38;5;28;43mself\u001b[39;49m\u001b[38;5;241;43m.\u001b[39;49m\u001b[43mdistilbert\u001b[49m\u001b[43m(\u001b[49m\n\u001b[1;32m    884\u001b[0m \u001b[43m    \u001b[49m\u001b[43minput_ids\u001b[49m\u001b[38;5;241;43m=\u001b[39;49m\u001b[43minput_ids\u001b[49m\u001b[43m,\u001b[49m\n\u001b[1;32m    885\u001b[0m \u001b[43m    \u001b[49m\u001b[43mattention_mask\u001b[49m\u001b[38;5;241;43m=\u001b[39;49m\u001b[43mattention_mask\u001b[49m\u001b[43m,\u001b[49m\n\u001b[1;32m    886\u001b[0m \u001b[43m    \u001b[49m\u001b[43mhead_mask\u001b[49m\u001b[38;5;241;43m=\u001b[39;49m\u001b[43mhead_mask\u001b[49m\u001b[43m,\u001b[49m\n\u001b[1;32m    887\u001b[0m \u001b[43m    \u001b[49m\u001b[43minputs_embeds\u001b[49m\u001b[38;5;241;43m=\u001b[39;49m\u001b[43minputs_embeds\u001b[49m\u001b[43m,\u001b[49m\n\u001b[1;32m    888\u001b[0m \u001b[43m    \u001b[49m\u001b[43moutput_attentions\u001b[49m\u001b[38;5;241;43m=\u001b[39;49m\u001b[43moutput_attentions\u001b[49m\u001b[43m,\u001b[49m\n\u001b[1;32m    889\u001b[0m \u001b[43m    \u001b[49m\u001b[43moutput_hidden_states\u001b[49m\u001b[38;5;241;43m=\u001b[39;49m\u001b[43moutput_hidden_states\u001b[49m\u001b[43m,\u001b[49m\n\u001b[1;32m    890\u001b[0m \u001b[43m    \u001b[49m\u001b[43mreturn_dict\u001b[49m\u001b[38;5;241;43m=\u001b[39;49m\u001b[43mreturn_dict\u001b[49m\u001b[43m,\u001b[49m\n\u001b[1;32m    891\u001b[0m \u001b[43m\u001b[49m\u001b[43m)\u001b[49m\n\u001b[1;32m    892\u001b[0m hidden_state \u001b[38;5;241m=\u001b[39m distilbert_output[\u001b[38;5;241m0\u001b[39m]  \u001b[38;5;66;03m# (bs, seq_len, dim)\u001b[39;00m\n\u001b[1;32m    893\u001b[0m pooled_output \u001b[38;5;241m=\u001b[39m hidden_state[:, \u001b[38;5;241m0\u001b[39m]  \u001b[38;5;66;03m# (bs, dim)\u001b[39;00m\n",
      "File \u001b[0;32m/opt/conda/lib/python3.10/site-packages/torch/nn/modules/module.py:1553\u001b[0m, in \u001b[0;36mModule._wrapped_call_impl\u001b[0;34m(self, *args, **kwargs)\u001b[0m\n\u001b[1;32m   1551\u001b[0m     \u001b[38;5;28;01mreturn\u001b[39;00m \u001b[38;5;28mself\u001b[39m\u001b[38;5;241m.\u001b[39m_compiled_call_impl(\u001b[38;5;241m*\u001b[39margs, \u001b[38;5;241m*\u001b[39m\u001b[38;5;241m*\u001b[39mkwargs)  \u001b[38;5;66;03m# type: ignore[misc]\u001b[39;00m\n\u001b[1;32m   1552\u001b[0m \u001b[38;5;28;01melse\u001b[39;00m:\n\u001b[0;32m-> 1553\u001b[0m     \u001b[38;5;28;01mreturn\u001b[39;00m \u001b[38;5;28;43mself\u001b[39;49m\u001b[38;5;241;43m.\u001b[39;49m\u001b[43m_call_impl\u001b[49m\u001b[43m(\u001b[49m\u001b[38;5;241;43m*\u001b[39;49m\u001b[43margs\u001b[49m\u001b[43m,\u001b[49m\u001b[43m \u001b[49m\u001b[38;5;241;43m*\u001b[39;49m\u001b[38;5;241;43m*\u001b[39;49m\u001b[43mkwargs\u001b[49m\u001b[43m)\u001b[49m\n",
      "File \u001b[0;32m/opt/conda/lib/python3.10/site-packages/torch/nn/modules/module.py:1562\u001b[0m, in \u001b[0;36mModule._call_impl\u001b[0;34m(self, *args, **kwargs)\u001b[0m\n\u001b[1;32m   1557\u001b[0m \u001b[38;5;66;03m# If we don't have any hooks, we want to skip the rest of the logic in\u001b[39;00m\n\u001b[1;32m   1558\u001b[0m \u001b[38;5;66;03m# this function, and just call forward.\u001b[39;00m\n\u001b[1;32m   1559\u001b[0m \u001b[38;5;28;01mif\u001b[39;00m \u001b[38;5;129;01mnot\u001b[39;00m (\u001b[38;5;28mself\u001b[39m\u001b[38;5;241m.\u001b[39m_backward_hooks \u001b[38;5;129;01mor\u001b[39;00m \u001b[38;5;28mself\u001b[39m\u001b[38;5;241m.\u001b[39m_backward_pre_hooks \u001b[38;5;129;01mor\u001b[39;00m \u001b[38;5;28mself\u001b[39m\u001b[38;5;241m.\u001b[39m_forward_hooks \u001b[38;5;129;01mor\u001b[39;00m \u001b[38;5;28mself\u001b[39m\u001b[38;5;241m.\u001b[39m_forward_pre_hooks\n\u001b[1;32m   1560\u001b[0m         \u001b[38;5;129;01mor\u001b[39;00m _global_backward_pre_hooks \u001b[38;5;129;01mor\u001b[39;00m _global_backward_hooks\n\u001b[1;32m   1561\u001b[0m         \u001b[38;5;129;01mor\u001b[39;00m _global_forward_hooks \u001b[38;5;129;01mor\u001b[39;00m _global_forward_pre_hooks):\n\u001b[0;32m-> 1562\u001b[0m     \u001b[38;5;28;01mreturn\u001b[39;00m \u001b[43mforward_call\u001b[49m\u001b[43m(\u001b[49m\u001b[38;5;241;43m*\u001b[39;49m\u001b[43margs\u001b[49m\u001b[43m,\u001b[49m\u001b[43m \u001b[49m\u001b[38;5;241;43m*\u001b[39;49m\u001b[38;5;241;43m*\u001b[39;49m\u001b[43mkwargs\u001b[49m\u001b[43m)\u001b[49m\n\u001b[1;32m   1564\u001b[0m \u001b[38;5;28;01mtry\u001b[39;00m:\n\u001b[1;32m   1565\u001b[0m     result \u001b[38;5;241m=\u001b[39m \u001b[38;5;28;01mNone\u001b[39;00m\n",
      "File \u001b[0;32m/opt/conda/lib/python3.10/site-packages/transformers/models/distilbert/modeling_distilbert.py:703\u001b[0m, in \u001b[0;36mDistilBertModel.forward\u001b[0;34m(self, input_ids, attention_mask, head_mask, inputs_embeds, output_attentions, output_hidden_states, return_dict)\u001b[0m\n\u001b[1;32m    700\u001b[0m     \u001b[38;5;28;01mif\u001b[39;00m attention_mask \u001b[38;5;129;01mis\u001b[39;00m \u001b[38;5;28;01mNone\u001b[39;00m:\n\u001b[1;32m    701\u001b[0m         attention_mask \u001b[38;5;241m=\u001b[39m torch\u001b[38;5;241m.\u001b[39mones(input_shape, device\u001b[38;5;241m=\u001b[39mdevice)  \u001b[38;5;66;03m# (bs, seq_length)\u001b[39;00m\n\u001b[0;32m--> 703\u001b[0m \u001b[38;5;28;01mreturn\u001b[39;00m \u001b[38;5;28;43mself\u001b[39;49m\u001b[38;5;241;43m.\u001b[39;49m\u001b[43mtransformer\u001b[49m\u001b[43m(\u001b[49m\n\u001b[1;32m    704\u001b[0m \u001b[43m    \u001b[49m\u001b[43mx\u001b[49m\u001b[38;5;241;43m=\u001b[39;49m\u001b[43membeddings\u001b[49m\u001b[43m,\u001b[49m\n\u001b[1;32m    705\u001b[0m \u001b[43m    \u001b[49m\u001b[43mattn_mask\u001b[49m\u001b[38;5;241;43m=\u001b[39;49m\u001b[43mattention_mask\u001b[49m\u001b[43m,\u001b[49m\n\u001b[1;32m    706\u001b[0m \u001b[43m    \u001b[49m\u001b[43mhead_mask\u001b[49m\u001b[38;5;241;43m=\u001b[39;49m\u001b[43mhead_mask\u001b[49m\u001b[43m,\u001b[49m\n\u001b[1;32m    707\u001b[0m \u001b[43m    \u001b[49m\u001b[43moutput_attentions\u001b[49m\u001b[38;5;241;43m=\u001b[39;49m\u001b[43moutput_attentions\u001b[49m\u001b[43m,\u001b[49m\n\u001b[1;32m    708\u001b[0m \u001b[43m    \u001b[49m\u001b[43moutput_hidden_states\u001b[49m\u001b[38;5;241;43m=\u001b[39;49m\u001b[43moutput_hidden_states\u001b[49m\u001b[43m,\u001b[49m\n\u001b[1;32m    709\u001b[0m \u001b[43m    \u001b[49m\u001b[43mreturn_dict\u001b[49m\u001b[38;5;241;43m=\u001b[39;49m\u001b[43mreturn_dict\u001b[49m\u001b[43m,\u001b[49m\n\u001b[1;32m    710\u001b[0m \u001b[43m\u001b[49m\u001b[43m)\u001b[49m\n",
      "File \u001b[0;32m/opt/conda/lib/python3.10/site-packages/torch/nn/modules/module.py:1553\u001b[0m, in \u001b[0;36mModule._wrapped_call_impl\u001b[0;34m(self, *args, **kwargs)\u001b[0m\n\u001b[1;32m   1551\u001b[0m     \u001b[38;5;28;01mreturn\u001b[39;00m \u001b[38;5;28mself\u001b[39m\u001b[38;5;241m.\u001b[39m_compiled_call_impl(\u001b[38;5;241m*\u001b[39margs, \u001b[38;5;241m*\u001b[39m\u001b[38;5;241m*\u001b[39mkwargs)  \u001b[38;5;66;03m# type: ignore[misc]\u001b[39;00m\n\u001b[1;32m   1552\u001b[0m \u001b[38;5;28;01melse\u001b[39;00m:\n\u001b[0;32m-> 1553\u001b[0m     \u001b[38;5;28;01mreturn\u001b[39;00m \u001b[38;5;28;43mself\u001b[39;49m\u001b[38;5;241;43m.\u001b[39;49m\u001b[43m_call_impl\u001b[49m\u001b[43m(\u001b[49m\u001b[38;5;241;43m*\u001b[39;49m\u001b[43margs\u001b[49m\u001b[43m,\u001b[49m\u001b[43m \u001b[49m\u001b[38;5;241;43m*\u001b[39;49m\u001b[38;5;241;43m*\u001b[39;49m\u001b[43mkwargs\u001b[49m\u001b[43m)\u001b[49m\n",
      "File \u001b[0;32m/opt/conda/lib/python3.10/site-packages/torch/nn/modules/module.py:1562\u001b[0m, in \u001b[0;36mModule._call_impl\u001b[0;34m(self, *args, **kwargs)\u001b[0m\n\u001b[1;32m   1557\u001b[0m \u001b[38;5;66;03m# If we don't have any hooks, we want to skip the rest of the logic in\u001b[39;00m\n\u001b[1;32m   1558\u001b[0m \u001b[38;5;66;03m# this function, and just call forward.\u001b[39;00m\n\u001b[1;32m   1559\u001b[0m \u001b[38;5;28;01mif\u001b[39;00m \u001b[38;5;129;01mnot\u001b[39;00m (\u001b[38;5;28mself\u001b[39m\u001b[38;5;241m.\u001b[39m_backward_hooks \u001b[38;5;129;01mor\u001b[39;00m \u001b[38;5;28mself\u001b[39m\u001b[38;5;241m.\u001b[39m_backward_pre_hooks \u001b[38;5;129;01mor\u001b[39;00m \u001b[38;5;28mself\u001b[39m\u001b[38;5;241m.\u001b[39m_forward_hooks \u001b[38;5;129;01mor\u001b[39;00m \u001b[38;5;28mself\u001b[39m\u001b[38;5;241m.\u001b[39m_forward_pre_hooks\n\u001b[1;32m   1560\u001b[0m         \u001b[38;5;129;01mor\u001b[39;00m _global_backward_pre_hooks \u001b[38;5;129;01mor\u001b[39;00m _global_backward_hooks\n\u001b[1;32m   1561\u001b[0m         \u001b[38;5;129;01mor\u001b[39;00m _global_forward_hooks \u001b[38;5;129;01mor\u001b[39;00m _global_forward_pre_hooks):\n\u001b[0;32m-> 1562\u001b[0m     \u001b[38;5;28;01mreturn\u001b[39;00m \u001b[43mforward_call\u001b[49m\u001b[43m(\u001b[49m\u001b[38;5;241;43m*\u001b[39;49m\u001b[43margs\u001b[49m\u001b[43m,\u001b[49m\u001b[43m \u001b[49m\u001b[38;5;241;43m*\u001b[39;49m\u001b[38;5;241;43m*\u001b[39;49m\u001b[43mkwargs\u001b[49m\u001b[43m)\u001b[49m\n\u001b[1;32m   1564\u001b[0m \u001b[38;5;28;01mtry\u001b[39;00m:\n\u001b[1;32m   1565\u001b[0m     result \u001b[38;5;241m=\u001b[39m \u001b[38;5;28;01mNone\u001b[39;00m\n",
      "File \u001b[0;32m/opt/conda/lib/python3.10/site-packages/transformers/models/distilbert/modeling_distilbert.py:464\u001b[0m, in \u001b[0;36mTransformer.forward\u001b[0;34m(self, x, attn_mask, head_mask, output_attentions, output_hidden_states, return_dict)\u001b[0m\n\u001b[1;32m    456\u001b[0m     layer_outputs \u001b[38;5;241m=\u001b[39m \u001b[38;5;28mself\u001b[39m\u001b[38;5;241m.\u001b[39m_gradient_checkpointing_func(\n\u001b[1;32m    457\u001b[0m         layer_module\u001b[38;5;241m.\u001b[39m\u001b[38;5;21m__call__\u001b[39m,\n\u001b[1;32m    458\u001b[0m         hidden_state,\n\u001b[0;32m   (...)\u001b[0m\n\u001b[1;32m    461\u001b[0m         output_attentions,\n\u001b[1;32m    462\u001b[0m     )\n\u001b[1;32m    463\u001b[0m \u001b[38;5;28;01melse\u001b[39;00m:\n\u001b[0;32m--> 464\u001b[0m     layer_outputs \u001b[38;5;241m=\u001b[39m \u001b[43mlayer_module\u001b[49m\u001b[43m(\u001b[49m\n\u001b[1;32m    465\u001b[0m \u001b[43m        \u001b[49m\u001b[43mhidden_state\u001b[49m\u001b[43m,\u001b[49m\n\u001b[1;32m    466\u001b[0m \u001b[43m        \u001b[49m\u001b[43mattn_mask\u001b[49m\u001b[43m,\u001b[49m\n\u001b[1;32m    467\u001b[0m \u001b[43m        \u001b[49m\u001b[43mhead_mask\u001b[49m\u001b[43m[\u001b[49m\u001b[43mi\u001b[49m\u001b[43m]\u001b[49m\u001b[43m,\u001b[49m\n\u001b[1;32m    468\u001b[0m \u001b[43m        \u001b[49m\u001b[43moutput_attentions\u001b[49m\u001b[43m,\u001b[49m\n\u001b[1;32m    469\u001b[0m \u001b[43m    \u001b[49m\u001b[43m)\u001b[49m\n\u001b[1;32m    471\u001b[0m hidden_state \u001b[38;5;241m=\u001b[39m layer_outputs[\u001b[38;5;241m-\u001b[39m\u001b[38;5;241m1\u001b[39m]\n\u001b[1;32m    473\u001b[0m \u001b[38;5;28;01mif\u001b[39;00m output_attentions:\n",
      "File \u001b[0;32m/opt/conda/lib/python3.10/site-packages/torch/nn/modules/module.py:1553\u001b[0m, in \u001b[0;36mModule._wrapped_call_impl\u001b[0;34m(self, *args, **kwargs)\u001b[0m\n\u001b[1;32m   1551\u001b[0m     \u001b[38;5;28;01mreturn\u001b[39;00m \u001b[38;5;28mself\u001b[39m\u001b[38;5;241m.\u001b[39m_compiled_call_impl(\u001b[38;5;241m*\u001b[39margs, \u001b[38;5;241m*\u001b[39m\u001b[38;5;241m*\u001b[39mkwargs)  \u001b[38;5;66;03m# type: ignore[misc]\u001b[39;00m\n\u001b[1;32m   1552\u001b[0m \u001b[38;5;28;01melse\u001b[39;00m:\n\u001b[0;32m-> 1553\u001b[0m     \u001b[38;5;28;01mreturn\u001b[39;00m \u001b[38;5;28;43mself\u001b[39;49m\u001b[38;5;241;43m.\u001b[39;49m\u001b[43m_call_impl\u001b[49m\u001b[43m(\u001b[49m\u001b[38;5;241;43m*\u001b[39;49m\u001b[43margs\u001b[49m\u001b[43m,\u001b[49m\u001b[43m \u001b[49m\u001b[38;5;241;43m*\u001b[39;49m\u001b[38;5;241;43m*\u001b[39;49m\u001b[43mkwargs\u001b[49m\u001b[43m)\u001b[49m\n",
      "File \u001b[0;32m/opt/conda/lib/python3.10/site-packages/torch/nn/modules/module.py:1562\u001b[0m, in \u001b[0;36mModule._call_impl\u001b[0;34m(self, *args, **kwargs)\u001b[0m\n\u001b[1;32m   1557\u001b[0m \u001b[38;5;66;03m# If we don't have any hooks, we want to skip the rest of the logic in\u001b[39;00m\n\u001b[1;32m   1558\u001b[0m \u001b[38;5;66;03m# this function, and just call forward.\u001b[39;00m\n\u001b[1;32m   1559\u001b[0m \u001b[38;5;28;01mif\u001b[39;00m \u001b[38;5;129;01mnot\u001b[39;00m (\u001b[38;5;28mself\u001b[39m\u001b[38;5;241m.\u001b[39m_backward_hooks \u001b[38;5;129;01mor\u001b[39;00m \u001b[38;5;28mself\u001b[39m\u001b[38;5;241m.\u001b[39m_backward_pre_hooks \u001b[38;5;129;01mor\u001b[39;00m \u001b[38;5;28mself\u001b[39m\u001b[38;5;241m.\u001b[39m_forward_hooks \u001b[38;5;129;01mor\u001b[39;00m \u001b[38;5;28mself\u001b[39m\u001b[38;5;241m.\u001b[39m_forward_pre_hooks\n\u001b[1;32m   1560\u001b[0m         \u001b[38;5;129;01mor\u001b[39;00m _global_backward_pre_hooks \u001b[38;5;129;01mor\u001b[39;00m _global_backward_hooks\n\u001b[1;32m   1561\u001b[0m         \u001b[38;5;129;01mor\u001b[39;00m _global_forward_hooks \u001b[38;5;129;01mor\u001b[39;00m _global_forward_pre_hooks):\n\u001b[0;32m-> 1562\u001b[0m     \u001b[38;5;28;01mreturn\u001b[39;00m \u001b[43mforward_call\u001b[49m\u001b[43m(\u001b[49m\u001b[38;5;241;43m*\u001b[39;49m\u001b[43margs\u001b[49m\u001b[43m,\u001b[49m\u001b[43m \u001b[49m\u001b[38;5;241;43m*\u001b[39;49m\u001b[38;5;241;43m*\u001b[39;49m\u001b[43mkwargs\u001b[49m\u001b[43m)\u001b[49m\n\u001b[1;32m   1564\u001b[0m \u001b[38;5;28;01mtry\u001b[39;00m:\n\u001b[1;32m   1565\u001b[0m     result \u001b[38;5;241m=\u001b[39m \u001b[38;5;28;01mNone\u001b[39;00m\n",
      "File \u001b[0;32m/opt/conda/lib/python3.10/site-packages/transformers/models/distilbert/modeling_distilbert.py:390\u001b[0m, in \u001b[0;36mTransformerBlock.forward\u001b[0;34m(self, x, attn_mask, head_mask, output_attentions)\u001b[0m\n\u001b[1;32m    380\u001b[0m \u001b[38;5;250m\u001b[39m\u001b[38;5;124;03m\"\"\"\u001b[39;00m\n\u001b[1;32m    381\u001b[0m \u001b[38;5;124;03mParameters:\u001b[39;00m\n\u001b[1;32m    382\u001b[0m \u001b[38;5;124;03m    x: torch.tensor(bs, seq_length, dim)\u001b[39;00m\n\u001b[0;32m   (...)\u001b[0m\n\u001b[1;32m    387\u001b[0m \u001b[38;5;124;03m    torch.tensor(bs, seq_length, dim) The output of the transformer block contextualization.\u001b[39;00m\n\u001b[1;32m    388\u001b[0m \u001b[38;5;124;03m\"\"\"\u001b[39;00m\n\u001b[1;32m    389\u001b[0m \u001b[38;5;66;03m# Self-Attention\u001b[39;00m\n\u001b[0;32m--> 390\u001b[0m sa_output \u001b[38;5;241m=\u001b[39m \u001b[38;5;28;43mself\u001b[39;49m\u001b[38;5;241;43m.\u001b[39;49m\u001b[43mattention\u001b[49m\u001b[43m(\u001b[49m\n\u001b[1;32m    391\u001b[0m \u001b[43m    \u001b[49m\u001b[43mquery\u001b[49m\u001b[38;5;241;43m=\u001b[39;49m\u001b[43mx\u001b[49m\u001b[43m,\u001b[49m\n\u001b[1;32m    392\u001b[0m \u001b[43m    \u001b[49m\u001b[43mkey\u001b[49m\u001b[38;5;241;43m=\u001b[39;49m\u001b[43mx\u001b[49m\u001b[43m,\u001b[49m\n\u001b[1;32m    393\u001b[0m \u001b[43m    \u001b[49m\u001b[43mvalue\u001b[49m\u001b[38;5;241;43m=\u001b[39;49m\u001b[43mx\u001b[49m\u001b[43m,\u001b[49m\n\u001b[1;32m    394\u001b[0m \u001b[43m    \u001b[49m\u001b[43mmask\u001b[49m\u001b[38;5;241;43m=\u001b[39;49m\u001b[43mattn_mask\u001b[49m\u001b[43m,\u001b[49m\n\u001b[1;32m    395\u001b[0m \u001b[43m    \u001b[49m\u001b[43mhead_mask\u001b[49m\u001b[38;5;241;43m=\u001b[39;49m\u001b[43mhead_mask\u001b[49m\u001b[43m,\u001b[49m\n\u001b[1;32m    396\u001b[0m \u001b[43m    \u001b[49m\u001b[43moutput_attentions\u001b[49m\u001b[38;5;241;43m=\u001b[39;49m\u001b[43moutput_attentions\u001b[49m\u001b[43m,\u001b[49m\n\u001b[1;32m    397\u001b[0m \u001b[43m\u001b[49m\u001b[43m)\u001b[49m\n\u001b[1;32m    398\u001b[0m \u001b[38;5;28;01mif\u001b[39;00m output_attentions:\n\u001b[1;32m    399\u001b[0m     sa_output, sa_weights \u001b[38;5;241m=\u001b[39m sa_output  \u001b[38;5;66;03m# (bs, seq_length, dim), (bs, n_heads, seq_length, seq_length)\u001b[39;00m\n",
      "File \u001b[0;32m/opt/conda/lib/python3.10/site-packages/torch/nn/modules/module.py:1553\u001b[0m, in \u001b[0;36mModule._wrapped_call_impl\u001b[0;34m(self, *args, **kwargs)\u001b[0m\n\u001b[1;32m   1551\u001b[0m     \u001b[38;5;28;01mreturn\u001b[39;00m \u001b[38;5;28mself\u001b[39m\u001b[38;5;241m.\u001b[39m_compiled_call_impl(\u001b[38;5;241m*\u001b[39margs, \u001b[38;5;241m*\u001b[39m\u001b[38;5;241m*\u001b[39mkwargs)  \u001b[38;5;66;03m# type: ignore[misc]\u001b[39;00m\n\u001b[1;32m   1552\u001b[0m \u001b[38;5;28;01melse\u001b[39;00m:\n\u001b[0;32m-> 1553\u001b[0m     \u001b[38;5;28;01mreturn\u001b[39;00m \u001b[38;5;28;43mself\u001b[39;49m\u001b[38;5;241;43m.\u001b[39;49m\u001b[43m_call_impl\u001b[49m\u001b[43m(\u001b[49m\u001b[38;5;241;43m*\u001b[39;49m\u001b[43margs\u001b[49m\u001b[43m,\u001b[49m\u001b[43m \u001b[49m\u001b[38;5;241;43m*\u001b[39;49m\u001b[38;5;241;43m*\u001b[39;49m\u001b[43mkwargs\u001b[49m\u001b[43m)\u001b[49m\n",
      "File \u001b[0;32m/opt/conda/lib/python3.10/site-packages/torch/nn/modules/module.py:1562\u001b[0m, in \u001b[0;36mModule._call_impl\u001b[0;34m(self, *args, **kwargs)\u001b[0m\n\u001b[1;32m   1557\u001b[0m \u001b[38;5;66;03m# If we don't have any hooks, we want to skip the rest of the logic in\u001b[39;00m\n\u001b[1;32m   1558\u001b[0m \u001b[38;5;66;03m# this function, and just call forward.\u001b[39;00m\n\u001b[1;32m   1559\u001b[0m \u001b[38;5;28;01mif\u001b[39;00m \u001b[38;5;129;01mnot\u001b[39;00m (\u001b[38;5;28mself\u001b[39m\u001b[38;5;241m.\u001b[39m_backward_hooks \u001b[38;5;129;01mor\u001b[39;00m \u001b[38;5;28mself\u001b[39m\u001b[38;5;241m.\u001b[39m_backward_pre_hooks \u001b[38;5;129;01mor\u001b[39;00m \u001b[38;5;28mself\u001b[39m\u001b[38;5;241m.\u001b[39m_forward_hooks \u001b[38;5;129;01mor\u001b[39;00m \u001b[38;5;28mself\u001b[39m\u001b[38;5;241m.\u001b[39m_forward_pre_hooks\n\u001b[1;32m   1560\u001b[0m         \u001b[38;5;129;01mor\u001b[39;00m _global_backward_pre_hooks \u001b[38;5;129;01mor\u001b[39;00m _global_backward_hooks\n\u001b[1;32m   1561\u001b[0m         \u001b[38;5;129;01mor\u001b[39;00m _global_forward_hooks \u001b[38;5;129;01mor\u001b[39;00m _global_forward_pre_hooks):\n\u001b[0;32m-> 1562\u001b[0m     \u001b[38;5;28;01mreturn\u001b[39;00m \u001b[43mforward_call\u001b[49m\u001b[43m(\u001b[49m\u001b[38;5;241;43m*\u001b[39;49m\u001b[43margs\u001b[49m\u001b[43m,\u001b[49m\u001b[43m \u001b[49m\u001b[38;5;241;43m*\u001b[39;49m\u001b[38;5;241;43m*\u001b[39;49m\u001b[43mkwargs\u001b[49m\u001b[43m)\u001b[49m\n\u001b[1;32m   1564\u001b[0m \u001b[38;5;28;01mtry\u001b[39;00m:\n\u001b[1;32m   1565\u001b[0m     result \u001b[38;5;241m=\u001b[39m \u001b[38;5;28;01mNone\u001b[39;00m\n",
      "File \u001b[0;32m/opt/conda/lib/python3.10/site-packages/transformers/models/distilbert/modeling_distilbert.py:214\u001b[0m, in \u001b[0;36mMultiHeadSelfAttention.forward\u001b[0;34m(self, query, key, value, mask, head_mask, output_attentions)\u001b[0m\n\u001b[1;32m    212\u001b[0m scores \u001b[38;5;241m=\u001b[39m torch\u001b[38;5;241m.\u001b[39mmatmul(q, k\u001b[38;5;241m.\u001b[39mtranspose(\u001b[38;5;241m2\u001b[39m, \u001b[38;5;241m3\u001b[39m))  \u001b[38;5;66;03m# (bs, n_heads, q_length, k_length)\u001b[39;00m\n\u001b[1;32m    213\u001b[0m mask \u001b[38;5;241m=\u001b[39m (mask \u001b[38;5;241m==\u001b[39m \u001b[38;5;241m0\u001b[39m)\u001b[38;5;241m.\u001b[39mview(mask_reshp)\u001b[38;5;241m.\u001b[39mexpand_as(scores)  \u001b[38;5;66;03m# (bs, n_heads, q_length, k_length)\u001b[39;00m\n\u001b[0;32m--> 214\u001b[0m scores \u001b[38;5;241m=\u001b[39m \u001b[43mscores\u001b[49m\u001b[38;5;241;43m.\u001b[39;49m\u001b[43mmasked_fill\u001b[49m\u001b[43m(\u001b[49m\n\u001b[1;32m    215\u001b[0m \u001b[43m    \u001b[49m\u001b[43mmask\u001b[49m\u001b[43m,\u001b[49m\u001b[43m \u001b[49m\u001b[43mtorch\u001b[49m\u001b[38;5;241;43m.\u001b[39;49m\u001b[43mtensor\u001b[49m\u001b[43m(\u001b[49m\u001b[43mtorch\u001b[49m\u001b[38;5;241;43m.\u001b[39;49m\u001b[43mfinfo\u001b[49m\u001b[43m(\u001b[49m\u001b[43mscores\u001b[49m\u001b[38;5;241;43m.\u001b[39;49m\u001b[43mdtype\u001b[49m\u001b[43m)\u001b[49m\u001b[38;5;241;43m.\u001b[39;49m\u001b[43mmin\u001b[49m\u001b[43m)\u001b[49m\n\u001b[1;32m    216\u001b[0m \u001b[43m\u001b[49m\u001b[43m)\u001b[49m  \u001b[38;5;66;03m# (bs, n_heads, q_length, k_length)\u001b[39;00m\n\u001b[1;32m    218\u001b[0m weights \u001b[38;5;241m=\u001b[39m nn\u001b[38;5;241m.\u001b[39mfunctional\u001b[38;5;241m.\u001b[39msoftmax(scores, dim\u001b[38;5;241m=\u001b[39m\u001b[38;5;241m-\u001b[39m\u001b[38;5;241m1\u001b[39m)  \u001b[38;5;66;03m# (bs, n_heads, q_length, k_length)\u001b[39;00m\n\u001b[1;32m    219\u001b[0m weights \u001b[38;5;241m=\u001b[39m \u001b[38;5;28mself\u001b[39m\u001b[38;5;241m.\u001b[39mdropout(weights)  \u001b[38;5;66;03m# (bs, n_heads, q_length, k_length)\u001b[39;00m\n",
      "\u001b[0;31mOutOfMemoryError\u001b[0m: CUDA out of memory. Tried to allocate 20.00 MiB. GPU 0 has a total capacity of 15.89 GiB of which 33.12 MiB is free. Process 2945 has 15.85 GiB memory in use. Of the allocated memory 355.16 MiB is allocated by PyTorch, and 30.84 MiB is reserved by PyTorch but unallocated. If reserved but unallocated memory is large try setting PYTORCH_CUDA_ALLOC_CONF=expandable_segments:True to avoid fragmentation.  See documentation for Memory Management  (https://pytorch.org/docs/stable/notes/cuda.html#environment-variables)"
     ]
    }
   ],
   "source": [
    "def main():\n",
    "    # Khởi tạo số luồng xử lý song song\n",
    "    # max_workers = 1 \n",
    "    \n",
    "    # kaggle \n",
    "    in_base_path = r\"/kaggle/input/dath-pdz/\"\n",
    "    out_base_path = r\"/kaggle/working/\"\n",
    "    \n",
    "    # in_base_path = r\"E:\\2_LEARNING_BKU\\2_File_2\\K22_HK241\\CO3101_Do_an_Tri_tue_nhan_tao\\Main\\Dataset\"\n",
    "    # out_base_path = r\"E:\\2_LEARNING_BKU\\2_File_2\\K22_HK241\\CO3101_Do_an_Tri_tue_nhan_tao\\Output\"   # đường dẫn gốc tới folder\n",
    "    \n",
    "    # Fix the file path by adding the missing backslash or using os.path.join\n",
    "    file_name = os.path.join(in_base_path, 'final_dataset_v1_afternb1.csv')  # Correct file path\n",
    "    \n",
    "    # Bắt đầu theo dõi thời gian\n",
    "    t_start_time = time.time()\n",
    "    \n",
    "    # Load and preprocess data\n",
    "    df_ds, train_essays, test_essays, val_essays = load_data(file_name)\n",
    "    \n",
    "    # Check the size of each set\n",
    "    print(f'Full set size: {len(df_ds)}')\n",
    "    print(f'Training set size: {len(train_essays)}')\n",
    "    print(f'Validation set size: {len(val_essays)}')\n",
    "    print(f'Test set size: {len(test_essays)}')\n",
    "\n",
    "    # ============================================================================================\n",
    "    # Load the glove model\n",
    "    word2vec_output_file = get_tmpfile(r\"/kaggle/input/pdz-dath-ds/output_w2v.txt\")\n",
    "    # word2vec_output_file = get_tmpfile(r\"E:\\2_LEARNING_BKU\\2_File_2\\K22_HK241\\CO3101_Do_an_Tri_tue_nhan_tao\\Main\\Dataset\\output_w2v.txt\")\n",
    "    glove_model = KeyedVectors.load_word2vec_format(word2vec_output_file, binary=False)\n",
    "\n",
    "    # Prepare train and validation embeddings\n",
    "    X_train = train_essays['processed_text_swr'].tolist()\n",
    "    X_val = val_essays['processed_text_swr'].tolist()\n",
    "    y_train = train_essays['label'].values\n",
    "    y_val = val_essays['label'].values\n",
    "    \n",
    "    # Prepare test data\n",
    "    X_test = test_essays['processed_text_swr'].tolist()\n",
    "    y_test = test_essays['label'].values\n",
    "    \n",
    "    # Embedding these information dataset\n",
    "    X_train_embeddings = np.array([sent2vec(sent, glove_model) for sent in X_train])\n",
    "    X_val_embeddings = np.array([sent2vec(sent, glove_model) for sent in X_val])\n",
    "    \n",
    "    X_test_embeddings = np.array([sent2vec(sent, glove_model) for sent in X_test])\n",
    "    # ============================================================================================\n",
    "\n",
    "    # Train the Logistic Regression model using the train and validation sets\n",
    "    logistic_model_file_path = os.path.join(out_base_path, 'logistic_regression_model.pkl')\n",
    "    train_logistic_regression(X_train_embeddings, y_train, X_val_embeddings, y_val, logistic_model_file_path, out_base_path)\n",
    "\n",
    "    # Test the Logistic Regression model on the test set\n",
    "    print(\"Testing Logistic Regression Model\")\n",
    "    test_model(X_test_embeddings, y_test, logistic_model_file_path)\n",
    "    # ============================================================================================\n",
    "\n",
    "    # Train the XGBoost model using the train and validation sets\n",
    "    xgboost_model_file_path = os.path.join(out_base_path, 'xgboost_model.pkl')\n",
    "    train_xgboost(X_train_embeddings, y_train, X_val_embeddings, y_val, xgboost_model_file_path, out_base_path)\n",
    "\n",
    "    # Test the XGBoost model on the test set\n",
    "    print(\"Testing XGBoost Model\")\n",
    "    test_model(X_test_embeddings, y_test, xgboost_model_file_path)\n",
    "    # ============================================================================================\n",
    "    \n",
    "    # Train the Random Forest model using the train and validation sets\n",
    "    randomforest_model_file_path = os.path.join(out_base_path, 'randomforest_model.pkl')\n",
    "    train_random_forest(X_train_embeddings, y_train, X_val_embeddings, y_val, randomforest_model_file_path, out_base_path)\n",
    "\n",
    "    # Test the Random Forest model on the test set\n",
    "    print(\"Testing Random Forest Model\")\n",
    "    test_model(X_test_embeddings, y_test, randomforest_model_file_path)\n",
    "    \n",
    "    \n",
    "    # ============================================================================================\n",
    "    \n",
    "    # Train the Linear SVC model using the train and validation sets\n",
    "    linear_svc_model_file_path = os.path.join(out_base_path, 'linearsvc_model.pkl')\n",
    "    train_linear_svc(X_train_embeddings, y_train, X_val_embeddings, y_val, linear_svc_model_file_path, out_base_path)\n",
    "\n",
    "    # Test the Linear SVC model on the test set\n",
    "    print(\"Testing linear SVC Model\")\n",
    "    test_linearsvc(X_test_embeddings, y_test, linear_svc_model_file_path)\n",
    "    \n",
    "    \n",
    "    # ============================================================================================\n",
    "    # Train the Bidirectional LSTM RNN model using the train and validation sets\n",
    "    rnn_model_file_path = os.path.join(out_base_path, 'tf_lstm_rnn.keras')\n",
    "    rnn_plot_file_path = os.path.join(out_base_path, 'tf_lstm_rnn.png')\n",
    "\n",
    "    print(\"Training RNN Model\")\n",
    "    train_rnn(X_train, y_train, X_val, y_val, rnn_model_file_path, rnn_plot_file_path, n_epochs=20, batch_size=32)\n",
    "\n",
    "    # Test the RNN model on the test set\n",
    "    print(\"Testing RNN Model\")\n",
    "    test_rnn(X_test, y_test, rnn_model_file_path)\n",
    "\n",
    "    # ============================================================================================\n",
    "\n",
    "    # distilbert_model_path = os.path.join(out_base_path, 'distilbert_model')  # Use folder path without file extension\n",
    "    # distilbert_plot_file_path = os.path.join(out_base_path, 'distilbert_training_plot.png')\n",
    "\n",
    "    # print(\"Training DistilBERT Model\")\n",
    "    # train_distilbert(df_ds, distilbert_model_path, distilbert_plot_file_path, n_epochs=10)\n",
    "\n",
    "    # # Test the DistilBERT model on the test set\n",
    "    # print(\"Testing DistilBERT Model\")\n",
    "    # test_distilbert(test_essays, distilbert_model_path)\n",
    "\n",
    "    # ============================================================================================\n",
    "    \n",
    "    # Kết thúc theo dõi thời gian\n",
    "    t_end_time = time.time()\n",
    "    t_processing_time = t_end_time - t_start_time\n",
    "\n",
    "    # Convert minutes to hours and minutes\n",
    "    t_hours = int(t_processing_time // 3600)  # Lấy số giờ\n",
    "    t_minutes = int((t_processing_time % 3600) // 60)  # Lấy số phút\n",
    "    t_seconds = int(t_processing_time % 60)  # Lấy số giây\n",
    "\n",
    "    logger.log_message(f\"Finished processing (total) in {t_hours} hours, {t_minutes} minutes, {t_seconds} seconds\")       \n",
    "\n",
    "if __name__ == \"__main__\":  \n",
    "    main()\n"
   ]
  },
  {
   "cell_type": "code",
   "execution_count": null,
   "id": "c0029b57",
   "metadata": {
    "execution": {
     "iopub.status.busy": "2024-10-10T01:20:04.349715Z",
     "iopub.status.idle": "2024-10-10T01:20:04.350106Z",
     "shell.execute_reply": "2024-10-10T01:20:04.349942Z",
     "shell.execute_reply.started": "2024-10-10T01:20:04.349923Z"
    },
    "papermill": {
     "duration": null,
     "end_time": null,
     "exception": null,
     "start_time": null,
     "status": "pending"
    },
    "tags": []
   },
   "outputs": [],
   "source": [
    "# !rm -rf /kaggle/working/*"
   ]
  },
  {
   "cell_type": "code",
   "execution_count": null,
   "id": "06701513",
   "metadata": {
    "execution": {
     "iopub.status.busy": "2024-10-10T01:20:04.351672Z",
     "iopub.status.idle": "2024-10-10T01:20:04.352069Z",
     "shell.execute_reply": "2024-10-10T01:20:04.351867Z",
     "shell.execute_reply.started": "2024-10-10T01:20:04.351849Z"
    },
    "papermill": {
     "duration": null,
     "end_time": null,
     "exception": null,
     "start_time": null,
     "status": "pending"
    },
    "tags": []
   },
   "outputs": [],
   "source": [
    "# !zip -r file.zip /kaggle/working"
   ]
  }
 ],
 "metadata": {
  "kaggle": {
   "accelerator": "gpu",
   "dataSources": [
    {
     "datasetId": 5845037,
     "sourceId": 9584960,
     "sourceType": "datasetVersion"
    },
    {
     "datasetId": 5845480,
     "sourceId": 9585533,
     "sourceType": "datasetVersion"
    }
   ],
   "dockerImageVersionId": 30787,
   "isGpuEnabled": true,
   "isInternetEnabled": true,
   "language": "python",
   "sourceType": "notebook"
  },
  "kernelspec": {
   "display_name": "Python 3",
   "language": "python",
   "name": "python3"
  },
  "language_info": {
   "codemirror_mode": {
    "name": "ipython",
    "version": 3
   },
   "file_extension": ".py",
   "mimetype": "text/x-python",
   "name": "python",
   "nbconvert_exporter": "python",
   "pygments_lexer": "ipython3",
   "version": "3.10.14"
  },
  "papermill": {
   "default_parameters": {},
   "duration": 5694.115905,
   "end_time": "2024-10-10T05:24:33.968889",
   "environment_variables": {},
   "exception": true,
   "input_path": "__notebook__.ipynb",
   "output_path": "__notebook__.ipynb",
   "parameters": {},
   "start_time": "2024-10-10T03:49:39.852984",
   "version": "2.6.0"
  },
  "widgets": {
   "application/vnd.jupyter.widget-state+json": {
    "state": {
     "02ac3cb0c43a4536905179794a49a9da": {
      "model_module": "@jupyter-widgets/controls",
      "model_module_version": "1.5.0",
      "model_name": "HTMLModel",
      "state": {
       "_dom_classes": [],
       "_model_module": "@jupyter-widgets/controls",
       "_model_module_version": "1.5.0",
       "_model_name": "HTMLModel",
       "_view_count": null,
       "_view_module": "@jupyter-widgets/controls",
       "_view_module_version": "1.5.0",
       "_view_name": "HTMLView",
       "description": "",
       "description_tooltip": null,
       "layout": "IPY_MODEL_8a8356915d6945298e2cc7a65787697f",
       "placeholder": "​",
       "style": "IPY_MODEL_6f109b7c26ce48f7abf8d32d47b41cb7",
       "value": "tokenizer_config.json: 100%"
      }
     },
     "0a1fa06ab23d458096d673b896b6f888": {
      "model_module": "@jupyter-widgets/controls",
      "model_module_version": "1.5.0",
      "model_name": "DescriptionStyleModel",
      "state": {
       "_model_module": "@jupyter-widgets/controls",
       "_model_module_version": "1.5.0",
       "_model_name": "DescriptionStyleModel",
       "_view_count": null,
       "_view_module": "@jupyter-widgets/base",
       "_view_module_version": "1.2.0",
       "_view_name": "StyleView",
       "description_width": ""
      }
     },
     "0b7015637858441cbb9500dc03f22bb7": {
      "model_module": "@jupyter-widgets/controls",
      "model_module_version": "1.5.0",
      "model_name": "ProgressStyleModel",
      "state": {
       "_model_module": "@jupyter-widgets/controls",
       "_model_module_version": "1.5.0",
       "_model_name": "ProgressStyleModel",
       "_view_count": null,
       "_view_module": "@jupyter-widgets/base",
       "_view_module_version": "1.2.0",
       "_view_name": "StyleView",
       "bar_color": null,
       "description_width": ""
      }
     },
     "0b91792634dd43369a2f9cf0ad9ca030": {
      "model_module": "@jupyter-widgets/controls",
      "model_module_version": "1.5.0",
      "model_name": "FloatProgressModel",
      "state": {
       "_dom_classes": [],
       "_model_module": "@jupyter-widgets/controls",
       "_model_module_version": "1.5.0",
       "_model_name": "FloatProgressModel",
       "_view_count": null,
       "_view_module": "@jupyter-widgets/controls",
       "_view_module_version": "1.5.0",
       "_view_name": "ProgressView",
       "bar_style": "success",
       "description": "",
       "description_tooltip": null,
       "layout": "IPY_MODEL_c13e03d6aa754ed9b5c64b0d62b7f9a4",
       "max": 40382,
       "min": 0,
       "orientation": "horizontal",
       "style": "IPY_MODEL_ec277e2a488e48a2ba0116e03fc93ae3",
       "value": 40382
      }
     },
     "0f05e3b792fe45d8a7b881afb3653a3a": {
      "model_module": "@jupyter-widgets/controls",
      "model_module_version": "1.5.0",
      "model_name": "DescriptionStyleModel",
      "state": {
       "_model_module": "@jupyter-widgets/controls",
       "_model_module_version": "1.5.0",
       "_model_name": "DescriptionStyleModel",
       "_view_count": null,
       "_view_module": "@jupyter-widgets/base",
       "_view_module_version": "1.2.0",
       "_view_name": "StyleView",
       "description_width": ""
      }
     },
     "0f210ac331ac46d5882ab13c219bc937": {
      "model_module": "@jupyter-widgets/base",
      "model_module_version": "1.2.0",
      "model_name": "LayoutModel",
      "state": {
       "_model_module": "@jupyter-widgets/base",
       "_model_module_version": "1.2.0",
       "_model_name": "LayoutModel",
       "_view_count": null,
       "_view_module": "@jupyter-widgets/base",
       "_view_module_version": "1.2.0",
       "_view_name": "LayoutView",
       "align_content": null,
       "align_items": null,
       "align_self": null,
       "border": null,
       "bottom": null,
       "display": null,
       "flex": null,
       "flex_flow": null,
       "grid_area": null,
       "grid_auto_columns": null,
       "grid_auto_flow": null,
       "grid_auto_rows": null,
       "grid_column": null,
       "grid_gap": null,
       "grid_row": null,
       "grid_template_areas": null,
       "grid_template_columns": null,
       "grid_template_rows": null,
       "height": null,
       "justify_content": null,
       "justify_items": null,
       "left": null,
       "margin": null,
       "max_height": null,
       "max_width": null,
       "min_height": null,
       "min_width": null,
       "object_fit": null,
       "object_position": null,
       "order": null,
       "overflow": null,
       "overflow_x": null,
       "overflow_y": null,
       "padding": null,
       "right": null,
       "top": null,
       "visibility": null,
       "width": null
      }
     },
     "125a559a0f7e485c96d2759cb3c39fc9": {
      "model_module": "@jupyter-widgets/base",
      "model_module_version": "1.2.0",
      "model_name": "LayoutModel",
      "state": {
       "_model_module": "@jupyter-widgets/base",
       "_model_module_version": "1.2.0",
       "_model_name": "LayoutModel",
       "_view_count": null,
       "_view_module": "@jupyter-widgets/base",
       "_view_module_version": "1.2.0",
       "_view_name": "LayoutView",
       "align_content": null,
       "align_items": null,
       "align_self": null,
       "border": null,
       "bottom": null,
       "display": null,
       "flex": null,
       "flex_flow": null,
       "grid_area": null,
       "grid_auto_columns": null,
       "grid_auto_flow": null,
       "grid_auto_rows": null,
       "grid_column": null,
       "grid_gap": null,
       "grid_row": null,
       "grid_template_areas": null,
       "grid_template_columns": null,
       "grid_template_rows": null,
       "height": null,
       "justify_content": null,
       "justify_items": null,
       "left": null,
       "margin": null,
       "max_height": null,
       "max_width": null,
       "min_height": null,
       "min_width": null,
       "object_fit": null,
       "object_position": null,
       "order": null,
       "overflow": null,
       "overflow_x": null,
       "overflow_y": null,
       "padding": null,
       "right": null,
       "top": null,
       "visibility": null,
       "width": null
      }
     },
     "13190e00a2594ab3947860c31324e507": {
      "model_module": "@jupyter-widgets/controls",
      "model_module_version": "1.5.0",
      "model_name": "HBoxModel",
      "state": {
       "_dom_classes": [],
       "_model_module": "@jupyter-widgets/controls",
       "_model_module_version": "1.5.0",
       "_model_name": "HBoxModel",
       "_view_count": null,
       "_view_module": "@jupyter-widgets/controls",
       "_view_module_version": "1.5.0",
       "_view_name": "HBoxView",
       "box_style": "",
       "children": [
        "IPY_MODEL_bdf2b73cfe9349cfb78fc90eafadf385",
        "IPY_MODEL_f7e4f27e1efc4e00bc0a23a192a547ef",
        "IPY_MODEL_3bd9799575fc4e918abe493df861dcaf"
       ],
       "layout": "IPY_MODEL_4bb13bd1fe174ee299a0c2e57b51a96e"
      }
     },
     "133c495ded814e8095bba86d5ea654ba": {
      "model_module": "@jupyter-widgets/controls",
      "model_module_version": "1.5.0",
      "model_name": "ProgressStyleModel",
      "state": {
       "_model_module": "@jupyter-widgets/controls",
       "_model_module_version": "1.5.0",
       "_model_name": "ProgressStyleModel",
       "_view_count": null,
       "_view_module": "@jupyter-widgets/base",
       "_view_module_version": "1.2.0",
       "_view_name": "StyleView",
       "bar_color": null,
       "description_width": ""
      }
     },
     "155847e6656645b4a05a4149af1165f3": {
      "model_module": "@jupyter-widgets/controls",
      "model_module_version": "1.5.0",
      "model_name": "FloatProgressModel",
      "state": {
       "_dom_classes": [],
       "_model_module": "@jupyter-widgets/controls",
       "_model_module_version": "1.5.0",
       "_model_name": "FloatProgressModel",
       "_view_count": null,
       "_view_module": "@jupyter-widgets/controls",
       "_view_module_version": "1.5.0",
       "_view_name": "ProgressView",
       "bar_style": "success",
       "description": "",
       "description_tooltip": null,
       "layout": "IPY_MODEL_833aa40acf1a461597005f27ff868542",
       "max": 267954768,
       "min": 0,
       "orientation": "horizontal",
       "style": "IPY_MODEL_133c495ded814e8095bba86d5ea654ba",
       "value": 267954768
      }
     },
     "1af8b4cbca814bd885a871a1913c0dde": {
      "model_module": "@jupyter-widgets/controls",
      "model_module_version": "1.5.0",
      "model_name": "HTMLModel",
      "state": {
       "_dom_classes": [],
       "_model_module": "@jupyter-widgets/controls",
       "_model_module_version": "1.5.0",
       "_model_name": "HTMLModel",
       "_view_count": null,
       "_view_module": "@jupyter-widgets/controls",
       "_view_module_version": "1.5.0",
       "_view_name": "HTMLView",
       "description": "",
       "description_tooltip": null,
       "layout": "IPY_MODEL_c1cff511b466409ab4fef68b7db71d29",
       "placeholder": "​",
       "style": "IPY_MODEL_f0623cd83498456f92174595153caa93",
       "value": "model.safetensors: 100%"
      }
     },
     "1afb62315d5949e3bfcac1bcd72915dd": {
      "model_module": "@jupyter-widgets/controls",
      "model_module_version": "1.5.0",
      "model_name": "HBoxModel",
      "state": {
       "_dom_classes": [],
       "_model_module": "@jupyter-widgets/controls",
       "_model_module_version": "1.5.0",
       "_model_name": "HBoxModel",
       "_view_count": null,
       "_view_module": "@jupyter-widgets/controls",
       "_view_module_version": "1.5.0",
       "_view_name": "HBoxView",
       "box_style": "",
       "children": [
        "IPY_MODEL_cc00d039cdc143739ad5cfe9bc8e500c",
        "IPY_MODEL_35a7dfa702c44db9a61d1b628fccda25",
        "IPY_MODEL_e4a271b7544c41609907dab4d2c693f9"
       ],
       "layout": "IPY_MODEL_5ff62006003248a1a8c5b46f35253bb5"
      }
     },
     "23fa2b1262ad46e4a93768fac6489fb0": {
      "model_module": "@jupyter-widgets/controls",
      "model_module_version": "1.5.0",
      "model_name": "DescriptionStyleModel",
      "state": {
       "_model_module": "@jupyter-widgets/controls",
       "_model_module_version": "1.5.0",
       "_model_name": "DescriptionStyleModel",
       "_view_count": null,
       "_view_module": "@jupyter-widgets/base",
       "_view_module_version": "1.2.0",
       "_view_name": "StyleView",
       "description_width": ""
      }
     },
     "25d8778b207f47e891ab07f2fb61d14d": {
      "model_module": "@jupyter-widgets/base",
      "model_module_version": "1.2.0",
      "model_name": "LayoutModel",
      "state": {
       "_model_module": "@jupyter-widgets/base",
       "_model_module_version": "1.2.0",
       "_model_name": "LayoutModel",
       "_view_count": null,
       "_view_module": "@jupyter-widgets/base",
       "_view_module_version": "1.2.0",
       "_view_name": "LayoutView",
       "align_content": null,
       "align_items": null,
       "align_self": null,
       "border": null,
       "bottom": null,
       "display": null,
       "flex": null,
       "flex_flow": null,
       "grid_area": null,
       "grid_auto_columns": null,
       "grid_auto_flow": null,
       "grid_auto_rows": null,
       "grid_column": null,
       "grid_gap": null,
       "grid_row": null,
       "grid_template_areas": null,
       "grid_template_columns": null,
       "grid_template_rows": null,
       "height": null,
       "justify_content": null,
       "justify_items": null,
       "left": null,
       "margin": null,
       "max_height": null,
       "max_width": null,
       "min_height": null,
       "min_width": null,
       "object_fit": null,
       "object_position": null,
       "order": null,
       "overflow": null,
       "overflow_x": null,
       "overflow_y": null,
       "padding": null,
       "right": null,
       "top": null,
       "visibility": null,
       "width": null
      }
     },
     "2cf1d083446546fe84d3c58dcac0e1a6": {
      "model_module": "@jupyter-widgets/controls",
      "model_module_version": "1.5.0",
      "model_name": "HBoxModel",
      "state": {
       "_dom_classes": [],
       "_model_module": "@jupyter-widgets/controls",
       "_model_module_version": "1.5.0",
       "_model_name": "HBoxModel",
       "_view_count": null,
       "_view_module": "@jupyter-widgets/controls",
       "_view_module_version": "1.5.0",
       "_view_name": "HBoxView",
       "box_style": "",
       "children": [
        "IPY_MODEL_1af8b4cbca814bd885a871a1913c0dde",
        "IPY_MODEL_155847e6656645b4a05a4149af1165f3",
        "IPY_MODEL_f0c02a33ba794aadb25ba7abdd8e97d0"
       ],
       "layout": "IPY_MODEL_45345e34fb684cdc95a491e58d38636c"
      }
     },
     "315a96fae19d41fdbc8560c6c7329c16": {
      "model_module": "@jupyter-widgets/controls",
      "model_module_version": "1.5.0",
      "model_name": "DescriptionStyleModel",
      "state": {
       "_model_module": "@jupyter-widgets/controls",
       "_model_module_version": "1.5.0",
       "_model_name": "DescriptionStyleModel",
       "_view_count": null,
       "_view_module": "@jupyter-widgets/base",
       "_view_module_version": "1.2.0",
       "_view_name": "StyleView",
       "description_width": ""
      }
     },
     "33287fc47b6b4800a335ce002131eea0": {
      "model_module": "@jupyter-widgets/controls",
      "model_module_version": "1.5.0",
      "model_name": "DescriptionStyleModel",
      "state": {
       "_model_module": "@jupyter-widgets/controls",
       "_model_module_version": "1.5.0",
       "_model_name": "DescriptionStyleModel",
       "_view_count": null,
       "_view_module": "@jupyter-widgets/base",
       "_view_module_version": "1.2.0",
       "_view_name": "StyleView",
       "description_width": ""
      }
     },
     "35a7dfa702c44db9a61d1b628fccda25": {
      "model_module": "@jupyter-widgets/controls",
      "model_module_version": "1.5.0",
      "model_name": "FloatProgressModel",
      "state": {
       "_dom_classes": [],
       "_model_module": "@jupyter-widgets/controls",
       "_model_module_version": "1.5.0",
       "_model_name": "FloatProgressModel",
       "_view_count": null,
       "_view_module": "@jupyter-widgets/controls",
       "_view_module_version": "1.5.0",
       "_view_name": "ProgressView",
       "bar_style": "success",
       "description": "",
       "description_tooltip": null,
       "layout": "IPY_MODEL_b4803002f8124e9da821206f9c06e2ba",
       "max": 466062,
       "min": 0,
       "orientation": "horizontal",
       "style": "IPY_MODEL_c62268fdc6b448f1a1e1d0e3dcddace3",
       "value": 466062
      }
     },
     "3bd9799575fc4e918abe493df861dcaf": {
      "model_module": "@jupyter-widgets/controls",
      "model_module_version": "1.5.0",
      "model_name": "HTMLModel",
      "state": {
       "_dom_classes": [],
       "_model_module": "@jupyter-widgets/controls",
       "_model_module_version": "1.5.0",
       "_model_name": "HTMLModel",
       "_view_count": null,
       "_view_module": "@jupyter-widgets/controls",
       "_view_module_version": "1.5.0",
       "_view_name": "HTMLView",
       "description": "",
       "description_tooltip": null,
       "layout": "IPY_MODEL_a9607596dafc47268fa95acf51c06c85",
       "placeholder": "​",
       "style": "IPY_MODEL_0a1fa06ab23d458096d673b896b6f888",
       "value": " 232k/232k [00:00&lt;00:00, 4.25MB/s]"
      }
     },
     "415a8ecf3c2f486eb282b29565ed259e": {
      "model_module": "@jupyter-widgets/controls",
      "model_module_version": "1.5.0",
      "model_name": "DescriptionStyleModel",
      "state": {
       "_model_module": "@jupyter-widgets/controls",
       "_model_module_version": "1.5.0",
       "_model_name": "DescriptionStyleModel",
       "_view_count": null,
       "_view_module": "@jupyter-widgets/base",
       "_view_module_version": "1.2.0",
       "_view_name": "StyleView",
       "description_width": ""
      }
     },
     "435ad2f3129c4e3a8f092d2f86b847b1": {
      "model_module": "@jupyter-widgets/base",
      "model_module_version": "1.2.0",
      "model_name": "LayoutModel",
      "state": {
       "_model_module": "@jupyter-widgets/base",
       "_model_module_version": "1.2.0",
       "_model_name": "LayoutModel",
       "_view_count": null,
       "_view_module": "@jupyter-widgets/base",
       "_view_module_version": "1.2.0",
       "_view_name": "LayoutView",
       "align_content": null,
       "align_items": null,
       "align_self": null,
       "border": null,
       "bottom": null,
       "display": null,
       "flex": null,
       "flex_flow": null,
       "grid_area": null,
       "grid_auto_columns": null,
       "grid_auto_flow": null,
       "grid_auto_rows": null,
       "grid_column": null,
       "grid_gap": null,
       "grid_row": null,
       "grid_template_areas": null,
       "grid_template_columns": null,
       "grid_template_rows": null,
       "height": null,
       "justify_content": null,
       "justify_items": null,
       "left": null,
       "margin": null,
       "max_height": null,
       "max_width": null,
       "min_height": null,
       "min_width": null,
       "object_fit": null,
       "object_position": null,
       "order": null,
       "overflow": null,
       "overflow_x": null,
       "overflow_y": null,
       "padding": null,
       "right": null,
       "top": null,
       "visibility": null,
       "width": null
      }
     },
     "45345e34fb684cdc95a491e58d38636c": {
      "model_module": "@jupyter-widgets/base",
      "model_module_version": "1.2.0",
      "model_name": "LayoutModel",
      "state": {
       "_model_module": "@jupyter-widgets/base",
       "_model_module_version": "1.2.0",
       "_model_name": "LayoutModel",
       "_view_count": null,
       "_view_module": "@jupyter-widgets/base",
       "_view_module_version": "1.2.0",
       "_view_name": "LayoutView",
       "align_content": null,
       "align_items": null,
       "align_self": null,
       "border": null,
       "bottom": null,
       "display": null,
       "flex": null,
       "flex_flow": null,
       "grid_area": null,
       "grid_auto_columns": null,
       "grid_auto_flow": null,
       "grid_auto_rows": null,
       "grid_column": null,
       "grid_gap": null,
       "grid_row": null,
       "grid_template_areas": null,
       "grid_template_columns": null,
       "grid_template_rows": null,
       "height": null,
       "justify_content": null,
       "justify_items": null,
       "left": null,
       "margin": null,
       "max_height": null,
       "max_width": null,
       "min_height": null,
       "min_width": null,
       "object_fit": null,
       "object_position": null,
       "order": null,
       "overflow": null,
       "overflow_x": null,
       "overflow_y": null,
       "padding": null,
       "right": null,
       "top": null,
       "visibility": null,
       "width": null
      }
     },
     "495ee609c3ec4a70bd710012067e2726": {
      "model_module": "@jupyter-widgets/controls",
      "model_module_version": "1.5.0",
      "model_name": "HTMLModel",
      "state": {
       "_dom_classes": [],
       "_model_module": "@jupyter-widgets/controls",
       "_model_module_version": "1.5.0",
       "_model_name": "HTMLModel",
       "_view_count": null,
       "_view_module": "@jupyter-widgets/controls",
       "_view_module_version": "1.5.0",
       "_view_name": "HTMLView",
       "description": "",
       "description_tooltip": null,
       "layout": "IPY_MODEL_af78fad961d5426aaa2e858ded776de4",
       "placeholder": "​",
       "style": "IPY_MODEL_315a96fae19d41fdbc8560c6c7329c16",
       "value": "Map: 100%"
      }
     },
     "4bb13bd1fe174ee299a0c2e57b51a96e": {
      "model_module": "@jupyter-widgets/base",
      "model_module_version": "1.2.0",
      "model_name": "LayoutModel",
      "state": {
       "_model_module": "@jupyter-widgets/base",
       "_model_module_version": "1.2.0",
       "_model_name": "LayoutModel",
       "_view_count": null,
       "_view_module": "@jupyter-widgets/base",
       "_view_module_version": "1.2.0",
       "_view_name": "LayoutView",
       "align_content": null,
       "align_items": null,
       "align_self": null,
       "border": null,
       "bottom": null,
       "display": null,
       "flex": null,
       "flex_flow": null,
       "grid_area": null,
       "grid_auto_columns": null,
       "grid_auto_flow": null,
       "grid_auto_rows": null,
       "grid_column": null,
       "grid_gap": null,
       "grid_row": null,
       "grid_template_areas": null,
       "grid_template_columns": null,
       "grid_template_rows": null,
       "height": null,
       "justify_content": null,
       "justify_items": null,
       "left": null,
       "margin": null,
       "max_height": null,
       "max_width": null,
       "min_height": null,
       "min_width": null,
       "object_fit": null,
       "object_position": null,
       "order": null,
       "overflow": null,
       "overflow_x": null,
       "overflow_y": null,
       "padding": null,
       "right": null,
       "top": null,
       "visibility": null,
       "width": null
      }
     },
     "4bfb3745fdba4a64b4572405bb866d0f": {
      "model_module": "@jupyter-widgets/controls",
      "model_module_version": "1.5.0",
      "model_name": "HTMLModel",
      "state": {
       "_dom_classes": [],
       "_model_module": "@jupyter-widgets/controls",
       "_model_module_version": "1.5.0",
       "_model_name": "HTMLModel",
       "_view_count": null,
       "_view_module": "@jupyter-widgets/controls",
       "_view_module_version": "1.5.0",
       "_view_name": "HTMLView",
       "description": "",
       "description_tooltip": null,
       "layout": "IPY_MODEL_125a559a0f7e485c96d2759cb3c39fc9",
       "placeholder": "​",
       "style": "IPY_MODEL_ea06a39c0973433cb8435f88cad79e0d",
       "value": " 40382/40382 [00:22&lt;00:00, 1696.24 examples/s]"
      }
     },
     "510df035cb5c43909a9a0bbc83397cc8": {
      "model_module": "@jupyter-widgets/base",
      "model_module_version": "1.2.0",
      "model_name": "LayoutModel",
      "state": {
       "_model_module": "@jupyter-widgets/base",
       "_model_module_version": "1.2.0",
       "_model_name": "LayoutModel",
       "_view_count": null,
       "_view_module": "@jupyter-widgets/base",
       "_view_module_version": "1.2.0",
       "_view_name": "LayoutView",
       "align_content": null,
       "align_items": null,
       "align_self": null,
       "border": null,
       "bottom": null,
       "display": null,
       "flex": null,
       "flex_flow": null,
       "grid_area": null,
       "grid_auto_columns": null,
       "grid_auto_flow": null,
       "grid_auto_rows": null,
       "grid_column": null,
       "grid_gap": null,
       "grid_row": null,
       "grid_template_areas": null,
       "grid_template_columns": null,
       "grid_template_rows": null,
       "height": null,
       "justify_content": null,
       "justify_items": null,
       "left": null,
       "margin": null,
       "max_height": null,
       "max_width": null,
       "min_height": null,
       "min_width": null,
       "object_fit": null,
       "object_position": null,
       "order": null,
       "overflow": null,
       "overflow_x": null,
       "overflow_y": null,
       "padding": null,
       "right": null,
       "top": null,
       "visibility": null,
       "width": null
      }
     },
     "513c566b99514f5ba50fb07f92f93040": {
      "model_module": "@jupyter-widgets/controls",
      "model_module_version": "1.5.0",
      "model_name": "HBoxModel",
      "state": {
       "_dom_classes": [],
       "_model_module": "@jupyter-widgets/controls",
       "_model_module_version": "1.5.0",
       "_model_name": "HBoxModel",
       "_view_count": null,
       "_view_module": "@jupyter-widgets/controls",
       "_view_module_version": "1.5.0",
       "_view_name": "HBoxView",
       "box_style": "",
       "children": [
        "IPY_MODEL_02ac3cb0c43a4536905179794a49a9da",
        "IPY_MODEL_cf854302f284489a937f87831e885e7e",
        "IPY_MODEL_55c3871c11bb4772bcb5b5acee89c2ae"
       ],
       "layout": "IPY_MODEL_510df035cb5c43909a9a0bbc83397cc8"
      }
     },
     "530ad6bc0ddd4d94b95661ff4c81ba9e": {
      "model_module": "@jupyter-widgets/controls",
      "model_module_version": "1.5.0",
      "model_name": "HBoxModel",
      "state": {
       "_dom_classes": [],
       "_model_module": "@jupyter-widgets/controls",
       "_model_module_version": "1.5.0",
       "_model_name": "HBoxModel",
       "_view_count": null,
       "_view_module": "@jupyter-widgets/controls",
       "_view_module_version": "1.5.0",
       "_view_name": "HBoxView",
       "box_style": "",
       "children": [
        "IPY_MODEL_64d005ff0c4e441e925e556d156139b9",
        "IPY_MODEL_908b1443dd7347b1a7ab37bb1e51fcc8",
        "IPY_MODEL_cfd4fd5314bf4e088717609338a2569c"
       ],
       "layout": "IPY_MODEL_0f210ac331ac46d5882ab13c219bc937"
      }
     },
     "5514c91082be4bee9197daae19c89dfa": {
      "model_module": "@jupyter-widgets/base",
      "model_module_version": "1.2.0",
      "model_name": "LayoutModel",
      "state": {
       "_model_module": "@jupyter-widgets/base",
       "_model_module_version": "1.2.0",
       "_model_name": "LayoutModel",
       "_view_count": null,
       "_view_module": "@jupyter-widgets/base",
       "_view_module_version": "1.2.0",
       "_view_name": "LayoutView",
       "align_content": null,
       "align_items": null,
       "align_self": null,
       "border": null,
       "bottom": null,
       "display": null,
       "flex": null,
       "flex_flow": null,
       "grid_area": null,
       "grid_auto_columns": null,
       "grid_auto_flow": null,
       "grid_auto_rows": null,
       "grid_column": null,
       "grid_gap": null,
       "grid_row": null,
       "grid_template_areas": null,
       "grid_template_columns": null,
       "grid_template_rows": null,
       "height": null,
       "justify_content": null,
       "justify_items": null,
       "left": null,
       "margin": null,
       "max_height": null,
       "max_width": null,
       "min_height": null,
       "min_width": null,
       "object_fit": null,
       "object_position": null,
       "order": null,
       "overflow": null,
       "overflow_x": null,
       "overflow_y": null,
       "padding": null,
       "right": null,
       "top": null,
       "visibility": null,
       "width": null
      }
     },
     "55c3871c11bb4772bcb5b5acee89c2ae": {
      "model_module": "@jupyter-widgets/controls",
      "model_module_version": "1.5.0",
      "model_name": "HTMLModel",
      "state": {
       "_dom_classes": [],
       "_model_module": "@jupyter-widgets/controls",
       "_model_module_version": "1.5.0",
       "_model_name": "HTMLModel",
       "_view_count": null,
       "_view_module": "@jupyter-widgets/controls",
       "_view_module_version": "1.5.0",
       "_view_name": "HTMLView",
       "description": "",
       "description_tooltip": null,
       "layout": "IPY_MODEL_f7e7bdee95dd4461ba875ee9edeb39c5",
       "placeholder": "​",
       "style": "IPY_MODEL_33287fc47b6b4800a335ce002131eea0",
       "value": " 48.0/48.0 [00:00&lt;00:00, 1.83kB/s]"
      }
     },
     "5b3a116b02e0489a8c10b8fd3164e138": {
      "model_module": "@jupyter-widgets/controls",
      "model_module_version": "1.5.0",
      "model_name": "ProgressStyleModel",
      "state": {
       "_model_module": "@jupyter-widgets/controls",
       "_model_module_version": "1.5.0",
       "_model_name": "ProgressStyleModel",
       "_view_count": null,
       "_view_module": "@jupyter-widgets/base",
       "_view_module_version": "1.2.0",
       "_view_name": "StyleView",
       "bar_color": null,
       "description_width": ""
      }
     },
     "5ff62006003248a1a8c5b46f35253bb5": {
      "model_module": "@jupyter-widgets/base",
      "model_module_version": "1.2.0",
      "model_name": "LayoutModel",
      "state": {
       "_model_module": "@jupyter-widgets/base",
       "_model_module_version": "1.2.0",
       "_model_name": "LayoutModel",
       "_view_count": null,
       "_view_module": "@jupyter-widgets/base",
       "_view_module_version": "1.2.0",
       "_view_name": "LayoutView",
       "align_content": null,
       "align_items": null,
       "align_self": null,
       "border": null,
       "bottom": null,
       "display": null,
       "flex": null,
       "flex_flow": null,
       "grid_area": null,
       "grid_auto_columns": null,
       "grid_auto_flow": null,
       "grid_auto_rows": null,
       "grid_column": null,
       "grid_gap": null,
       "grid_row": null,
       "grid_template_areas": null,
       "grid_template_columns": null,
       "grid_template_rows": null,
       "height": null,
       "justify_content": null,
       "justify_items": null,
       "left": null,
       "margin": null,
       "max_height": null,
       "max_width": null,
       "min_height": null,
       "min_width": null,
       "object_fit": null,
       "object_position": null,
       "order": null,
       "overflow": null,
       "overflow_x": null,
       "overflow_y": null,
       "padding": null,
       "right": null,
       "top": null,
       "visibility": null,
       "width": null
      }
     },
     "64d005ff0c4e441e925e556d156139b9": {
      "model_module": "@jupyter-widgets/controls",
      "model_module_version": "1.5.0",
      "model_name": "HTMLModel",
      "state": {
       "_dom_classes": [],
       "_model_module": "@jupyter-widgets/controls",
       "_model_module_version": "1.5.0",
       "_model_name": "HTMLModel",
       "_view_count": null,
       "_view_module": "@jupyter-widgets/controls",
       "_view_module_version": "1.5.0",
       "_view_name": "HTMLView",
       "description": "",
       "description_tooltip": null,
       "layout": "IPY_MODEL_ec9d5e0e435a489992f7293982ed37d6",
       "placeholder": "​",
       "style": "IPY_MODEL_6b2c6706a7fb4e478525f6d282f61c09",
       "value": "Map: 100%"
      }
     },
     "65b24042d82f48a4a75f6101b9abc5a3": {
      "model_module": "@jupyter-widgets/controls",
      "model_module_version": "1.5.0",
      "model_name": "ProgressStyleModel",
      "state": {
       "_model_module": "@jupyter-widgets/controls",
       "_model_module_version": "1.5.0",
       "_model_name": "ProgressStyleModel",
       "_view_count": null,
       "_view_module": "@jupyter-widgets/base",
       "_view_module_version": "1.2.0",
       "_view_name": "StyleView",
       "bar_color": null,
       "description_width": ""
      }
     },
     "6b2c6706a7fb4e478525f6d282f61c09": {
      "model_module": "@jupyter-widgets/controls",
      "model_module_version": "1.5.0",
      "model_name": "DescriptionStyleModel",
      "state": {
       "_model_module": "@jupyter-widgets/controls",
       "_model_module_version": "1.5.0",
       "_model_name": "DescriptionStyleModel",
       "_view_count": null,
       "_view_module": "@jupyter-widgets/base",
       "_view_module_version": "1.2.0",
       "_view_name": "StyleView",
       "description_width": ""
      }
     },
     "6f109b7c26ce48f7abf8d32d47b41cb7": {
      "model_module": "@jupyter-widgets/controls",
      "model_module_version": "1.5.0",
      "model_name": "DescriptionStyleModel",
      "state": {
       "_model_module": "@jupyter-widgets/controls",
       "_model_module_version": "1.5.0",
       "_model_name": "DescriptionStyleModel",
       "_view_count": null,
       "_view_module": "@jupyter-widgets/base",
       "_view_module_version": "1.2.0",
       "_view_name": "StyleView",
       "description_width": ""
      }
     },
     "705b1828c5404608bbd072835a707e80": {
      "model_module": "@jupyter-widgets/base",
      "model_module_version": "1.2.0",
      "model_name": "LayoutModel",
      "state": {
       "_model_module": "@jupyter-widgets/base",
       "_model_module_version": "1.2.0",
       "_model_name": "LayoutModel",
       "_view_count": null,
       "_view_module": "@jupyter-widgets/base",
       "_view_module_version": "1.2.0",
       "_view_name": "LayoutView",
       "align_content": null,
       "align_items": null,
       "align_self": null,
       "border": null,
       "bottom": null,
       "display": null,
       "flex": null,
       "flex_flow": null,
       "grid_area": null,
       "grid_auto_columns": null,
       "grid_auto_flow": null,
       "grid_auto_rows": null,
       "grid_column": null,
       "grid_gap": null,
       "grid_row": null,
       "grid_template_areas": null,
       "grid_template_columns": null,
       "grid_template_rows": null,
       "height": null,
       "justify_content": null,
       "justify_items": null,
       "left": null,
       "margin": null,
       "max_height": null,
       "max_width": null,
       "min_height": null,
       "min_width": null,
       "object_fit": null,
       "object_position": null,
       "order": null,
       "overflow": null,
       "overflow_x": null,
       "overflow_y": null,
       "padding": null,
       "right": null,
       "top": null,
       "visibility": null,
       "width": null
      }
     },
     "70a19ec1a81040bdbaefa5eb6f3a21d0": {
      "model_module": "@jupyter-widgets/controls",
      "model_module_version": "1.5.0",
      "model_name": "DescriptionStyleModel",
      "state": {
       "_model_module": "@jupyter-widgets/controls",
       "_model_module_version": "1.5.0",
       "_model_name": "DescriptionStyleModel",
       "_view_count": null,
       "_view_module": "@jupyter-widgets/base",
       "_view_module_version": "1.2.0",
       "_view_name": "StyleView",
       "description_width": ""
      }
     },
     "7b2394477e5a4d9e86ed3cfcd5e33111": {
      "model_module": "@jupyter-widgets/base",
      "model_module_version": "1.2.0",
      "model_name": "LayoutModel",
      "state": {
       "_model_module": "@jupyter-widgets/base",
       "_model_module_version": "1.2.0",
       "_model_name": "LayoutModel",
       "_view_count": null,
       "_view_module": "@jupyter-widgets/base",
       "_view_module_version": "1.2.0",
       "_view_name": "LayoutView",
       "align_content": null,
       "align_items": null,
       "align_self": null,
       "border": null,
       "bottom": null,
       "display": null,
       "flex": null,
       "flex_flow": null,
       "grid_area": null,
       "grid_auto_columns": null,
       "grid_auto_flow": null,
       "grid_auto_rows": null,
       "grid_column": null,
       "grid_gap": null,
       "grid_row": null,
       "grid_template_areas": null,
       "grid_template_columns": null,
       "grid_template_rows": null,
       "height": null,
       "justify_content": null,
       "justify_items": null,
       "left": null,
       "margin": null,
       "max_height": null,
       "max_width": null,
       "min_height": null,
       "min_width": null,
       "object_fit": null,
       "object_position": null,
       "order": null,
       "overflow": null,
       "overflow_x": null,
       "overflow_y": null,
       "padding": null,
       "right": null,
       "top": null,
       "visibility": null,
       "width": null
      }
     },
     "833aa40acf1a461597005f27ff868542": {
      "model_module": "@jupyter-widgets/base",
      "model_module_version": "1.2.0",
      "model_name": "LayoutModel",
      "state": {
       "_model_module": "@jupyter-widgets/base",
       "_model_module_version": "1.2.0",
       "_model_name": "LayoutModel",
       "_view_count": null,
       "_view_module": "@jupyter-widgets/base",
       "_view_module_version": "1.2.0",
       "_view_name": "LayoutView",
       "align_content": null,
       "align_items": null,
       "align_self": null,
       "border": null,
       "bottom": null,
       "display": null,
       "flex": null,
       "flex_flow": null,
       "grid_area": null,
       "grid_auto_columns": null,
       "grid_auto_flow": null,
       "grid_auto_rows": null,
       "grid_column": null,
       "grid_gap": null,
       "grid_row": null,
       "grid_template_areas": null,
       "grid_template_columns": null,
       "grid_template_rows": null,
       "height": null,
       "justify_content": null,
       "justify_items": null,
       "left": null,
       "margin": null,
       "max_height": null,
       "max_width": null,
       "min_height": null,
       "min_width": null,
       "object_fit": null,
       "object_position": null,
       "order": null,
       "overflow": null,
       "overflow_x": null,
       "overflow_y": null,
       "padding": null,
       "right": null,
       "top": null,
       "visibility": null,
       "width": null
      }
     },
     "8a8356915d6945298e2cc7a65787697f": {
      "model_module": "@jupyter-widgets/base",
      "model_module_version": "1.2.0",
      "model_name": "LayoutModel",
      "state": {
       "_model_module": "@jupyter-widgets/base",
       "_model_module_version": "1.2.0",
       "_model_name": "LayoutModel",
       "_view_count": null,
       "_view_module": "@jupyter-widgets/base",
       "_view_module_version": "1.2.0",
       "_view_name": "LayoutView",
       "align_content": null,
       "align_items": null,
       "align_self": null,
       "border": null,
       "bottom": null,
       "display": null,
       "flex": null,
       "flex_flow": null,
       "grid_area": null,
       "grid_auto_columns": null,
       "grid_auto_flow": null,
       "grid_auto_rows": null,
       "grid_column": null,
       "grid_gap": null,
       "grid_row": null,
       "grid_template_areas": null,
       "grid_template_columns": null,
       "grid_template_rows": null,
       "height": null,
       "justify_content": null,
       "justify_items": null,
       "left": null,
       "margin": null,
       "max_height": null,
       "max_width": null,
       "min_height": null,
       "min_width": null,
       "object_fit": null,
       "object_position": null,
       "order": null,
       "overflow": null,
       "overflow_x": null,
       "overflow_y": null,
       "padding": null,
       "right": null,
       "top": null,
       "visibility": null,
       "width": null
      }
     },
     "8dad279ff23144c5bdce0db696a72e40": {
      "model_module": "@jupyter-widgets/controls",
      "model_module_version": "1.5.0",
      "model_name": "ProgressStyleModel",
      "state": {
       "_model_module": "@jupyter-widgets/controls",
       "_model_module_version": "1.5.0",
       "_model_name": "ProgressStyleModel",
       "_view_count": null,
       "_view_module": "@jupyter-widgets/base",
       "_view_module_version": "1.2.0",
       "_view_name": "StyleView",
       "bar_color": null,
       "description_width": ""
      }
     },
     "908b1443dd7347b1a7ab37bb1e51fcc8": {
      "model_module": "@jupyter-widgets/controls",
      "model_module_version": "1.5.0",
      "model_name": "FloatProgressModel",
      "state": {
       "_dom_classes": [],
       "_model_module": "@jupyter-widgets/controls",
       "_model_module_version": "1.5.0",
       "_model_name": "FloatProgressModel",
       "_view_count": null,
       "_view_module": "@jupyter-widgets/controls",
       "_view_module_version": "1.5.0",
       "_view_name": "ProgressView",
       "bar_style": "success",
       "description": "",
       "description_tooltip": null,
       "layout": "IPY_MODEL_ac049db98e934928b5937a1f43bd05a3",
       "max": 19890,
       "min": 0,
       "orientation": "horizontal",
       "style": "IPY_MODEL_65b24042d82f48a4a75f6101b9abc5a3",
       "value": 19890
      }
     },
     "91412fc13f1e413a9b7c896e57b044df": {
      "model_module": "@jupyter-widgets/controls",
      "model_module_version": "1.5.0",
      "model_name": "HBoxModel",
      "state": {
       "_dom_classes": [],
       "_model_module": "@jupyter-widgets/controls",
       "_model_module_version": "1.5.0",
       "_model_name": "HBoxModel",
       "_view_count": null,
       "_view_module": "@jupyter-widgets/controls",
       "_view_module_version": "1.5.0",
       "_view_name": "HBoxView",
       "box_style": "",
       "children": [
        "IPY_MODEL_b7128526ccf94189a13291295cb03e4c",
        "IPY_MODEL_e76df84e15a44679ab24b375af8bb6e8",
        "IPY_MODEL_d3228aa5686444ffb95845bd7d81c314"
       ],
       "layout": "IPY_MODEL_7b2394477e5a4d9e86ed3cfcd5e33111"
      }
     },
     "97c6fdf6af0f4fe5bd0a9942175a92c8": {
      "model_module": "@jupyter-widgets/controls",
      "model_module_version": "1.5.0",
      "model_name": "DescriptionStyleModel",
      "state": {
       "_model_module": "@jupyter-widgets/controls",
       "_model_module_version": "1.5.0",
       "_model_name": "DescriptionStyleModel",
       "_view_count": null,
       "_view_module": "@jupyter-widgets/base",
       "_view_module_version": "1.2.0",
       "_view_name": "StyleView",
       "description_width": ""
      }
     },
     "a900e254e81c42c686f4a76197a32f61": {
      "model_module": "@jupyter-widgets/controls",
      "model_module_version": "1.5.0",
      "model_name": "DescriptionStyleModel",
      "state": {
       "_model_module": "@jupyter-widgets/controls",
       "_model_module_version": "1.5.0",
       "_model_name": "DescriptionStyleModel",
       "_view_count": null,
       "_view_module": "@jupyter-widgets/base",
       "_view_module_version": "1.2.0",
       "_view_name": "StyleView",
       "description_width": ""
      }
     },
     "a9607596dafc47268fa95acf51c06c85": {
      "model_module": "@jupyter-widgets/base",
      "model_module_version": "1.2.0",
      "model_name": "LayoutModel",
      "state": {
       "_model_module": "@jupyter-widgets/base",
       "_model_module_version": "1.2.0",
       "_model_name": "LayoutModel",
       "_view_count": null,
       "_view_module": "@jupyter-widgets/base",
       "_view_module_version": "1.2.0",
       "_view_name": "LayoutView",
       "align_content": null,
       "align_items": null,
       "align_self": null,
       "border": null,
       "bottom": null,
       "display": null,
       "flex": null,
       "flex_flow": null,
       "grid_area": null,
       "grid_auto_columns": null,
       "grid_auto_flow": null,
       "grid_auto_rows": null,
       "grid_column": null,
       "grid_gap": null,
       "grid_row": null,
       "grid_template_areas": null,
       "grid_template_columns": null,
       "grid_template_rows": null,
       "height": null,
       "justify_content": null,
       "justify_items": null,
       "left": null,
       "margin": null,
       "max_height": null,
       "max_width": null,
       "min_height": null,
       "min_width": null,
       "object_fit": null,
       "object_position": null,
       "order": null,
       "overflow": null,
       "overflow_x": null,
       "overflow_y": null,
       "padding": null,
       "right": null,
       "top": null,
       "visibility": null,
       "width": null
      }
     },
     "ac049db98e934928b5937a1f43bd05a3": {
      "model_module": "@jupyter-widgets/base",
      "model_module_version": "1.2.0",
      "model_name": "LayoutModel",
      "state": {
       "_model_module": "@jupyter-widgets/base",
       "_model_module_version": "1.2.0",
       "_model_name": "LayoutModel",
       "_view_count": null,
       "_view_module": "@jupyter-widgets/base",
       "_view_module_version": "1.2.0",
       "_view_name": "LayoutView",
       "align_content": null,
       "align_items": null,
       "align_self": null,
       "border": null,
       "bottom": null,
       "display": null,
       "flex": null,
       "flex_flow": null,
       "grid_area": null,
       "grid_auto_columns": null,
       "grid_auto_flow": null,
       "grid_auto_rows": null,
       "grid_column": null,
       "grid_gap": null,
       "grid_row": null,
       "grid_template_areas": null,
       "grid_template_columns": null,
       "grid_template_rows": null,
       "height": null,
       "justify_content": null,
       "justify_items": null,
       "left": null,
       "margin": null,
       "max_height": null,
       "max_width": null,
       "min_height": null,
       "min_width": null,
       "object_fit": null,
       "object_position": null,
       "order": null,
       "overflow": null,
       "overflow_x": null,
       "overflow_y": null,
       "padding": null,
       "right": null,
       "top": null,
       "visibility": null,
       "width": null
      }
     },
     "ae109fefc0394acda78b7a1fb101a8f2": {
      "model_module": "@jupyter-widgets/base",
      "model_module_version": "1.2.0",
      "model_name": "LayoutModel",
      "state": {
       "_model_module": "@jupyter-widgets/base",
       "_model_module_version": "1.2.0",
       "_model_name": "LayoutModel",
       "_view_count": null,
       "_view_module": "@jupyter-widgets/base",
       "_view_module_version": "1.2.0",
       "_view_name": "LayoutView",
       "align_content": null,
       "align_items": null,
       "align_self": null,
       "border": null,
       "bottom": null,
       "display": null,
       "flex": null,
       "flex_flow": null,
       "grid_area": null,
       "grid_auto_columns": null,
       "grid_auto_flow": null,
       "grid_auto_rows": null,
       "grid_column": null,
       "grid_gap": null,
       "grid_row": null,
       "grid_template_areas": null,
       "grid_template_columns": null,
       "grid_template_rows": null,
       "height": null,
       "justify_content": null,
       "justify_items": null,
       "left": null,
       "margin": null,
       "max_height": null,
       "max_width": null,
       "min_height": null,
       "min_width": null,
       "object_fit": null,
       "object_position": null,
       "order": null,
       "overflow": null,
       "overflow_x": null,
       "overflow_y": null,
       "padding": null,
       "right": null,
       "top": null,
       "visibility": null,
       "width": null
      }
     },
     "af78fad961d5426aaa2e858ded776de4": {
      "model_module": "@jupyter-widgets/base",
      "model_module_version": "1.2.0",
      "model_name": "LayoutModel",
      "state": {
       "_model_module": "@jupyter-widgets/base",
       "_model_module_version": "1.2.0",
       "_model_name": "LayoutModel",
       "_view_count": null,
       "_view_module": "@jupyter-widgets/base",
       "_view_module_version": "1.2.0",
       "_view_name": "LayoutView",
       "align_content": null,
       "align_items": null,
       "align_self": null,
       "border": null,
       "bottom": null,
       "display": null,
       "flex": null,
       "flex_flow": null,
       "grid_area": null,
       "grid_auto_columns": null,
       "grid_auto_flow": null,
       "grid_auto_rows": null,
       "grid_column": null,
       "grid_gap": null,
       "grid_row": null,
       "grid_template_areas": null,
       "grid_template_columns": null,
       "grid_template_rows": null,
       "height": null,
       "justify_content": null,
       "justify_items": null,
       "left": null,
       "margin": null,
       "max_height": null,
       "max_width": null,
       "min_height": null,
       "min_width": null,
       "object_fit": null,
       "object_position": null,
       "order": null,
       "overflow": null,
       "overflow_x": null,
       "overflow_y": null,
       "padding": null,
       "right": null,
       "top": null,
       "visibility": null,
       "width": null
      }
     },
     "b12920206ec646f6a0ce89e594d5e340": {
      "model_module": "@jupyter-widgets/base",
      "model_module_version": "1.2.0",
      "model_name": "LayoutModel",
      "state": {
       "_model_module": "@jupyter-widgets/base",
       "_model_module_version": "1.2.0",
       "_model_name": "LayoutModel",
       "_view_count": null,
       "_view_module": "@jupyter-widgets/base",
       "_view_module_version": "1.2.0",
       "_view_name": "LayoutView",
       "align_content": null,
       "align_items": null,
       "align_self": null,
       "border": null,
       "bottom": null,
       "display": null,
       "flex": null,
       "flex_flow": null,
       "grid_area": null,
       "grid_auto_columns": null,
       "grid_auto_flow": null,
       "grid_auto_rows": null,
       "grid_column": null,
       "grid_gap": null,
       "grid_row": null,
       "grid_template_areas": null,
       "grid_template_columns": null,
       "grid_template_rows": null,
       "height": null,
       "justify_content": null,
       "justify_items": null,
       "left": null,
       "margin": null,
       "max_height": null,
       "max_width": null,
       "min_height": null,
       "min_width": null,
       "object_fit": null,
       "object_position": null,
       "order": null,
       "overflow": null,
       "overflow_x": null,
       "overflow_y": null,
       "padding": null,
       "right": null,
       "top": null,
       "visibility": null,
       "width": null
      }
     },
     "b4803002f8124e9da821206f9c06e2ba": {
      "model_module": "@jupyter-widgets/base",
      "model_module_version": "1.2.0",
      "model_name": "LayoutModel",
      "state": {
       "_model_module": "@jupyter-widgets/base",
       "_model_module_version": "1.2.0",
       "_model_name": "LayoutModel",
       "_view_count": null,
       "_view_module": "@jupyter-widgets/base",
       "_view_module_version": "1.2.0",
       "_view_name": "LayoutView",
       "align_content": null,
       "align_items": null,
       "align_self": null,
       "border": null,
       "bottom": null,
       "display": null,
       "flex": null,
       "flex_flow": null,
       "grid_area": null,
       "grid_auto_columns": null,
       "grid_auto_flow": null,
       "grid_auto_rows": null,
       "grid_column": null,
       "grid_gap": null,
       "grid_row": null,
       "grid_template_areas": null,
       "grid_template_columns": null,
       "grid_template_rows": null,
       "height": null,
       "justify_content": null,
       "justify_items": null,
       "left": null,
       "margin": null,
       "max_height": null,
       "max_width": null,
       "min_height": null,
       "min_width": null,
       "object_fit": null,
       "object_position": null,
       "order": null,
       "overflow": null,
       "overflow_x": null,
       "overflow_y": null,
       "padding": null,
       "right": null,
       "top": null,
       "visibility": null,
       "width": null
      }
     },
     "b5cf47538b8f4f0c9cb5ae6557585f1c": {
      "model_module": "@jupyter-widgets/controls",
      "model_module_version": "1.5.0",
      "model_name": "HBoxModel",
      "state": {
       "_dom_classes": [],
       "_model_module": "@jupyter-widgets/controls",
       "_model_module_version": "1.5.0",
       "_model_name": "HBoxModel",
       "_view_count": null,
       "_view_module": "@jupyter-widgets/controls",
       "_view_module_version": "1.5.0",
       "_view_name": "HBoxView",
       "box_style": "",
       "children": [
        "IPY_MODEL_495ee609c3ec4a70bd710012067e2726",
        "IPY_MODEL_0b91792634dd43369a2f9cf0ad9ca030",
        "IPY_MODEL_4bfb3745fdba4a64b4572405bb866d0f"
       ],
       "layout": "IPY_MODEL_bedef5eac00d442d89b7612b077416ec"
      }
     },
     "b7128526ccf94189a13291295cb03e4c": {
      "model_module": "@jupyter-widgets/controls",
      "model_module_version": "1.5.0",
      "model_name": "HTMLModel",
      "state": {
       "_dom_classes": [],
       "_model_module": "@jupyter-widgets/controls",
       "_model_module_version": "1.5.0",
       "_model_name": "HTMLModel",
       "_view_count": null,
       "_view_module": "@jupyter-widgets/controls",
       "_view_module_version": "1.5.0",
       "_view_name": "HTMLView",
       "description": "",
       "description_tooltip": null,
       "layout": "IPY_MODEL_705b1828c5404608bbd072835a707e80",
       "placeholder": "​",
       "style": "IPY_MODEL_97c6fdf6af0f4fe5bd0a9942175a92c8",
       "value": "config.json: 100%"
      }
     },
     "bdf2b73cfe9349cfb78fc90eafadf385": {
      "model_module": "@jupyter-widgets/controls",
      "model_module_version": "1.5.0",
      "model_name": "HTMLModel",
      "state": {
       "_dom_classes": [],
       "_model_module": "@jupyter-widgets/controls",
       "_model_module_version": "1.5.0",
       "_model_name": "HTMLModel",
       "_view_count": null,
       "_view_module": "@jupyter-widgets/controls",
       "_view_module_version": "1.5.0",
       "_view_name": "HTMLView",
       "description": "",
       "description_tooltip": null,
       "layout": "IPY_MODEL_435ad2f3129c4e3a8f092d2f86b847b1",
       "placeholder": "​",
       "style": "IPY_MODEL_23fa2b1262ad46e4a93768fac6489fb0",
       "value": "vocab.txt: 100%"
      }
     },
     "bedef5eac00d442d89b7612b077416ec": {
      "model_module": "@jupyter-widgets/base",
      "model_module_version": "1.2.0",
      "model_name": "LayoutModel",
      "state": {
       "_model_module": "@jupyter-widgets/base",
       "_model_module_version": "1.2.0",
       "_model_name": "LayoutModel",
       "_view_count": null,
       "_view_module": "@jupyter-widgets/base",
       "_view_module_version": "1.2.0",
       "_view_name": "LayoutView",
       "align_content": null,
       "align_items": null,
       "align_self": null,
       "border": null,
       "bottom": null,
       "display": null,
       "flex": null,
       "flex_flow": null,
       "grid_area": null,
       "grid_auto_columns": null,
       "grid_auto_flow": null,
       "grid_auto_rows": null,
       "grid_column": null,
       "grid_gap": null,
       "grid_row": null,
       "grid_template_areas": null,
       "grid_template_columns": null,
       "grid_template_rows": null,
       "height": null,
       "justify_content": null,
       "justify_items": null,
       "left": null,
       "margin": null,
       "max_height": null,
       "max_width": null,
       "min_height": null,
       "min_width": null,
       "object_fit": null,
       "object_position": null,
       "order": null,
       "overflow": null,
       "overflow_x": null,
       "overflow_y": null,
       "padding": null,
       "right": null,
       "top": null,
       "visibility": null,
       "width": null
      }
     },
     "bee8295da4a34a51b90d8c3d4cbf0379": {
      "model_module": "@jupyter-widgets/base",
      "model_module_version": "1.2.0",
      "model_name": "LayoutModel",
      "state": {
       "_model_module": "@jupyter-widgets/base",
       "_model_module_version": "1.2.0",
       "_model_name": "LayoutModel",
       "_view_count": null,
       "_view_module": "@jupyter-widgets/base",
       "_view_module_version": "1.2.0",
       "_view_name": "LayoutView",
       "align_content": null,
       "align_items": null,
       "align_self": null,
       "border": null,
       "bottom": null,
       "display": null,
       "flex": null,
       "flex_flow": null,
       "grid_area": null,
       "grid_auto_columns": null,
       "grid_auto_flow": null,
       "grid_auto_rows": null,
       "grid_column": null,
       "grid_gap": null,
       "grid_row": null,
       "grid_template_areas": null,
       "grid_template_columns": null,
       "grid_template_rows": null,
       "height": null,
       "justify_content": null,
       "justify_items": null,
       "left": null,
       "margin": null,
       "max_height": null,
       "max_width": null,
       "min_height": null,
       "min_width": null,
       "object_fit": null,
       "object_position": null,
       "order": null,
       "overflow": null,
       "overflow_x": null,
       "overflow_y": null,
       "padding": null,
       "right": null,
       "top": null,
       "visibility": null,
       "width": null
      }
     },
     "c13e03d6aa754ed9b5c64b0d62b7f9a4": {
      "model_module": "@jupyter-widgets/base",
      "model_module_version": "1.2.0",
      "model_name": "LayoutModel",
      "state": {
       "_model_module": "@jupyter-widgets/base",
       "_model_module_version": "1.2.0",
       "_model_name": "LayoutModel",
       "_view_count": null,
       "_view_module": "@jupyter-widgets/base",
       "_view_module_version": "1.2.0",
       "_view_name": "LayoutView",
       "align_content": null,
       "align_items": null,
       "align_self": null,
       "border": null,
       "bottom": null,
       "display": null,
       "flex": null,
       "flex_flow": null,
       "grid_area": null,
       "grid_auto_columns": null,
       "grid_auto_flow": null,
       "grid_auto_rows": null,
       "grid_column": null,
       "grid_gap": null,
       "grid_row": null,
       "grid_template_areas": null,
       "grid_template_columns": null,
       "grid_template_rows": null,
       "height": null,
       "justify_content": null,
       "justify_items": null,
       "left": null,
       "margin": null,
       "max_height": null,
       "max_width": null,
       "min_height": null,
       "min_width": null,
       "object_fit": null,
       "object_position": null,
       "order": null,
       "overflow": null,
       "overflow_x": null,
       "overflow_y": null,
       "padding": null,
       "right": null,
       "top": null,
       "visibility": null,
       "width": null
      }
     },
     "c1cff511b466409ab4fef68b7db71d29": {
      "model_module": "@jupyter-widgets/base",
      "model_module_version": "1.2.0",
      "model_name": "LayoutModel",
      "state": {
       "_model_module": "@jupyter-widgets/base",
       "_model_module_version": "1.2.0",
       "_model_name": "LayoutModel",
       "_view_count": null,
       "_view_module": "@jupyter-widgets/base",
       "_view_module_version": "1.2.0",
       "_view_name": "LayoutView",
       "align_content": null,
       "align_items": null,
       "align_self": null,
       "border": null,
       "bottom": null,
       "display": null,
       "flex": null,
       "flex_flow": null,
       "grid_area": null,
       "grid_auto_columns": null,
       "grid_auto_flow": null,
       "grid_auto_rows": null,
       "grid_column": null,
       "grid_gap": null,
       "grid_row": null,
       "grid_template_areas": null,
       "grid_template_columns": null,
       "grid_template_rows": null,
       "height": null,
       "justify_content": null,
       "justify_items": null,
       "left": null,
       "margin": null,
       "max_height": null,
       "max_width": null,
       "min_height": null,
       "min_width": null,
       "object_fit": null,
       "object_position": null,
       "order": null,
       "overflow": null,
       "overflow_x": null,
       "overflow_y": null,
       "padding": null,
       "right": null,
       "top": null,
       "visibility": null,
       "width": null
      }
     },
     "c41d74353eee449d97082a3ca462d1ed": {
      "model_module": "@jupyter-widgets/controls",
      "model_module_version": "1.5.0",
      "model_name": "DescriptionStyleModel",
      "state": {
       "_model_module": "@jupyter-widgets/controls",
       "_model_module_version": "1.5.0",
       "_model_name": "DescriptionStyleModel",
       "_view_count": null,
       "_view_module": "@jupyter-widgets/base",
       "_view_module_version": "1.2.0",
       "_view_name": "StyleView",
       "description_width": ""
      }
     },
     "c62268fdc6b448f1a1e1d0e3dcddace3": {
      "model_module": "@jupyter-widgets/controls",
      "model_module_version": "1.5.0",
      "model_name": "ProgressStyleModel",
      "state": {
       "_model_module": "@jupyter-widgets/controls",
       "_model_module_version": "1.5.0",
       "_model_name": "ProgressStyleModel",
       "_view_count": null,
       "_view_module": "@jupyter-widgets/base",
       "_view_module_version": "1.2.0",
       "_view_name": "StyleView",
       "bar_color": null,
       "description_width": ""
      }
     },
     "cc00d039cdc143739ad5cfe9bc8e500c": {
      "model_module": "@jupyter-widgets/controls",
      "model_module_version": "1.5.0",
      "model_name": "HTMLModel",
      "state": {
       "_dom_classes": [],
       "_model_module": "@jupyter-widgets/controls",
       "_model_module_version": "1.5.0",
       "_model_name": "HTMLModel",
       "_view_count": null,
       "_view_module": "@jupyter-widgets/controls",
       "_view_module_version": "1.5.0",
       "_view_name": "HTMLView",
       "description": "",
       "description_tooltip": null,
       "layout": "IPY_MODEL_b12920206ec646f6a0ce89e594d5e340",
       "placeholder": "​",
       "style": "IPY_MODEL_415a8ecf3c2f486eb282b29565ed259e",
       "value": "tokenizer.json: 100%"
      }
     },
     "cf854302f284489a937f87831e885e7e": {
      "model_module": "@jupyter-widgets/controls",
      "model_module_version": "1.5.0",
      "model_name": "FloatProgressModel",
      "state": {
       "_dom_classes": [],
       "_model_module": "@jupyter-widgets/controls",
       "_model_module_version": "1.5.0",
       "_model_name": "FloatProgressModel",
       "_view_count": null,
       "_view_module": "@jupyter-widgets/controls",
       "_view_module_version": "1.5.0",
       "_view_name": "ProgressView",
       "bar_style": "success",
       "description": "",
       "description_tooltip": null,
       "layout": "IPY_MODEL_f7d4d8973164408eb4f0fb0b79fba627",
       "max": 48,
       "min": 0,
       "orientation": "horizontal",
       "style": "IPY_MODEL_0b7015637858441cbb9500dc03f22bb7",
       "value": 48
      }
     },
     "cfd4fd5314bf4e088717609338a2569c": {
      "model_module": "@jupyter-widgets/controls",
      "model_module_version": "1.5.0",
      "model_name": "HTMLModel",
      "state": {
       "_dom_classes": [],
       "_model_module": "@jupyter-widgets/controls",
       "_model_module_version": "1.5.0",
       "_model_name": "HTMLModel",
       "_view_count": null,
       "_view_module": "@jupyter-widgets/controls",
       "_view_module_version": "1.5.0",
       "_view_name": "HTMLView",
       "description": "",
       "description_tooltip": null,
       "layout": "IPY_MODEL_5514c91082be4bee9197daae19c89dfa",
       "placeholder": "​",
       "style": "IPY_MODEL_70a19ec1a81040bdbaefa5eb6f3a21d0",
       "value": " 19890/19890 [00:10&lt;00:00, 1891.70 examples/s]"
      }
     },
     "d3228aa5686444ffb95845bd7d81c314": {
      "model_module": "@jupyter-widgets/controls",
      "model_module_version": "1.5.0",
      "model_name": "HTMLModel",
      "state": {
       "_dom_classes": [],
       "_model_module": "@jupyter-widgets/controls",
       "_model_module_version": "1.5.0",
       "_model_name": "HTMLModel",
       "_view_count": null,
       "_view_module": "@jupyter-widgets/controls",
       "_view_module_version": "1.5.0",
       "_view_name": "HTMLView",
       "description": "",
       "description_tooltip": null,
       "layout": "IPY_MODEL_d68a0870f9cb468db3a73bd94500bd6a",
       "placeholder": "​",
       "style": "IPY_MODEL_c41d74353eee449d97082a3ca462d1ed",
       "value": " 483/483 [00:00&lt;00:00, 29.7kB/s]"
      }
     },
     "d68a0870f9cb468db3a73bd94500bd6a": {
      "model_module": "@jupyter-widgets/base",
      "model_module_version": "1.2.0",
      "model_name": "LayoutModel",
      "state": {
       "_model_module": "@jupyter-widgets/base",
       "_model_module_version": "1.2.0",
       "_model_name": "LayoutModel",
       "_view_count": null,
       "_view_module": "@jupyter-widgets/base",
       "_view_module_version": "1.2.0",
       "_view_name": "LayoutView",
       "align_content": null,
       "align_items": null,
       "align_self": null,
       "border": null,
       "bottom": null,
       "display": null,
       "flex": null,
       "flex_flow": null,
       "grid_area": null,
       "grid_auto_columns": null,
       "grid_auto_flow": null,
       "grid_auto_rows": null,
       "grid_column": null,
       "grid_gap": null,
       "grid_row": null,
       "grid_template_areas": null,
       "grid_template_columns": null,
       "grid_template_rows": null,
       "height": null,
       "justify_content": null,
       "justify_items": null,
       "left": null,
       "margin": null,
       "max_height": null,
       "max_width": null,
       "min_height": null,
       "min_width": null,
       "object_fit": null,
       "object_position": null,
       "order": null,
       "overflow": null,
       "overflow_x": null,
       "overflow_y": null,
       "padding": null,
       "right": null,
       "top": null,
       "visibility": null,
       "width": null
      }
     },
     "e4a271b7544c41609907dab4d2c693f9": {
      "model_module": "@jupyter-widgets/controls",
      "model_module_version": "1.5.0",
      "model_name": "HTMLModel",
      "state": {
       "_dom_classes": [],
       "_model_module": "@jupyter-widgets/controls",
       "_model_module_version": "1.5.0",
       "_model_name": "HTMLModel",
       "_view_count": null,
       "_view_module": "@jupyter-widgets/controls",
       "_view_module_version": "1.5.0",
       "_view_name": "HTMLView",
       "description": "",
       "description_tooltip": null,
       "layout": "IPY_MODEL_25d8778b207f47e891ab07f2fb61d14d",
       "placeholder": "​",
       "style": "IPY_MODEL_a900e254e81c42c686f4a76197a32f61",
       "value": " 466k/466k [00:00&lt;00:00, 23.2MB/s]"
      }
     },
     "e76df84e15a44679ab24b375af8bb6e8": {
      "model_module": "@jupyter-widgets/controls",
      "model_module_version": "1.5.0",
      "model_name": "FloatProgressModel",
      "state": {
       "_dom_classes": [],
       "_model_module": "@jupyter-widgets/controls",
       "_model_module_version": "1.5.0",
       "_model_name": "FloatProgressModel",
       "_view_count": null,
       "_view_module": "@jupyter-widgets/controls",
       "_view_module_version": "1.5.0",
       "_view_name": "ProgressView",
       "bar_style": "success",
       "description": "",
       "description_tooltip": null,
       "layout": "IPY_MODEL_fbfe04c0f2a04a468d14e338094d9b96",
       "max": 483,
       "min": 0,
       "orientation": "horizontal",
       "style": "IPY_MODEL_8dad279ff23144c5bdce0db696a72e40",
       "value": 483
      }
     },
     "ea06a39c0973433cb8435f88cad79e0d": {
      "model_module": "@jupyter-widgets/controls",
      "model_module_version": "1.5.0",
      "model_name": "DescriptionStyleModel",
      "state": {
       "_model_module": "@jupyter-widgets/controls",
       "_model_module_version": "1.5.0",
       "_model_name": "DescriptionStyleModel",
       "_view_count": null,
       "_view_module": "@jupyter-widgets/base",
       "_view_module_version": "1.2.0",
       "_view_name": "StyleView",
       "description_width": ""
      }
     },
     "ec277e2a488e48a2ba0116e03fc93ae3": {
      "model_module": "@jupyter-widgets/controls",
      "model_module_version": "1.5.0",
      "model_name": "ProgressStyleModel",
      "state": {
       "_model_module": "@jupyter-widgets/controls",
       "_model_module_version": "1.5.0",
       "_model_name": "ProgressStyleModel",
       "_view_count": null,
       "_view_module": "@jupyter-widgets/base",
       "_view_module_version": "1.2.0",
       "_view_name": "StyleView",
       "bar_color": null,
       "description_width": ""
      }
     },
     "ec9d5e0e435a489992f7293982ed37d6": {
      "model_module": "@jupyter-widgets/base",
      "model_module_version": "1.2.0",
      "model_name": "LayoutModel",
      "state": {
       "_model_module": "@jupyter-widgets/base",
       "_model_module_version": "1.2.0",
       "_model_name": "LayoutModel",
       "_view_count": null,
       "_view_module": "@jupyter-widgets/base",
       "_view_module_version": "1.2.0",
       "_view_name": "LayoutView",
       "align_content": null,
       "align_items": null,
       "align_self": null,
       "border": null,
       "bottom": null,
       "display": null,
       "flex": null,
       "flex_flow": null,
       "grid_area": null,
       "grid_auto_columns": null,
       "grid_auto_flow": null,
       "grid_auto_rows": null,
       "grid_column": null,
       "grid_gap": null,
       "grid_row": null,
       "grid_template_areas": null,
       "grid_template_columns": null,
       "grid_template_rows": null,
       "height": null,
       "justify_content": null,
       "justify_items": null,
       "left": null,
       "margin": null,
       "max_height": null,
       "max_width": null,
       "min_height": null,
       "min_width": null,
       "object_fit": null,
       "object_position": null,
       "order": null,
       "overflow": null,
       "overflow_x": null,
       "overflow_y": null,
       "padding": null,
       "right": null,
       "top": null,
       "visibility": null,
       "width": null
      }
     },
     "f0623cd83498456f92174595153caa93": {
      "model_module": "@jupyter-widgets/controls",
      "model_module_version": "1.5.0",
      "model_name": "DescriptionStyleModel",
      "state": {
       "_model_module": "@jupyter-widgets/controls",
       "_model_module_version": "1.5.0",
       "_model_name": "DescriptionStyleModel",
       "_view_count": null,
       "_view_module": "@jupyter-widgets/base",
       "_view_module_version": "1.2.0",
       "_view_name": "StyleView",
       "description_width": ""
      }
     },
     "f0c02a33ba794aadb25ba7abdd8e97d0": {
      "model_module": "@jupyter-widgets/controls",
      "model_module_version": "1.5.0",
      "model_name": "HTMLModel",
      "state": {
       "_dom_classes": [],
       "_model_module": "@jupyter-widgets/controls",
       "_model_module_version": "1.5.0",
       "_model_name": "HTMLModel",
       "_view_count": null,
       "_view_module": "@jupyter-widgets/controls",
       "_view_module_version": "1.5.0",
       "_view_name": "HTMLView",
       "description": "",
       "description_tooltip": null,
       "layout": "IPY_MODEL_bee8295da4a34a51b90d8c3d4cbf0379",
       "placeholder": "​",
       "style": "IPY_MODEL_0f05e3b792fe45d8a7b881afb3653a3a",
       "value": " 268M/268M [00:01&lt;00:00, 255MB/s]"
      }
     },
     "f7d4d8973164408eb4f0fb0b79fba627": {
      "model_module": "@jupyter-widgets/base",
      "model_module_version": "1.2.0",
      "model_name": "LayoutModel",
      "state": {
       "_model_module": "@jupyter-widgets/base",
       "_model_module_version": "1.2.0",
       "_model_name": "LayoutModel",
       "_view_count": null,
       "_view_module": "@jupyter-widgets/base",
       "_view_module_version": "1.2.0",
       "_view_name": "LayoutView",
       "align_content": null,
       "align_items": null,
       "align_self": null,
       "border": null,
       "bottom": null,
       "display": null,
       "flex": null,
       "flex_flow": null,
       "grid_area": null,
       "grid_auto_columns": null,
       "grid_auto_flow": null,
       "grid_auto_rows": null,
       "grid_column": null,
       "grid_gap": null,
       "grid_row": null,
       "grid_template_areas": null,
       "grid_template_columns": null,
       "grid_template_rows": null,
       "height": null,
       "justify_content": null,
       "justify_items": null,
       "left": null,
       "margin": null,
       "max_height": null,
       "max_width": null,
       "min_height": null,
       "min_width": null,
       "object_fit": null,
       "object_position": null,
       "order": null,
       "overflow": null,
       "overflow_x": null,
       "overflow_y": null,
       "padding": null,
       "right": null,
       "top": null,
       "visibility": null,
       "width": null
      }
     },
     "f7e4f27e1efc4e00bc0a23a192a547ef": {
      "model_module": "@jupyter-widgets/controls",
      "model_module_version": "1.5.0",
      "model_name": "FloatProgressModel",
      "state": {
       "_dom_classes": [],
       "_model_module": "@jupyter-widgets/controls",
       "_model_module_version": "1.5.0",
       "_model_name": "FloatProgressModel",
       "_view_count": null,
       "_view_module": "@jupyter-widgets/controls",
       "_view_module_version": "1.5.0",
       "_view_name": "ProgressView",
       "bar_style": "success",
       "description": "",
       "description_tooltip": null,
       "layout": "IPY_MODEL_ae109fefc0394acda78b7a1fb101a8f2",
       "max": 231508,
       "min": 0,
       "orientation": "horizontal",
       "style": "IPY_MODEL_5b3a116b02e0489a8c10b8fd3164e138",
       "value": 231508
      }
     },
     "f7e7bdee95dd4461ba875ee9edeb39c5": {
      "model_module": "@jupyter-widgets/base",
      "model_module_version": "1.2.0",
      "model_name": "LayoutModel",
      "state": {
       "_model_module": "@jupyter-widgets/base",
       "_model_module_version": "1.2.0",
       "_model_name": "LayoutModel",
       "_view_count": null,
       "_view_module": "@jupyter-widgets/base",
       "_view_module_version": "1.2.0",
       "_view_name": "LayoutView",
       "align_content": null,
       "align_items": null,
       "align_self": null,
       "border": null,
       "bottom": null,
       "display": null,
       "flex": null,
       "flex_flow": null,
       "grid_area": null,
       "grid_auto_columns": null,
       "grid_auto_flow": null,
       "grid_auto_rows": null,
       "grid_column": null,
       "grid_gap": null,
       "grid_row": null,
       "grid_template_areas": null,
       "grid_template_columns": null,
       "grid_template_rows": null,
       "height": null,
       "justify_content": null,
       "justify_items": null,
       "left": null,
       "margin": null,
       "max_height": null,
       "max_width": null,
       "min_height": null,
       "min_width": null,
       "object_fit": null,
       "object_position": null,
       "order": null,
       "overflow": null,
       "overflow_x": null,
       "overflow_y": null,
       "padding": null,
       "right": null,
       "top": null,
       "visibility": null,
       "width": null
      }
     },
     "fbfe04c0f2a04a468d14e338094d9b96": {
      "model_module": "@jupyter-widgets/base",
      "model_module_version": "1.2.0",
      "model_name": "LayoutModel",
      "state": {
       "_model_module": "@jupyter-widgets/base",
       "_model_module_version": "1.2.0",
       "_model_name": "LayoutModel",
       "_view_count": null,
       "_view_module": "@jupyter-widgets/base",
       "_view_module_version": "1.2.0",
       "_view_name": "LayoutView",
       "align_content": null,
       "align_items": null,
       "align_self": null,
       "border": null,
       "bottom": null,
       "display": null,
       "flex": null,
       "flex_flow": null,
       "grid_area": null,
       "grid_auto_columns": null,
       "grid_auto_flow": null,
       "grid_auto_rows": null,
       "grid_column": null,
       "grid_gap": null,
       "grid_row": null,
       "grid_template_areas": null,
       "grid_template_columns": null,
       "grid_template_rows": null,
       "height": null,
       "justify_content": null,
       "justify_items": null,
       "left": null,
       "margin": null,
       "max_height": null,
       "max_width": null,
       "min_height": null,
       "min_width": null,
       "object_fit": null,
       "object_position": null,
       "order": null,
       "overflow": null,
       "overflow_x": null,
       "overflow_y": null,
       "padding": null,
       "right": null,
       "top": null,
       "visibility": null,
       "width": null
      }
     }
    },
    "version_major": 2,
    "version_minor": 0
   }
  }
 },
 "nbformat": 4,
 "nbformat_minor": 5
}
